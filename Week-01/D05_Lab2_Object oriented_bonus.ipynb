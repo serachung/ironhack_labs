{
 "cells": [
  {
   "cell_type": "markdown",
   "metadata": {
    "colab_type": "text",
    "id": "IGVndfDXTYvF"
   },
   "source": [
    "# Lab - Object Oriented Programming"
   ]
  },
  {
   "cell_type": "code",
   "execution_count": 1,
   "metadata": {
    "colab": {},
    "colab_type": "code",
    "id": "eFUM14nhTYvJ"
   },
   "outputs": [],
   "source": [
    "import pandas as pd\n",
    "import numpy as np"
   ]
  },
  {
   "cell_type": "markdown",
   "metadata": {
    "colab_type": "text",
    "id": "VAdTxKlPTYvP"
   },
   "source": [
    "# Challenge 2"
   ]
  },
  {
   "cell_type": "markdown",
   "metadata": {
    "colab_type": "text",
    "id": "r1ytbMg1TYvR"
   },
   "source": [
    "In order to understand the benefits of simple object-oriented programming, we have to build up our classes from the beginning. "
   ]
  },
  {
   "cell_type": "markdown",
   "metadata": {
    "colab_type": "text",
    "id": "X0QMBMXqTYvS"
   },
   "source": [
    "You'll use the following dataframe generator to test some things. Try to understand what the following function does."
   ]
  },
  {
   "cell_type": "code",
   "execution_count": 11,
   "metadata": {
    "colab": {},
    "colab_type": "code",
    "id": "X45Itv4vTYvU"
   },
   "outputs": [],
   "source": [
    "chars = ['a', 'b', 'c','d', 'e', 'f', ' ', 'á','é','ó']\n",
    "\n",
    "def create_weird_dataframe(size=10):\n",
    "    def create_weird_colnames(size=size):\n",
    "        probs = [.2,.2,.15,.1,.1,.1,.05,.05,.025,.025]\n",
    "\n",
    "        return [''.join(\n",
    "            [(char.upper() if np.random.random() < 0.2 else char) \n",
    "                     for char in np.random.choice(chars,size=12, p=probs)]) for i in range(size)]\n",
    "    \n",
    "    data = np.random.random(size=(size,size))\n",
    "    colnames = create_weird_colnames(size)\n",
    "    return pd.DataFrame(data=data, columns=colnames)"
   ]
  },
  {
   "cell_type": "markdown",
   "metadata": {
    "colab_type": "text",
    "id": "u2mUOpnbTYvY"
   },
   "source": [
    "Test the results of running that function below. Run it several times"
   ]
  },
  {
   "cell_type": "code",
   "execution_count": 12,
   "metadata": {
    "colab": {},
    "colab_type": "code",
    "id": "sN4YC6L2TYvZ"
   },
   "outputs": [
    {
     "data": {
      "text/html": [
       "<div>\n",
       "<style scoped>\n",
       "    .dataframe tbody tr th:only-of-type {\n",
       "        vertical-align: middle;\n",
       "    }\n",
       "\n",
       "    .dataframe tbody tr th {\n",
       "        vertical-align: top;\n",
       "    }\n",
       "\n",
       "    .dataframe thead th {\n",
       "        text-align: right;\n",
       "    }\n",
       "</style>\n",
       "<table border=\"1\" class=\"dataframe\">\n",
       "  <thead>\n",
       "    <tr style=\"text-align: right;\">\n",
       "      <th></th>\n",
       "      <th>AéaéedcAeAc</th>\n",
       "      <th>aabbcdB Eeeb</th>\n",
       "      <th>DÁcFÉfcfBaaC</th>\n",
       "      <th>ócbebáfceBFÁ</th>\n",
       "      <th>adbbéfdbB</th>\n",
       "      <th>bébadecfcbb</th>\n",
       "      <th>CafaeadfFfBf</th>\n",
       "      <th>dFabccBecaee</th>\n",
       "      <th>áedcDA  aba</th>\n",
       "      <th>eBbcbcbF fab</th>\n",
       "    </tr>\n",
       "  </thead>\n",
       "  <tbody>\n",
       "    <tr>\n",
       "      <th>0</th>\n",
       "      <td>0.534522</td>\n",
       "      <td>0.362028</td>\n",
       "      <td>0.808261</td>\n",
       "      <td>0.343798</td>\n",
       "      <td>0.275738</td>\n",
       "      <td>0.401938</td>\n",
       "      <td>0.853143</td>\n",
       "      <td>0.851254</td>\n",
       "      <td>0.607228</td>\n",
       "      <td>0.359440</td>\n",
       "    </tr>\n",
       "    <tr>\n",
       "      <th>1</th>\n",
       "      <td>0.290674</td>\n",
       "      <td>0.362364</td>\n",
       "      <td>0.092208</td>\n",
       "      <td>0.380535</td>\n",
       "      <td>0.247182</td>\n",
       "      <td>0.005148</td>\n",
       "      <td>0.063470</td>\n",
       "      <td>0.150348</td>\n",
       "      <td>0.073310</td>\n",
       "      <td>0.201234</td>\n",
       "    </tr>\n",
       "    <tr>\n",
       "      <th>2</th>\n",
       "      <td>0.720278</td>\n",
       "      <td>0.370029</td>\n",
       "      <td>0.153296</td>\n",
       "      <td>0.456598</td>\n",
       "      <td>0.850780</td>\n",
       "      <td>0.037652</td>\n",
       "      <td>0.254231</td>\n",
       "      <td>0.730837</td>\n",
       "      <td>0.469407</td>\n",
       "      <td>0.578485</td>\n",
       "    </tr>\n",
       "    <tr>\n",
       "      <th>3</th>\n",
       "      <td>0.609389</td>\n",
       "      <td>0.527819</td>\n",
       "      <td>0.083236</td>\n",
       "      <td>0.971503</td>\n",
       "      <td>0.763771</td>\n",
       "      <td>0.513470</td>\n",
       "      <td>0.607865</td>\n",
       "      <td>0.030487</td>\n",
       "      <td>0.476335</td>\n",
       "      <td>0.334300</td>\n",
       "    </tr>\n",
       "    <tr>\n",
       "      <th>4</th>\n",
       "      <td>0.632958</td>\n",
       "      <td>0.677083</td>\n",
       "      <td>0.701038</td>\n",
       "      <td>0.294088</td>\n",
       "      <td>0.045908</td>\n",
       "      <td>0.783093</td>\n",
       "      <td>0.550181</td>\n",
       "      <td>0.166237</td>\n",
       "      <td>0.137378</td>\n",
       "      <td>0.361607</td>\n",
       "    </tr>\n",
       "  </tbody>\n",
       "</table>\n",
       "</div>"
      ],
      "text/plain": [
       "   AéaéedcAeAc   aabbcdB Eeeb  DÁcFÉfcfBaaC  ócbebáfceBFÁ  adbbéfdbB     \\\n",
       "0      0.534522      0.362028      0.808261      0.343798      0.275738   \n",
       "1      0.290674      0.362364      0.092208      0.380535      0.247182   \n",
       "2      0.720278      0.370029      0.153296      0.456598      0.850780   \n",
       "3      0.609389      0.527819      0.083236      0.971503      0.763771   \n",
       "4      0.632958      0.677083      0.701038      0.294088      0.045908   \n",
       "\n",
       "   bébadecfcbb   CafaeadfFfBf  dFabccBecaee   áedcDA  aba  eBbcbcbF fab  \n",
       "0      0.401938      0.853143      0.851254      0.607228      0.359440  \n",
       "1      0.005148      0.063470      0.150348      0.073310      0.201234  \n",
       "2      0.037652      0.254231      0.730837      0.469407      0.578485  \n",
       "3      0.513470      0.607865      0.030487      0.476335      0.334300  \n",
       "4      0.783093      0.550181      0.166237      0.137378      0.361607  "
      ]
     },
     "execution_count": 12,
     "metadata": {},
     "output_type": "execute_result"
    }
   ],
   "source": [
    "df = create_weird_dataframe()\n",
    "df.head()"
   ]
  },
  {
   "cell_type": "markdown",
   "metadata": {
    "colab_type": "text",
    "id": "uk4PrJFfTYvd"
   },
   "source": [
    "## Correcting the column names\n",
    "\n",
    "We'll create a function that rename the weird column names. The idea is to, later, extend that idea to our own brand new dataframe class."
   ]
  },
  {
   "cell_type": "markdown",
   "metadata": {
    "colab_type": "text",
    "id": "n7Zt4bABTYvf"
   },
   "source": [
    "### let's start simple: get the column names of the dataframe.\n",
    "\n",
    "Store it in a variable called `col_names`\n"
   ]
  },
  {
   "cell_type": "code",
   "execution_count": 17,
   "metadata": {
    "colab": {},
    "colab_type": "code",
    "id": "ZPR1hdCITYvg"
   },
   "outputs": [
    {
     "name": "stdout",
     "output_type": "stream",
     "text": [
      "Index(['éAbecedaáa b', 'dcdFbCBaddbá', 'd eCcebab bb', 'óbAóáBfÁcaAf',\n",
      "       'bdcfccBCbéaa', 'Cbeaabáebdd ', 'aÉe áafAaBcá', 'ba AcédcDCfC',\n",
      "       'cáBbDácEcaaa', 'óbafEdfcbFéa'],\n",
      "      dtype='object') 10\n"
     ]
    }
   ],
   "source": [
    "col_names = df.columns\n",
    "print (col_names, len(col_names))\n"
   ]
  },
  {
   "cell_type": "markdown",
   "metadata": {
    "colab_type": "text",
    "id": "CIkkr475TYvk"
   },
   "source": [
    "### Let's iterate through this columns and transform them into lower-case column names\n",
    "\n",
    "Create a list comprehension to do that if possible. Store it in a variable called `lower_colnames`"
   ]
  },
  {
   "cell_type": "code",
   "execution_count": 16,
   "metadata": {
    "colab": {},
    "colab_type": "code",
    "id": "6TXYfFx5TYvl"
   },
   "outputs": [
    {
     "name": "stdout",
     "output_type": "stream",
     "text": [
      "['éabecedaáa b', 'dcdfbcbaddbá', 'd eccebab bb', 'óbaóábfácaaf', 'bdcfccbcbéaa', 'cbeaabáebdd ', 'aée áafaabcá', 'ba acédcdcfc', 'cábbdácecaaa', 'óbafedfcbféa'] 10\n"
     ]
    }
   ],
   "source": [
    "lower_colnames = [i.lower() for i in col_names]\n",
    "print (lower_colnames, len(lower_colnames))"
   ]
  },
  {
   "cell_type": "markdown",
   "metadata": {
    "colab_type": "text",
    "id": "qlTchgNbTYvp"
   },
   "source": [
    "### Let's remove the spaces of these column names!\n",
    "\n",
    "Replace each column name space ` ` for an underline `_`. Again, try to use a list comprehension to do that. \n",
    "For this first task use `.replace(' ','')` method to do that."
   ]
  },
  {
   "cell_type": "code",
   "execution_count": 18,
   "metadata": {
    "colab": {},
    "colab_type": "code",
    "id": "y0JFfKgFTYvq"
   },
   "outputs": [
    {
     "data": {
      "text/plain": [
       "['éabecedaáa_b',\n",
       " 'dcdfbcbaddbá',\n",
       " 'd_eccebab_bb',\n",
       " 'óbaóábfácaaf',\n",
       " 'bdcfccbcbéaa',\n",
       " 'cbeaabáebdd_',\n",
       " 'aée_áafaabcá',\n",
       " 'ba_acédcdcfc',\n",
       " 'cábbdácecaaa',\n",
       " 'óbafedfcbféa']"
      ]
     },
     "execution_count": 18,
     "metadata": {},
     "output_type": "execute_result"
    }
   ],
   "source": [
    "[i.replace(' ', '_') for i in lower_colnames]"
   ]
  },
  {
   "cell_type": "markdown",
   "metadata": {
    "colab_type": "text",
    "id": "TCj5NklYTYvu"
   },
   "source": [
    "### Create a function that groups the results obtained above and return the lower case underlined names as a list\n",
    "\n",
    "Name the function `normalize_cols`. This function should receive a dataframe, get the column names of a it and return the treated list of column names."
   ]
  },
  {
   "cell_type": "code",
   "execution_count": 23,
   "metadata": {
    "colab": {},
    "colab_type": "code",
    "id": "aqYwg4EJTYvv"
   },
   "outputs": [],
   "source": [
    "def normalize_cols (df)-> list:\n",
    "    \n",
    "    col_names = df.columns\n",
    "    norm_col = [i.lower().replace(' ','_') for i in col_names]\n",
    "    \n",
    "    return norm_col"
   ]
  },
  {
   "cell_type": "markdown",
   "metadata": {
    "colab_type": "text",
    "id": "YMpWYJFwTYvz"
   },
   "source": [
    "### Test your results\n",
    "\n",
    "Use the following line of code to test your results. Run it several times to see some behaviors."
   ]
  },
  {
   "cell_type": "code",
   "execution_count": 37,
   "metadata": {
    "colab": {},
    "colab_type": "code",
    "id": "fbXmMMd3TYv0"
   },
   "outputs": [
    {
     "data": {
      "text/plain": [
       "['óbfbccacd_có',\n",
       " 'cébffófa_fcá',\n",
       " 'dfdáaabáéfbb',\n",
       " 'ébf_bóbeadaf',\n",
       " 'beb__aecadbd',\n",
       " 'beca_aabacac',\n",
       " 'áéaóc_á_afaa',\n",
       " 'cádéaafc_ead',\n",
       " 'aeaecebbaadc',\n",
       " 'eabb_ebafdaf']"
      ]
     },
     "execution_count": 37,
     "metadata": {},
     "output_type": "execute_result"
    }
   ],
   "source": [
    "normalize_cols(create_weird_dataframe())"
   ]
  },
  {
   "cell_type": "markdown",
   "metadata": {
    "colab_type": "text",
    "id": "LWMc9bikTYv4"
   },
   "source": [
    "### hmmm, we've made a mistake!\n",
    "\n",
    "We've commited several mistakes by doing this. Have observed any bugs associated with our results?"
   ]
  },
  {
   "cell_type": "markdown",
   "metadata": {
    "colab_type": "text",
    "id": "fGnyUzGATYv5"
   },
   "source": [
    "In order for us to see some problems in our results, we have to look for edge cases. \n",
    "\n",
    "For example: \n",
    "\n",
    "**Problem #1:** what if there are 2 or more following spaces? We want it to replace the spaces by several underlines or condense them into one?\n",
    "\n",
    "**Problem #2:** what if there are spaces at the beginning? Should we substitute them by underline or drop them?"
   ]
  },
  {
   "cell_type": "markdown",
   "metadata": {
    "colab_type": "text",
    "id": "BkJguuBITYv6"
   },
   "source": [
    "Let's correct each problem. Starting by problem 2."
   ]
  },
  {
   "cell_type": "markdown",
   "metadata": {
    "colab_type": "text",
    "id": "ikvacQQ3TYv7"
   },
   "source": [
    "## Correcting our function\n",
    "\n",
    "Instead of substituting the spaces at first place, let's remove the trailing and leading spaces!\n",
    "\n",
    "Recreate the `normalize_cols` with the solution to `Problem 2`.\n",
    "\n",
    "*Hint: Copy and paste the last `normalize_cols` function to change it.*"
   ]
  },
  {
   "cell_type": "code",
   "execution_count": 38,
   "metadata": {
    "colab": {},
    "colab_type": "code",
    "id": "u_kX4HS1TYv8"
   },
   "outputs": [],
   "source": [
    "def normalize_cols (df)-> list:\n",
    "    \n",
    "    col_names = df.columns\n",
    "    norm_col = [i.lower().replace(' ','') for i in col_names]\n",
    "    \n",
    "    return norm_col"
   ]
  },
  {
   "cell_type": "markdown",
   "metadata": {
    "colab_type": "text",
    "id": "MXm2-PEbTYwA"
   },
   "source": [
    "### Test your results again.\n",
    "\n",
    "At least, for now, you should not have any trailing nor leading underlines."
   ]
  },
  {
   "cell_type": "code",
   "execution_count": 39,
   "metadata": {
    "colab": {},
    "colab_type": "code",
    "id": "Bm9ifu5QTYwB"
   },
   "outputs": [
    {
     "data": {
      "text/plain": [
       "['aefaadaáedeb',\n",
       " 'daecaabacáá',\n",
       " 'ócdcbadaaáde',\n",
       " 'beecaábbecae',\n",
       " 'ebcaeébcáébb',\n",
       " 'bbfcbaóaaecf',\n",
       " 'fefódbbcfeb',\n",
       " 'bacbafafaá',\n",
       " 'ceóbéeáccbc',\n",
       " 'éaaafádaaac']"
      ]
     },
     "execution_count": 39,
     "metadata": {},
     "output_type": "execute_result"
    }
   ],
   "source": [
    "normalize_cols(create_weird_dataframe())"
   ]
  },
  {
   "cell_type": "markdown",
   "metadata": {
    "colab_type": "text",
    "id": "zNR5w4cWTYwE"
   },
   "source": [
    "### Correcting problem 1"
   ]
  },
  {
   "cell_type": "markdown",
   "metadata": {
    "colab_type": "text",
    "id": "vSJu3qCCTYwG"
   },
   "source": [
    "To correct problem 1, instead of using `.replace()` string method, we want to use a regular expression. Use the module `re` to substitute the pattern of `1 or more spaces` by 1 underline `_`.\n",
    "\n",
    "Test your solution on the variable below:"
   ]
  },
  {
   "cell_type": "code",
   "execution_count": 13,
   "metadata": {
    "colab": {},
    "colab_type": "code",
    "id": "8dm4rS5mTYwH"
   },
   "outputs": [],
   "source": [
    "import re \n",
    "\n",
    "text = 'these spaces      should all be one underline'"
   ]
  },
  {
   "cell_type": "code",
   "execution_count": 55,
   "metadata": {
    "colab": {},
    "colab_type": "code",
    "id": "RP-cz9kKTYwK"
   },
   "outputs": [
    {
     "data": {
      "text/plain": [
       "'these_spaces_should_all_be_one_underline'"
      ]
     },
     "execution_count": 55,
     "metadata": {},
     "output_type": "execute_result"
    }
   ],
   "source": [
    "re.sub('\\\\s+', '_', text)"
   ]
  },
  {
   "cell_type": "markdown",
   "metadata": {
    "colab_type": "text",
    "id": "iqffTpd3TYwU"
   },
   "source": [
    "### Now correct your `normalize_cols` function\n",
    "\n",
    "\n",
    "*Hint: Copy and paste the last `normalize_cols` function to change it.*"
   ]
  },
  {
   "cell_type": "code",
   "execution_count": 62,
   "metadata": {
    "colab": {},
    "colab_type": "code",
    "id": "7SxhpuOCTYwV"
   },
   "outputs": [],
   "source": [
    "def normalize_cols (df)-> list:\n",
    "    \n",
    "    col_names = df.columns\n",
    "    low_col = [i.lower() for i in col_names]\n",
    "    norm_col = [re.sub('\\\\s+', '_', i) for i in low_col]\n",
    "    \n",
    "    return norm_col"
   ]
  },
  {
   "cell_type": "markdown",
   "metadata": {
    "colab_type": "text",
    "id": "mn0UwlZATYwX"
   },
   "source": [
    "### Again, test your results.\n",
    "\n",
    "Now, sometimes some column names should have smaller sizes (because you are removing consecutive spaces)"
   ]
  },
  {
   "cell_type": "code",
   "execution_count": 66,
   "metadata": {
    "colab": {},
    "colab_type": "code",
    "id": "LzHIKAT4TYwZ"
   },
   "outputs": [
    {
     "data": {
      "text/plain": [
       "['adffeefaóa_b',\n",
       " 'baaf_adbdcbe',\n",
       " 'aéa_baéfeé',\n",
       " 'áfaaaf_bedac',\n",
       " 'edceaaa_óbbó',\n",
       " 'efeebbdaaefc',\n",
       " 'abfbbdaacaec',\n",
       " 'a_c_faáaabba',\n",
       " 'dbbcabáccfb_',\n",
       " 'cbacáaéabdbc']"
      ]
     },
     "execution_count": 66,
     "metadata": {},
     "output_type": "execute_result"
    }
   ],
   "source": [
    "normalize_cols(create_weird_dataframe())"
   ]
  },
  {
   "cell_type": "markdown",
   "metadata": {
    "colab_type": "text",
    "id": "bs7KvyTwTYwc"
   },
   "source": [
    "## Last step: remove accents"
   ]
  },
  {
   "cell_type": "markdown",
   "metadata": {
    "colab_type": "text",
    "id": "rhQLRfoYTYwd"
   },
   "source": [
    "The last step consists in removing accents from the strings.\n",
    "\n",
    "Import the package `unidecode` to use its module also called `unidecode` to remove accents. Test on the word below."
   ]
  },
  {
   "cell_type": "code",
   "execution_count": 17,
   "metadata": {
    "colab": {},
    "colab_type": "code",
    "id": "osrv7brdTYwe"
   },
   "outputs": [],
   "source": [
    "text = 'aéóúaorowó'\n",
    "from unidecode import unidecode"
   ]
  },
  {
   "cell_type": "code",
   "execution_count": 18,
   "metadata": {},
   "outputs": [
    {
     "data": {
      "text/plain": [
       "'aeouaorowo'"
      ]
     },
     "execution_count": 18,
     "metadata": {},
     "output_type": "execute_result"
    }
   ],
   "source": [
    "unidecode(text)"
   ]
  },
  {
   "cell_type": "markdown",
   "metadata": {
    "colab_type": "text",
    "id": "tCoX4ZYLTYwj"
   },
   "source": [
    "### Now remove the accents for each column name in your `normalized_cols` function.\n",
    "\n",
    "*Hint: Copy and paste the last `normalize_cols` function to change it.*"
   ]
  },
  {
   "cell_type": "code",
   "execution_count": 19,
   "metadata": {
    "colab": {},
    "colab_type": "code",
    "id": "3ZW9No0uTYwk"
   },
   "outputs": [],
   "source": [
    "def normalize_cols (df)-> list:\n",
    "    \n",
    "    col_names = df.columns\n",
    "    low_col = [i.lower() for i in col_names]\n",
    "    norm_col = [re.sub('\\\\s+', '_', i) for i in low_col]\n",
    "    no_codes = [unidecode(i) for i in norm_col]\n",
    "    \n",
    "    return no_codes "
   ]
  },
  {
   "cell_type": "markdown",
   "metadata": {
    "colab_type": "text",
    "id": "MTgNfgeYTYwm"
   },
   "source": [
    "### Test your results"
   ]
  },
  {
   "cell_type": "code",
   "execution_count": 20,
   "metadata": {
    "colab": {},
    "colab_type": "code",
    "id": "RxDiO0PzTYwn"
   },
   "outputs": [
    {
     "data": {
      "text/plain": [
       "['fdfc_fac_ced',\n",
       " 'bbcbccbaeaba',\n",
       " 'f_fab_befbef',\n",
       " 'fadcbdca_bda',\n",
       " 'aob_cabafbfc',\n",
       " 'adeeabbfaaee',\n",
       " 'oa_aefbdface',\n",
       " 'daaaecaafcdb',\n",
       " 'bdaacdbaaaab',\n",
       " 'bebbbefca_ac']"
      ]
     },
     "execution_count": 20,
     "metadata": {},
     "output_type": "execute_result"
    }
   ],
   "source": [
    "normalize_cols(create_weird_dataframe())"
   ]
  },
  {
   "cell_type": "markdown",
   "metadata": {
    "colab_type": "text",
    "id": "VQ9C0CjkTYwq"
   },
   "source": [
    "## Good job. \n",
    "\n",
    "Right now you have a function that receives a dataframe and returns its columns names with a good formatting."
   ]
  },
  {
   "cell_type": "markdown",
   "metadata": {
    "colab_type": "text",
    "id": "5swtawYcTYwq"
   },
   "source": [
    "# Creating our own dataframe."
   ]
  },
  {
   "cell_type": "code",
   "execution_count": 21,
   "metadata": {
    "colab": {},
    "colab_type": "code",
    "id": "69irk1odTYwr"
   },
   "outputs": [],
   "source": [
    "from pandas import DataFrame"
   ]
  },
  {
   "cell_type": "markdown",
   "metadata": {
    "colab_type": "text",
    "id": "3vUf_BFSTYwt"
   },
   "source": [
    "A dataframe is just a simple class. It contains its own attributes and methods. \n",
    "\n",
    "When you create a pd.DataFrame() you are just instantiating the DataFrame class as an object that you can store in a variable. From this point onwards, you have access to all DataFrame class attributes (`.columns` for example) and methods (`.isna()` for example). We've been using those since always! "
   ]
  },
  {
   "cell_type": "markdown",
   "metadata": {
    "colab_type": "text",
    "id": "A5I8dflETYwu"
   },
   "source": [
    "If we wish, we could create our own class inheriting everything from a DataFrame class."
   ]
  },
  {
   "cell_type": "code",
   "execution_count": 22,
   "metadata": {
    "colab": {},
    "colab_type": "code",
    "id": "xZUmnuzzTYwv"
   },
   "outputs": [],
   "source": [
    "class myDataFrame(DataFrame):\n",
    "    pass\n"
   ]
  },
  {
   "cell_type": "markdown",
   "metadata": {
    "colab_type": "text",
    "id": "mPSyMDn4TYwy"
   },
   "source": [
    "Instead of just creating myDataFrame, put your function inside your new inherited class, that is, transform `normalize_cols` into a method of your own DataFrame.\n",
    "\n",
    "Remember you'll have to give self as the first argument of the `normalize_cols`. So you could replace everything you once called `dataframe` inside your `normalize_cols` by `self`. \n",
    "\n",
    "At the end, return the list of the correct names."
   ]
  },
  {
   "cell_type": "code",
   "execution_count": 94,
   "metadata": {
    "colab": {},
    "colab_type": "code",
    "id": "UD3uk6bkTYwz"
   },
   "outputs": [],
   "source": [
    "class myDataFrame(DataFrame):\n",
    "\n",
    "    def normalize_cols (self)-> list:\n",
    "\n",
    "        col_names = self.columns\n",
    "        low_col = [i.lower() for i in col_names]\n",
    "        norm_col = [re.sub('\\\\s+', '_', i) for i in low_col]\n",
    "        no_codes = [unidecode(i) for i in norm_col]\n",
    "\n",
    "        return no_codes     "
   ]
  },
  {
   "cell_type": "markdown",
   "metadata": {
    "colab_type": "text",
    "id": "lCKiKMavTYw1"
   },
   "source": [
    "Test your results."
   ]
  },
  {
   "cell_type": "code",
   "execution_count": 95,
   "metadata": {
    "colab": {},
    "colab_type": "code",
    "id": "EaVQNJBbTYw2"
   },
   "outputs": [
    {
     "data": {
      "text/plain": [
       "['eebeebbeaabb',\n",
       " 'eab_a_aeebba',\n",
       " 'cbbaecaaebda',\n",
       " 'ebeabafebcda',\n",
       " 'bcabdadcfab_',\n",
       " 'baaebebececc',\n",
       " 'abfoooaff_bb',\n",
       " 'baafdabbab_e',\n",
       " 'efaabeaaedee',\n",
       " 'cbefacaddbb_']"
      ]
     },
     "execution_count": 95,
     "metadata": {},
     "output_type": "execute_result"
    }
   ],
   "source": [
    "df = myDataFrame(create_weird_dataframe())\n",
    "df.normalize_cols()"
   ]
  },
  {
   "cell_type": "markdown",
   "metadata": {
    "colab_type": "text",
    "id": "I0IlScuLTYw5"
   },
   "source": [
    "## Understanding even more the `self` argument"
   ]
  },
  {
   "cell_type": "markdown",
   "metadata": {
    "colab_type": "text",
    "id": "UF5gjA1qTYw6"
   },
   "source": [
    "Instead of returning a list containing the correct columns, you should now assign the correct columns to the `self.columns` - this will effectively replace the values of your object by the correct columns.\n",
    "\n",
    "\n",
    "Now change your method to return the dataframe itself. That is, return the `self` argument this time and see the results! \n",
    "\n",
    "```python\n",
    "class myDataFrame(DataFrame):\n",
    "    def normalize_cos(self):\n",
    "        ...\n",
    "        return self\n",
    "```"
   ]
  },
  {
   "cell_type": "code",
   "execution_count": 138,
   "metadata": {
    "colab": {},
    "colab_type": "code",
    "id": "dTtylbdGTYw7"
   },
   "outputs": [],
   "source": [
    "class myDataFrame(DataFrame):\n",
    "    \n",
    "    def normalize_cols (self)-> list:\n",
    "\n",
    "        col_names = self.columns\n",
    "        low_col = [i.lower() for i in col_names]\n",
    "        norm_col = [re.sub('\\\\s+', '_', i) for i in low_col]\n",
    "        no_codes = [unidecode(i) for i in norm_col]\n",
    "        \n",
    "        self.columns = [i for i in no_codes]\n",
    "        return self"
   ]
  },
  {
   "cell_type": "code",
   "execution_count": 142,
   "metadata": {},
   "outputs": [
    {
     "data": {
      "text/html": [
       "<div>\n",
       "<style scoped>\n",
       "    .dataframe tbody tr th:only-of-type {\n",
       "        vertical-align: middle;\n",
       "    }\n",
       "\n",
       "    .dataframe tbody tr th {\n",
       "        vertical-align: top;\n",
       "    }\n",
       "\n",
       "    .dataframe thead th {\n",
       "        text-align: right;\n",
       "    }\n",
       "</style>\n",
       "<table border=\"1\" class=\"dataframe\">\n",
       "  <thead>\n",
       "    <tr style=\"text-align: right;\">\n",
       "      <th></th>\n",
       "      <th>baebacaceabd</th>\n",
       "      <th>beaaecbbabad</th>\n",
       "      <th>eaocdefbdccb</th>\n",
       "      <th>c_cfb_cbcabo</th>\n",
       "      <th>_acffaadbebb</th>\n",
       "      <th>cababecdddbc</th>\n",
       "      <th>bbafeoaadecc</th>\n",
       "      <th>ddcacfaccfdc</th>\n",
       "      <th>faaaeabffaaf</th>\n",
       "      <th>bbeacfaeb_o_</th>\n",
       "    </tr>\n",
       "  </thead>\n",
       "  <tbody>\n",
       "    <tr>\n",
       "      <th>0</th>\n",
       "      <td>0.165131</td>\n",
       "      <td>0.660688</td>\n",
       "      <td>0.273810</td>\n",
       "      <td>0.431803</td>\n",
       "      <td>0.832761</td>\n",
       "      <td>0.306812</td>\n",
       "      <td>0.724161</td>\n",
       "      <td>0.181510</td>\n",
       "      <td>0.711151</td>\n",
       "      <td>0.512417</td>\n",
       "    </tr>\n",
       "    <tr>\n",
       "      <th>1</th>\n",
       "      <td>0.615419</td>\n",
       "      <td>0.972985</td>\n",
       "      <td>0.820286</td>\n",
       "      <td>0.673722</td>\n",
       "      <td>0.039958</td>\n",
       "      <td>0.892665</td>\n",
       "      <td>0.195735</td>\n",
       "      <td>0.785795</td>\n",
       "      <td>0.542333</td>\n",
       "      <td>0.154229</td>\n",
       "    </tr>\n",
       "    <tr>\n",
       "      <th>2</th>\n",
       "      <td>0.125991</td>\n",
       "      <td>0.307329</td>\n",
       "      <td>0.805022</td>\n",
       "      <td>0.754226</td>\n",
       "      <td>0.858565</td>\n",
       "      <td>0.456605</td>\n",
       "      <td>0.147241</td>\n",
       "      <td>0.764302</td>\n",
       "      <td>0.786514</td>\n",
       "      <td>0.142073</td>\n",
       "    </tr>\n",
       "    <tr>\n",
       "      <th>3</th>\n",
       "      <td>0.307102</td>\n",
       "      <td>0.981768</td>\n",
       "      <td>0.948981</td>\n",
       "      <td>0.976226</td>\n",
       "      <td>0.325134</td>\n",
       "      <td>0.436014</td>\n",
       "      <td>0.333919</td>\n",
       "      <td>0.772800</td>\n",
       "      <td>0.233759</td>\n",
       "      <td>0.016018</td>\n",
       "    </tr>\n",
       "    <tr>\n",
       "      <th>4</th>\n",
       "      <td>0.080054</td>\n",
       "      <td>0.982816</td>\n",
       "      <td>0.336755</td>\n",
       "      <td>0.280895</td>\n",
       "      <td>0.272826</td>\n",
       "      <td>0.596378</td>\n",
       "      <td>0.498204</td>\n",
       "      <td>0.931983</td>\n",
       "      <td>0.008357</td>\n",
       "      <td>0.784431</td>\n",
       "    </tr>\n",
       "    <tr>\n",
       "      <th>5</th>\n",
       "      <td>0.605516</td>\n",
       "      <td>0.012788</td>\n",
       "      <td>0.675744</td>\n",
       "      <td>0.753096</td>\n",
       "      <td>0.267872</td>\n",
       "      <td>0.752114</td>\n",
       "      <td>0.424231</td>\n",
       "      <td>0.686489</td>\n",
       "      <td>0.700905</td>\n",
       "      <td>0.927083</td>\n",
       "    </tr>\n",
       "    <tr>\n",
       "      <th>6</th>\n",
       "      <td>0.465003</td>\n",
       "      <td>0.694236</td>\n",
       "      <td>0.774090</td>\n",
       "      <td>0.858028</td>\n",
       "      <td>0.554743</td>\n",
       "      <td>0.498526</td>\n",
       "      <td>0.319755</td>\n",
       "      <td>0.991522</td>\n",
       "      <td>0.729006</td>\n",
       "      <td>0.353029</td>\n",
       "    </tr>\n",
       "    <tr>\n",
       "      <th>7</th>\n",
       "      <td>0.390062</td>\n",
       "      <td>0.151662</td>\n",
       "      <td>0.348489</td>\n",
       "      <td>0.908686</td>\n",
       "      <td>0.405004</td>\n",
       "      <td>0.484194</td>\n",
       "      <td>0.494326</td>\n",
       "      <td>0.831865</td>\n",
       "      <td>0.458937</td>\n",
       "      <td>0.154669</td>\n",
       "    </tr>\n",
       "    <tr>\n",
       "      <th>8</th>\n",
       "      <td>0.791008</td>\n",
       "      <td>0.564413</td>\n",
       "      <td>0.820403</td>\n",
       "      <td>0.189295</td>\n",
       "      <td>0.156678</td>\n",
       "      <td>0.181286</td>\n",
       "      <td>0.796472</td>\n",
       "      <td>0.015925</td>\n",
       "      <td>0.968741</td>\n",
       "      <td>0.991073</td>\n",
       "    </tr>\n",
       "    <tr>\n",
       "      <th>9</th>\n",
       "      <td>0.606059</td>\n",
       "      <td>0.282206</td>\n",
       "      <td>0.775299</td>\n",
       "      <td>0.436923</td>\n",
       "      <td>0.227888</td>\n",
       "      <td>0.927957</td>\n",
       "      <td>0.190941</td>\n",
       "      <td>0.906788</td>\n",
       "      <td>0.194266</td>\n",
       "      <td>0.223225</td>\n",
       "    </tr>\n",
       "  </tbody>\n",
       "</table>\n",
       "</div>"
      ],
      "text/plain": [
       "   baebacaceabd  beaaecbbabad  eaocdefbdccb  c_cfb_cbcabo  _acffaadbebb  \\\n",
       "0      0.165131      0.660688      0.273810      0.431803      0.832761   \n",
       "1      0.615419      0.972985      0.820286      0.673722      0.039958   \n",
       "2      0.125991      0.307329      0.805022      0.754226      0.858565   \n",
       "3      0.307102      0.981768      0.948981      0.976226      0.325134   \n",
       "4      0.080054      0.982816      0.336755      0.280895      0.272826   \n",
       "5      0.605516      0.012788      0.675744      0.753096      0.267872   \n",
       "6      0.465003      0.694236      0.774090      0.858028      0.554743   \n",
       "7      0.390062      0.151662      0.348489      0.908686      0.405004   \n",
       "8      0.791008      0.564413      0.820403      0.189295      0.156678   \n",
       "9      0.606059      0.282206      0.775299      0.436923      0.227888   \n",
       "\n",
       "   cababecdddbc  bbafeoaadecc  ddcacfaccfdc  faaaeabffaaf  bbeacfaeb_o_  \n",
       "0      0.306812      0.724161      0.181510      0.711151      0.512417  \n",
       "1      0.892665      0.195735      0.785795      0.542333      0.154229  \n",
       "2      0.456605      0.147241      0.764302      0.786514      0.142073  \n",
       "3      0.436014      0.333919      0.772800      0.233759      0.016018  \n",
       "4      0.596378      0.498204      0.931983      0.008357      0.784431  \n",
       "5      0.752114      0.424231      0.686489      0.700905      0.927083  \n",
       "6      0.498526      0.319755      0.991522      0.729006      0.353029  \n",
       "7      0.484194      0.494326      0.831865      0.458937      0.154669  \n",
       "8      0.181286      0.796472      0.015925      0.968741      0.991073  \n",
       "9      0.927957      0.190941      0.906788      0.194266      0.223225  "
      ]
     },
     "execution_count": 142,
     "metadata": {},
     "output_type": "execute_result"
    }
   ],
   "source": [
    "df = myDataFrame(create_weird_dataframe())\n",
    "df.normalize_cols()"
   ]
  },
  {
   "cell_type": "code",
   "execution_count": 143,
   "metadata": {},
   "outputs": [
    {
     "data": {
      "text/plain": [
       "Index(['baebacaceabd', 'beaaecbbabad', 'eaocdefbdccb', 'c_cfb_cbcabo',\n",
       "       '_acffaadbebb', 'cababecdddbc', 'bbafeoaadecc', 'ddcacfaccfdc',\n",
       "       'faaaeabffaaf', 'bbeacfaeb_o_'],\n",
       "      dtype='object')"
      ]
     },
     "execution_count": 143,
     "metadata": {},
     "output_type": "execute_result"
    }
   ],
   "source": [
    "df.columns"
   ]
  },
  {
   "cell_type": "markdown",
   "metadata": {
    "colab_type": "text",
    "id": "bh1SJi3lTYxf"
   },
   "source": [
    "## Understanding the self argument"
   ]
  },
  {
   "cell_type": "markdown",
   "metadata": {
    "colab_type": "text",
    "id": "ZnGiF0QgTYxi"
   },
   "source": [
    "Now, below the `for loop` you've created, let's create the attributes of the `Car` class. Remember the attributes you wrote down earlier? Let's put them as arguments of the `__init__(self,)` function.\n",
    "\n",
    "Remember, the first argument of the `__init__(self,)` function should always be the `self` keyword. \n",
    "\n",
    "The `self` argument represents the object itself. That is a way for you to have access to the objects own attribute. \n"
   ]
  },
  {
   "cell_type": "markdown",
   "metadata": {
    "colab_type": "text",
    "id": "EuP7N9DzTYxj"
   },
   "source": [
    "### First, let's start creating one single attribute of this car."
   ]
  },
  {
   "cell_type": "markdown",
   "metadata": {
    "colab_type": "text",
    "id": "Szqw_HxlTYxk"
   },
   "source": [
    "Let's say you have chosen `name` as a car attribute (what? can't a car have a name?). \n",
    "\n",
    "If you want your class to receive a specific car name as an argument, you have to put this variable as the argument of the `__init__` function. So, to add `name`, the results of your special function definition would be:\n",
    "\n",
    "```python\n",
    "def __init__(self, name):\n",
    "    pass\n",
    "```\n",
    "\n",
    "Now, when you instantiate your Car class, the syntax would be similar to calling a function (which, by now, you should now that it is what you are effectively doing - you are calling the __init__ method), so what the syntax would be:\n",
    "\n",
    "*Hint: If you don't specify an argument, the python interpreter will complain that your class requires one argument (try that - if you don't try it now, it is not a problem, you'll try in future, even when you don't want to).*\n"
   ]
  },
  {
   "cell_type": "code",
   "execution_count": 145,
   "metadata": {
    "colab": {},
    "colab_type": "code",
    "id": "Uz0lt0tuTYxk"
   },
   "outputs": [],
   "source": [
    "# your code here\n",
    "\n",
    "class Car:\n",
    "\n",
    "    def __init__ (self, name):\n",
    "\n",
    "        from tqdm.auto import tqdm\n",
    "        import time\n",
    "\n",
    "        for i in tqdm(range(10), desc='__init__ is running, yay'):\n",
    "            time.sleep(.1)\n",
    "            \n"
   ]
  },
  {
   "cell_type": "markdown",
   "metadata": {
    "colab_type": "text",
    "id": "FLmjUel1TYxo"
   },
   "source": [
    "### Now let's store that new argument\n",
    "\n",
    "By now, you are only receiving the name of the car as an argument, but you are not doing anything specifically with that variable called `name`.\n",
    "\n",
    "Let's store that in the object. That's the first use of the `self` keyword.\n",
    "\n",
    "To store the variable in a way that the user can access via a `car.SOMETHING`, you have to specify that the object itself is receiving the attribute `name` (for example)\n",
    "\n",
    "Then, **create a variable called `name` that receives the argument `name`** (keep in mind that the name of the variable need not necessarily be the same, you could assing the argument `name` to an attribute called `chimpanze` for example).\n",
    "\n",
    "Also **create the other 5 attributes that you previously had in mind**\n"
   ]
  },
  {
   "cell_type": "code",
   "execution_count": 146,
   "metadata": {
    "colab": {},
    "colab_type": "code",
    "id": "7FzwacOwTYxq"
   },
   "outputs": [],
   "source": [
    "# your code here\n",
    "\n",
    "class Car:\n",
    "\n",
    "    def __init__ (self, name, color, doors, brand, type_of_car, price):\n",
    "\n",
    "        from tqdm.auto import tqdm\n",
    "        import time\n",
    "\n",
    "        for i in tqdm(range(10), desc='__init__ is running, yay'):\n",
    "            time.sleep(.1)\n",
    "\n",
    "        self.name = name\n",
    "        self.color = color\n",
    "        self.doors = doors\n",
    "        self.brand = brand\n",
    "        self.type_of_car =  type_of_car\n",
    "        self.price = price"
   ]
  },
  {
   "cell_type": "markdown",
   "metadata": {
    "colab_type": "text",
    "id": "3fS9sCKjTYxs"
   },
   "source": [
    "### Access the attribute\n",
    "\n",
    "You should now be able to access the object's attribute once you instantiate it as `my_car.name`\n",
    "\n",
    "You can try to write `my_car.<TAB>` to check what attributes or methods your object contains."
   ]
  },
  {
   "cell_type": "code",
   "execution_count": 148,
   "metadata": {
    "colab": {},
    "colab_type": "code",
    "id": "if18GWwtTYxt"
   },
   "outputs": [
    {
     "data": {
      "application/vnd.jupyter.widget-view+json": {
       "model_id": "19a869f0bc184e5f876b3eec4376449e",
       "version_major": 2,
       "version_minor": 0
      },
      "text/plain": [
       "HBox(children=(FloatProgress(value=0.0, description='__init__ is running, yay', max=10.0, style=ProgressStyle(…"
      ]
     },
     "metadata": {},
     "output_type": "display_data"
    },
    {
     "name": "stdout",
     "output_type": "stream",
     "text": [
      "\n"
     ]
    }
   ],
   "source": [
    "my_car = Car('carro da Sera', 'preto', 4,'jeep', 'sport', 100000)"
   ]
  },
  {
   "cell_type": "code",
   "execution_count": 149,
   "metadata": {},
   "outputs": [
    {
     "data": {
      "text/plain": [
       "{'name': 'carro da Sera',\n",
       " 'color': 'preto',\n",
       " 'doors': 4,\n",
       " 'brand': 'jeep',\n",
       " 'type_of_car': 'sport',\n",
       " 'price': 100000}"
      ]
     },
     "execution_count": 149,
     "metadata": {},
     "output_type": "execute_result"
    }
   ],
   "source": [
    "my_car.__dict__"
   ]
  },
  {
   "cell_type": "markdown",
   "metadata": {
    "colab_type": "text",
    "id": "uu5Ma2rvTYxu"
   },
   "source": [
    "## Understanding special methods"
   ]
  },
  {
   "cell_type": "markdown",
   "metadata": {
    "colab_type": "text",
    "id": "ltpSwuvTTYxv"
   },
   "source": [
    "Special methods are the ones that start with double underlines (usually called `dunder`), for example the `__init__` method, the `__doc__` method or `__repr__` method (called as `dunder init`, `dunder doc`, `dunder repr`)."
   ]
  },
  {
   "cell_type": "markdown",
   "metadata": {
    "colab_type": "text",
    "id": "dyytOn27TYxw"
   },
   "source": [
    "The `__repr__` method is responsible to show how your class will be displayed on screen when you display it.\n",
    "Let's create a `__repr__(self)` function on our `Car` class that returns the following string below (copy the string below):\n",
    "\n",
    "```python\n",
    "    car = f'''\n",
    "                  ______--------___\n",
    "                 /|             / |\n",
    "      o___________|_\\__________/__|\n",
    "     ]|___     |  |=   ||  =|___  |\"\n",
    "     //   \\\\    |  |____||_///   \\\\|\"\n",
    "    |  X  |\\--------------/|  X  |\\\"\n",
    "     \\___/                  \\___/\n",
    "    '''\n",
    "```\n",
    "\n",
    "Your class should now have two special methods, `__init__` and `__repr__`"
   ]
  },
  {
   "cell_type": "code",
   "execution_count": 150,
   "metadata": {
    "colab": {},
    "colab_type": "code",
    "id": "y4JUYVALTYxw"
   },
   "outputs": [],
   "source": [
    "class Car:\n",
    "    \n",
    "    def __init__(self, car_name):\n",
    "        self.car_name = car_name\n",
    "    \n",
    "    def __repr__(self):\n",
    "        \n",
    "        car = f'''\n",
    "                      ______--------___\n",
    "                     /|             / |\n",
    "          o___________|_\\__________/__|\n",
    "         ]|___     |  |=   ||  =|___  |\"\n",
    "         //   \\\\    |  |____||_///   \\\\|\"\n",
    "        |  X  |\\--------------/|  X  |\\\"\n",
    "         \\___/                  \\___/\n",
    "        '''\n",
    "        \n",
    "        return car"
   ]
  },
  {
   "cell_type": "markdown",
   "metadata": {
    "colab_type": "text",
    "id": "cZV4Qq62TYx4"
   },
   "source": [
    "### Now instantiate your Car class again"
   ]
  },
  {
   "cell_type": "code",
   "execution_count": 151,
   "metadata": {
    "colab": {},
    "colab_type": "code",
    "id": "K51Kjik8TYx4"
   },
   "outputs": [],
   "source": [
    "my_car = Car('Jeguinho')"
   ]
  },
  {
   "cell_type": "markdown",
   "metadata": {
    "colab_type": "text",
    "id": "ZoFEGcT1TYx8"
   },
   "source": [
    "### And check what happens when you print your object on screen"
   ]
  },
  {
   "cell_type": "code",
   "execution_count": 152,
   "metadata": {
    "colab": {},
    "colab_type": "code",
    "id": "v3JCceBBTYx9"
   },
   "outputs": [
    {
     "name": "stdout",
     "output_type": "stream",
     "text": [
      "\n",
      "                      ______--------___\n",
      "                     /|             / |\n",
      "          o___________|_\\__________/__|\n",
      "         ]|___     |  |=   ||  =|___  |\"\n",
      "         //   \\    |  |____||_///   \\|\"\n",
      "        |  X  |\\--------------/|  X  |\"\n",
      "         \\___/                  \\___/\n",
      "        \n"
     ]
    }
   ],
   "source": [
    "print(my_car)"
   ]
  },
  {
   "cell_type": "markdown",
   "metadata": {
    "colab_type": "text",
    "id": "tfhgwGFDTYyA"
   },
   "source": [
    "### Now create a simple method to receive and return the `self` variable\n",
    "\n",
    "Create a simple method inside your `class Car` and return `self` the self argument. Name this method `get_itself`."
   ]
  },
  {
   "cell_type": "code",
   "execution_count": 153,
   "metadata": {
    "colab": {},
    "colab_type": "code",
    "id": "jEQNj8r4TYyB"
   },
   "outputs": [],
   "source": [
    "class Car:\n",
    "    \n",
    "    def __init__(self, car_name):\n",
    "        self.car_name = car_name\n",
    "    \n",
    "    def __repr__(self):\n",
    "        \n",
    "        car = f'''\n",
    "                      ______--------___\n",
    "                     /|             / |\n",
    "          o___________|_\\__________/__|\n",
    "         ]|___     |  |=   ||  =|___  |\"\n",
    "         //   \\\\    |  |____||_///   \\\\|\"\n",
    "        |  X  |\\--------------/|  X  |\\\"\n",
    "         \\___/                  \\___/\n",
    "        '''\n",
    "        \n",
    "        return car\n",
    "    \n",
    "    def get_itself(self):\n",
    "        return self"
   ]
  },
  {
   "cell_type": "markdown",
   "metadata": {
    "colab_type": "text",
    "id": "Zd2avbOGTYyE"
   },
   "source": [
    "#### Now instantiate the Car class and call `get_itself()`"
   ]
  },
  {
   "cell_type": "code",
   "execution_count": 154,
   "metadata": {
    "colab": {},
    "colab_type": "code",
    "id": "pUl9ZI8YTYyF"
   },
   "outputs": [],
   "source": [
    "my_car = Car('andre')"
   ]
  },
  {
   "cell_type": "code",
   "execution_count": 155,
   "metadata": {
    "colab": {},
    "colab_type": "code",
    "id": "AZ3o-NCkTYyK"
   },
   "outputs": [
    {
     "data": {
      "text/plain": [
       "\n",
       "                      ______--------___\n",
       "                     /|             / |\n",
       "          o___________|_\\__________/__|\n",
       "         ]|___     |  |=   ||  =|___  |\"\n",
       "         //   \\    |  |____||_///   \\|\"\n",
       "        |  X  |\\--------------/|  X  |\"\n",
       "         \\___/                  \\___/\n",
       "        "
      ]
     },
     "execution_count": 155,
     "metadata": {},
     "output_type": "execute_result"
    }
   ],
   "source": [
    "my_car.get_itself()"
   ]
  },
  {
   "cell_type": "markdown",
   "metadata": {
    "colab_type": "text",
    "id": "QZ25I6chTYyL"
   },
   "source": [
    "This happens because you are print this specific object. "
   ]
  }
 ],
 "metadata": {
  "colab": {
   "collapsed_sections": [
    "TCj5NklYTYvu",
    "YMpWYJFwTYvz",
    "LWMc9bikTYv4",
    "ikvacQQ3TYv7",
    "MXm2-PEbTYwA",
    "zNR5w4cWTYwE",
    "iqffTpd3TYwU",
    "mn0UwlZATYwX",
    "bs7KvyTwTYwc",
    "tCoX4ZYLTYwj",
    "MTgNfgeYTYwm",
    "VQ9C0CjkTYwq",
    "I0IlScuLTYw5",
    "bh1SJi3lTYxf",
    "EuP7N9DzTYxj",
    "FLmjUel1TYxo",
    "3fS9sCKjTYxs",
    "uu5Ma2rvTYxu",
    "cZV4Qq62TYx4",
    "ZoFEGcT1TYx8",
    "tfhgwGFDTYyA",
    "Zd2avbOGTYyE"
   ],
   "name": "[BONUS] challenge-02.ipynb",
   "provenance": []
  },
  "kernelspec": {
   "display_name": "Python 3",
   "language": "python",
   "name": "python3"
  },
  "language_info": {
   "codemirror_mode": {
    "name": "ipython",
    "version": 3
   },
   "file_extension": ".py",
   "mimetype": "text/x-python",
   "name": "python",
   "nbconvert_exporter": "python",
   "pygments_lexer": "ipython3",
   "version": "3.7.3"
  },
  "toc": {
   "base_numbering": 1,
   "nav_menu": {},
   "number_sections": true,
   "sideBar": true,
   "skip_h1_title": false,
   "title_cell": "Table of Contents",
   "title_sidebar": "Contents",
   "toc_cell": false,
   "toc_position": {},
   "toc_section_display": true,
   "toc_window_display": false
  }
 },
 "nbformat": 4,
 "nbformat_minor": 1
}
