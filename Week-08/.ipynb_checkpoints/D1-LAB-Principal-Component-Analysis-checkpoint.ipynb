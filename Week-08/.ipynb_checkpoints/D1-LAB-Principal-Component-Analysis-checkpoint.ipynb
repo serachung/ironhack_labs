{
 "cells": [
  {
   "cell_type": "markdown",
   "metadata": {},
   "source": [
    "import pandas as pd\n",
    "import numpy as np\n",
    "import matplotlib.pyplot as plt\n",
    "# ^^^ pyforest auto-imports - don't write above this line\n",
    "# Before your start:\n",
    "\n",
    "- Comment as much as you can and use the resources\n",
    "- Happy learning!"
   ]
  },
  {
   "cell_type": "code",
   "execution_count": 1,
   "metadata": {},
   "outputs": [],
   "source": [
    "import matplotlib.pyplot as plt\n",
    "import pandas as pd \n",
    "import numpy as np "
   ]
  },
  {
   "cell_type": "markdown",
   "metadata": {},
   "source": [
    "# Challenge 1 - Reading and Standardizing the Data\n",
    "\n",
    "In this challenge we will work with image data and reduce the dimensions of the data to create a 2 dimensional plot. While we have not worked much with image data before, it can be represented as a numpy array where each pixel is assigned a numeric value. In this lesson, we will look at a dataset of cats and a dataset of dogs and see whether reducing them to two dimensions allows us to see if the data is separable. We will start by loading and processing the data. Run the cell below to load the two csv files and convert them into numpy arrays."
   ]
  },
  {
   "cell_type": "markdown",
   "metadata": {},
   "source": [
    "## Read the files into dataframes named `dogs` and `cats`"
   ]
  },
  {
   "cell_type": "code",
   "execution_count": null,
   "metadata": {},
   "outputs": [],
   "source": [
    "#your code here"
   ]
  },
  {
   "cell_type": "code",
   "execution_count": 2,
   "metadata": {},
   "outputs": [],
   "source": [
    "cats = pd.read_csv('data/cats.csv')\n",
    "dogs = pd.read_csv('data/dogs.csv')"
   ]
  },
  {
   "cell_type": "markdown",
   "metadata": {},
   "source": [
    "Next, we'll examine the shape of both the cats and the dogs arrays. Print out both shapes below."
   ]
  },
  {
   "cell_type": "code",
   "execution_count": 3,
   "metadata": {},
   "outputs": [
    {
     "data": {
      "text/plain": [
       "((80, 4096), (80, 4096))"
      ]
     },
     "execution_count": 3,
     "metadata": {},
     "output_type": "execute_result"
    }
   ],
   "source": [
    "# Your code here:\n",
    "cats.shape, dogs.shape"
   ]
  },
  {
   "cell_type": "markdown",
   "metadata": {},
   "source": [
    "What this means is that both arrays contain 80 images each (the number of rows). Each image is comprised of 64x64 pixels (so a total of 4096 pixels per image). The images have been flattened such that all 4096 are in a single row.\n",
    "\n",
    "Print out row 0 of the cats dataframe to see what the pixels values look like."
   ]
  },
  {
   "cell_type": "code",
   "execution_count": 8,
   "metadata": {},
   "outputs": [
    {
     "data": {
      "text/html": [
       "<div>\n",
       "<style scoped>\n",
       "    .dataframe tbody tr th:only-of-type {\n",
       "        vertical-align: middle;\n",
       "    }\n",
       "\n",
       "    .dataframe tbody tr th {\n",
       "        vertical-align: top;\n",
       "    }\n",
       "\n",
       "    .dataframe thead th {\n",
       "        text-align: right;\n",
       "    }\n",
       "</style>\n",
       "<table border=\"1\" class=\"dataframe\">\n",
       "  <thead>\n",
       "    <tr style=\"text-align: right;\">\n",
       "      <th></th>\n",
       "      <th>0</th>\n",
       "      <th>1</th>\n",
       "      <th>2</th>\n",
       "      <th>3</th>\n",
       "      <th>4</th>\n",
       "      <th>5</th>\n",
       "      <th>6</th>\n",
       "      <th>7</th>\n",
       "      <th>8</th>\n",
       "      <th>9</th>\n",
       "      <th>...</th>\n",
       "      <th>4086</th>\n",
       "      <th>4087</th>\n",
       "      <th>4088</th>\n",
       "      <th>4089</th>\n",
       "      <th>4090</th>\n",
       "      <th>4091</th>\n",
       "      <th>4092</th>\n",
       "      <th>4093</th>\n",
       "      <th>4094</th>\n",
       "      <th>4095</th>\n",
       "    </tr>\n",
       "  </thead>\n",
       "  <tbody>\n",
       "    <tr>\n",
       "      <th>0</th>\n",
       "      <td>64</td>\n",
       "      <td>64</td>\n",
       "      <td>64</td>\n",
       "      <td>64</td>\n",
       "      <td>64</td>\n",
       "      <td>77</td>\n",
       "      <td>77</td>\n",
       "      <td>64</td>\n",
       "      <td>64</td>\n",
       "      <td>77</td>\n",
       "      <td>...</td>\n",
       "      <td>22</td>\n",
       "      <td>36</td>\n",
       "      <td>36</td>\n",
       "      <td>36</td>\n",
       "      <td>47</td>\n",
       "      <td>77</td>\n",
       "      <td>64</td>\n",
       "      <td>61</td>\n",
       "      <td>61</td>\n",
       "      <td>61</td>\n",
       "    </tr>\n",
       "  </tbody>\n",
       "</table>\n",
       "<p>1 rows × 4096 columns</p>\n",
       "</div>"
      ],
      "text/plain": [
       "    0   1   2   3   4   5   6   7   8   9  ...  4086  4087  4088  4089  4090  \\\n",
       "0  64  64  64  64  64  77  77  64  64  77  ...    22    36    36    36    47   \n",
       "\n",
       "   4091  4092  4093  4094  4095  \n",
       "0    77    64    61    61    61  \n",
       "\n",
       "[1 rows x 4096 columns]"
      ]
     },
     "execution_count": 8,
     "metadata": {},
     "output_type": "execute_result"
    }
   ],
   "source": [
    "# Your code here:\n",
    "cats.head(1)"
   ]
  },
  {
   "cell_type": "markdown",
   "metadata": {},
   "source": [
    "Using `matplotlib` we can plot a single cat or a single dog. We do this by reshaping the observation vector back to a squared image and then using the `imshow` function.\n",
    "\n",
    "Plot the image of the first cat and dog of your dataframes\n",
    "\n",
    "_Extra: you can play with `imshow`'s argument `cmap` to see which colors are suitable for visualization_"
   ]
  },
  {
   "cell_type": "code",
   "execution_count": 15,
   "metadata": {},
   "outputs": [],
   "source": [
    "# your code here\n",
    "cat1 = cats.loc[0,:].values.reshape(64,64)\n",
    "dog1 = dogs.loc[0,:].values.reshape(64,64)"
   ]
  },
  {
   "cell_type": "code",
   "execution_count": 24,
   "metadata": {},
   "outputs": [
    {
     "data": {
      "image/png": "[encoded data removed]",
      "text/plain": [
       "<Figure size 432x288 with 1 Axes>"
      ]
     },
     "metadata": {
      "needs_background": "light"
     },
     "output_type": "display_data"
    }
   ],
   "source": [
    "plt.imshow(cat1);"
   ]
  },
  {
   "cell_type": "code",
   "execution_count": 25,
   "metadata": {},
   "outputs": [
    {
     "data": {
      "image/png": "[encoded data removed]",
      "text/plain": [
       "<Figure size 432x288 with 1 Axes>"
      ]
     },
     "metadata": {
      "needs_background": "light"
     },
     "output_type": "display_data"
    }
   ],
   "source": [
    "plt.imshow(dog1);"
   ]
  },
  {
   "cell_type": "markdown",
   "metadata": {},
   "source": [
    "Now concatenate the cats and dogs dataframes. Make sure to put dogs first. This should result in a dataframe containing 160 observations and 4096 dimensions."
   ]
  },
  {
   "cell_type": "code",
   "execution_count": 26,
   "metadata": {},
   "outputs": [],
   "source": [
    "# your code here\n",
    "dogs_cats = pd.concat([dogs, cats], axis=0)"
   ]
  },
  {
   "cell_type": "code",
   "execution_count": 28,
   "metadata": {},
   "outputs": [
    {
     "data": {
      "text/plain": [
       "(160, 4096)"
      ]
     },
     "execution_count": 28,
     "metadata": {},
     "output_type": "execute_result"
    }
   ],
   "source": [
    "dogs_cats.shape"
   ]
  },
  {
   "cell_type": "markdown",
   "metadata": {},
   "source": [
    "Next, we would like to standardize our data. \n",
    "\n",
    "In order to do that, we will need to use the `StandardScaler` class from `sklearn.preprocessing` module.\n",
    "\n",
    "Remember, we need to standardize the information for each pixel (which are the dimensions of our dataset) so that they can be compared in the PCA algorithm. Otherwise, the result would be dominated by the variable with the highest scale. \n"
   ]
  },
  {
   "cell_type": "code",
   "execution_count": 29,
   "metadata": {},
   "outputs": [],
   "source": [
    "# your code here\n",
    "\n",
    "from sklearn.preprocessing import StandardScaler"
   ]
  },
  {
   "cell_type": "code",
   "execution_count": 32,
   "metadata": {},
   "outputs": [],
   "source": [
    "scaler = StandardScaler()"
   ]
  },
  {
   "cell_type": "code",
   "execution_count": 33,
   "metadata": {},
   "outputs": [],
   "source": [
    "scaler.fit(dogs_cats)\n",
    "dogs_cats_std = scaler.transform(dogs_cats)"
   ]
  },
  {
   "cell_type": "code",
   "execution_count": 34,
   "metadata": {},
   "outputs": [
    {
     "data": {
      "text/plain": [
       "(160, 4096)"
      ]
     },
     "execution_count": 34,
     "metadata": {},
     "output_type": "execute_result"
    }
   ],
   "source": [
    "dogs_cats_std.shape"
   ]
  },
  {
   "cell_type": "markdown",
   "metadata": {},
   "source": [
    "## Bonus\n",
    "\n",
    "After standardizing your data, try visualizing your image again. Does the standardization changes your original image?"
   ]
  },
  {
   "cell_type": "code",
   "execution_count": 46,
   "metadata": {
    "scrolled": true
   },
   "outputs": [
    {
     "data": {
      "text/plain": [
       "array([[ 1.62729443,  1.71734864,  1.69367206, ...,  1.37285207,\n",
       "         1.08056695,  1.09351393],\n",
       "       [ 1.73140122,  1.72546768,  1.7292399 , ...,  1.41249774,\n",
       "         1.13196902,  1.1084817 ],\n",
       "       [ 1.72275667,  1.75633331,  1.81373905, ...,  1.34660218,\n",
       "         1.29826494,  1.1202091 ],\n",
       "       ...,\n",
       "       [-1.3543983 , -1.44718831, -1.47833416, ..., -0.09789218,\n",
       "        -0.06895533, -0.13587854],\n",
       "       [-1.3632231 , -1.43141512, -1.43096451, ..., -0.08138348,\n",
       "        -0.05653965, -0.12814121],\n",
       "       [-1.26000582, -1.39547153, -1.43425971, ..., -0.07659167,\n",
       "        -0.12937266, -0.12602345]])"
      ]
     },
     "execution_count": 46,
     "metadata": {},
     "output_type": "execute_result"
    }
   ],
   "source": [
    "dogs_cats_std[0].reshape(64,64)"
   ]
  },
  {
   "cell_type": "code",
   "execution_count": 47,
   "metadata": {},
   "outputs": [
    {
     "data": {
      "text/plain": [
       "<matplotlib.image.AxesImage at 0x12992c910>"
      ]
     },
     "execution_count": 47,
     "metadata": {},
     "output_type": "execute_result"
    },
    {
     "data": {
      "image/png": "[encoded data removed]",
      "text/plain": [
       "<Figure size 432x288 with 1 Axes>"
      ]
     },
     "metadata": {
      "needs_background": "light"
     },
     "output_type": "display_data"
    }
   ],
   "source": [
    "# your code here\n",
    "plt.imshow(dogs_cats_std[0].reshape(64,64))"
   ]
  },
  {
   "cell_type": "code",
   "execution_count": null,
   "metadata": {},
   "outputs": [],
   "source": [
    "# No, standardizing the data, does not change the original image"
   ]
  },
  {
   "cell_type": "markdown",
   "metadata": {},
   "source": [
    "# Challenge 2 - Using PCA\n",
    "\n",
    "Now that we have created a standardized matrix of cats and dogs, we'll find the two most important components in the data. \n",
    "\n",
    "Load the PCA from sklearn (https://scikit-learn.org/stable/modules/generated/sklearn.decomposition.PCA.html) and apply the function to our standarized data. Create a PCA model with two components."
   ]
  },
  {
   "cell_type": "code",
   "execution_count": 48,
   "metadata": {},
   "outputs": [],
   "source": [
    "# Your code here:\n",
    "from sklearn.decomposition import PCA"
   ]
  },
  {
   "cell_type": "code",
   "execution_count": 49,
   "metadata": {},
   "outputs": [],
   "source": [
    "pca = PCA(n_components=2)"
   ]
  },
  {
   "cell_type": "code",
   "execution_count": 50,
   "metadata": {},
   "outputs": [
    {
     "data": {
      "text/plain": [
       "PCA(copy=True, iterated_power='auto', n_components=2, random_state=None,\n",
       "    svd_solver='auto', tol=0.0, whiten=False)"
      ]
     },
     "execution_count": 50,
     "metadata": {},
     "output_type": "execute_result"
    }
   ],
   "source": [
    "pca.fit(dogs_cats_std)"
   ]
  },
  {
   "cell_type": "code",
   "execution_count": 109,
   "metadata": {},
   "outputs": [
    {
     "data": {
      "text/plain": [
       "array([[ 0.00505356,  0.00466584,  0.00348487, ..., -0.01012732,\n",
       "        -0.00970182, -0.00890381],\n",
       "       [-0.02133877, -0.02283377, -0.02383968, ..., -0.00147128,\n",
       "        -0.00343634, -0.00480171]])"
      ]
     },
     "execution_count": 109,
     "metadata": {},
     "output_type": "execute_result"
    }
   ],
   "source": [
    "pca.components_"
   ]
  },
  {
   "cell_type": "code",
   "execution_count": 107,
   "metadata": {
    "scrolled": true
   },
   "outputs": [
    {
     "data": {
      "text/plain": [
       "array([[ 4.55449814e+01, -2.52389397e+01],\n",
       "       [-2.48328587e+01, -4.15716866e+01],\n",
       "       [ 2.74692450e+01,  1.19581867e+01],\n",
       "       [-2.25998546e+01, -9.83936175e+00],\n",
       "       [ 1.93603564e+01, -1.88120255e+01],\n",
       "       [-4.74468664e+00,  5.84374942e+00],\n",
       "       [-2.06260501e+01, -2.06659206e+01],\n",
       "       [-1.29788491e+01, -2.02951055e+01],\n",
       "       [ 1.50642297e+01, -9.17912989e+00],\n",
       "       [ 2.00937359e+01, -3.18338069e+01],\n",
       "       [-4.07943695e-01, -2.65321318e+00],\n",
       "       [ 3.20386915e+01, -4.98633258e+00],\n",
       "       [-3.36053890e+01, -1.17071944e+01],\n",
       "       [ 4.22857896e+01,  7.38833503e+00],\n",
       "       [ 5.59330677e+00, -2.05419464e+01],\n",
       "       [ 1.20688731e+01, -1.10092747e+01],\n",
       "       [ 1.77230667e+01, -1.11085928e+01],\n",
       "       [ 1.47700211e+00, -3.37994262e+01],\n",
       "       [ 2.00562708e+01, -8.98499961e+00],\n",
       "       [ 2.60924376e+01, -1.48999555e+01],\n",
       "       [ 2.09878872e+01,  4.65157525e+00],\n",
       "       [-9.44574137e+00, -7.50716923e+00],\n",
       "       [ 4.20501316e+01, -6.94593256e-01],\n",
       "       [-4.51769749e+01, -2.52214591e+01],\n",
       "       [-2.58030776e+01, -3.47407888e+01],\n",
       "       [-4.17589606e+01, -1.18016315e+01],\n",
       "       [ 4.16831369e+01,  8.45781161e+00],\n",
       "       [ 8.09341823e+00, -2.78421863e-02],\n",
       "       [ 1.18571978e+01, -1.96098680e+01],\n",
       "       [-2.38766123e+01, -1.45359640e+01],\n",
       "       [-6.80805729e+00, -7.77316781e+00],\n",
       "       [-3.26630246e+01, -1.32496288e+01],\n",
       "       [ 2.41970204e+00, -3.04898422e+01],\n",
       "       [-5.57199837e+01, -2.70190761e+01],\n",
       "       [-3.88382036e+01, -2.26125265e+00],\n",
       "       [-1.88022890e+01, -1.83870889e+01],\n",
       "       [ 1.94022697e+01,  1.05983119e+01],\n",
       "       [-4.07353489e+01, -1.11855775e+01],\n",
       "       [-5.34214805e+01, -6.18164699e+00],\n",
       "       [-2.02565644e+01, -3.38638941e+01],\n",
       "       [-1.47710894e+01, -2.03887422e+01],\n",
       "       [ 2.15738737e+01,  1.48479764e+00],\n",
       "       [-6.16642615e+01, -6.92920688e+00],\n",
       "       [-3.46099485e+01, -2.04911838e+01],\n",
       "       [-1.69707147e+01,  3.61589042e+00],\n",
       "       [-8.49060180e+00, -1.94840039e+01],\n",
       "       [-5.40501872e+00, -3.00119286e+01],\n",
       "       [-3.43065826e+01, -1.06191534e+01],\n",
       "       [ 1.08835958e+01, -1.11539368e+01],\n",
       "       [-4.79221794e+01,  2.38753631e+00],\n",
       "       [ 7.16522712e+00, -2.32554648e+01],\n",
       "       [ 6.80187482e+01, -1.39848810e+01],\n",
       "       [ 6.59248277e+01,  9.36353919e+00],\n",
       "       [ 3.71766661e+00,  1.68701789e+01],\n",
       "       [-7.39124230e+00,  1.39425054e+01],\n",
       "       [ 1.98091877e+01,  2.05814120e+01],\n",
       "       [ 1.64148200e+01, -1.72494921e+01],\n",
       "       [ 3.90420737e+00, -8.23684051e+00],\n",
       "       [-7.91964851e+00,  1.04854148e+01],\n",
       "       [ 6.87527463e+00, -1.27949469e+00],\n",
       "       [-1.29811046e+01, -1.12601249e+01],\n",
       "       [ 1.16714780e+01, -1.69463928e+01],\n",
       "       [-2.71142880e+00, -2.83606287e+01],\n",
       "       [ 3.41719358e+01,  2.12993149e+01],\n",
       "       [-6.06165087e+01,  1.38064005e-02],\n",
       "       [-1.12311472e+01, -2.50461766e+01],\n",
       "       [ 3.85956398e+01,  2.62671061e+00],\n",
       "       [-5.53081938e+00,  3.43986390e+01],\n",
       "       [-1.85537095e+01,  1.11758124e+00],\n",
       "       [ 4.53223363e-01, -2.37046261e+01],\n",
       "       [-3.47121723e+01,  2.78683386e+00],\n",
       "       [-3.18957089e+01, -6.30267278e+00],\n",
       "       [ 2.69830461e+00, -2.92934182e+01],\n",
       "       [-4.78385678e+01,  3.66654224e+00],\n",
       "       [ 2.28983086e+01, -7.18764455e-01],\n",
       "       [ 1.54539973e+00, -2.75389311e+01],\n",
       "       [ 1.43333820e+01, -2.79821604e+01],\n",
       "       [-2.47792406e+00,  4.50789209e+00],\n",
       "       [-3.16194286e+01, -5.73763963e+00],\n",
       "       [ 3.31035023e+01, -3.16377845e+01],\n",
       "       [ 6.52548943e+01,  2.97016478e+01],\n",
       "       [-8.34652772e-01,  3.87785832e+01],\n",
       "       [ 6.56103083e+01, -5.27871290e+01],\n",
       "       [ 4.88917964e+01, -1.71002985e+01],\n",
       "       [ 5.05344878e+01,  3.82485639e+01],\n",
       "       [-9.10950497e-01,  2.53107488e+01],\n",
       "       [ 2.67613445e+01,  3.87952109e+01],\n",
       "       [ 2.17168454e+01,  9.86117071e+00],\n",
       "       [-1.36696542e+01,  4.13242758e+01],\n",
       "       [-1.93446365e+01,  2.41138801e+01],\n",
       "       [-1.02984546e+01, -8.49835919e-01],\n",
       "       [-4.35232289e+01, -1.15878406e+01],\n",
       "       [-3.07031753e+01,  4.64827443e+01],\n",
       "       [ 3.23262813e+01,  3.31604487e+01],\n",
       "       [ 7.98537190e+00, -1.88340351e+01],\n",
       "       [ 3.34022667e+00,  1.94269279e+01],\n",
       "       [ 9.89283375e+00, -1.78926026e+01],\n",
       "       [ 2.76965026e+01,  3.27709878e+01],\n",
       "       [ 4.14195791e+01, -2.44113494e+01],\n",
       "       [-4.38032467e+01,  3.32806852e+01],\n",
       "       [ 7.02188041e+01,  6.98871432e+00],\n",
       "       [-2.28977933e+01,  3.56357005e+01],\n",
       "       [-4.24639053e+01,  2.08220798e+01],\n",
       "       [-5.92480015e+01,  1.24809181e+01],\n",
       "       [ 7.03243028e+01, -3.87340018e+01],\n",
       "       [-7.96192394e+00,  8.17403461e-01],\n",
       "       [ 3.10898764e+01,  3.28090174e+01],\n",
       "       [-6.20723420e+01,  1.68565282e+01],\n",
       "       [ 1.78105347e+00, -1.38221518e+01],\n",
       "       [ 6.67199635e+00,  1.69211327e+01],\n",
       "       [ 3.03690255e+01,  9.05563198e+00],\n",
       "       [ 6.44798520e+01,  3.73655002e+00],\n",
       "       [ 2.86422936e+01,  2.66857865e+01],\n",
       "       [ 8.43104802e+01, -5.05263177e+01],\n",
       "       [-7.87747891e+00,  3.24784682e+01],\n",
       "       [-5.89322299e+01, -7.39974477e+00],\n",
       "       [ 3.65943232e+01, -4.06109131e+01],\n",
       "       [-2.69192775e+01,  3.13985743e+01],\n",
       "       [-2.61188932e+01,  8.34119703e+00],\n",
       "       [ 6.93550966e+01,  2.48364612e+01],\n",
       "       [-1.17720450e+01,  5.24285838e+00],\n",
       "       [ 5.17879633e+01,  4.76857787e+01],\n",
       "       [-3.70889565e+01,  3.96302644e+01],\n",
       "       [-5.54627820e+01,  1.00027492e+01],\n",
       "       [-7.15593930e+01,  4.28777925e+01],\n",
       "       [-5.48242360e+01, -2.37532667e+01],\n",
       "       [-5.83219104e+01, -2.57482936e+01],\n",
       "       [-2.20906495e+01, -3.25172707e+01],\n",
       "       [-1.57682697e+01,  4.80486917e+01],\n",
       "       [ 2.06420992e+01,  5.80581153e+00],\n",
       "       [ 5.13505932e+01,  3.71342387e+01],\n",
       "       [ 8.47441410e+00,  1.00488276e+01],\n",
       "       [ 3.56303289e+00,  4.15353752e+01],\n",
       "       [-2.15207497e+01,  3.40154192e+01],\n",
       "       [-2.47071506e+01, -1.19415453e+01],\n",
       "       [ 1.86179321e+00,  2.81638106e+01],\n",
       "       [ 1.75859885e+01,  5.56905139e+01],\n",
       "       [-7.90413951e+00,  1.14483343e+01],\n",
       "       [ 1.34979992e+01, -1.75573133e+01],\n",
       "       [-4.20364641e+01,  5.33339049e+00],\n",
       "       [-1.03074053e+01, -2.35444884e+00],\n",
       "       [ 2.81309757e+01,  1.85459772e+01],\n",
       "       [ 2.75842859e+01,  3.98654661e+01],\n",
       "       [-2.79618689e+01,  2.83687742e+01],\n",
       "       [-1.09978083e+01, -2.37699960e+01],\n",
       "       [ 2.22051833e+00,  8.39831236e+00],\n",
       "       [ 3.17988981e+01, -4.11899279e+01],\n",
       "       [ 3.23313987e+01,  1.09174407e+01],\n",
       "       [-4.05853847e+00, -9.76186509e+00],\n",
       "       [-2.30645416e+01, -3.10497916e+01],\n",
       "       [ 6.47071678e+00, -8.20261265e+00],\n",
       "       [-5.83244512e+00,  2.63484578e+01],\n",
       "       [ 2.15021386e+01,  1.20313712e+01],\n",
       "       [ 1.04234612e+01, -1.90159261e-01],\n",
       "       [ 1.57983992e+01, -5.51454067e+00],\n",
       "       [-5.40205336e-01,  1.52939306e+01],\n",
       "       [-1.67015977e+01,  2.08983954e+01],\n",
       "       [-1.87184273e+01,  2.08673854e+01],\n",
       "       [-1.43264083e+01, -1.43343838e+01],\n",
       "       [ 1.04550095e+01,  8.36671698e+00]])"
      ]
     },
     "execution_count": 107,
     "metadata": {},
     "output_type": "execute_result"
    }
   ],
   "source": [
    "pca.fit_transform(dogs_cats_std)"
   ]
  },
  {
   "cell_type": "code",
   "execution_count": 108,
   "metadata": {
    "scrolled": true
   },
   "outputs": [
    {
     "data": {
      "text/plain": [
       "(160, 2)"
      ]
     },
     "execution_count": 108,
     "metadata": {},
     "output_type": "execute_result"
    }
   ],
   "source": [
    "pca.fit_transform(dogs_cats_std).shape"
   ]
  },
  {
   "cell_type": "markdown",
   "metadata": {},
   "source": [
    "After instantiating the `PCA class` and applying it to the standardized data, the results of your principal component analysis will be stored on the PCA object you've created (from the PCA class). "
   ]
  },
  {
   "cell_type": "markdown",
   "metadata": {},
   "source": [
    "# Challenge 3 - Plotting the Data\n",
    "\n",
    "Now that we have reduced our cats and dogs arrays, we can plot the data in a way that the human eye can understand in 2-D. We can look at this plot to see whether there are differences between the cat and dog images. \n",
    "\n",
    "In the cell below, create a pandas dataframe containing the columns `pc1`, and `pc2` with the results of the first and second components of your results, respectively."
   ]
  },
  {
   "cell_type": "code",
   "execution_count": 117,
   "metadata": {},
   "outputs": [
    {
     "data": {
      "text/html": [
       "<div>\n",
       "<style scoped>\n",
       "    .dataframe tbody tr th:only-of-type {\n",
       "        vertical-align: middle;\n",
       "    }\n",
       "\n",
       "    .dataframe tbody tr th {\n",
       "        vertical-align: top;\n",
       "    }\n",
       "\n",
       "    .dataframe thead th {\n",
       "        text-align: right;\n",
       "    }\n",
       "</style>\n",
       "<table border=\"1\" class=\"dataframe\">\n",
       "  <thead>\n",
       "    <tr style=\"text-align: right;\">\n",
       "      <th></th>\n",
       "      <th>pc1</th>\n",
       "      <th>pc2</th>\n",
       "    </tr>\n",
       "  </thead>\n",
       "  <tbody>\n",
       "    <tr>\n",
       "      <th>0</th>\n",
       "      <td>45.544981</td>\n",
       "      <td>-25.238940</td>\n",
       "    </tr>\n",
       "    <tr>\n",
       "      <th>1</th>\n",
       "      <td>-24.832859</td>\n",
       "      <td>-41.571686</td>\n",
       "    </tr>\n",
       "    <tr>\n",
       "      <th>2</th>\n",
       "      <td>27.469245</td>\n",
       "      <td>11.958187</td>\n",
       "    </tr>\n",
       "    <tr>\n",
       "      <th>3</th>\n",
       "      <td>-22.599855</td>\n",
       "      <td>-9.839362</td>\n",
       "    </tr>\n",
       "    <tr>\n",
       "      <th>4</th>\n",
       "      <td>19.360356</td>\n",
       "      <td>-18.812025</td>\n",
       "    </tr>\n",
       "    <tr>\n",
       "      <th>...</th>\n",
       "      <td>...</td>\n",
       "      <td>...</td>\n",
       "    </tr>\n",
       "    <tr>\n",
       "      <th>155</th>\n",
       "      <td>-0.540205</td>\n",
       "      <td>15.293931</td>\n",
       "    </tr>\n",
       "    <tr>\n",
       "      <th>156</th>\n",
       "      <td>-16.701598</td>\n",
       "      <td>20.898395</td>\n",
       "    </tr>\n",
       "    <tr>\n",
       "      <th>157</th>\n",
       "      <td>-18.718427</td>\n",
       "      <td>20.867385</td>\n",
       "    </tr>\n",
       "    <tr>\n",
       "      <th>158</th>\n",
       "      <td>-14.326408</td>\n",
       "      <td>-14.334384</td>\n",
       "    </tr>\n",
       "    <tr>\n",
       "      <th>159</th>\n",
       "      <td>10.455009</td>\n",
       "      <td>8.366717</td>\n",
       "    </tr>\n",
       "  </tbody>\n",
       "</table>\n",
       "<p>160 rows × 2 columns</p>\n",
       "</div>"
      ],
      "text/plain": [
       "           pc1        pc2\n",
       "0    45.544981 -25.238940\n",
       "1   -24.832859 -41.571686\n",
       "2    27.469245  11.958187\n",
       "3   -22.599855  -9.839362\n",
       "4    19.360356 -18.812025\n",
       "..         ...        ...\n",
       "155  -0.540205  15.293931\n",
       "156 -16.701598  20.898395\n",
       "157 -18.718427  20.867385\n",
       "158 -14.326408 -14.334384\n",
       "159  10.455009   8.366717\n",
       "\n",
       "[160 rows x 2 columns]"
      ]
     },
     "execution_count": 117,
     "metadata": {},
     "output_type": "execute_result"
    }
   ],
   "source": [
    "pc1_2 = pd.DataFrame(pca.fit_transform(dogs_cats_std),columns=['pc1','pc2'])\n",
    "pc1_2"
   ]
  },
  {
   "cell_type": "markdown",
   "metadata": {},
   "source": [
    "Create a labels list. This list will be of size 160. The first 80 elements in the list will be the word `blue`, and the last 80 elements will be `red`. This will ensure that all dog observations will be colored in blue and all cats will be colored in red. Name this list `colors`."
   ]
  },
  {
   "cell_type": "code",
   "execution_count": 63,
   "metadata": {},
   "outputs": [],
   "source": [
    "# Your code here:\n",
    "\n",
    "colors=['blue' if i <80 else 'red' for i in range(160) ]"
   ]
  },
  {
   "cell_type": "code",
   "execution_count": 67,
   "metadata": {},
   "outputs": [
    {
     "data": {
      "text/plain": [
       "(80, 80)"
      ]
     },
     "execution_count": 67,
     "metadata": {},
     "output_type": "execute_result"
    }
   ],
   "source": [
    "colors.count('blue'), colors.count('red')"
   ]
  },
  {
   "cell_type": "markdown",
   "metadata": {},
   "source": [
    "Create a scatter plot of `pc1` and `pc2` below. Use the `colors` list above to color the observations by setting `c=colors`."
   ]
  },
  {
   "cell_type": "code",
   "execution_count": 120,
   "metadata": {},
   "outputs": [
    {
     "data": {
      "image/png": "[encoded data removed]",
      "text/plain": [
       "<Figure size 432x288 with 1 Axes>"
      ]
     },
     "metadata": {
      "needs_background": "light"
     },
     "output_type": "display_data"
    }
   ],
   "source": [
    "plt.scatter(pc1_2.pc1, pc1_2.pc2, c= colors)\n",
    "plt.xlabel('pc1')\n",
    "plt.ylabel('pc2');"
   ]
  },
  {
   "cell_type": "markdown",
   "metadata": {},
   "source": [
    "Do you see a clear separation between cats and dogs? Write your answer below."
   ]
  },
  {
   "cell_type": "code",
   "execution_count": 18,
   "metadata": {},
   "outputs": [],
   "source": [
    "# Your conclusions here:\n"
   ]
  },
  {
   "cell_type": "code",
   "execution_count": null,
   "metadata": {},
   "outputs": [],
   "source": []
  },
  {
   "cell_type": "markdown",
   "metadata": {},
   "source": [
    "# Evaluate the results"
   ]
  },
  {
   "cell_type": "markdown",
   "metadata": {},
   "source": [
    "Calculate how much explained variance do the results of your PCA has lead to.  "
   ]
  },
  {
   "cell_type": "code",
   "execution_count": 123,
   "metadata": {},
   "outputs": [
    {
     "data": {
      "text/plain": [
       "0.38588794554202277"
      ]
     },
     "execution_count": 123,
     "metadata": {},
     "output_type": "execute_result"
    }
   ],
   "source": [
    "# Your code here:\n",
    "pca.explained_variance_ratio_.sum()"
   ]
  },
  {
   "cell_type": "markdown",
   "metadata": {},
   "source": [
    "Explain with your own words what those values represent."
   ]
  },
  {
   "cell_type": "code",
   "execution_count": 124,
   "metadata": {},
   "outputs": [],
   "source": [
    "# your answer here:\n",
    "# they explain 38.6% of the original data"
   ]
  },
  {
   "cell_type": "markdown",
   "metadata": {},
   "source": [
    "# Bonus Challenge\n",
    "\n",
    "\n",
    "Recreate your PCA using 20 components. You'll not be able to visualize the results this time, but the idea here is to plot a cumulative sum of your explained variance results. Follow the steps as before (i.e, create a dataframe containing the 20 components and so on)\n",
    "\n",
    "\n",
    "What do you observe? How much of the information is retained after going from 4096 to 20 dimensions?"
   ]
  },
  {
   "cell_type": "code",
   "execution_count": 125,
   "metadata": {},
   "outputs": [],
   "source": [
    "new_pca = PCA(n_components=20)"
   ]
  },
  {
   "cell_type": "code",
   "execution_count": 126,
   "metadata": {},
   "outputs": [
    {
     "data": {
      "text/plain": [
       "PCA(copy=True, iterated_power='auto', n_components=20, random_state=None,\n",
       "    svd_solver='auto', tol=0.0, whiten=False)"
      ]
     },
     "execution_count": 126,
     "metadata": {},
     "output_type": "execute_result"
    }
   ],
   "source": [
    "new_pca.fit(dogs_cats_std)"
   ]
  },
  {
   "cell_type": "code",
   "execution_count": 128,
   "metadata": {},
   "outputs": [
    {
     "data": {
      "text/plain": [
       "(160, 20)"
      ]
     },
     "execution_count": 128,
     "metadata": {},
     "output_type": "execute_result"
    }
   ],
   "source": [
    "new_pca.fit_transform(dogs_cats_std).shape"
   ]
  },
  {
   "cell_type": "code",
   "execution_count": 130,
   "metadata": {},
   "outputs": [
    {
     "data": {
      "text/plain": [
       "0.7807192036990795"
      ]
     },
     "execution_count": 130,
     "metadata": {},
     "output_type": "execute_result"
    }
   ],
   "source": [
    "new_pca.explained_variance_ratio_.sum()"
   ]
  },
  {
   "cell_type": "code",
   "execution_count": 131,
   "metadata": {},
   "outputs": [],
   "source": [
    "# Around 78% of the information was retained after foing from 4096 to 20 dimensions"
   ]
  },
  {
   "cell_type": "markdown",
   "metadata": {},
   "source": [
    "# Bonus Challenge 2"
   ]
  },
  {
   "cell_type": "markdown",
   "metadata": {},
   "source": [
    "Use the `.inverse_transform()` method to the dataframe with the 20 components and store your results. The inverse transform takes the results of the PCA (the reduced dimension space) and take it back to the original space (with 4096 dimensions). This will be helpful for you to visualize how the PCA affected the original data."
   ]
  },
  {
   "cell_type": "code",
   "execution_count": 140,
   "metadata": {},
   "outputs": [],
   "source": [
    "# your code\n",
    "new_df = new_pca.inverse_transform(new_pca.fit_transform(dogs_cats_std))"
   ]
  },
  {
   "cell_type": "code",
   "execution_count": 141,
   "metadata": {},
   "outputs": [
    {
     "data": {
      "text/plain": [
       "(160, 4096)"
      ]
     },
     "execution_count": 141,
     "metadata": {},
     "output_type": "execute_result"
    }
   ],
   "source": [
    "new_df.shape"
   ]
  },
  {
   "cell_type": "code",
   "execution_count": 143,
   "metadata": {},
   "outputs": [
    {
     "data": {
      "text/plain": [
       "array([1.58898914, 1.67524935, 1.67009783, ..., 0.29532214, 0.36856895,\n",
       "       0.50804141])"
      ]
     },
     "execution_count": 143,
     "metadata": {},
     "output_type": "execute_result"
    }
   ],
   "source": [
    "new_df[0]"
   ]
  },
  {
   "cell_type": "markdown",
   "metadata": {},
   "source": [
    "Use the `imshow` to plot the first row of the `inverse_transform` of the results. Compare the results with the original image."
   ]
  },
  {
   "cell_type": "code",
   "execution_count": 144,
   "metadata": {
    "scrolled": true
   },
   "outputs": [
    {
     "data": {
      "text/plain": [
       "<matplotlib.image.AxesImage at 0x12e7f1fa0>"
      ]
     },
     "execution_count": 144,
     "metadata": {},
     "output_type": "execute_result"
    },
    {
     "data": {
      "image/png": "[encoded data removed]",
      "text/plain": [
       "<Figure size 432x288 with 1 Axes>"
      ]
     },
     "metadata": {
      "needs_background": "light"
     },
     "output_type": "display_data"
    }
   ],
   "source": [
    "# your code\n",
    "\n",
    "plt.imshow(new_df[0].reshape(64,64))"
   ]
  },
  {
   "cell_type": "markdown",
   "metadata": {},
   "source": [
    "Change the value of the components above to have a feeling of the information retained (try 100 components)."
   ]
  },
  {
   "cell_type": "code",
   "execution_count": 155,
   "metadata": {},
   "outputs": [
    {
     "data": {
      "text/plain": [
       "array([[ 45.54498138, -25.23893945, -11.78120282, ...,   0.62378589,\n",
       "          0.21903102,  -0.90727616],\n",
       "       [-24.83285872, -41.57168642,  -1.97311081, ...,  -1.73145319,\n",
       "          1.74799221,   2.31423335],\n",
       "       [ 27.46924504,  11.95818659,  13.89361938, ...,   2.3312853 ,\n",
       "          2.21082102,   0.58438585],\n",
       "       ...,\n",
       "       [-18.71842729,  20.86738533,   0.64178819, ...,   0.60242623,\n",
       "          2.22502538,   1.65959181],\n",
       "       [-14.32640826, -14.33438404, -12.78678336, ...,   2.29395508,\n",
       "         -1.77862823,  -4.74684408],\n",
       "       [ 10.45500949,   8.36671695, -10.04036422, ...,  -3.63478925,\n",
       "          6.68982883,  -1.75015655]])"
      ]
     },
     "execution_count": 155,
     "metadata": {},
     "output_type": "execute_result"
    }
   ],
   "source": [
    "final_pca = PCA(n_components=100)\n",
    "final_pca.fit(dogs_cats_std)\n",
    "final_pca.fit_transform(dogs_cats_std)"
   ]
  },
  {
   "cell_type": "code",
   "execution_count": 156,
   "metadata": {},
   "outputs": [
    {
     "data": {
      "text/plain": [
       "0.9712552654726847"
      ]
     },
     "execution_count": 156,
     "metadata": {},
     "output_type": "execute_result"
    }
   ],
   "source": [
    "final_pca.explained_variance_ratio_.sum()"
   ]
  },
  {
   "cell_type": "code",
   "execution_count": 157,
   "metadata": {},
   "outputs": [],
   "source": [
    "final_df = final_pca.inverse_transform(final_pca.fit_transform(dogs_cats_std))"
   ]
  },
  {
   "cell_type": "code",
   "execution_count": 165,
   "metadata": {},
   "outputs": [
    {
     "data": {
      "text/plain": [
       "<matplotlib.image.AxesImage at 0x1306a1f10>"
      ]
     },
     "execution_count": 165,
     "metadata": {},
     "output_type": "execute_result"
    },
    {
     "data": {
      "image/png": "[encoded data removed]",
      "text/plain": [
       "<Figure size 432x288 with 1 Axes>"
      ]
     },
     "metadata": {
      "needs_background": "light"
     },
     "output_type": "display_data"
    }
   ],
   "source": [
    "plt.imshow(final_df[0].reshape(64,64))"
   ]
  },
  {
   "cell_type": "markdown",
   "metadata": {},
   "source": [
    "The results above demonstrate the power of the PCA analysis. It takes the best combination of your columns in such a way that it preserves the most of its information. So, although you lose some of the information, you effectively reduce the number of dimensions on your dataset. This can be important both for visualization purposes as well as for understanding the importance of each feature."
   ]
  }
 ],
 "metadata": {
  "kernelspec": {
   "display_name": "Python 3",
   "language": "python",
   "name": "python3"
  },
  "language_info": {
   "codemirror_mode": {
    "name": "ipython",
    "version": 3
   },
   "file_extension": ".py",
   "mimetype": "text/x-python",
   "name": "python",
   "nbconvert_exporter": "python",
   "pygments_lexer": "ipython3",
   "version": "3.8.2"
  },
  "toc": {
   "base_numbering": 1,
   "nav_menu": {},
   "number_sections": true,
   "sideBar": true,
   "skip_h1_title": false,
   "title_cell": "Table of Contents",
   "title_sidebar": "Contents",
   "toc_cell": false,
   "toc_position": {},
   "toc_section_display": true,
   "toc_window_display": false
  }
 },
 "nbformat": 4,
 "nbformat_minor": 2
}
