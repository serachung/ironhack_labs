{
 "cells": [
  {
   "cell_type": "markdown",
   "metadata": {
    "colab_type": "text",
    "id": "-we_8UVrwCc1"
   },
   "source": [
    "# Introduction to NumPy\n",
    "\n",
    "\n",
    "#### 1. Import NumPy under the name np."
   ]
  },
  {
   "cell_type": "code",
   "execution_count": 98,
   "metadata": {
    "colab": {},
    "colab_type": "code",
    "id": "3fRJ8mtHwCc5"
   },
   "outputs": [],
   "source": [
    "# your code here\n",
    "import numpy as np"
   ]
  },
  {
   "cell_type": "markdown",
   "metadata": {
    "colab_type": "text",
    "id": "8Xtbl_EvwCc9"
   },
   "source": [
    "#### 2. Print your NumPy version."
   ]
  },
  {
   "cell_type": "code",
   "execution_count": 99,
   "metadata": {
    "colab": {},
    "colab_type": "code",
    "id": "BlegxuJVwCc-"
   },
   "outputs": [
    {
     "data": {
      "text/plain": [
       "'1.18.1'"
      ]
     },
     "execution_count": 99,
     "metadata": {},
     "output_type": "execute_result"
    }
   ],
   "source": [
    "# your code here\n",
    "np.__version__"
   ]
  },
  {
   "cell_type": "markdown",
   "metadata": {
    "colab_type": "text",
    "id": "FpKgyatowCdC"
   },
   "source": [
    "#### 3. Generate a 2x3x5 3-dimensional array with random values. Assign the array to variable *a*.\n",
    "**Challenge**: there are at least three easy ways that use numpy to generate random arrays. How many ways can you find?"
   ]
  },
  {
   "cell_type": "code",
   "execution_count": 100,
   "metadata": {
    "colab": {},
    "colab_type": "code",
    "id": "609Z4Zn3wCdD"
   },
   "outputs": [
    {
     "data": {
      "text/plain": [
       "array([[[0.75700118, 0.62672855, 0.01030842, 0.28377787, 0.23681958],\n",
       "        [0.04866373, 0.15225455, 0.76071495, 0.03129492, 0.43470279],\n",
       "        [0.67043797, 0.06137322, 0.11322238, 0.61689771, 0.4121082 ]],\n",
       "\n",
       "       [[0.22040412, 0.80519671, 0.8789575 , 0.91614595, 0.56361389],\n",
       "        [0.80480224, 0.29317488, 0.56048282, 0.40924567, 0.24969266],\n",
       "        [0.21634936, 0.09596273, 0.07519581, 0.25086296, 0.02447239]]])"
      ]
     },
     "execution_count": 100,
     "metadata": {},
     "output_type": "execute_result"
    }
   ],
   "source": [
    "# Method 1\n",
    "a = np.random.random((2,3,5))\n",
    "a"
   ]
  },
  {
   "cell_type": "code",
   "execution_count": 101,
   "metadata": {
    "colab": {},
    "colab_type": "code",
    "id": "q6dKJNO4wCdH",
    "scrolled": true
   },
   "outputs": [
    {
     "data": {
      "text/plain": [
       "array([[[0.42449305, 0.1886872 , 0.48521485, 0.42728963, 0.72096691],\n",
       "        [0.85914094, 0.67042157, 0.7260431 , 0.5946011 , 0.78424786],\n",
       "        [0.06666041, 0.547339  , 0.77862461, 0.77192037, 0.86398334]],\n",
       "\n",
       "       [[0.44558565, 0.93908023, 0.3472063 , 0.22532008, 0.34722895],\n",
       "        [0.54993644, 0.31553355, 0.8839245 , 0.56183942, 0.66422743],\n",
       "        [0.72875406, 0.03383608, 0.64062765, 0.73549264, 0.71730433]]])"
      ]
     },
     "execution_count": 101,
     "metadata": {},
     "output_type": "execute_result"
    }
   ],
   "source": [
    "# Method 2\n",
    "a = np.random.rand(2,3,5)\n",
    "a"
   ]
  },
  {
   "cell_type": "code",
   "execution_count": 5,
   "metadata": {
    "colab": {},
    "colab_type": "code",
    "id": "xILn36GWwCdK",
    "scrolled": true
   },
   "outputs": [
    {
     "data": {
      "text/plain": [
       "array([[[3, 2, 7, 1, 1],\n",
       "        [1, 4, 4, 7, 1],\n",
       "        [8, 1, 0, 5, 3]],\n",
       "\n",
       "       [[7, 8, 6, 3, 5],\n",
       "        [2, 3, 1, 2, 2],\n",
       "        [6, 2, 6, 7, 8]]])"
      ]
     },
     "execution_count": 5,
     "metadata": {},
     "output_type": "execute_result"
    }
   ],
   "source": [
    "# Method 3\n",
    "a = np.random.randint(0,9,(2,3,5))\n",
    "a"
   ]
  },
  {
   "cell_type": "markdown",
   "metadata": {
    "colab_type": "text",
    "id": "aMHxBSCDwCdP"
   },
   "source": [
    "#### 4. Print *a*.\n"
   ]
  },
  {
   "cell_type": "code",
   "execution_count": 102,
   "metadata": {
    "colab": {},
    "colab_type": "code",
    "id": "N_NYL3pHwCdQ",
    "scrolled": false
   },
   "outputs": [
    {
     "name": "stdout",
     "output_type": "stream",
     "text": [
      "[[[0.42449305 0.1886872  0.48521485 0.42728963 0.72096691]\n",
      "  [0.85914094 0.67042157 0.7260431  0.5946011  0.78424786]\n",
      "  [0.06666041 0.547339   0.77862461 0.77192037 0.86398334]]\n",
      "\n",
      " [[0.44558565 0.93908023 0.3472063  0.22532008 0.34722895]\n",
      "  [0.54993644 0.31553355 0.8839245  0.56183942 0.66422743]\n",
      "  [0.72875406 0.03383608 0.64062765 0.73549264 0.71730433]]]\n"
     ]
    }
   ],
   "source": [
    "# your code here\n",
    "print(a)"
   ]
  },
  {
   "cell_type": "markdown",
   "metadata": {
    "colab_type": "text",
    "id": "kws-mAPSwCdU"
   },
   "source": [
    "#### 5. Create a 5x2x3 3-dimensional array with all values equaling 1. Assign the array to variable *b*."
   ]
  },
  {
   "cell_type": "code",
   "execution_count": 103,
   "metadata": {
    "colab": {},
    "colab_type": "code",
    "id": "anCmbtrtwCdW"
   },
   "outputs": [],
   "source": [
    "# your code here\n",
    "b = np.ones((5,2,3))"
   ]
  },
  {
   "cell_type": "markdown",
   "metadata": {
    "colab_type": "text",
    "id": "FsYdwPxPwCdZ"
   },
   "source": [
    "#### 6. Print *b*.\n"
   ]
  },
  {
   "cell_type": "code",
   "execution_count": 104,
   "metadata": {
    "colab": {},
    "colab_type": "code",
    "id": "Y3rcPurpwCda",
    "scrolled": true
   },
   "outputs": [
    {
     "name": "stdout",
     "output_type": "stream",
     "text": [
      "[[[1. 1. 1.]\n",
      "  [1. 1. 1.]]\n",
      "\n",
      " [[1. 1. 1.]\n",
      "  [1. 1. 1.]]\n",
      "\n",
      " [[1. 1. 1.]\n",
      "  [1. 1. 1.]]\n",
      "\n",
      " [[1. 1. 1.]\n",
      "  [1. 1. 1.]]\n",
      "\n",
      " [[1. 1. 1.]\n",
      "  [1. 1. 1.]]]\n"
     ]
    }
   ],
   "source": [
    "# your code here\n",
    "print(b)"
   ]
  },
  {
   "cell_type": "markdown",
   "metadata": {
    "colab_type": "text",
    "id": "hGblsnk5wCde"
   },
   "source": [
    "#### 7. Do *a* and *b* have the same size? How do you prove that in Python code?"
   ]
  },
  {
   "cell_type": "code",
   "execution_count": 105,
   "metadata": {
    "colab": {},
    "colab_type": "code",
    "id": "YmKeIpGWwCdf"
   },
   "outputs": [
    {
     "data": {
      "text/plain": [
       "False"
      ]
     },
     "execution_count": 105,
     "metadata": {},
     "output_type": "execute_result"
    }
   ],
   "source": [
    "# your code here\n",
    "np.shape(a) == np.shape(b)"
   ]
  },
  {
   "cell_type": "markdown",
   "metadata": {
    "colab_type": "text",
    "id": "o9UzXk9IwCdi"
   },
   "source": [
    "#### 8. Are you able to add *a* and *b*? Why or why not?\n"
   ]
  },
  {
   "cell_type": "code",
   "execution_count": 109,
   "metadata": {
    "colab": {},
    "colab_type": "code",
    "id": "drdAyKPywCdj"
   },
   "outputs": [
    {
     "name": "stdout",
     "output_type": "stream",
     "text": [
      "deu erro\n"
     ]
    }
   ],
   "source": [
    "# your answer here\n",
    "## It's not possible to add and b because they have different shapes.\n",
    "try:\n",
    "    a + b\n",
    "except:\n",
    "    print('deu erro')"
   ]
  },
  {
   "cell_type": "markdown",
   "metadata": {
    "colab_type": "text",
    "id": "DTsSOpvYwCdm"
   },
   "source": [
    "#### 9. Reshape *b* so that it has the same structure of *a* (i.e. become a 2x3x5 array). Assign the reshaped array to variable *c*."
   ]
  },
  {
   "cell_type": "code",
   "execution_count": 110,
   "metadata": {
    "colab": {},
    "colab_type": "code",
    "id": "DjLlRJUtwCdn"
   },
   "outputs": [],
   "source": [
    "# your code here\n",
    "c = np.reshape(b, (2,3,5))"
   ]
  },
  {
   "cell_type": "markdown",
   "metadata": {
    "colab_type": "text",
    "id": "fvHocQ9EwCdq"
   },
   "source": [
    "#### 10. Try to add *a* and *c*. Now it should work. Assign the sum to variable *d*. But why does it work now?"
   ]
  },
  {
   "cell_type": "code",
   "execution_count": 111,
   "metadata": {
    "colab": {},
    "colab_type": "code",
    "id": "Ohf5yh5ZwCdr"
   },
   "outputs": [],
   "source": [
    "# your code/answer here\n",
    "\n",
    "## ANSWER: it works because the shape is the same now, and it sums up element by element (by pairs)\n",
    "d = a + c"
   ]
  },
  {
   "cell_type": "markdown",
   "metadata": {
    "colab_type": "text",
    "id": "DuQBMzQBwCdw"
   },
   "source": [
    "#### 11. Print *a* and *d*. Notice the difference and relation of the two array in terms of the values? Explain."
   ]
  },
  {
   "cell_type": "code",
   "execution_count": 112,
   "metadata": {
    "colab": {},
    "colab_type": "code",
    "id": "gEuh7iv1wCdx"
   },
   "outputs": [
    {
     "name": "stdout",
     "output_type": "stream",
     "text": [
      "[[[0.42449305 0.1886872  0.48521485 0.42728963 0.72096691]\n",
      "  [0.85914094 0.67042157 0.7260431  0.5946011  0.78424786]\n",
      "  [0.06666041 0.547339   0.77862461 0.77192037 0.86398334]]\n",
      "\n",
      " [[0.44558565 0.93908023 0.3472063  0.22532008 0.34722895]\n",
      "  [0.54993644 0.31553355 0.8839245  0.56183942 0.66422743]\n",
      "  [0.72875406 0.03383608 0.64062765 0.73549264 0.71730433]]]\n",
      "-----------------\n",
      "[[[1.42449305 1.1886872  1.48521485 1.42728963 1.72096691]\n",
      "  [1.85914094 1.67042157 1.7260431  1.5946011  1.78424786]\n",
      "  [1.06666041 1.547339   1.77862461 1.77192037 1.86398334]]\n",
      "\n",
      " [[1.44558565 1.93908023 1.3472063  1.22532008 1.34722895]\n",
      "  [1.54993644 1.31553355 1.8839245  1.56183942 1.66422743]\n",
      "  [1.72875406 1.03383608 1.64062765 1.73549264 1.71730433]]]\n"
     ]
    }
   ],
   "source": [
    "# your code/answer here\n",
    "print(a)\n",
    "print ('-----------------')\n",
    "print(d)\n",
    "\n",
    "### ANSWER: d has all the elements of a summed by 1"
   ]
  },
  {
   "cell_type": "markdown",
   "metadata": {
    "colab_type": "text",
    "id": "Ka1popJ3wCd0"
   },
   "source": [
    "#### 12. Multiply *a* and *c*. Assign the result to *e*."
   ]
  },
  {
   "cell_type": "code",
   "execution_count": 113,
   "metadata": {
    "colab": {},
    "colab_type": "code",
    "id": "hLeCMiSEwCd1"
   },
   "outputs": [
    {
     "data": {
      "text/plain": [
       "array([[[0.42449305, 0.1886872 , 0.48521485, 0.42728963, 0.72096691],\n",
       "        [0.85914094, 0.67042157, 0.7260431 , 0.5946011 , 0.78424786],\n",
       "        [0.06666041, 0.547339  , 0.77862461, 0.77192037, 0.86398334]],\n",
       "\n",
       "       [[0.44558565, 0.93908023, 0.3472063 , 0.22532008, 0.34722895],\n",
       "        [0.54993644, 0.31553355, 0.8839245 , 0.56183942, 0.66422743],\n",
       "        [0.72875406, 0.03383608, 0.64062765, 0.73549264, 0.71730433]]])"
      ]
     },
     "execution_count": 113,
     "metadata": {},
     "output_type": "execute_result"
    }
   ],
   "source": [
    "# your code here\n",
    "e = a * c\n",
    "e"
   ]
  },
  {
   "cell_type": "markdown",
   "metadata": {
    "colab_type": "text",
    "id": "1QCqP6lMwCd5"
   },
   "source": [
    "#### 13. Does *e* equal to *a*? Why or why not?\n"
   ]
  },
  {
   "cell_type": "code",
   "execution_count": 114,
   "metadata": {
    "colab": {},
    "colab_type": "code",
    "id": "oxoat0cbwCd6"
   },
   "outputs": [
    {
     "data": {
      "text/plain": [
       "array([[[ True,  True,  True,  True,  True],\n",
       "        [ True,  True,  True,  True,  True],\n",
       "        [ True,  True,  True,  True,  True]],\n",
       "\n",
       "       [[ True,  True,  True,  True,  True],\n",
       "        [ True,  True,  True,  True,  True],\n",
       "        [ True,  True,  True,  True,  True]]])"
      ]
     },
     "execution_count": 114,
     "metadata": {},
     "output_type": "execute_result"
    }
   ],
   "source": [
    "# your code/answer here\n",
    "## ANSWER: 'e' equals to 'a' because 'e' is a multiplied by 1 in each of its elements\n",
    "\n",
    "e == a\n"
   ]
  },
  {
   "cell_type": "markdown",
   "metadata": {
    "colab_type": "text",
    "id": "b7ceZMcswCd9"
   },
   "source": [
    "#### 14. Identify the max, min, and mean values in *d*. Assign those values to variables *d_max*, *d_min* and *d_mean*."
   ]
  },
  {
   "cell_type": "code",
   "execution_count": 115,
   "metadata": {
    "colab": {},
    "colab_type": "code",
    "id": "ljd7J4ucwCd-"
   },
   "outputs": [
    {
     "name": "stdout",
     "output_type": "stream",
     "text": [
      "1.9390802338043733 1.0338360799712423 1.5681843760503498\n"
     ]
    }
   ],
   "source": [
    "# your code here\n",
    "d_max = d.max()\n",
    "d_min = d.min()\n",
    "d_mean = d.mean()\n",
    "\n",
    "print(d_max, d_min, d_mean)"
   ]
  },
  {
   "cell_type": "markdown",
   "metadata": {
    "colab_type": "text",
    "id": "bBmZ1bg3wCeC"
   },
   "source": [
    "#### 15. Now we want to label the values in *d*. First create an empty array *f* with the same shape (i.e. 2x3x5) as *d* using `np.empty`.\n"
   ]
  },
  {
   "cell_type": "code",
   "execution_count": 116,
   "metadata": {
    "colab": {},
    "colab_type": "code",
    "id": "GVU7znV7wCeD",
    "scrolled": false
   },
   "outputs": [],
   "source": [
    "# your code here\n",
    "f = np.empty((d.shape))"
   ]
  },
  {
   "cell_type": "code",
   "execution_count": 117,
   "metadata": {},
   "outputs": [
    {
     "data": {
      "text/plain": [
       "array([[[0.42449305, 0.1886872 , 0.48521485, 0.42728963, 0.72096691],\n",
       "        [0.85914094, 0.67042157, 0.7260431 , 0.5946011 , 0.78424786],\n",
       "        [0.06666041, 0.547339  , 0.77862461, 0.77192037, 0.86398334]],\n",
       "\n",
       "       [[0.44558565, 0.93908023, 0.3472063 , 0.22532008, 0.34722895],\n",
       "        [0.54993644, 0.31553355, 0.8839245 , 0.56183942, 0.66422743],\n",
       "        [0.72875406, 0.03383608, 0.64062765, 0.73549264, 0.71730433]]])"
      ]
     },
     "execution_count": 117,
     "metadata": {},
     "output_type": "execute_result"
    }
   ],
   "source": [
    "f"
   ]
  },
  {
   "cell_type": "markdown",
   "metadata": {
    "colab_type": "text",
    "id": "cwZMaPTawCeG"
   },
   "source": [
    "#### 16. Populate the values in *f*. \n",
    "\n",
    "For each value in *d*, if it's larger than *d_min* but smaller than *d_mean*, assign 25 to the corresponding value in *f*. If a value in *d* is larger than *d_mean* but smaller than *d_max*, assign 75 to the corresponding value in *f*. If a value equals to *d_mean*, assign 50 to the corresponding value in *f*. Assign 0 to the corresponding value(s) in *f* for *d_min* in *d*. Assign 100 to the corresponding value(s) in *f* for *d_max* in *d*. In the end, f should have only the following values: 0, 25, 50, 75, and 100.\n",
    "\n",
    "**Note**: you don't have to use Numpy in this question."
   ]
  },
  {
   "cell_type": "code",
   "execution_count": 118,
   "metadata": {},
   "outputs": [
    {
     "name": "stdout",
     "output_type": "stream",
     "text": [
      "(2, 3, 5)\n"
     ]
    },
    {
     "data": {
      "text/plain": [
       "array([[[1.42449305, 1.1886872 , 1.48521485, 1.42728963, 1.72096691],\n",
       "        [1.85914094, 1.67042157, 1.7260431 , 1.5946011 , 1.78424786],\n",
       "        [1.06666041, 1.547339  , 1.77862461, 1.77192037, 1.86398334]],\n",
       "\n",
       "       [[1.44558565, 1.93908023, 1.3472063 , 1.22532008, 1.34722895],\n",
       "        [1.54993644, 1.31553355, 1.8839245 , 1.56183942, 1.66422743],\n",
       "        [1.72875406, 1.03383608, 1.64062765, 1.73549264, 1.71730433]]])"
      ]
     },
     "execution_count": 118,
     "metadata": {},
     "output_type": "execute_result"
    }
   ],
   "source": [
    "print(d.shape)\n",
    "d"
   ]
  },
  {
   "cell_type": "code",
   "execution_count": 119,
   "metadata": {},
   "outputs": [
    {
     "data": {
      "text/plain": [
       "2"
      ]
     },
     "execution_count": 119,
     "metadata": {},
     "output_type": "execute_result"
    }
   ],
   "source": [
    "f.shape[0]"
   ]
  },
  {
   "cell_type": "code",
   "execution_count": 120,
   "metadata": {
    "colab": {},
    "colab_type": "code",
    "id": "He3bA8_vwCeI",
    "scrolled": false
   },
   "outputs": [
    {
     "name": "stdout",
     "output_type": "stream",
     "text": [
      "[[[ 25.  25.  25.  25.  75.]\n",
      "  [ 75.  75.  75.  75.  75.]\n",
      "  [ 25.  25.  75.  75.  75.]]\n",
      "\n",
      " [[ 25. 100.  25.  25.  25.]\n",
      "  [ 25.  25.  75.  25.  75.]\n",
      "  [ 75.   0.  75.  75.  75.]]]\n"
     ]
    }
   ],
   "source": [
    "# your code here\n",
    "\n",
    "group = d.shape[0]\n",
    "row = d.shape[1]\n",
    "item = d.shape[2]\n",
    "\n",
    "for i_group in range (group):\n",
    "    for i_row in range (row):\n",
    "        for i_item in range (item):\n",
    "\n",
    "            if d[i_group, i_row, i_item] > d_min and d[i_group, i_row, i_item] < d_mean:\n",
    "                f[i_group, i_row, i_item] = 25\n",
    "\n",
    "            elif  d[i_group, i_row, i_item] > d_mean and  d[i_group, i_row, i_item] < d_max:\n",
    "                f[i_group, i_row, i_item] = 75          \n",
    "                \n",
    "            elif  d[i_group, i_row, i_item] == d_mean:\n",
    "                f[i_group, i_row, i_item] = 50\n",
    "                \n",
    "            elif  d[i_group, i_row, i_item] == d_min:\n",
    "                f[i_group, i_row, i_item] = 0\n",
    "                \n",
    "            elif  d[i_group, i_row, i_item] == d_max:\n",
    "                f[i_group, i_row, i_item] = 100\n",
    "                \n",
    "print(f)"
   ]
  },
  {
   "cell_type": "markdown",
   "metadata": {
    "colab_type": "text",
    "id": "DtXatajMwCeM"
   },
   "source": [
    "#### 17. Print *d* and *f*. Do you have your expected *f*?\n",
    "For instance, if your *d* is:\n",
    "```python\n",
    "[[[1.85836099, 1.67064465, 1.62576044, 1.40243961, 1.88454931],\n",
    "[1.75354326, 1.69403643, 1.36729252, 1.61415071, 1.12104981],\n",
    "[1.72201435, 1.1862918 , 1.87078449, 1.7726778 , 1.88180042]],\n",
    "[[1.44747908, 1.31673383, 1.02000951, 1.52218947, 1.97066381],\n",
    "[1.79129243, 1.74983003, 1.96028037, 1.85166831, 1.65450881],\n",
    "[1.18068344, 1.9587381 , 1.00656599, 1.93402165, 1.73514584]]]\n",
    "```\n",
    "Your *f* should be:\n",
    "```python\n",
    "[[[ 75.,  75.,  75.,  25.,  75.],\n",
    "[ 75.,  75.,  25.,  25.,  25.],\n",
    "[ 75.,  25.,  75.,  75.,  75.]],\n",
    "[[ 25.,  25.,  25.,  25., 100.],\n",
    "[ 75.,  75.,  75.,  75.,  75.],\n",
    "[ 25.,  75.,   0.,  75.,  75.]]]\n",
    "```"
   ]
  },
  {
   "cell_type": "code",
   "execution_count": 123,
   "metadata": {
    "colab": {},
    "colab_type": "code",
    "id": "wvC83zaUwCeN"
   },
   "outputs": [
    {
     "name": "stdout",
     "output_type": "stream",
     "text": [
      "[[[1.42449305 1.1886872  1.48521485 1.42728963 1.72096691]\n",
      "  [1.85914094 1.67042157 1.7260431  1.5946011  1.78424786]\n",
      "  [1.06666041 1.547339   1.77862461 1.77192037 1.86398334]]\n",
      "\n",
      " [[1.44558565 1.93908023 1.3472063  1.22532008 1.34722895]\n",
      "  [1.54993644 1.31553355 1.8839245  1.56183942 1.66422743]\n",
      "  [1.72875406 1.03383608 1.64062765 1.73549264 1.71730433]]]\n",
      "------------------------------\n",
      "[[[ 25.  25.  25.  25.  75.]\n",
      "  [ 75.  75.  75.  75.  75.]\n",
      "  [ 25.  25.  75.  75.  75.]]\n",
      "\n",
      " [[ 25. 100.  25.  25.  25.]\n",
      "  [ 25.  25.  75.  25.  75.]\n",
      "  [ 75.   0.  75.  75.  75.]]]\n"
     ]
    }
   ],
   "source": [
    "# your code here\n",
    "print(d)\n",
    "\n",
    "print('------------------------------')\n",
    "\n",
    "print(f)"
   ]
  },
  {
   "cell_type": "markdown",
   "metadata": {},
   "source": [
    "* Utilizando o método de máscara: "
   ]
  },
  {
   "cell_type": "code",
   "execution_count": 124,
   "metadata": {},
   "outputs": [],
   "source": [
    "f=d.copy()"
   ]
  },
  {
   "cell_type": "code",
   "execution_count": 125,
   "metadata": {
    "scrolled": false
   },
   "outputs": [
    {
     "data": {
      "text/plain": [
       "array([[[ True,  True,  True,  True, False],\n",
       "        [False, False, False, False, False],\n",
       "        [ True,  True, False, False, False]],\n",
       "\n",
       "       [[ True, False,  True,  True,  True],\n",
       "        [ True,  True, False,  True, False],\n",
       "        [False, False, False, False, False]]])"
      ]
     },
     "execution_count": 125,
     "metadata": {},
     "output_type": "execute_result"
    }
   ],
   "source": [
    "# & == operador lógico -> compara lado a lado, posição a posição \n",
    "# and == compara objetos\n",
    "\n",
    "(d > d_min) & (d < d_mean)"
   ]
  },
  {
   "cell_type": "code",
   "execution_count": 126,
   "metadata": {},
   "outputs": [],
   "source": [
    "f[(d > d_min) & (d < d_mean)]=25\n",
    "f[(d > d_mean) & (d < d_max)]=75\n",
    "f[d== d_mean]= 50\n",
    "f[d== d_min]= 0\n",
    "f[d== d_max]= 100        "
   ]
  },
  {
   "cell_type": "code",
   "execution_count": 127,
   "metadata": {},
   "outputs": [
    {
     "data": {
      "text/plain": [
       "array([[[ 25.,  25.,  25.,  25.,  75.],\n",
       "        [ 75.,  75.,  75.,  75.,  75.],\n",
       "        [ 25.,  25.,  75.,  75.,  75.]],\n",
       "\n",
       "       [[ 25., 100.,  25.,  25.,  25.],\n",
       "        [ 25.,  25.,  75.,  25.,  75.],\n",
       "        [ 75.,   0.,  75.,  75.,  75.]]])"
      ]
     },
     "execution_count": 127,
     "metadata": {},
     "output_type": "execute_result"
    }
   ],
   "source": [
    "f"
   ]
  },
  {
   "cell_type": "markdown",
   "metadata": {
    "colab_type": "text",
    "id": "ppRoFFJBwCeS"
   },
   "source": [
    "#### 18. Bonus question: instead of using numbers (i.e. 0, 25, 50, 75, and 100), use string values  (\"A\", \"B\", \"C\", \"D\", and \"E\") to label the array elements. For the example above, the expected result is:\n",
    "\n",
    "```python\n",
    "[[[ 'D',  'D',  'D',  'B',  'D'],\n",
    "[ 'D',  'D',  'B',  'B',  'B'],\n",
    "[ 'D',  'B',  'D',  'D',  'D']],\n",
    "[[ 'B',  'B',  'B',  'B',  'E'],\n",
    "[ 'D',  'D',  'D',  'D',  'D'],\n",
    "[ 'B',  'D',   'A',  'D', 'D']]]\n",
    "```\n",
    "**Note**: you don't have to use Numpy in this question."
   ]
  },
  {
   "cell_type": "code",
   "execution_count": 129,
   "metadata": {
    "code_folding": [],
    "colab": {},
    "colab_type": "code",
    "id": "xbBNSrnCwCeU"
   },
   "outputs": [
    {
     "name": "stdout",
     "output_type": "stream",
     "text": [
      "[[['B' 'B' 'B' 'B' 'D']\n",
      "  ['D' 'D' 'D' 'D' 'D']\n",
      "  ['B' 'B' 'D' 'D' 'D']]\n",
      "\n",
      " [['B' 'E' 'B' 'B' 'B']\n",
      "  ['B' 'B' 'D' 'B' 'D']\n",
      "  ['D' 'A' 'D' 'D' 'D']]]\n"
     ]
    }
   ],
   "source": [
    "# your code here\n",
    "# your code here\n",
    "\n",
    "g = f.astype(str)\n",
    "group = d.shape[0]\n",
    "row = d.shape[1]\n",
    "item = d.shape[2]\n",
    "\n",
    "for i_group in range (group):\n",
    "    for i_row in range (row):\n",
    "        for i_item in range (item):\n",
    "\n",
    "            if d[i_group, i_row, i_item] > d_min and d[i_group, i_row, i_item] < d_mean:\n",
    "                g[i_group, i_row, i_item] = 'B'\n",
    "\n",
    "            elif  d[i_group, i_row, i_item] > d_mean and  d[i_group, i_row, i_item] < d_max:\n",
    "                g[i_group, i_row, i_item] = 'D'         \n",
    "                \n",
    "            elif  d[i_group, i_row, i_item] == d_mean:\n",
    "                g[i_group, i_row, i_item] = 'C'\n",
    "                \n",
    "            elif  d[i_group, i_row, i_item] == d_min:\n",
    "                g[i_group, i_row, i_item] = 'A'\n",
    "                \n",
    "            elif  d[i_group, i_row, i_item] == d_max:\n",
    "                g[i_group, i_row, i_item] = 'E'\n",
    "\n",
    "print(g)"
   ]
  },
  {
   "cell_type": "markdown",
   "metadata": {},
   "source": [
    "* versão com máscara"
   ]
  },
  {
   "cell_type": "code",
   "execution_count": 136,
   "metadata": {},
   "outputs": [
    {
     "data": {
      "text/plain": [
       "array([[['B', 'B', 'B', 'B', 'D'],\n",
       "        ['D', 'D', 'D', 'D', 'D'],\n",
       "        ['B', 'B', 'D', 'D', 'D']],\n",
       "\n",
       "       [['B', 'E', 'B', 'B', 'B'],\n",
       "        ['B', 'B', 'D', 'B', 'D'],\n",
       "        ['D', 'A', 'D', 'D', 'D']]], dtype=object)"
      ]
     },
     "execution_count": 136,
     "metadata": {},
     "output_type": "execute_result"
    }
   ],
   "source": [
    "m = np.array(d, dtype=object)\n",
    "\n",
    "m[(d > d_min) & (d < d_mean)] = 'B'\n",
    "m[(d > d_mean) & (d < d_max)] = 'D'\n",
    "m[d == d_mean] = 'C'\n",
    "m[d == d_min] = 'A'\n",
    "m[d == d_max] = 'E'\n",
    "\n",
    "m"
   ]
  },
  {
   "cell_type": "code",
   "execution_count": 138,
   "metadata": {},
   "outputs": [
    {
     "data": {
      "text/plain": [
       "dtype('O')"
      ]
     },
     "execution_count": 138,
     "metadata": {},
     "output_type": "execute_result"
    }
   ],
   "source": [
    "m.dtype"
   ]
  },
  {
   "cell_type": "code",
   "execution_count": 139,
   "metadata": {},
   "outputs": [
    {
     "data": {
      "text/plain": [
       "array([[['B', 'B', 'B', 'B', 'D'],\n",
       "        ['D', 'D', 'D', 'D', 'D'],\n",
       "        ['B', 'B', 'D', 'D', 'D']],\n",
       "\n",
       "       [['B', 'E', 'B', 'B', 'B'],\n",
       "        ['B', 'B', 'D', 'B', 'D'],\n",
       "        ['D', 'A', 'D', 'D', 'D']]], dtype=object)"
      ]
     },
     "execution_count": 139,
     "metadata": {},
     "output_type": "execute_result"
    }
   ],
   "source": [
    "m = np.empty(shape=d.shape, dtype=object)\n",
    "\n",
    "m[(d > d_min) & (d < d_mean)] = 'B'\n",
    "m[(d > d_mean) & (d < d_max)] = 'D'\n",
    "m[d == d_mean] = 'C'\n",
    "m[d == d_min] = 'A'\n",
    "m[d == d_max] = 'E'\n",
    "\n",
    "m"
   ]
  },
  {
   "cell_type": "code",
   "execution_count": null,
   "metadata": {},
   "outputs": [],
   "source": []
  }
 ],
 "metadata": {
  "colab": {
   "name": "main.ipynb",
   "provenance": []
  },
  "kernelspec": {
   "display_name": "Python 3",
   "language": "python",
   "name": "python3"
  },
  "language_info": {
   "codemirror_mode": {
    "name": "ipython",
    "version": 3
   },
   "file_extension": ".py",
   "mimetype": "text/x-python",
   "name": "python",
   "nbconvert_exporter": "python",
   "pygments_lexer": "ipython3",
   "version": "3.7.3"
  },
  "toc": {
   "base_numbering": 1,
   "nav_menu": {},
   "number_sections": true,
   "sideBar": true,
   "skip_h1_title": false,
   "title_cell": "Table of Contents",
   "title_sidebar": "Contents",
   "toc_cell": false,
   "toc_position": {},
   "toc_section_display": true,
   "toc_window_display": false
  },
  "varInspector": {
   "cols": {
    "lenName": 16,
    "lenType": 16,
    "lenVar": 40
   },
   "kernels_config": {
    "python": {
     "delete_cmd_postfix": "",
     "delete_cmd_prefix": "del ",
     "library": "var_list.py",
     "varRefreshCmd": "print(var_dic_list())"
    },
    "r": {
     "delete_cmd_postfix": ") ",
     "delete_cmd_prefix": "rm(",
     "library": "var_list.r",
     "varRefreshCmd": "cat(var_dic_list()) "
    }
   },
   "types_to_exclude": [
    "module",
    "function",
    "builtin_function_or_method",
    "instance",
    "_Feature"
   ],
   "window_display": false
  }
 },
 "nbformat": 4,
 "nbformat_minor": 1
}
