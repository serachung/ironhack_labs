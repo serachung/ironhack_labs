{
 "cells": [
  {
   "cell_type": "markdown",
   "metadata": {
    "colab_type": "text",
    "id": "X3YSDiy0Up_C"
   },
   "source": [
    "# Evaluation: Precision & Recall\n",
    "## Using the evaluation metrics we have learned, we are going to compare how well some different types of classifiers perform on different evaluation metrics\n",
    "### We are going to use a dataset of written numbers which we can import from sklearn. Run the code below to do so. \n"
   ]
  },
  {
   "cell_type": "code",
   "execution_count": 1,
   "metadata": {
    "colab": {},
    "colab_type": "code",
    "id": "fnUelxEmUp_D"
   },
   "outputs": [],
   "source": [
    "import numpy as np\n",
    "from sklearn.datasets import fetch_openml\n",
    "mnist = fetch_openml('mnist_784')\n",
    "\n",
    "X, y = mnist['data'], mnist['target']"
   ]
  },
  {
   "cell_type": "markdown",
   "metadata": {
    "colab_type": "text",
    "id": "IMgKR4YhUp_G"
   },
   "source": [
    "### Now take a look at the shapes of the X and y matricies \n"
   ]
  },
  {
   "cell_type": "code",
   "execution_count": 2,
   "metadata": {
    "colab": {},
    "colab_type": "code",
    "id": "prseFXcoUp_H"
   },
   "outputs": [
    {
     "data": {
      "text/plain": [
       "((70000, 784), (70000,))"
      ]
     },
     "execution_count": 2,
     "metadata": {},
     "output_type": "execute_result"
    }
   ],
   "source": [
    "X.shape, y.shape"
   ]
  },
  {
   "cell_type": "markdown",
   "metadata": {
    "colab_type": "text",
    "id": "XRz_ivu3Up_J"
   },
   "source": [
    "### Now, let's pick one entry and see what number is written. Use indexing to pick the 36000th digit"
   ]
  },
  {
   "cell_type": "code",
   "execution_count": 3,
   "metadata": {
    "colab": {},
    "colab_type": "code",
    "collapsed": true,
    "id": "hIilw19uUp_J"
   },
   "outputs": [
    {
     "data": {
      "text/plain": [
       "array([  0.,   0.,   0.,   0.,   0.,   0.,   0.,   0.,   0.,   0.,   0.,\n",
       "         0.,   0.,   0.,   0.,   0.,   0.,   0.,   0.,   0.,   0.,   0.,\n",
       "         0.,   0.,   0.,   0.,   0.,   0.,   0.,   0.,   0.,   0.,   0.,\n",
       "         0.,   0.,   0.,   0.,   0.,   0.,   0.,   0.,   0.,   0.,   0.,\n",
       "         0.,   0.,   0.,   0.,   0.,   0.,   0.,   0.,   0.,   0.,   0.,\n",
       "         0.,   0.,   0.,   0.,   0.,   0.,   0.,   0.,   0.,   0.,   0.,\n",
       "         0.,   0.,   0.,   0.,   0.,   0.,   0.,   0.,   0.,   0.,   0.,\n",
       "         0.,   0.,   0.,   0.,   0.,   0.,   0.,   0.,   0.,   0.,   0.,\n",
       "         0.,   0.,   0.,   0.,   0.,   0.,   0.,   0.,   0.,   0.,   0.,\n",
       "         0.,   0.,   0.,   0.,   0.,   0.,   0.,   0.,   0.,   0.,   0.,\n",
       "         0.,   0.,   0.,   0.,   0.,   0.,   0.,   0.,   0.,   0.,   0.,\n",
       "         0.,   0.,   0.,   0.,   0.,   0.,   0.,   0.,   0.,   0.,   0.,\n",
       "         0.,   0.,   0.,   0.,   0.,   0.,   0.,   0.,   0.,   0.,   0.,\n",
       "         0.,   0.,   0.,   0.,   0.,   0.,   0.,   0.,   0.,   0.,   0.,\n",
       "         0.,   0.,   0.,   0.,   0.,   0.,   0.,   0.,   0.,   0.,   0.,\n",
       "         0.,   0.,   0.,   0.,   0.,   0.,   0.,   0.,   0.,   0.,   0.,\n",
       "         0.,   0.,   0.,   0.,   0.,   0.,   0.,   0.,   0.,   4., 149.,\n",
       "       255., 184.,  12.,   0.,   0.,   0.,   0.,   0.,   0.,   0.,   0.,\n",
       "         0.,   0.,   0.,   0.,   0.,   0.,   0.,   0.,   0.,   0.,   0.,\n",
       "         0.,   0.,  11., 133., 212., 253., 253., 253., 102.,   0.,   0.,\n",
       "         0.,   0.,   0.,   0.,   0.,   0.,   0.,   0.,   0.,   0.,   0.,\n",
       "         0.,   0.,   0.,   0.,   0.,   0.,   0., 162., 236., 253., 253.,\n",
       "       253., 253., 253.,  55.,   0.,   0.,   0.,   0.,   0.,   0.,   0.,\n",
       "         0.,   0.,   0.,   0.,   0.,   0.,   0.,   0.,   0.,   0.,   0.,\n",
       "        35., 196., 253., 253., 253., 253., 253., 253., 239.,  18.,   0.,\n",
       "         0.,   0.,   0.,   0.,   0.,   0.,   0.,   0.,   0.,   0.,   0.,\n",
       "         0.,   0.,   0.,   0.,   0.,  89., 249., 253., 253., 253., 185.,\n",
       "       253., 253., 177.,  24.,   0.,   0.,   0.,   0.,   0.,   0.,   0.,\n",
       "         0.,   0.,   0.,   0.,   0.,   0.,   0.,   0.,   0.,   0., 129.,\n",
       "       247., 253., 253., 165., 150., 205., 253., 139.,   3.,   0.,   0.,\n",
       "         0.,   0.,   0.,   0.,   0.,   0.,   0.,   0.,   0.,   0.,   0.,\n",
       "         0.,   0.,   0.,   0.,  89., 247., 253., 240., 131.,  85., 221.,\n",
       "       253., 253.,  84.,   0.,   0.,   0.,   0.,   0.,   0.,   0.,   0.,\n",
       "         0.,   0.,   0.,   0.,   0.,   0.,   0.,   0.,   0.,   4., 187.,\n",
       "       253., 253., 236., 139., 252., 253., 253., 253.,  84.,   0.,   0.,\n",
       "         0.,   0.,   0.,   0.,   0.,   0.,   0.,   0.,   0.,   0.,   0.,\n",
       "         0.,   0.,   0.,   0.,  21., 253., 253., 253., 253., 253., 253.,\n",
       "       253., 253., 248.,  53.,   0.,   0.,   0.,   0.,   0.,   0.,   0.,\n",
       "         0.,   0.,   0.,   0.,   0.,   0.,   0.,   0.,   0.,   0.,  99.,\n",
       "       253., 253., 253., 253., 253., 214., 253., 253., 179.,   0.,   0.,\n",
       "         0.,   0.,   0.,   0.,   0.,   0.,   0.,   0.,   0.,   0.,   0.,\n",
       "         0.,   0.,   0.,   0.,   0.,   4., 186., 251., 253., 249., 172.,\n",
       "       133., 253., 253., 137.,   0.,   0.,   0.,   0.,   0.,   0.,   0.,\n",
       "         0.,   0.,   0.,   0.,   0.,   0.,   0.,   0.,   0.,   0.,   0.,\n",
       "         0.,   0.,  49.,  94.,   6.,   0., 212., 253., 253.,  39.,   0.,\n",
       "         0.,   0.,   0.,   0.,   0.,   0.,   0.,   0.,   0.,   0.,   0.,\n",
       "         0.,   0.,   0.,   0.,   0.,   0.,   0.,   0.,   0.,   0.,   0.,\n",
       "       126., 253., 253., 197.,   6.,   0.,   0.,   0.,   0.,   0.,   0.,\n",
       "         0.,   0.,   0.,   0.,   0.,   0.,   0.,   0.,   0.,   0.,   0.,\n",
       "         0.,   0.,   0.,   0.,   0.,  27., 234., 253., 253.,  94.,   0.,\n",
       "         0.,   0.,   0.,   0.,   0.,   0.,   0.,   0.,   0.,   0.,   0.,\n",
       "         0.,   0.,   0.,   0.,   0.,   0.,   0.,   0.,   0.,   0.,   0.,\n",
       "       100., 253., 253., 239.,  11.,   0.,   0.,   0.,   0.,   0.,   0.,\n",
       "         0.,   0.,   0.,   0.,   0.,   0.,   0.,   0.,   0.,   0.,   0.,\n",
       "         0.,   0.,   0.,   0.,   0.,  61., 249., 253., 253.,  79.,   0.,\n",
       "         0.,   0.,   0.,   0.,   0.,   0.,   0.,   0.,   0.,   0.,   0.,\n",
       "         0.,   0.,   0.,   0.,   0.,   0.,   0.,   0.,   0.,   0.,   5.,\n",
       "       109., 253., 253., 193.,   4.,   0.,   0.,   0.,   0.,   0.,   0.,\n",
       "         0.,   0.,   0.,   0.,   0.,   0.,   0.,   0.,   0.,   0.,   0.,\n",
       "         0.,   0.,   0.,   0.,   0.,  66., 253., 253., 253.,  30.,   0.,\n",
       "         0.,   0.,   0.,   0.,   0.,   0.,   0.,   0.,   0.,   0.,   0.,\n",
       "         0.,   0.,   0.,   0.,   0.,   0.,   0.,   0.,   0.,   0.,   0.,\n",
       "       147., 253., 253., 182.,   2.,   0.,   0.,   0.,   0.,   0.,   0.,\n",
       "         0.,   0.,   0.,   0.,   0.,   0.,   0.,   0.,   0.,   0.,   0.,\n",
       "         0.,   0.,   0.,   0.,   0.,  99., 248., 253., 222.,  13.,   0.,\n",
       "         0.,   0.,   0.,   0.,   0.,   0.,   0.,   0.,   0.,   0.,   0.,\n",
       "         0.,   0.,   0.,   0.,   0.,   0.,   0.,   0.,   0.,   0.,   0.,\n",
       "         0.,   0.,   0.,   0.,   0.,   0.,   0.,   0.,   0.,   0.,   0.,\n",
       "         0.,   0.,   0.,   0.,   0.,   0.,   0.,   0.,   0.,   0.,   0.,\n",
       "         0.,   0.,   0.,   0.,   0.,   0.,   0.,   0.,   0.,   0.,   0.,\n",
       "         0.,   0.,   0.,   0.,   0.,   0.,   0.,   0.,   0.,   0.,   0.,\n",
       "         0.,   0.,   0.])"
      ]
     },
     "execution_count": 3,
     "metadata": {},
     "output_type": "execute_result"
    }
   ],
   "source": [
    "X[36000]"
   ]
  },
  {
   "cell_type": "markdown",
   "metadata": {
    "colab_type": "text",
    "id": "90UIitfWUp_L"
   },
   "source": [
    "### You can use the .reshape(28,28) function and plt.imshow() function with the parameters cmap = matplotlib.cm.binary, interpolation=\"nearest\" to make a plot of the number. Be sure to import matplotlib!"
   ]
  },
  {
   "cell_type": "code",
   "execution_count": 8,
   "metadata": {},
   "outputs": [],
   "source": [
    "import matplotlib.pyplot as plt\n",
    "import matplotlib"
   ]
  },
  {
   "cell_type": "code",
   "execution_count": 9,
   "metadata": {
    "colab": {},
    "colab_type": "code",
    "id": "euR2jMOEUp_L"
   },
   "outputs": [
    {
     "data": {
      "text/plain": [
       "<matplotlib.image.AxesImage at 0x12d9dbb20>"
      ]
     },
     "execution_count": 9,
     "metadata": {},
     "output_type": "execute_result"
    },
    {
     "data": {
      "image/png": "[encoded data removed]",
      "text/plain": [
       "<Figure size 432x288 with 1 Axes>"
      ]
     },
     "metadata": {
      "needs_background": "light"
     },
     "output_type": "display_data"
    }
   ],
   "source": [
    "plt.imshow(X[36000].reshape(28,28), \n",
    "          cmap=matplotlib.cm.binary, interpolation=\"nearest\")"
   ]
  },
  {
   "cell_type": "markdown",
   "metadata": {
    "colab_type": "text",
    "id": "lg12cNV4Up_O"
   },
   "source": [
    "### Use indexing to see if what the plot shows matches with the outcome of the 36000th index"
   ]
  },
  {
   "cell_type": "code",
   "execution_count": 18,
   "metadata": {
    "colab": {},
    "colab_type": "code",
    "id": "IIrGU5pEUp_O"
   },
   "outputs": [
    {
     "data": {
      "text/plain": [
       "'9'"
      ]
     },
     "execution_count": 18,
     "metadata": {},
     "output_type": "execute_result"
    }
   ],
   "source": [
    "y[36000]"
   ]
  },
  {
   "cell_type": "markdown",
   "metadata": {
    "colab_type": "text",
    "id": "froaQc03Up_Q"
   },
   "source": [
    "### Now lets break into a test train split to run a classification. Instead of using sklearn, use indexing to select the first 60000 entries for the training, and the rest for testing."
   ]
  },
  {
   "cell_type": "code",
   "execution_count": 16,
   "metadata": {
    "colab": {},
    "colab_type": "code",
    "id": "VrOasZSCUp_Q"
   },
   "outputs": [],
   "source": [
    "X_train = X[:60000] \n",
    "y_train = y[:60000]"
   ]
  },
  {
   "cell_type": "code",
   "execution_count": 17,
   "metadata": {},
   "outputs": [],
   "source": [
    "X_test = X[60000:] \n",
    "y_test = y[60000:]"
   ]
  },
  {
   "cell_type": "markdown",
   "metadata": {
    "colab_type": "text",
    "id": "sdyH3KfzUp_T"
   },
   "source": [
    "### We are going to make a two-class classifier, so lets restrict to just one number, for example 5s. Do this by defining a new y training and y testing sets for just the number 5"
   ]
  },
  {
   "cell_type": "code",
   "execution_count": 29,
   "metadata": {
    "colab": {},
    "colab_type": "code",
    "id": "O23sEDJjUp_T"
   },
   "outputs": [
    {
     "data": {
      "text/plain": [
       "array([False, False, False, ..., False,  True, False])"
      ]
     },
     "execution_count": 29,
     "metadata": {},
     "output_type": "execute_result"
    }
   ],
   "source": [
    "y_test_5 = y_test == '5'\n",
    "y_test_5"
   ]
  },
  {
   "cell_type": "code",
   "execution_count": 28,
   "metadata": {},
   "outputs": [
    {
     "data": {
      "text/plain": [
       "array([ True, False, False, ...,  True, False, False])"
      ]
     },
     "execution_count": 28,
     "metadata": {},
     "output_type": "execute_result"
    }
   ],
   "source": [
    "y_train_5 = y_train == '5'\n",
    "y_train_5"
   ]
  },
  {
   "cell_type": "markdown",
   "metadata": {
    "colab_type": "text",
    "id": "X6vQQALZUp_V"
   },
   "source": [
    "### Lets train a logistic regression to predict if a number is a 5 or not (remember to use the 'just 5s' y training set!)"
   ]
  },
  {
   "cell_type": "code",
   "execution_count": 30,
   "metadata": {
    "colab": {},
    "colab_type": "code",
    "id": "KlPavPMzUp_V"
   },
   "outputs": [],
   "source": [
    "from sklearn.linear_model import LogisticRegression"
   ]
  },
  {
   "cell_type": "code",
   "execution_count": 31,
   "metadata": {},
   "outputs": [],
   "source": [
    "model = LogisticRegression()"
   ]
  },
  {
   "cell_type": "code",
   "execution_count": 32,
   "metadata": {},
   "outputs": [
    {
     "name": "stderr",
     "output_type": "stream",
     "text": [
      "/Library/Frameworks/Python.framework/Versions/3.8/lib/python3.8/site-packages/sklearn/linear_model/_logistic.py:938: ConvergenceWarning: lbfgs failed to converge (status=1):\n",
      "STOP: TOTAL NO. of ITERATIONS REACHED LIMIT.\n",
      "\n",
      "Increase the number of iterations (max_iter) or scale the data as shown in:\n",
      "    https://scikit-learn.org/stable/modules/preprocessing.html\n",
      "Please also refer to the documentation for alternative solver options:\n",
      "    https://scikit-learn.org/stable/modules/linear_model.html#logistic-regression\n",
      "  n_iter_i = _check_optimize_result(\n"
     ]
    },
    {
     "data": {
      "text/plain": [
       "LogisticRegression(C=1.0, class_weight=None, dual=False, fit_intercept=True,\n",
       "                   intercept_scaling=1, l1_ratio=None, max_iter=100,\n",
       "                   multi_class='auto', n_jobs=None, penalty='l2',\n",
       "                   random_state=None, solver='lbfgs', tol=0.0001, verbose=0,\n",
       "                   warm_start=False)"
      ]
     },
     "execution_count": 32,
     "metadata": {},
     "output_type": "execute_result"
    }
   ],
   "source": [
    "model.fit(X_train, y_train_5)"
   ]
  },
  {
   "cell_type": "code",
   "execution_count": 46,
   "metadata": {},
   "outputs": [
    {
     "data": {
      "text/plain": [
       "array([ True, False, False, ...,  True, False, False])"
      ]
     },
     "execution_count": 46,
     "metadata": {},
     "output_type": "execute_result"
    }
   ],
   "source": [
    "model.predict(X_train)"
   ]
  },
  {
   "cell_type": "code",
   "execution_count": 47,
   "metadata": {},
   "outputs": [],
   "source": [
    "import seaborn as sns"
   ]
  },
  {
   "cell_type": "code",
   "execution_count": 48,
   "metadata": {},
   "outputs": [
    {
     "data": {
      "text/plain": [
       "<matplotlib.axes._subplots.AxesSubplot at 0x130087220>"
      ]
     },
     "execution_count": 48,
     "metadata": {},
     "output_type": "execute_result"
    },
    {
     "data": {
      "image/png": "[encoded data removed]",
      "text/plain": [
       "<Figure size 432x288 with 1 Axes>"
      ]
     },
     "metadata": {
      "needs_background": "light"
     },
     "output_type": "display_data"
    }
   ],
   "source": [
    "sns.countplot(model.predict(X_train))"
   ]
  },
  {
   "cell_type": "markdown",
   "metadata": {
    "colab_type": "text",
    "id": "jmXXgi5TUp_X"
   },
   "source": [
    "### Does the classifier predict correctly the 36000th digit we picked before?"
   ]
  },
  {
   "cell_type": "code",
   "execution_count": 35,
   "metadata": {
    "colab": {},
    "colab_type": "code",
    "id": "8MlPuH2SUp_Y"
   },
   "outputs": [
    {
     "data": {
      "text/plain": [
       "array([False])"
      ]
     },
     "execution_count": 35,
     "metadata": {},
     "output_type": "execute_result"
    }
   ],
   "source": [
    "model.predict(X[36000].reshape(-1, 784))"
   ]
  },
  {
   "cell_type": "code",
   "execution_count": 36,
   "metadata": {},
   "outputs": [],
   "source": [
    "# yes"
   ]
  },
  {
   "cell_type": "markdown",
   "metadata": {
    "colab_type": "text",
    "id": "ALx4JWkFUp_a"
   },
   "source": [
    "### To make some comparisons, we are going to make a very dumb classifier, that never predicts 5s. Build the classifier with the code below, and call it using: never_5_clf = Never5Classifier()"
   ]
  },
  {
   "cell_type": "code",
   "execution_count": 37,
   "metadata": {
    "colab": {},
    "colab_type": "code",
    "id": "7X7WdYMtUp_b"
   },
   "outputs": [],
   "source": [
    "from sklearn.base import BaseEstimator\n",
    "class Never5Classifier(BaseEstimator):\n",
    "    def fit(self, X, y=None):\n",
    "        pass\n",
    "    def predict(self, X):\n",
    "        return np.zeros((len(X), 1), dtype=bool)\n",
    "\n",
    "never_5_clf = Never5Classifier()"
   ]
  },
  {
   "cell_type": "markdown",
   "metadata": {
    "colab_type": "text",
    "id": "6b5bZIcXUp_d"
   },
   "source": [
    "### Now lets fit and predict on the testing set using our never 5 Classifier"
   ]
  },
  {
   "cell_type": "code",
   "execution_count": 39,
   "metadata": {
    "colab": {},
    "colab_type": "code",
    "id": "YAP7A9LlUp_e"
   },
   "outputs": [],
   "source": [
    "never_5_clf.fit(X_train)"
   ]
  },
  {
   "cell_type": "code",
   "execution_count": 45,
   "metadata": {},
   "outputs": [
    {
     "data": {
      "text/plain": [
       "array([[False],\n",
       "       [False],\n",
       "       [False],\n",
       "       ...,\n",
       "       [False],\n",
       "       [False],\n",
       "       [False]])"
      ]
     },
     "execution_count": 45,
     "metadata": {},
     "output_type": "execute_result"
    }
   ],
   "source": [
    "never_5_clf.predict(X_train)"
   ]
  },
  {
   "cell_type": "markdown",
   "metadata": {
    "colab_type": "text",
    "id": "VrYZYL3aUp_g"
   },
   "source": [
    "### Let's compare this to the Logistic Regression. Examine the confusion matrix, precision, recall, and f1_scores for each. What is the probability cutoff you are using to decide the classes?"
   ]
  },
  {
   "cell_type": "code",
   "execution_count": 49,
   "metadata": {
    "colab": {},
    "colab_type": "code",
    "id": "g9aPqBXOUp_g"
   },
   "outputs": [],
   "source": [
    "# Confusion Matrix"
   ]
  },
  {
   "cell_type": "code",
   "execution_count": 52,
   "metadata": {},
   "outputs": [],
   "source": [
    "from sklearn.metrics import confusion_matrix, plot_confusion_matrix"
   ]
  },
  {
   "cell_type": "code",
   "execution_count": 95,
   "metadata": {},
   "outputs": [
    {
     "data": {
      "text/plain": [
       "array([[9034,   74],\n",
       "       [ 147,  745]])"
      ]
     },
     "execution_count": 95,
     "metadata": {},
     "output_type": "execute_result"
    }
   ],
   "source": [
    "# model C.M.\n",
    "confusion_matrix(y_test_5, model.predict(X_test))"
   ]
  },
  {
   "cell_type": "code",
   "execution_count": 96,
   "metadata": {},
   "outputs": [
    {
     "data": {
      "text/plain": [
       "array([[9108,    0],\n",
       "       [ 892,    0]])"
      ]
     },
     "execution_count": 96,
     "metadata": {},
     "output_type": "execute_result"
    }
   ],
   "source": [
    "# never 5 classifier\n",
    "confusion_matrix(y_test_5, never_5_clf.predict(X_test))"
   ]
  },
  {
   "cell_type": "code",
   "execution_count": 97,
   "metadata": {},
   "outputs": [
    {
     "data": {
      "text/plain": [
       "<sklearn.metrics._plot.confusion_matrix.ConfusionMatrixDisplay at 0x130ff98e0>"
      ]
     },
     "execution_count": 97,
     "metadata": {},
     "output_type": "execute_result"
    },
    {
     "data": {
      "image/png": "[encoded data removed]",
      "text/plain": [
       "<Figure size 432x288 with 2 Axes>"
      ]
     },
     "metadata": {
      "needs_background": "light"
     },
     "output_type": "display_data"
    }
   ],
   "source": [
    "plot_confusion_matrix(model, X_test, y_test_5, values_format='.0f')"
   ]
  },
  {
   "cell_type": "code",
   "execution_count": 64,
   "metadata": {},
   "outputs": [],
   "source": [
    "from sklearn.metrics import precision_score, recall_score"
   ]
  },
  {
   "cell_type": "code",
   "execution_count": 99,
   "metadata": {},
   "outputs": [
    {
     "name": "stderr",
     "output_type": "stream",
     "text": [
      "/Library/Frameworks/Python.framework/Versions/3.8/lib/python3.8/site-packages/sklearn/metrics/_classification.py:1272: UndefinedMetricWarning: Precision is ill-defined and being set to 0.0 due to no predicted samples. Use `zero_division` parameter to control this behavior.\n",
      "  _warn_prf(average, modifier, msg_start, len(result))\n"
     ]
    },
    {
     "data": {
      "text/plain": [
       "(0.9096459096459096, 0.0)"
      ]
     },
     "execution_count": 99,
     "metadata": {},
     "output_type": "execute_result"
    }
   ],
   "source": [
    "# Precision: Model X Dumb \n",
    "precision_score(y_test_5, model.predict(X_test)), precision_score(y_test_5,  never_5_clf.predict(X_test))"
   ]
  },
  {
   "cell_type": "code",
   "execution_count": 100,
   "metadata": {},
   "outputs": [
    {
     "data": {
      "text/plain": [
       "(0.8352017937219731, 0.0)"
      ]
     },
     "execution_count": 100,
     "metadata": {},
     "output_type": "execute_result"
    }
   ],
   "source": [
    "# Recall: Model X Dumb \n",
    "recall_score(y_test_5, model.predict(X_test)), recall_score(y_test_5,  never_5_clf.predict(X_test))"
   ]
  },
  {
   "cell_type": "code",
   "execution_count": 81,
   "metadata": {},
   "outputs": [],
   "source": [
    "from sklearn.metrics import f1_score"
   ]
  },
  {
   "cell_type": "code",
   "execution_count": 82,
   "metadata": {},
   "outputs": [],
   "source": [
    "# f1_score: Model X Dumb "
   ]
  },
  {
   "cell_type": "code",
   "execution_count": 104,
   "metadata": {},
   "outputs": [
    {
     "data": {
      "text/plain": [
       "(0.8708357685563999, 0.0)"
      ]
     },
     "execution_count": 104,
     "metadata": {},
     "output_type": "execute_result"
    }
   ],
   "source": [
    "f1_score(y_test_5, model.predict(X_test)), f1_score(y_test_5, never_5_clf.predict(X_test))"
   ]
  },
  {
   "cell_type": "code",
   "execution_count": 103,
   "metadata": {
    "scrolled": true
   },
   "outputs": [
    {
     "name": "stderr",
     "output_type": "stream",
     "text": [
      "/Library/Frameworks/Python.framework/Versions/3.8/lib/python3.8/site-packages/sklearn/metrics/_classification.py:1272: UndefinedMetricWarning: Precision is ill-defined and being set to 0.0 due to no predicted samples. Use `zero_division` parameter to control this behavior.\n",
      "  _warn_prf(average, modifier, msg_start, len(result))\n"
     ]
    },
    {
     "data": {
      "text/plain": [
       "0.41760089686098656"
      ]
     },
     "execution_count": 103,
     "metadata": {},
     "output_type": "execute_result"
    }
   ],
   "source": [
    "np.mean([recall_score(y_test_5, model.predict(X_test)), precision_score(y_test_5, never_5_clf.predict(X_test))])"
   ]
  },
  {
   "cell_type": "markdown",
   "metadata": {
    "colab_type": "text",
    "id": "lvbi-m47Up_i"
   },
   "source": [
    "### What are the differences you see? Without knowing what each model is, what can these metrics tell you about how well each works?"
   ]
  },
  {
   "cell_type": "code",
   "execution_count": 0,
   "metadata": {
    "colab": {},
    "colab_type": "code",
    "id": "t4JycFxNUp_i"
   },
   "outputs": [],
   "source": [
    "# the model has a higher precision score, showing that from all 5 predictions it made, it got right in most of the time,\n",
    "## In other words, the model is not being biased by the unbalanced dataset\n",
    "\n",
    "# In the other hand, the high recall score, shows that the ratio of True Positives / Total Posistives is very high,\n",
    "## In other words, the model is getting right the great majority of the 5s it predicted\n",
    "\n",
    "# The high f1-score shows that our model has a harmonic mean between precision and recall."
   ]
  },
  {
   "cell_type": "markdown",
   "metadata": {
    "colab_type": "text",
    "id": "szmx0qxBUp_k"
   },
   "source": [
    "### Now let's examine the roc_curve for each. Use the roc_curve method from sklearn.metrics to help plot the curve for each"
   ]
  },
  {
   "cell_type": "code",
   "execution_count": 89,
   "metadata": {
    "colab": {},
    "colab_type": "code",
    "id": "0ObckzQRUp_k"
   },
   "outputs": [],
   "source": [
    "from sklearn.metrics import roc_curve, plot_roc_curve"
   ]
  },
  {
   "cell_type": "code",
   "execution_count": 115,
   "metadata": {
    "collapsed": true
   },
   "outputs": [
    {
     "data": {
      "text/plain": [
       "(array([0.00000000e+00, 0.00000000e+00, 0.00000000e+00, 1.09793588e-04,\n",
       "        1.09793588e-04, 2.19587176e-04, 2.19587176e-04, 3.29380764e-04,\n",
       "        3.29380764e-04, 4.39174352e-04, 4.39174352e-04, 5.48967940e-04,\n",
       "        5.48967940e-04, 6.58761528e-04, 6.58761528e-04, 7.68555116e-04,\n",
       "        7.68555116e-04, 8.78348704e-04, 8.78348704e-04, 9.88142292e-04,\n",
       "        9.88142292e-04, 1.09793588e-03, 1.09793588e-03, 1.20772947e-03,\n",
       "        1.20772947e-03, 1.31752306e-03, 1.31752306e-03, 1.42731664e-03,\n",
       "        1.42731664e-03, 1.53711023e-03, 1.53711023e-03, 1.64690382e-03,\n",
       "        1.64690382e-03, 1.75669741e-03, 1.75669741e-03, 1.86649100e-03,\n",
       "        1.86649100e-03, 1.97628458e-03, 1.97628458e-03, 2.08607817e-03,\n",
       "        2.08607817e-03, 2.19587176e-03, 2.19587176e-03, 2.30566535e-03,\n",
       "        2.30566535e-03, 2.41545894e-03, 2.41545894e-03, 2.52525253e-03,\n",
       "        2.52525253e-03, 2.63504611e-03, 2.63504611e-03, 2.74483970e-03,\n",
       "        2.74483970e-03, 2.96442688e-03, 2.96442688e-03, 3.07422047e-03,\n",
       "        3.07422047e-03, 3.18401405e-03, 3.18401405e-03, 3.29380764e-03,\n",
       "        3.29380764e-03, 3.40360123e-03, 3.40360123e-03, 3.51339482e-03,\n",
       "        3.51339482e-03, 3.62318841e-03, 3.62318841e-03, 3.73298199e-03,\n",
       "        3.73298199e-03, 3.95256917e-03, 3.95256917e-03, 4.06236276e-03,\n",
       "        4.06236276e-03, 4.17215635e-03, 4.17215635e-03, 4.28194993e-03,\n",
       "        4.28194993e-03, 4.39174352e-03, 4.39174352e-03, 4.50153711e-03,\n",
       "        4.50153711e-03, 4.83091787e-03, 4.83091787e-03, 4.94071146e-03,\n",
       "        4.94071146e-03, 5.16029864e-03, 5.16029864e-03, 5.27009223e-03,\n",
       "        5.27009223e-03, 5.37988581e-03, 5.37988581e-03, 5.48967940e-03,\n",
       "        5.48967940e-03, 5.59947299e-03, 5.59947299e-03, 5.92885375e-03,\n",
       "        5.92885375e-03, 6.03864734e-03, 6.03864734e-03, 6.14844093e-03,\n",
       "        6.14844093e-03, 6.36802811e-03, 6.36802811e-03, 6.47782170e-03,\n",
       "        6.47782170e-03, 6.58761528e-03, 6.58761528e-03, 6.69740887e-03,\n",
       "        6.69740887e-03, 6.80720246e-03, 6.80720246e-03, 6.91699605e-03,\n",
       "        6.91699605e-03, 7.02678964e-03, 7.02678964e-03, 7.13658322e-03,\n",
       "        7.13658322e-03, 7.24637681e-03, 7.24637681e-03, 7.46596399e-03,\n",
       "        7.46596399e-03, 7.57575758e-03, 7.57575758e-03, 7.68555116e-03,\n",
       "        7.68555116e-03, 7.79534475e-03, 7.79534475e-03, 7.90513834e-03,\n",
       "        7.90513834e-03, 8.12472552e-03, 8.12472552e-03, 8.56389987e-03,\n",
       "        8.56389987e-03, 8.78348704e-03, 8.78348704e-03, 9.00307422e-03,\n",
       "        9.00307422e-03, 9.11286781e-03, 9.11286781e-03, 9.44224857e-03,\n",
       "        9.44224857e-03, 9.66183575e-03, 9.66183575e-03, 9.88142292e-03,\n",
       "        9.88142292e-03, 1.01010101e-02, 1.01010101e-02, 1.11989460e-02,\n",
       "        1.11989460e-02, 1.13087396e-02, 1.13087396e-02, 1.16381203e-02,\n",
       "        1.16381203e-02, 1.17479139e-02, 1.17479139e-02, 1.18577075e-02,\n",
       "        1.18577075e-02, 1.20772947e-02, 1.20772947e-02, 1.25164690e-02,\n",
       "        1.25164690e-02, 1.28458498e-02, 1.28458498e-02, 1.31752306e-02,\n",
       "        1.31752306e-02, 1.36144049e-02, 1.36144049e-02, 1.40535793e-02,\n",
       "        1.40535793e-02, 1.46025472e-02, 1.46025472e-02, 1.52613087e-02,\n",
       "        1.52613087e-02, 1.54808959e-02, 1.54808959e-02, 1.55906895e-02,\n",
       "        1.55906895e-02, 1.59200703e-02, 1.59200703e-02, 1.65788318e-02,\n",
       "        1.65788318e-02, 1.67984190e-02, 1.67984190e-02, 1.70180061e-02,\n",
       "        1.70180061e-02, 1.71277997e-02, 1.71277997e-02, 1.72375933e-02,\n",
       "        1.72375933e-02, 1.81159420e-02, 1.81159420e-02, 1.99824330e-02,\n",
       "        1.99824330e-02, 2.04216074e-02, 2.04216074e-02, 2.05314010e-02,\n",
       "        2.05314010e-02, 2.18489240e-02, 2.18489240e-02, 2.21783048e-02,\n",
       "        2.21783048e-02, 2.30566535e-02, 2.30566535e-02, 2.43741765e-02,\n",
       "        2.43741765e-02, 2.51427317e-02, 2.51427317e-02, 2.56916996e-02,\n",
       "        2.56916996e-02, 2.58014932e-02, 2.58014932e-02, 2.59112868e-02,\n",
       "        2.59112868e-02, 2.73386034e-02, 2.73386034e-02, 2.76679842e-02,\n",
       "        2.76679842e-02, 2.92050944e-02, 2.92050944e-02, 2.95344752e-02,\n",
       "        2.95344752e-02, 2.97540624e-02, 2.97540624e-02, 3.43653931e-02,\n",
       "        3.43653931e-02, 3.89767238e-02, 3.89767238e-02, 3.93061045e-02,\n",
       "        3.93061045e-02, 3.96354853e-02, 3.96354853e-02, 4.07334212e-02,\n",
       "        4.07334212e-02, 4.10628019e-02, 4.10628019e-02, 4.19411506e-02,\n",
       "        4.19411506e-02, 4.29292929e-02, 4.29292929e-02, 4.30390865e-02,\n",
       "        4.30390865e-02, 4.33684673e-02, 4.33684673e-02, 4.80895916e-02,\n",
       "        4.80895916e-02, 4.95169082e-02, 4.95169082e-02, 4.98462890e-02,\n",
       "        4.98462890e-02, 5.00658762e-02, 5.00658762e-02, 5.12736056e-02,\n",
       "        5.12736056e-02, 5.31400966e-02, 5.31400966e-02, 5.39086517e-02,\n",
       "        5.39086517e-02, 5.52261748e-02, 5.52261748e-02, 5.65436978e-02,\n",
       "        5.65436978e-02, 5.78612209e-02, 5.78612209e-02, 5.84101888e-02,\n",
       "        5.84101888e-02, 5.85199824e-02, 5.85199824e-02, 6.36802811e-02,\n",
       "        6.36802811e-02, 6.47782170e-02, 6.47782170e-02, 6.54369785e-02,\n",
       "        6.54369785e-02, 6.62055336e-02, 6.62055336e-02, 6.70838823e-02,\n",
       "        6.70838823e-02, 6.75230567e-02, 6.75230567e-02, 6.76328502e-02,\n",
       "        6.76328502e-02, 6.79622310e-02, 6.79622310e-02, 7.00483092e-02,\n",
       "        7.00483092e-02, 7.52086078e-02, 7.52086078e-02, 7.71848924e-02,\n",
       "        7.71848924e-02, 8.13570487e-02, 8.13570487e-02, 8.22353975e-02,\n",
       "        8.22353975e-02, 8.72859025e-02, 8.72859025e-02, 8.84936320e-02,\n",
       "        8.84936320e-02, 9.01405358e-02, 9.01405358e-02, 9.24462011e-02,\n",
       "        9.24462011e-02, 9.74967062e-02, 9.74967062e-02, 9.81554677e-02,\n",
       "        9.81554677e-02, 1.00461133e-01, 1.00461133e-01, 1.06499780e-01,\n",
       "        1.06499780e-01, 1.12099253e-01, 1.12099253e-01, 1.17808520e-01,\n",
       "        1.17808520e-01, 1.20663153e-01, 1.20663153e-01, 1.25164690e-01,\n",
       "        1.25164690e-01, 1.29556434e-01, 1.29556434e-01, 1.30654370e-01,\n",
       "        1.30654370e-01, 1.31203338e-01, 1.31203338e-01, 1.37022398e-01,\n",
       "        1.37022398e-01, 1.48660518e-01, 1.48660518e-01, 1.48989899e-01,\n",
       "        1.48989899e-01, 1.49429073e-01, 1.49429073e-01, 1.50636803e-01,\n",
       "        1.50636803e-01, 2.03008344e-01, 2.03008344e-01, 2.08498024e-01,\n",
       "        2.08498024e-01, 2.14536671e-01, 2.14536671e-01, 2.15085639e-01,\n",
       "        2.15085639e-01, 2.23210365e-01, 2.23210365e-01, 2.30676329e-01,\n",
       "        2.30676329e-01, 2.66908213e-01, 2.66908213e-01, 2.90404040e-01,\n",
       "        2.90404040e-01, 3.04018445e-01, 3.04018445e-01, 3.11045235e-01,\n",
       "        3.11045235e-01, 3.25977163e-01, 3.25977163e-01, 3.31247255e-01,\n",
       "        3.31247255e-01, 3.36846728e-01, 3.36846728e-01, 3.87022398e-01,\n",
       "        3.87022398e-01, 4.01844532e-01, 4.01844532e-01, 4.21168204e-01,\n",
       "        4.21168204e-01, 4.22705314e-01, 4.22705314e-01, 4.35770751e-01,\n",
       "        4.35770751e-01, 4.40711462e-01, 4.40711462e-01, 4.78919631e-01,\n",
       "        4.78919631e-01, 5.46113307e-01, 5.46113307e-01, 7.03227931e-01,\n",
       "        7.03227931e-01, 7.38252086e-01, 7.38252086e-01, 8.17632850e-01,\n",
       "        8.17632850e-01, 8.41458059e-01, 8.41458059e-01, 8.67149758e-01,\n",
       "        8.67149758e-01, 9.02613087e-01, 9.02613087e-01, 9.18093983e-01,\n",
       "        9.18093983e-01, 9.54984629e-01, 9.54984629e-01, 9.69367589e-01,\n",
       "        9.69367589e-01, 1.00000000e+00]),\n",
       " array([0.        , 0.00112108, 0.03811659, 0.03811659, 0.08632287,\n",
       "        0.08632287, 0.14798206, 0.14798206, 0.22197309, 0.22197309,\n",
       "        0.30044843, 0.30044843, 0.40022422, 0.40022422, 0.48318386,\n",
       "        0.48318386, 0.49663677, 0.49663677, 0.49775785, 0.49775785,\n",
       "        0.5190583 , 0.5190583 , 0.52017937, 0.52017937, 0.52578475,\n",
       "        0.52578475, 0.57511211, 0.57511211, 0.57735426, 0.57735426,\n",
       "        0.57959641, 0.57959641, 0.60313901, 0.60313901, 0.62443946,\n",
       "        0.62443946, 0.63340807, 0.63340807, 0.63565022, 0.63565022,\n",
       "        0.63901345, 0.63901345, 0.65470852, 0.65470852, 0.65807175,\n",
       "        0.65807175, 0.66591928, 0.66591928, 0.67040359, 0.67040359,\n",
       "        0.69170404, 0.69170404, 0.69282511, 0.69282511, 0.69843049,\n",
       "        0.69843049, 0.69955157, 0.69955157, 0.71076233, 0.71076233,\n",
       "        0.71412556, 0.71412556, 0.71524664, 0.71524664, 0.72421525,\n",
       "        0.72421525, 0.72982063, 0.72982063, 0.73206278, 0.73206278,\n",
       "        0.73878924, 0.73878924, 0.73991031, 0.73991031, 0.74663677,\n",
       "        0.74663677, 0.75112108, 0.75112108, 0.76233184, 0.76233184,\n",
       "        0.76569507, 0.76569507, 0.76681614, 0.76681614, 0.77130045,\n",
       "        0.77130045, 0.77242152, 0.77242152, 0.78699552, 0.78699552,\n",
       "        0.78923767, 0.78923767, 0.7926009 , 0.7926009 , 0.79932735,\n",
       "        0.79932735, 0.80044843, 0.80044843, 0.80156951, 0.80156951,\n",
       "        0.80269058, 0.80269058, 0.80605381, 0.80605381, 0.81053812,\n",
       "        0.81053812, 0.81165919, 0.81165919, 0.81278027, 0.81278027,\n",
       "        0.8161435 , 0.8161435 , 0.81950673, 0.81950673, 0.8206278 ,\n",
       "        0.8206278 , 0.82399103, 0.82399103, 0.82511211, 0.82511211,\n",
       "        0.82959641, 0.82959641, 0.83071749, 0.83071749, 0.83183857,\n",
       "        0.83183857, 0.83295964, 0.83295964, 0.83520179, 0.83520179,\n",
       "        0.83632287, 0.83632287, 0.83856502, 0.83856502, 0.8396861 ,\n",
       "        0.8396861 , 0.84080717, 0.84080717, 0.84192825, 0.84192825,\n",
       "        0.84304933, 0.84304933, 0.84641256, 0.84641256, 0.84753363,\n",
       "        0.84753363, 0.84865471, 0.84865471, 0.84977578, 0.84977578,\n",
       "        0.85089686, 0.85089686, 0.85426009, 0.85426009, 0.85538117,\n",
       "        0.85538117, 0.85762332, 0.85762332, 0.85874439, 0.85874439,\n",
       "        0.85986547, 0.85986547, 0.86098655, 0.86098655, 0.86210762,\n",
       "        0.86210762, 0.8632287 , 0.8632287 , 0.86434978, 0.86434978,\n",
       "        0.86547085, 0.86547085, 0.86659193, 0.86659193, 0.867713  ,\n",
       "        0.867713  , 0.86883408, 0.86883408, 0.86995516, 0.86995516,\n",
       "        0.87107623, 0.87107623, 0.87219731, 0.87219731, 0.87331839,\n",
       "        0.87331839, 0.87556054, 0.87556054, 0.87892377, 0.87892377,\n",
       "        0.88004484, 0.88004484, 0.88116592, 0.88116592, 0.882287  ,\n",
       "        0.882287  , 0.88340807, 0.88340807, 0.88452915, 0.88452915,\n",
       "        0.88565022, 0.88565022, 0.8867713 , 0.8867713 , 0.88789238,\n",
       "        0.88789238, 0.88901345, 0.88901345, 0.89013453, 0.89013453,\n",
       "        0.89125561, 0.89125561, 0.89237668, 0.89237668, 0.89349776,\n",
       "        0.89349776, 0.89798206, 0.89798206, 0.89910314, 0.89910314,\n",
       "        0.90022422, 0.90022422, 0.90134529, 0.90134529, 0.90246637,\n",
       "        0.90246637, 0.90358744, 0.90358744, 0.90470852, 0.90470852,\n",
       "        0.9058296 , 0.9058296 , 0.90695067, 0.90695067, 0.90807175,\n",
       "        0.90807175, 0.90919283, 0.90919283, 0.9103139 , 0.9103139 ,\n",
       "        0.91143498, 0.91143498, 0.91255605, 0.91255605, 0.91367713,\n",
       "        0.91367713, 0.91479821, 0.91479821, 0.91591928, 0.91591928,\n",
       "        0.91704036, 0.91704036, 0.91816143, 0.91816143, 0.91928251,\n",
       "        0.91928251, 0.92040359, 0.92040359, 0.92264574, 0.92264574,\n",
       "        0.92488789, 0.92488789, 0.92600897, 0.92600897, 0.92713004,\n",
       "        0.92713004, 0.92825112, 0.92825112, 0.9293722 , 0.9293722 ,\n",
       "        0.93049327, 0.93049327, 0.93161435, 0.93161435, 0.93273543,\n",
       "        0.93273543, 0.9338565 , 0.9338565 , 0.93497758, 0.93497758,\n",
       "        0.93609865, 0.93609865, 0.93721973, 0.93721973, 0.93834081,\n",
       "        0.93834081, 0.93946188, 0.93946188, 0.94058296, 0.94058296,\n",
       "        0.94282511, 0.94282511, 0.94394619, 0.94394619, 0.94506726,\n",
       "        0.94506726, 0.94618834, 0.94618834, 0.94730942, 0.94730942,\n",
       "        0.94843049, 0.94843049, 0.94955157, 0.94955157, 0.95067265,\n",
       "        0.95067265, 0.95179372, 0.95179372, 0.9529148 , 0.9529148 ,\n",
       "        0.95403587, 0.95403587, 0.95515695, 0.95515695, 0.95627803,\n",
       "        0.95627803, 0.9573991 , 0.9573991 , 0.95852018, 0.95852018,\n",
       "        0.95964126, 0.95964126, 0.96076233, 0.96076233, 0.96188341,\n",
       "        0.96188341, 0.96300448, 0.96300448, 0.96412556, 0.96412556,\n",
       "        0.96524664, 0.96524664, 0.96636771, 0.96636771, 0.96748879,\n",
       "        0.96748879, 0.96860987, 0.96860987, 0.96973094, 0.96973094,\n",
       "        0.97085202, 0.97085202, 0.97197309, 0.97197309, 0.97309417,\n",
       "        0.97309417, 0.97421525, 0.97421525, 0.97533632, 0.97533632,\n",
       "        0.9764574 , 0.9764574 , 0.97757848, 0.97757848, 0.97869955,\n",
       "        0.97869955, 0.97982063, 0.97982063, 0.9809417 , 0.9809417 ,\n",
       "        0.98206278, 0.98206278, 0.98318386, 0.98318386, 0.98430493,\n",
       "        0.98430493, 0.98542601, 0.98542601, 0.98654709, 0.98654709,\n",
       "        0.98766816, 0.98766816, 0.98878924, 0.98878924, 0.98991031,\n",
       "        0.98991031, 0.99103139, 0.99103139, 0.99215247, 0.99215247,\n",
       "        0.99327354, 0.99327354, 0.99439462, 0.99439462, 0.9955157 ,\n",
       "        0.9955157 , 0.99663677, 0.99663677, 0.99775785, 0.99775785,\n",
       "        0.99887892, 0.99887892, 1.        , 1.        ]),\n",
       " array([1.99999985e+00, 9.99999849e-01, 9.99811892e-01, 9.99810241e-01,\n",
       "        9.98821130e-01, 9.98750838e-01, 9.96790838e-01, 9.96764362e-01,\n",
       "        9.93025924e-01, 9.92969906e-01, 9.85479383e-01, 9.85424211e-01,\n",
       "        9.65484804e-01, 9.65426266e-01, 9.43258178e-01, 9.43231326e-01,\n",
       "        9.38690947e-01, 9.38480074e-01, 9.37195065e-01, 9.36975168e-01,\n",
       "        9.25714831e-01, 9.25579991e-01, 9.25475692e-01, 9.24316776e-01,\n",
       "        9.20894543e-01, 9.20860397e-01, 8.94979172e-01, 8.93841533e-01,\n",
       "        8.92542957e-01, 8.91875166e-01, 8.90685779e-01, 8.89239430e-01,\n",
       "        8.68524219e-01, 8.66199234e-01, 8.51855934e-01, 8.51431936e-01,\n",
       "        8.45287646e-01, 8.44131068e-01, 8.43468674e-01, 8.43362749e-01,\n",
       "        8.41547499e-01, 8.41393394e-01, 8.22565657e-01, 8.22004159e-01,\n",
       "        8.20226284e-01, 8.19321135e-01, 8.11160038e-01, 8.10687922e-01,\n",
       "        8.05601103e-01, 8.03247650e-01, 7.86138856e-01, 7.84759852e-01,\n",
       "        7.84528505e-01, 7.82051380e-01, 7.78396726e-01, 7.77069685e-01,\n",
       "        7.73937513e-01, 7.72296058e-01, 7.60367427e-01, 7.57759960e-01,\n",
       "        7.54591017e-01, 7.54166104e-01, 7.48628210e-01, 7.46312473e-01,\n",
       "        7.40374289e-01, 7.40246113e-01, 7.34837255e-01, 7.27916656e-01,\n",
       "        7.20980759e-01, 7.19070659e-01, 7.10063573e-01, 7.09009421e-01,\n",
       "        7.04856862e-01, 7.02426706e-01, 6.88885456e-01, 6.86671531e-01,\n",
       "        6.82940672e-01, 6.82354277e-01, 6.64145641e-01, 6.63532452e-01,\n",
       "        6.49343730e-01, 6.47378823e-01, 6.44132696e-01, 6.42455715e-01,\n",
       "        6.36409974e-01, 6.28942993e-01, 6.27116250e-01, 6.26564219e-01,\n",
       "        6.04244524e-01, 6.03950703e-01, 6.01006027e-01, 5.99452685e-01,\n",
       "        5.94965827e-01, 5.90433752e-01, 5.80567312e-01, 5.79407150e-01,\n",
       "        5.79187728e-01, 5.78933923e-01, 5.78706895e-01, 5.77134128e-01,\n",
       "        5.75806542e-01, 5.73998698e-01, 5.62999998e-01, 5.62958714e-01,\n",
       "        5.57161129e-01, 5.56966648e-01, 5.54927846e-01, 5.54793846e-01,\n",
       "        5.53709116e-01, 5.53643162e-01, 5.49075830e-01, 5.47725094e-01,\n",
       "        5.43020624e-01, 5.41808085e-01, 5.39841233e-01, 5.39131590e-01,\n",
       "        5.30724977e-01, 5.30647822e-01, 5.28355389e-01, 5.23745567e-01,\n",
       "        5.17432294e-01, 5.16361424e-01, 5.16272136e-01, 5.14505738e-01,\n",
       "        5.13260051e-01, 5.09868977e-01, 5.06526277e-01, 5.04878071e-01,\n",
       "        5.02740764e-01, 5.01754033e-01, 4.96073870e-01, 4.86894814e-01,\n",
       "        4.84470197e-01, 4.80344582e-01, 4.79563440e-01, 4.75399939e-01,\n",
       "        4.74131733e-01, 4.73600167e-01, 4.70005784e-01, 4.64740507e-01,\n",
       "        4.64317271e-01, 4.63502193e-01, 4.53980019e-01, 4.52897899e-01,\n",
       "        4.50191040e-01, 4.42381378e-01, 4.42028516e-01, 4.15997489e-01,\n",
       "        4.14243774e-01, 4.14119387e-01, 4.12704364e-01, 4.06801143e-01,\n",
       "        4.04217276e-01, 4.02089600e-01, 4.00277271e-01, 3.94813954e-01,\n",
       "        3.89813883e-01, 3.88590874e-01, 3.87983785e-01, 3.85555960e-01,\n",
       "        3.81559737e-01, 3.78839540e-01, 3.78426248e-01, 3.74491888e-01,\n",
       "        3.69358647e-01, 3.62971184e-01, 3.61890002e-01, 3.58084625e-01,\n",
       "        3.57269836e-01, 3.52587440e-01, 3.52069182e-01, 3.43033550e-01,\n",
       "        3.42583916e-01, 3.40788496e-01, 3.38385162e-01, 3.38313049e-01,\n",
       "        3.37615816e-01, 3.34737536e-01, 3.33449841e-01, 3.28989119e-01,\n",
       "        3.28327632e-01, 3.27796098e-01, 3.24575000e-01, 3.22950323e-01,\n",
       "        3.21744458e-01, 3.21597903e-01, 3.20141691e-01, 3.17482156e-01,\n",
       "        3.12348528e-01, 3.02257627e-01, 3.01147892e-01, 2.75589487e-01,\n",
       "        2.74403899e-01, 2.72197461e-01, 2.71983825e-01, 2.68991388e-01,\n",
       "        2.68858499e-01, 2.55898518e-01, 2.54453231e-01, 2.53052620e-01,\n",
       "        2.51764682e-01, 2.45050719e-01, 2.42354701e-01, 2.33759262e-01,\n",
       "        2.32933752e-01, 2.28135360e-01, 2.24441957e-01, 2.20164546e-01,\n",
       "        2.19635658e-01, 2.16518817e-01, 2.16067728e-01, 2.14881547e-01,\n",
       "        2.14232586e-01, 2.03760600e-01, 2.03693789e-01, 2.03279566e-01,\n",
       "        2.00013116e-01, 1.93938035e-01, 1.93785597e-01, 1.92527232e-01,\n",
       "        1.92413048e-01, 1.89637181e-01, 1.89318011e-01, 1.64601888e-01,\n",
       "        1.64113795e-01, 1.45613324e-01, 1.43772400e-01, 1.43047731e-01,\n",
       "        1.42705074e-01, 1.42285518e-01, 1.42193630e-01, 1.38217649e-01,\n",
       "        1.37782986e-01, 1.37241552e-01, 1.36190869e-01, 1.33723596e-01,\n",
       "        1.33072783e-01, 1.30344644e-01, 1.30122603e-01, 1.29491157e-01,\n",
       "        1.29376103e-01, 1.28619801e-01, 1.28300230e-01, 1.15450435e-01,\n",
       "        1.15330178e-01, 1.10453093e-01, 1.10360003e-01, 1.09303570e-01,\n",
       "        1.09071456e-01, 1.08811843e-01, 1.08619068e-01, 1.05683588e-01,\n",
       "        1.04838376e-01, 1.01490619e-01, 1.01278990e-01, 9.93307809e-02,\n",
       "        9.88781284e-02, 9.61450556e-02, 9.58754772e-02, 9.41071298e-02,\n",
       "        9.40136958e-02, 9.15300317e-02, 9.13430876e-02, 9.06893063e-02,\n",
       "        9.05937344e-02, 9.05420427e-02, 9.03220387e-02, 8.33785844e-02,\n",
       "        8.33428858e-02, 8.07457383e-02, 8.07103119e-02, 7.93283728e-02,\n",
       "        7.92596998e-02, 7.86027577e-02, 7.85918934e-02, 7.74834607e-02,\n",
       "        7.74326310e-02, 7.66788973e-02, 7.64054403e-02, 7.64047573e-02,\n",
       "        7.61438295e-02, 7.54922160e-02, 7.54311302e-02, 7.32857533e-02,\n",
       "        7.31880593e-02, 6.62094926e-02, 6.61294289e-02, 6.45639575e-02,\n",
       "        6.45636977e-02, 6.07190237e-02, 6.06873683e-02, 5.92399120e-02,\n",
       "        5.91641249e-02, 5.34745458e-02, 5.34225019e-02, 5.23641551e-02,\n",
       "        5.23373937e-02, 5.11629114e-02, 5.10449351e-02, 4.84509129e-02,\n",
       "        4.83301539e-02, 4.42840409e-02, 4.41528442e-02, 4.37919901e-02,\n",
       "        4.37351295e-02, 4.21850852e-02, 4.21424441e-02, 3.89583838e-02,\n",
       "        3.88564318e-02, 3.57830931e-02, 3.57587925e-02, 3.31335915e-02,\n",
       "        3.31149853e-02, 3.16659956e-02, 3.16399428e-02, 3.00984274e-02,\n",
       "        3.00942562e-02, 2.80084620e-02, 2.79740653e-02, 2.75583562e-02,\n",
       "        2.75311933e-02, 2.71621276e-02, 2.71367713e-02, 2.51784346e-02,\n",
       "        2.51707534e-02, 2.18514170e-02, 2.17787431e-02, 2.16329281e-02,\n",
       "        2.16315319e-02, 2.15086748e-02, 2.13979497e-02, 2.11647311e-02,\n",
       "        2.11505830e-02, 1.19948088e-02, 1.19931637e-02, 1.13678940e-02,\n",
       "        1.13620324e-02, 1.06659070e-02, 1.06575633e-02, 1.06115545e-02,\n",
       "        1.05809357e-02, 9.90365598e-03, 9.89883881e-03, 9.14725085e-03,\n",
       "        9.12733835e-03, 6.58361201e-03, 6.58036234e-03, 5.37781503e-03,\n",
       "        5.37591720e-03, 4.73934381e-03, 4.73875713e-03, 4.46480286e-03,\n",
       "        4.46304562e-03, 3.81667287e-03, 3.80924524e-03, 3.61800406e-03,\n",
       "        3.61647165e-03, 3.44311462e-03, 3.43919628e-03, 2.23544990e-03,\n",
       "        2.23423518e-03, 1.97811058e-03, 1.97780061e-03, 1.63103745e-03,\n",
       "        1.62754889e-03, 1.61718108e-03, 1.61682829e-03, 1.43785185e-03,\n",
       "        1.43714083e-03, 1.39116566e-03, 1.39104101e-03, 1.00932602e-03,\n",
       "        1.00810655e-03, 5.13976037e-04, 5.13747583e-04, 7.83132371e-05,\n",
       "        7.83024100e-05, 4.82672081e-05, 4.81949532e-05, 1.07420573e-05,\n",
       "        1.07411544e-05, 6.03777380e-06, 6.00077189e-06, 3.00980783e-06,\n",
       "        3.00533655e-06, 8.68902248e-07, 8.60443579e-07, 4.40392408e-07,\n",
       "        4.39883341e-07, 2.55280332e-08, 2.48073009e-08, 3.19906608e-09,\n",
       "        3.04604239e-09, 8.76022054e-23]))"
      ]
     },
     "execution_count": 115,
     "metadata": {},
     "output_type": "execute_result"
    }
   ],
   "source": [
    "roc_curve(y_test_5,model.predict_proba(X_test)[:,1])"
   ]
  },
  {
   "cell_type": "code",
   "execution_count": 121,
   "metadata": {},
   "outputs": [
    {
     "data": {
      "text/plain": [
       "<matplotlib.axes._subplots.AxesSubplot at 0x1321948e0>"
      ]
     },
     "execution_count": 121,
     "metadata": {},
     "output_type": "execute_result"
    },
    {
     "data": {
      "image/png": "[encoded data removed]",
      "text/plain": [
       "<Figure size 432x288 with 1 Axes>"
      ]
     },
     "metadata": {
      "needs_background": "light"
     },
     "output_type": "display_data"
    }
   ],
   "source": [
    "sns.lineplot(data = roc_curve(y_test_5,model.predict_proba(X_test)[:,1]))"
   ]
  },
  {
   "cell_type": "markdown",
   "metadata": {
    "colab_type": "text",
    "id": "ZPhGeQHuUp_m"
   },
   "source": [
    "### Now find the roc_auc_score for each. "
   ]
  },
  {
   "cell_type": "code",
   "execution_count": 111,
   "metadata": {},
   "outputs": [],
   "source": [
    "from sklearn.metrics import roc_auc_score"
   ]
  },
  {
   "cell_type": "code",
   "execution_count": 112,
   "metadata": {},
   "outputs": [
    {
     "data": {
      "text/plain": [
       "0.9760923231141597"
      ]
     },
     "execution_count": 112,
     "metadata": {},
     "output_type": "execute_result"
    }
   ],
   "source": [
    "roc_auc_score(y_test_5,model.predict_proba(X_test)[:,1])"
   ]
  },
  {
   "cell_type": "markdown",
   "metadata": {
    "colab_type": "text",
    "id": "pUfStJ6lUp_p"
   },
   "source": [
    "### Using the yellowbrick library  plot the roc_auc_score curve for the logistic model . "
   ]
  },
  {
   "cell_type": "code",
   "execution_count": 110,
   "metadata": {
    "scrolled": true
   },
   "outputs": [
    {
     "data": {
      "text/plain": [
       "<sklearn.metrics._plot.roc_curve.RocCurveDisplay at 0x130e7c340>"
      ]
     },
     "execution_count": 110,
     "metadata": {},
     "output_type": "execute_result"
    },
    {
     "data": {
      "image/png": "[encoded data removed]",
      "text/plain": [
       "<Figure size 432x288 with 1 Axes>"
      ]
     },
     "metadata": {
      "needs_background": "light"
     },
     "output_type": "display_data"
    }
   ],
   "source": [
    "fig, ax = plt.subplots()\n",
    "plot_roc_curve(model, X_train,y_train_5, c='grey', ax=ax)\n",
    "plot_roc_curve(model, X_test,y_test_5, c= 'green', ax=ax)"
   ]
  },
  {
   "cell_type": "markdown",
   "metadata": {
    "colab_type": "text",
    "id": "vda4i6JZUp_s"
   },
   "source": [
    "### What does this metric tell you? Which classifier works better with this metric in mind?"
   ]
  },
  {
   "cell_type": "code",
   "execution_count": 0,
   "metadata": {
    "colab": {},
    "colab_type": "code",
    "id": "94kkn4-hUp_s"
   },
   "outputs": [],
   "source": []
  }
 ],
 "metadata": {
  "colab": {
   "collapsed_sections": [],
   "name": "main.ipynb",
   "provenance": []
  },
  "kernelspec": {
   "display_name": "Python 3",
   "language": "python",
   "name": "python3"
  },
  "language_info": {
   "codemirror_mode": {
    "name": "ipython",
    "version": 3
   },
   "file_extension": ".py",
   "mimetype": "text/x-python",
   "name": "python",
   "nbconvert_exporter": "python",
   "pygments_lexer": "ipython3",
   "version": "3.8.2"
  },
  "toc": {
   "base_numbering": 1,
   "nav_menu": {},
   "number_sections": true,
   "sideBar": true,
   "skip_h1_title": false,
   "title_cell": "Table of Contents",
   "title_sidebar": "Contents",
   "toc_cell": false,
   "toc_position": {},
   "toc_section_display": true,
   "toc_window_display": false
  },
  "varInspector": {
   "cols": {
    "lenName": 16,
    "lenType": 16,
    "lenVar": 40
   },
   "kernels_config": {
    "python": {
     "delete_cmd_postfix": "",
     "delete_cmd_prefix": "del ",
     "library": "var_list.py",
     "varRefreshCmd": "print(var_dic_list())"
    },
    "r": {
     "delete_cmd_postfix": ") ",
     "delete_cmd_prefix": "rm(",
     "library": "var_list.r",
     "varRefreshCmd": "cat(var_dic_list()) "
    }
   },
   "types_to_exclude": [
    "module",
    "function",
    "builtin_function_or_method",
    "instance",
    "_Feature"
   ],
   "window_display": false
  }
 },
 "nbformat": 4,
 "nbformat_minor": 1
}
