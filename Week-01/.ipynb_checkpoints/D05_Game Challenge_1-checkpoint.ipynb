{
 "cells": [
  {
   "cell_type": "markdown",
   "metadata": {},
   "source": [
    "# Game Challenge No 1:\n",
    "\n",
    "Simple version:\n",
    "\n",
    "* While, for loops e condições (if)\n",
    "* As estruturas de dados que vimos: dicionários, listas, tuplas, strings, etc etc\n",
    "* Funções \n",
    "\n",
    "\n"
   ]
  },
  {
   "cell_type": "markdown",
   "metadata": {},
   "source": [
    "## Step 1: Create the Grids 4x4:"
   ]
  },
  {
   "cell_type": "code",
   "execution_count": null,
   "metadata": {},
   "outputs": [],
   "source": [
    "import pandas as pd\n",
    "import numpy as np\n",
    "\n",
    "x = \"🔲\"\n",
    "\n",
    "pairs = {\n",
    "        'banana':'monkey',\n",
    "        'honey':'bee',\n",
    "        'carrot': 'rabbit',\n",
    "        'leaf': 'ant',\n",
    "        'nuts': 'squirrel',\n",
    "        'bamboo': 'panda', \n",
    "        'apple': 'horse', \n",
    "        'cheese': 'mouse',\n",
    "        }\n",
    "\n",
    "answerGrid = [['banana',pairs.get('bamboo'),'carrot',pairs.get('cheese')],\n",
    "             ['apple','honey',pairs.get('nuts'),'leafs'],\n",
    "             ['carrot',pairs.get('honey'),pairs.get('banana'),'bamboo'],\n",
    "             ['cheese','nuts',pairs.get('leafs'),pairs.get('apple')]]\n",
    "\n",
    "blankGrid =  [[x,x,x,x],\n",
    "             [x,x,x,x],\n",
    "             [x,x,x,x],\n",
    "             [x,x,x,x]]\n",
    "\n",
    "roundGrid =  [[x,x,x,x],\n",
    "             [x,x,x,x],\n",
    "             [x,x,x,x],\n",
    "             [x,x,x,x]]\n",
    "\n",
    "AnswerFrame = pd.DataFrame(answerGrid)\n",
    "BlankFrame = pd.DataFrame(blankGrid, columns =['a','b','c','d'])\n",
    "TempFrame = pd.DataFrame(blankGrid, columns =['a','b','c','d'])\n"
   ]
  },
  {
   "cell_type": "code",
   "execution_count": null,
   "metadata": {},
   "outputs": [],
   "source": []
  },
  {
   "cell_type": "markdown",
   "metadata": {},
   "source": [
    "## Define variables"
   ]
  },
  {
   "cell_type": "code",
   "execution_count": null,
   "metadata": {},
   "outputs": [],
   "source": [
    "rows =['1','2','3','4']\n",
    "columns =['1','2','3','4']\n",
    "\n",
    "chances = 3\n",
    "correct_guesses = []"
   ]
  },
  {
   "cell_type": "markdown",
   "metadata": {},
   "source": [
    "## Define functions to Play game"
   ]
  },
  {
   "cell_type": "code",
   "execution_count": null,
   "metadata": {
    "scrolled": true
   },
   "outputs": [],
   "source": [
    "def printGrid(grid):\n",
    "    '''\n",
    "    prints the wanted grid in the right formatation\n",
    "    '''\n",
    "\n",
    "    for i in range(len(grid)):\n",
    "        print ('\\n', * grid[i])\n",
    "    print (\" \")\n",
    "\n",
    "    \n",
    "def resetGrid (grid):\n",
    "    '''\n",
    "    resets the grid to when all squares are folded\n",
    "    '''\n",
    "    grid  =  [[x,x,x,x],\n",
    "             [x,x,x,x],\n",
    "             [x,x,x,x],\n",
    "             [x,x,x,x]]\n",
    "    return grid"
   ]
  },
  {
   "cell_type": "markdown",
   "metadata": {},
   "source": [
    "## Define the Play Game function"
   ]
  },
  {
   "cell_type": "code",
   "execution_count": null,
   "metadata": {},
   "outputs": [],
   "source": [
    "def play_game (guesses):\n",
    "    '''\n",
    "    the game loop plays the game while the number of rounds is less than the number of chances given\n",
    "    '''    \n",
    "    \n",
    "    global blankGrid\n",
    "    import time\n",
    "    \n",
    "    while guesses <= chances and blankGrid != answerGrid:\n",
    "        \n",
    "        print (f'''Round: {guesses} \n",
    "        Remember: There are {len(columns)} columns and rows\n",
    "        ''')\n",
    "        \n",
    "        while True:\n",
    "            guess1 = str(input(\"Which 🔲 do you choose as the first pair? (column-row) positions \")).split('-')\n",
    "            if len(guess1) == 2 and guess1[1].strip() in columns and guess1[0].strip() in rows:\n",
    "                row1 = guess1[1].strip()\n",
    "                col1 = guess1[0].strip()                \n",
    "                print (f'You chose the 🔲 in position {guess1}.')\n",
    "                blankGrid[int(row1)-1][int(col1)-1] = answerGrid[int(row1)-1][int(col1)-1] \n",
    "                printGrid (blankGrid)\n",
    "                break\n",
    "            else:\n",
    "                print(guess1)\n",
    "                print ('\\n', \"Attention! You must enter: 'number of column' + '-' + 'number of row' of the 🔲 you wish to unlock! \")\n",
    "                print (f'The available columns and rows are: {columns}')\n",
    "\n",
    "        while True:        \n",
    "            guess2 = str(input(\"Which 🔲 do you choose as the second pair? (column-row) positions \")).split('-')\n",
    "            \n",
    "            if guess2 == guess1:\n",
    "                print (\"You must choose a different 🔲 \")\n",
    "            elif len(guess2) == 2 and guess2[0].strip() in columns and guess2[1].strip() in rows:\n",
    "                row2 = guess2[1].strip()\n",
    "                col2 = guess2[0].strip()\n",
    "            \n",
    "                print (f'You chose the 🔲 in position {guess2}.')\n",
    "                blankGrid[int(row2)-1][int(col2)-1] = answerGrid[int(row2)-1][int(col2)-1]\n",
    "                printGrid (blankGrid)\n",
    "                break\n",
    "            else:\n",
    "                print ('\\n', \"You must enter: 'number of column' + '-' + 'number of row' of the 🔲 you wish to unlock! \")\n",
    "                print (f'The available columns and rows are: {rows}')\n",
    "\n",
    "    \n",
    "    # storing information in grids:\n",
    "    \n",
    "        first_i = blankGrid[int(row1)-1][int(col1)-1]\n",
    "        second_i = blankGrid[int(row2)-1][int(col2)-1]\n",
    "\n",
    "        if pairs.get(first_i) == second_i or  pairs.get(second_i) == first_i:\n",
    "            if blankGrid[int(row1)-1][int(col1)-1] == correctGrid[int(row1)-1][int(col1)-1]:\n",
    "                print (\"This is already a match!\")\n",
    "            else:\n",
    "                print (f'You made a match!')\n",
    "                correctGrid[int(row1)-1][int(col1)-1] = answerGrid[int(row1)-1][int(col1)-1] \n",
    "                correctGrid[int(row2)-1][int(col2)-1] = answerGrid[int(row2)-1][int(col2)-1]                \n",
    "                printGrid (correctGrid)\n",
    "\n",
    "        else: \n",
    "            print (\"That's not a match :( Keep looking!\")\n",
    "            \n",
    "            if correctGrid[int(row2)-1][int(col2)-1] == answerGrid[int(row2)-1][int(col2)-1]:\n",
    "                time.sleep(3)\n",
    "                printGrid (correctGrid)\n",
    "                \n",
    "            else:    \n",
    "                time.sleep(3)\n",
    "                blankGrid = resetGrid(blankGrid)\n",
    "                printGrid (blankGrid)\n",
    "\n",
    "        guesses += 1\n",
    "    \n",
    "    while guesses >= 1 and correctGrid == answerGrid:\n",
    "        break\n",
    "        print (f'Congratulations! You fed all the animals in {guesses} rounds!')\n",
    "\n",
    "        \n",
    "    return guesses"
   ]
  },
  {
   "cell_type": "markdown",
   "metadata": {},
   "source": [
    "## Put everything together and play! "
   ]
  },
  {
   "cell_type": "code",
   "execution_count": null,
   "metadata": {
    "scrolled": true
   },
   "outputs": [],
   "source": [
    "# playing game\n",
    "\n",
    "guesses = 0\n",
    "\n",
    "print ('''Welcome to the jungle's survival memory game!\n",
    "\n",
    "Your mission is to feed all the animals of the jungle before they starve.\n",
    "To do that, you have to flip the squares and match the animal to its favourite meal.\n",
    "How to play the game: at each round you will flip 2 squares to match the pair.\n",
    "To flip the squares you need to enter the wanted square's index, by writing its column and row positions\n",
    "\n",
    "<< Example >> 1st round: flip to squares (index: column-row positions)\n",
    "        To flip the first square of the pair, enter \"1-1\"\n",
    "        To flip the second square of the pair, enter \"1-2\"\n",
    "''')\n",
    "while guesses <= chances:\n",
    "    if guesses == 0:\n",
    "        init_game = str(input('Are you ready to play? (yes / no) '))\n",
    "        if init_game in [\"Yes\", \"yes\", 'Y', 'y']:\n",
    "            printGrid(blankGrid)\n",
    "            print('\\n', f'These are the animals and their favourite meal: {pairs}')\n",
    "            guesses += 1\n",
    "        else:\n",
    "            print('Thank you and see you next time!')\n",
    "\n",
    "    elif guesses >= 1:\n",
    "        play_game(guesses)\n",
    "    \n",
    "\n",
    "print (\"Game Over! You ran out of chances! :( \")"
   ]
  },
  {
   "cell_type": "code",
   "execution_count": null,
   "metadata": {},
   "outputs": [],
   "source": []
  },
  {
   "cell_type": "code",
   "execution_count": null,
   "metadata": {},
   "outputs": [],
   "source": []
  },
  {
   "cell_type": "code",
   "execution_count": null,
   "metadata": {},
   "outputs": [],
   "source": []
  },
  {
   "cell_type": "markdown",
   "metadata": {},
   "source": [
    "# Rascunho / Teste"
   ]
  },
  {
   "cell_type": "code",
   "execution_count": null,
   "metadata": {
    "scrolled": false
   },
   "outputs": [],
   "source": [
    "#FULL VERSION OF THE GAME:\n",
    "\n",
    "guesses = 0\n",
    "\n",
    "print ('''Welcome to the jungle's survival memory game!\n",
    "\n",
    "Your mission is to feed all the animals of the jungle before they starve.\n",
    "To do that, you have to flip the squares and match the animal to its favourite meal.\n",
    "How to play the game: at each round you will flip 2 squares to match the pair.\n",
    "To flip the squares you need to enter the wanted square's index, by writing its column and row positions\n",
    "\n",
    "<< Example >> 1st round: flip to squares (index: column-row positions)\n",
    "        To flip the first square of the pair, enter \"1-1\"\n",
    "        To flip the second square of the pair, enter \"1-2\"\n",
    "''')\n",
    "while guesses <= chances:\n",
    "    if guesses == 0:\n",
    "        init_game = str(input('Are you ready to play? (yes / no) '))\n",
    "        if init_game in [\"Yes\", \"yes\", 'Y', 'y']:\n",
    "            printGrid(blankGrid)\n",
    "            print('\\n', f'These are the animals and their favourite meal: {pairs}')\n",
    "            guesses += 1\n",
    "        else:\n",
    "            print('Thank you and see you next time!')\n",
    "\n",
    "    elif guesses >= 1 and roundGrid != answerGrid:\n",
    "        print (f'''Round: {guesses} \n",
    "        Remember: There are {len(columns)} columns and rows\n",
    "        ''')\n",
    "        \n",
    "        while True:\n",
    "            guess1 = str(input(\"Which 🔲 do you choose as the first pair? (column-row) positions \")).split('-')\n",
    "            row1 = guess1[1].strip()\n",
    "            col1 = guess1[0].strip()\n",
    "            if len(guess1) == 2 and col1 in columns and row1 in rows:\n",
    "                print (f'You chose the 🔲 in position {guess1}.')\n",
    "                roundGrid[int(row1)-1][int(col1)-1] = answerGrid[int(row1)-1][int(col1)-1] \n",
    "                printGrid (roundGrid)\n",
    "                break\n",
    "            else:\n",
    "                print(guess1)\n",
    "                print ('\\n', \"Attention! You must enter: 'number of column' + '-' + 'number of row' of the 🔲 you wish to unlock! \")\n",
    "                print (f'The available columns and rows are: {columns}')\n",
    "\n",
    "\n",
    "        while True:        \n",
    "            guess2 = str(input(\"Which 🔲 do you choose as the second pair? (column-row) positions \")).split('-')\n",
    "            row2 = guess2[1].strip()\n",
    "            col2 = guess2[0].strip()\n",
    "            \n",
    "            if guess2 == guess1:\n",
    "                print (\"You must choose a different 🔲 \")\n",
    "            elif len(guess2) == 2 and col2 in columns and row2 in rows:\n",
    "                print (f'You chose the 🔲 in position {guess2}.')\n",
    "                roundGrid[int(row2)-1][int(col2)-1] = answerGrid[int(row2)-1][int(col2)-1]\n",
    "                printGrid (roundGrid)\n",
    "                break\n",
    "            else:\n",
    "                print ('\\n', \"You must enter: 'number of column' + '-' + 'number of row' of the 🔲 you wish to unlock! \")\n",
    "                print (f'The available columns and rows are: {rows}')\n",
    "\n",
    "        first_i = roundGrid[int(row1)-1][int(col1)-1]\n",
    "        second_i = roundGrid[int(row2)-1][int(col2)-1]\n",
    "\n",
    "        if pairs.get(first_i) == second_i or  pairs.get(second_i) == first_i:\n",
    "            print (f'You made a match!')\n",
    "            correct_guesses.append ([first_i, second_i])\n",
    "        else: \n",
    "            if correct_guesses != []:\n",
    "                for i, j in correct_guesses:\n",
    "                    i = roundGrid[0]\n",
    "                    j = roundGrid[1]\n",
    "            elif correct_guesses == []:\n",
    "                first_i = x\n",
    "                second_i = x\n",
    "            print ('Keep looking!')\n",
    "            roundGrid = roundGrid\n",
    "\n",
    "        guesses += 1\n",
    "\n",
    "    elif guesses >= 1 and roundGrid == answerGrid:\n",
    "        print (f'Congratulations! You fed all the animals in {guesses} rounds!')\n",
    "\n",
    "\n",
    "    elif guesses == chances and roundGrid != answerGrid:\n",
    "        break\n",
    "        print (\"Game Over! You ran out of chances! :( \")\n",
    "\n",
    "    else:\n",
    "        print('n deu')\n",
    "\n"
   ]
  },
  {
   "cell_type": "code",
   "execution_count": null,
   "metadata": {},
   "outputs": [],
   "source": []
  },
  {
   "cell_type": "code",
   "execution_count": null,
   "metadata": {},
   "outputs": [],
   "source": []
  },
  {
   "cell_type": "markdown",
   "metadata": {},
   "source": [
    "# TESTE COM PANDA"
   ]
  },
  {
   "cell_type": "code",
   "execution_count": null,
   "metadata": {},
   "outputs": [],
   "source": [
    "AnswerFrame = pd.DataFrame(answerGrid)\n",
    "AnswerFrame"
   ]
  },
  {
   "cell_type": "code",
   "execution_count": null,
   "metadata": {},
   "outputs": [],
   "source": [
    "BlankFrame = pd.DataFrame(blankGrid, columns =['a','b','c','d'])\n",
    "BlankFrame"
   ]
  },
  {
   "cell_type": "code",
   "execution_count": null,
   "metadata": {},
   "outputs": [],
   "source": [
    "# acessing frame:\n",
    "TempFrame = pd.DataFrame(blankGrid, columns =['a','b','c','d'])"
   ]
  },
  {
   "cell_type": "code",
   "execution_count": null,
   "metadata": {},
   "outputs": [],
   "source": [
    "TempFrame"
   ]
  },
  {
   "cell_type": "code",
   "execution_count": null,
   "metadata": {},
   "outputs": [],
   "source": [
    "TempFrame.loc[(0,'a')] = AnswerFrame.loc[(0,1)]\n",
    "TempFrame"
   ]
  },
  {
   "cell_type": "code",
   "execution_count": null,
   "metadata": {
    "scrolled": true
   },
   "outputs": [],
   "source": [
    "CorrectFrame = TempFrame\n",
    "CorrectFrame"
   ]
  }
 ],
 "metadata": {
  "kernelspec": {
   "display_name": "Python 3",
   "language": "python",
   "name": "python3"
  },
  "language_info": {
   "codemirror_mode": {
    "name": "ipython",
    "version": 3
   },
   "file_extension": ".py",
   "mimetype": "text/x-python",
   "name": "python",
   "nbconvert_exporter": "python",
   "pygments_lexer": "ipython3",
   "version": "3.7.3"
  },
  "toc": {
   "base_numbering": 1,
   "nav_menu": {},
   "number_sections": true,
   "sideBar": true,
   "skip_h1_title": false,
   "title_cell": "Table of Contents",
   "title_sidebar": "Contents",
   "toc_cell": false,
   "toc_position": {},
   "toc_section_display": true,
   "toc_window_display": true
  }
 },
 "nbformat": 4,
 "nbformat_minor": 4
}
