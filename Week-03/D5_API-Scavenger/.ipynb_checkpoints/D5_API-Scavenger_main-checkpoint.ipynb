{
 "cells": [
  {
   "cell_type": "markdown",
   "metadata": {
    "colab_type": "text",
    "id": "wn9cH2KuhPQm"
   },
   "source": [
    "# API Scavenger Game\n",
    "\n",
    "## Challenge 1: Fork Languages\n",
    "\n",
    "You will find out how many programming languages are used among all the forks created from the main lab repo of your bootcamp."
   ]
  },
  {
   "cell_type": "code",
   "execution_count": 1,
   "metadata": {
    "colab": {},
    "colab_type": "code",
    "id": "CISPmeFPhPQt"
   },
   "outputs": [],
   "source": [
    "# import libraries here\n",
    "import requests\n",
    "import json\n",
    "import pandas as pd\n",
    "import numpy as np\n",
    "import re"
   ]
  },
  {
   "cell_type": "markdown",
   "metadata": {
    "colab_type": "text",
    "id": "kHZG8N7hhU1w"
   },
   "source": [
    "Assuming the main lab repo is ironhack-datalabs/mad-oct-2018, you will:\n",
    "\n",
    "#### 1. Obtain the full list of forks created from the main lab repo via Github API."
   ]
  },
  {
   "cell_type": "markdown",
   "metadata": {
    "colab_type": "text",
    "id": "X6JuENLGhPQ9"
   },
   "source": [
    "To list forks, we can use the GET method. As explained in the GitHub API documentation, we need to make the request to: GET /repos/:owner/:repo/forks."
   ]
  },
  {
   "cell_type": "code",
   "execution_count": 10,
   "metadata": {
    "colab": {},
    "colab_type": "code",
    "id": "II5D8CkQhPQ_",
    "scrolled": true
   },
   "outputs": [
    {
     "data": {
      "text/plain": [
       "'[{\"id\":220066216,\"node_id\":\"MDEwOlJlcG9zaXRvcnkyMjAwNjYyMTY=\",\"name\":\"mad-oct-2018\",\"full_name\":\"ToniPons97/mad-oct-2018\",\"private\":false,\"owner\":{\"login\":\"ToniPons97\",\"id\":45130294,\"node_id\":\"MDQ6VXNlcjQ1MTMwMjk0\",\"avatar_url\":\"https://avatars3.githubusercontent.com/u/45130294?v=4\",\"gravatar_id\":\"\",\"url\":\"https://api.github.com/users/ToniPons97\",\"html_url\":\"https://github.com/ToniPons97\",\"followers_url\":\"https://api.github.com/users/ToniPons97/followers\",\"following_url\":\"https://api.github.com/users/ToniPons97/following{/other_user}\",\"gists_url\":\"https://api.github.com/users/ToniPons97/gists{/gist_id}\",\"starred_url\":\"https://api.github.com/users/ToniPons97/starred{/owner}{/repo}\",\"subscriptions_url\":\"https://api.github.com/users/ToniPons97/subscriptions\",\"organizations_url\":\"https://api.github.com/users/ToniPons97/orgs\",\"repos_url\":\"https://api.github.com/users/ToniPons97/repos\",\"events_url\":\"https://api.github.com/users/ToniPons97/events{/privacy}\",\"received_events_url\":\"https://api.github.com/users/ToniPons97/received_events\",\"type\":\"User\",\"site_admin\":false},\"html_url\":\"https://github.com/ToniPons97/mad-oct-2018\",\"description\":\"Student labs for Ironhack data analytics bootcamp\",\"fork\":true,\"url\":\"https://api.github.com/repos/ToniPons97/mad-oct-2018\",\"forks_url\":\"https://api.github.com/repos/ToniPons97/mad-oct-2018/forks\",\"keys_url\":\"https://api.github.com/repos/ToniPons97/mad-oct-2018/keys{/key_id}\",\"collaborators_url\":\"https://api.github.com/repos/ToniPons97/mad-oct-2018/collaborators{/collaborator}\",\"teams_url\":\"https://api.github.com/repos/ToniPons97/mad-oct-2018/teams\",\"hooks_url\":\"https://api.github.com/repos/ToniPons97/mad-oct-2018/hooks\",\"issue_events_url\":\"https://api.github.com/repos/ToniPons97/mad-oct-2018/issues/events{/number}\",\"events_url\":\"https://api.github.com/repos/ToniPons97/mad-oct-2018/events\",\"assignees_url\":\"https://api.github.com/repos/ToniPons97/mad-oct-2018/assignees{/user}\",\"branches_url\":\"https://api.github.com/repos/ToniPons97/mad-oct-2018/branches{/branch}\",\"tags_url\":\"https://api.github.com/repos/ToniPons97/mad-oct-2018/tags\",\"blobs_url\":\"https://api.github.com/repos/ToniPons97/mad-oct-2018/git/blobs{/sha}\",\"git_tags_url\":\"https://api.github.com/repos/ToniPons97/mad-oct-2018/git/tags{/sha}\",\"git_refs_url\":\"https://api.github.com/repos/ToniPons97/mad-oct-2018/git/refs{/sha}\",\"trees_url\":\"https://api.github.com/repos/ToniPons97/mad-oct-2018/git/trees{/sha}\",\"statuses_url\":\"https://api.github.com/repos/ToniPons97/mad-oct-2018/statuses/{sha}\",\"languages_url\":\"https://api.github.com/repos/ToniPons97/mad-oct-2018/languages\",\"stargazers_url\":\"https://api.github.com/repos/ToniPons97/mad-oct-2018/stargazers\",\"contributors_url\":\"https://api.github.com/repos/ToniPons97/mad-oct-2018/contributors\",\"subscribers_url\":\"https://api.github.com/repos/ToniPons97/mad-oct-2018/subscribers\",\"subscription_url\":\"https://api.github.com/repos/ToniPons97/mad-oct-2018/subscription\",\"commits_url\":\"https://api.github.com/repos/ToniPons97/mad-oct-2018/commits{/sha}\",\"git_commits_url\":\"https://api.github.com/repos/ToniPons97/mad-oct-2018/git/commits{/sha}\",\"comments_url\":\"https://api.github.com/repos/ToniPons97/mad-oct-2018/comments{/number}\",\"issue_comment_url\":\"https://api.github.com/repos/ToniPons97/mad-oct-2018/issues/comments{/number}\",\"contents_url\":\"https://api.github.com/repos/ToniPons97/mad-oct-2018/contents/{+path}\",\"compare_url\":\"https://api.github.com/repos/ToniPons97/mad-oct-2018/compare/{base}...{head}\",\"merges_url\":\"https://api.github.com/repos/ToniPons97/mad-oct-2018/merges\",\"archive_url\":\"https://api.github.com/repos/ToniPons97/mad-oct-2018/{archive_format}{/ref}\",\"downloads_url\":\"https://api.github.com/repos/ToniPons97/mad-oct-2018/downloads\",\"issues_url\":\"https://api.github.com/repos/ToniPons97/mad-oct-2018/issues{/number}\",\"pulls_url\":\"https://api.github.com/repos/ToniPons97/mad-oct-2018/pulls{/number}\",\"milestones_url\":\"https://api.github.com/repos/ToniPons97/mad-oct-2018/milestones{/number}\",\"notifications_url\":\"https://api.github.com/repos/ToniPons97/mad-oct-2018/notifications{?since,all,participating}\",\"labels_url\":\"https://api.github.com/repos/ToniPons97/mad-oct-2018/labels{/name}\",\"releases_url\":\"https://api.github.com/repos/ToniPons97/mad-oct-2018/releases{/id}\",\"deployments_url\":\"https://api.github.com/repos/ToniPons97/mad-oct-2018/deployments\",\"created_at\":\"2019-11-06T18:44:51Z\",\"updated_at\":\"2019-11-06T18:44:52Z\",\"pushed_at\":\"2019-08-19T11:16:55Z\",\"git_url\":\"git://github.com/ToniPons97/mad-oct-2018.git\",\"ssh_url\":\"git@github.com:ToniPons97/mad-oct-2018.git\",\"clone_url\":\"https://github.com/ToniPons97/mad-oct-2018.git\",\"svn_url\":\"https://github.com/ToniPons97/mad-oct-2018\",\"homepage\":\"\",\"size\":116995,\"stargazers_count\":0,\"watchers_count\":0,\"language\":null,\"has_issues\":false,\"has_projects\":true,\"has_downloads\":true,\"has_wiki\":true,\"has_pages\":false,\"forks_count\":0,\"mirror_url\":null,\"archived\":false,\"disabled\":false,\"open_issues_count\":0,\"license\":{\"key\":\"unlicense\",\"name\":\"The Unlicense\",\"spdx_id\":\"Unlicense\",\"url\":\"https://api.github.com/licenses/unlicense\",\"node_id\":\"MDc6TGljZW5zZTE1\"},\"forks\":0,\"open_issues\":0,\"watchers\":0,\"default_branch\":\"master\"},{\"id\":204100911,\"node_id\":\"MDEwOlJlcG9zaXRvcnkyMDQxMDA5MTE=\",\"name\":\"mad-oct-2018\",\"full_name\":\"rsennes/mad-oct-2018\",\"private\":false,\"owner\":{\"login\":\"rsennes\",\"id\":34886384,\"node_id\":\"MDQ6VXNlcjM0ODg2Mzg0\",\"avatar_url\":\"https://avatars1.githubusercontent.com/u/34886384?v=4\",\"gravatar_id\":\"\",\"url\":\"https://api.github.com/users/rsennes\",\"html_url\":\"https://github.com/rsennes\",\"followers_url\":\"https://api.github.com/users/rsennes/followers\",\"following_url\":\"https://api.github.com/users/rsennes/following{/other_user}\",\"gists_url\":\"https://api.github.com/users/rsennes/gists{/gist_id}\",\"starred_url\":\"https://api.github.com/users/rsennes/starred{/owner}{/repo}\",\"subscriptions_url\":\"https://api.github.com/users/rsennes/subscriptions\",\"organizations_url\":\"https://api.github.com/users/rsennes/orgs\",\"repos_url\":\"https://api.github.com/users/rsennes/repos\",\"events_url\":\"https://api.github.com/users/rsennes/events{/privacy}\",\"received_events_url\":\"https://api.github.com/users/rsennes/received_events\",\"type\":\"User\",\"site_admin\":false},\"html_url\":\"https://github.com/rsennes/mad-oct-2018\",\"description\":\"Student labs for Ironhack data analytics bootcamp\",\"fork\":true,\"url\":\"https://api.github.com/repos/rsennes/mad-oct-2018\",\"forks_url\":\"https://api.github.com/repos/rsennes/mad-oct-2018/forks\",\"keys_url\":\"https://api.github.com/repos/rsennes/mad-oct-2018/keys{/key_id}\",\"collaborators_url\":\"https://api.github.com/repos/rsennes/mad-oct-2018/collaborators{/collaborator}\",\"teams_url\":\"https://api.github.com/repos/rsennes/mad-oct-2018/teams\",\"hooks_url\":\"https://api.github.com/repos/rsennes/mad-oct-2018/hooks\",\"issue_events_url\":\"https://api.github.com/repos/rsennes/mad-oct-2018/issues/events{/number}\",\"events_url\":\"https://api.github.com/repos/rsennes/mad-oct-2018/events\",\"assignees_url\":\"https://api.github.com/repos/rsennes/mad-oct-2018/assignees{/user}\",\"branches_url\":\"https://api.github.com/repos/rsennes/mad-oct-2018/branches{/branch}\",\"tags_url\":\"https://api.github.com/repos/rsennes/mad-oct-2018/tags\",\"blobs_url\":\"https://api.github.com/repos/rsennes/mad-oct-2018/git/blobs{/sha}\",\"git_tags_url\":\"https://api.github.com/repos/rsennes/mad-oct-2018/git/tags{/sha}\",\"git_refs_url\":\"https://api.github.com/repos/rsennes/mad-oct-2018/git/refs{/sha}\",\"trees_url\":\"https://api.github.com/repos/rsennes/mad-oct-2018/git/trees{/sha}\",\"statuses_url\":\"https://api.github.com/repos/rsennes/mad-oct-2018/statuses/{sha}\",\"languages_url\":\"https://api.github.com/repos/rsennes/mad-oct-2018/languages\",\"stargazers_url\":\"https://api.github.com/repos/rsennes/mad-oct-2018/stargazers\",\"contributors_url\":\"https://api.github.com/repos/rsennes/mad-oct-2018/contributors\",\"subscribers_url\":\"https://api.github.com/repos/rsennes/mad-oct-2018/subscribers\",\"subscription_url\":\"https://api.github.com/repos/rsennes/mad-oct-2018/subscription\",\"commits_url\":\"https://api.github.com/repos/rsennes/mad-oct-2018/commits{/sha}\",\"git_commits_url\":\"https://api.github.com/repos/rsennes/mad-oct-2018/git/commits{/sha}\",\"comments_url\":\"https://api.github.com/repos/rsennes/mad-oct-2018/comments{/number}\",\"issue_comment_url\":\"https://api.github.com/repos/rsennes/mad-oct-2018/issues/comments{/number}\",\"contents_url\":\"https://api.github.com/repos/rsennes/mad-oct-2018/contents/{+path}\",\"compare_url\":\"https://api.github.com/repos/rsennes/mad-oct-2018/compare/{base}...{head}\",\"merges_url\":\"https://api.github.com/repos/rsennes/mad-oct-2018/merges\",\"archive_url\":\"https://api.github.com/repos/rsennes/mad-oct-2018/{archive_format}{/ref}\",\"downloads_url\":\"https://api.github.com/repos/rsennes/mad-oct-2018/downloads\",\"issues_url\":\"https://api.github.com/repos/rsennes/mad-oct-2018/issues{/number}\",\"pulls_url\":\"https://api.github.com/repos/rsennes/mad-oct-2018/pulls{/number}\",\"milestones_url\":\"https://api.github.com/repos/rsennes/mad-oct-2018/milestones{/number}\",\"notifications_url\":\"https://api.github.com/repos/rsennes/mad-oct-2018/notifications{?since,all,participating}\",\"labels_url\":\"https://api.github.com/repos/rsennes/mad-oct-2018/labels{/name}\",\"releases_url\":\"https://api.github.com/repos/rsennes/mad-oct-2018/releases{/id}\",\"deployments_url\":\"https://api.github.com/repos/rsennes/mad-oct-2018/deployments\",\"created_at\":\"2019-08-24T03:04:02Z\",\"updated_at\":\"2019-08-24T03:04:04Z\",\"pushed_at\":\"2019-08-19T11:16:55Z\",\"git_url\":\"git://github.com/rsennes/mad-oct-2018.git\",\"ssh_url\":\"git@github.com:rsennes/mad-oct-2018.git\",\"clone_url\":\"https://github.com/rsennes/mad-oct-2018.git\",\"svn_url\":\"https://github.com/rsennes/mad-oct-2018\",\"homepage\":\"\",\"size\":116995,\"stargazers_count\":0,\"watchers_count\":0,\"language\":\"Jupyter Notebook\",\"has_issues\":false,\"has_projects\":true,\"has_downloads\":true,\"has_wiki\":true,\"has_pages\":false,\"forks_count\":0,\"mirror_url\":null,\"archived\":false,\"disabled\":false,\"open_issues_count\":0,\"license\":{\"key\":\"unlicense\",\"name\":\"The Unlicense\",\"spdx_id\":\"Unlicense\",\"url\":\"https://api.github.com/licenses/unlicense\",\"node_id\":\"MDc6TGljZW5zZTE1\"},\"forks\":0,\"open_issues\":0,\"watchers\":0,\"default_branch\":\"master\"},{\"id\":200138127,\"node_id\":\"MDEwOlJlcG9zaXRvcnkyMDAxMzgxMjc=\",\"name\":\"mad-oct-2018\",\"full_name\":\"gggfaria/mad-oct-2018\",\"private\":false,\"owner\":{\"login\":\"gggfaria\",\"id\":13389357,\"node_id\":\"MDQ6VXNlcjEzMzg5MzU3\",\"avatar_url\":\"https://avatars0.githubusercontent.com/u/13389357?v=4\",\"gravatar_id\":\"\",\"url\":\"https://api.github.com/users/gggfaria\",\"html_url\":\"https://github.com/gggfaria\",\"followers_url\":\"https://api.github.com/users/gggfaria/followers\",\"following_url\":\"https://api.github.com/users/gggfaria/following{/other_user}\",\"gists_url\":\"https://api.github.com/users/gggfaria/gists{/gist_id}\",\"starred_url\":\"https://api.github.com/users/gggfaria/starred{/owner}{/repo}\",\"subscriptions_url\":\"https://api.github.com/users/gggfaria/subscriptions\",\"organizations_url\":\"https://api.github.com/users/gggfaria/orgs\",\"repos_url\":\"https://api.github.com/users/gggfaria/repos\",\"events_url\":\"https://api.github.com/users/gggfaria/events{/privacy}\",\"received_events_url\":\"https://api.github.com/users/gggfaria/received_events\",\"type\":\"User\",\"site_admin\":false},\"html_url\":\"https://github.com/gggfaria/mad-oct-2018\",\"description\":\"Student labs for Ironhack data analytics bootcamp\",\"fork\":true,\"url\":\"https://api.github.com/repos/gggfaria/mad-oct-2018\",\"forks_url\":\"https://api.github.com/repos/gggfaria/mad-oct-2018/forks\",\"keys_url\":\"https://api.github.com/repos/gggfaria/mad-oct-2018/keys{/key_id}\",\"collaborators_url\":\"https://api.github.com/repos/gggfaria/mad-oct-2018/collaborators{/collaborator}\",\"teams_url\":\"https://api.github.com/repos/gggfaria/mad-oct-2018/teams\",\"hooks_url\":\"https://api.github.com/repos/gggfaria/mad-oct-2018/hooks\",\"issue_events_url\":\"https://api.github.com/repos/gggfaria/mad-oct-2018/issues/events{/number}\",\"events_url\":\"https://api.github.com/repos/gggfaria/mad-oct-2018/events\",\"assignees_url\":\"https://api.github.com/repos/gggfaria/mad-oct-2018/assignees{/user}\",\"branches_url\":\"https://api.github.com/repos/gggfaria/mad-oct-2018/branches{/branch}\",\"tags_url\":\"https://api.github.com/repos/gggfaria/mad-oct-2018/tags\",\"blobs_url\":\"https://api.github.com/repos/gggfaria/mad-oct-2018/git/blobs{/sha}\",\"git_tags_url\":\"https://api.github.com/repos/gggfaria/mad-oct-2018/git/tags{/sha}\",\"git_refs_url\":\"https://api.github.com/repos/gggfaria/mad-oct-2018/git/refs{/sha}\",\"trees_url\":\"https://api.github.com/repos/gggfaria/mad-oct-2018/git/trees{/sha}\",\"statuses_url\":\"https://api.github.com/repos/gggfaria/mad-oct-2018/statuses/{sha}\",\"languages_url\":\"https://api.github.com/repos/gggfaria/mad-oct-2018/languages\",\"stargazers_url\":\"https://api.github.com/repos/gggfaria/mad-oct-2018/stargazers\",\"contributors_url\":\"https://api.github.com/repos/gggfaria/mad-oct-2018/contributors\",\"subscribers_url\":\"https://api.github.com/repos/gggfaria/mad-oct-2018/subscribers\",\"subscription_url\":\"https://api.github.com/repos/gggfaria/mad-oct-2018/subscription\",\"commits_url\":\"https://api.github.com/repos/gggfaria/mad-oct-2018/commits{/sha}\",\"git_commits_url\":\"https://api.github.com/repos/gggfaria/mad-oct-2018/git/commits{/sha}\",\"comments_url\":\"https://api.github.com/repos/gggfaria/mad-oct-2018/comments{/number}\",\"issue_comment_url\":\"https://api.github.com/repos/gggfaria/mad-oct-2018/issues/comments{/number}\",\"contents_url\":\"https://api.github.com/repos/gggfaria/mad-oct-2018/contents/{+path}\",\"compare_url\":\"https://api.github.com/repos/gggfaria/mad-oct-2018/compare/{base}...{head}\",\"merges_url\":\"https://api.github.com/repos/gggfaria/mad-oct-2018/merges\",\"archive_url\":\"https://api.github.com/repos/gggfaria/mad-oct-2018/{archive_format}{/ref}\",\"downloads_url\":\"https://api.github.com/repos/gggfaria/mad-oct-2018/downloads\",\"issues_url\":\"https://api.github.com/repos/gggfaria/mad-oct-2018/issues{/number}\",\"pulls_url\":\"https://api.github.com/repos/gggfaria/mad-oct-2018/pulls{/number}\",\"milestones_url\":\"https://api.github.com/repos/gggfaria/mad-oct-2018/milestones{/number}\",\"notifications_url\":\"https://api.github.com/repos/gggfaria/mad-oct-2018/notifications{?since,all,participating}\",\"labels_url\":\"https://api.github.com/repos/gggfaria/mad-oct-2018/labels{/name}\",\"releases_url\":\"https://api.github.com/repos/gggfaria/mad-oct-2018/releases{/id}\",\"deployments_url\":\"https://api.github.com/repos/gggfaria/mad-oct-2018/deployments\",\"created_at\":\"2019-08-02T00:46:50Z\",\"updated_at\":\"2019-08-02T00:46:54Z\",\"pushed_at\":\"2019-03-07T15:49:17Z\",\"git_url\":\"git://github.com/gggfaria/mad-oct-2018.git\",\"ssh_url\":\"git@github.com:gggfaria/mad-oct-2018.git\",\"clone_url\":\"https://github.com/gggfaria/mad-oct-2018.git\",\"svn_url\":\"https://github.com/gggfaria/mad-oct-2018\",\"homepage\":\"\",\"size\":117003,\"stargazers_count\":0,\"watchers_count\":0,\"language\":\"Jupyter Notebook\",\"has_issues\":false,\"has_projects\":true,\"has_downloads\":true,\"has_wiki\":true,\"has_pages\":false,\"forks_count\":0,\"mirror_url\":null,\"archived\":false,\"disabled\":false,\"open_issues_count\":0,\"license\":{\"key\":\"unlicense\",\"name\":\"The Unlicense\",\"spdx_id\":\"Unlicense\",\"url\":\"https://api.github.com/licenses/unlicense\",\"node_id\":\"MDc6TGljZW5zZTE1\"},\"forks\":0,\"open_issues\":0,\"watchers\":0,\"default_branch\":\"master\"},{\"id\":198273438,\"node_id\":\"MDEwOlJlcG9zaXRvcnkxOTgyNzM0Mzg=\",\"name\":\"mad-oct-2018\",\"full_name\":\"nancyulric/mad-oct-2018\",\"private\":false,\"owner\":{\"login\":\"nancyulric\",\"id\":50028113,\"node_id\":\"MDQ6VXNlcjUwMDI4MTEz\",\"avatar_url\":\"https://avatars2.githubusercontent.com/u/50028113?v=4\",\"gravatar_id\":\"\",\"url\":\"https://api.github.com/users/nancyulric\",\"html_url\":\"https://github.com/nancyulric\",\"followers_url\":\"https://api.github.com/users/nancyulric/followers\",\"following_url\":\"https://api.github.com/users/nancyulric/following{/other_user}\",\"gists_url\":\"https://api.github.com/users/nancyulric/gists{/gist_id}\",\"starred_url\":\"https://api.github.com/users/nancyulric/starred{/owner}{/repo}\",\"subscriptions_url\":\"https://api.github.com/users/nancyulric/subscriptions\",\"organizations_url\":\"https://api.github.com/users/nancyulric/orgs\",\"repos_url\":\"https://api.github.com/users/nancyulric/repos\",\"events_url\":\"https://api.github.com/users/nancyulric/events{/privacy}\",\"received_events_url\":\"https://api.github.com/users/nancyulric/received_events\",\"type\":\"User\",\"site_admin\":false},\"html_url\":\"https://github.com/nancyulric/mad-oct-2018\",\"description\":\"Student labs for Ironhack data analytics bootcamp\",\"fork\":true,\"url\":\"https://api.github.com/repos/nancyulric/mad-oct-2018\",\"forks_url\":\"https://api.github.com/repos/nancyulric/mad-oct-2018/forks\",\"keys_url\":\"https://api.github.com/repos/nancyulric/mad-oct-2018/keys{/key_id}\",\"collaborators_url\":\"https://api.github.com/repos/nancyulric/mad-oct-2018/collaborators{/collaborator}\",\"teams_url\":\"https://api.github.com/repos/nancyulric/mad-oct-2018/teams\",\"hooks_url\":\"https://api.github.com/repos/nancyulric/mad-oct-2018/hooks\",\"issue_events_url\":\"https://api.github.com/repos/nancyulric/mad-oct-2018/issues/events{/number}\",\"events_url\":\"https://api.github.com/repos/nancyulric/mad-oct-2018/events\",\"assignees_url\":\"https://api.github.com/repos/nancyulric/mad-oct-2018/assignees{/user}\",\"branches_url\":\"https://api.github.com/repos/nancyulric/mad-oct-2018/branches{/branch}\",\"tags_url\":\"https://api.github.com/repos/nancyulric/mad-oct-2018/tags\",\"blobs_url\":\"https://api.github.com/repos/nancyulric/mad-oct-2018/git/blobs{/sha}\",\"git_tags_url\":\"https://api.github.com/repos/nancyulric/mad-oct-2018/git/tags{/sha}\",\"git_refs_url\":\"https://api.github.com/repos/nancyulric/mad-oct-2018/git/refs{/sha}\",\"trees_url\":\"https://api.github.com/repos/nancyulric/mad-oct-2018/git/trees{/sha}\",\"statuses_url\":\"https://api.github.com/repos/nancyulric/mad-oct-2018/statuses/{sha}\",\"languages_url\":\"https://api.github.com/repos/nancyulric/mad-oct-2018/languages\",\"stargazers_url\":\"https://api.github.com/repos/nancyulric/mad-oct-2018/stargazers\",\"contributors_url\":\"https://api.github.com/repos/nancyulric/mad-oct-2018/contributors\",\"subscribers_url\":\"https://api.github.com/repos/nancyulric/mad-oct-2018/subscribers\",\"subscription_url\":\"https://api.github.com/repos/nancyulric/mad-oct-2018/subscription\",\"commits_url\":\"https://api.github.com/repos/nancyulric/mad-oct-2018/commits{/sha}\",\"git_commits_url\":\"https://api.github.com/repos/nancyulric/mad-oct-2018/git/commits{/sha}\",\"comments_url\":\"https://api.github.com/repos/nancyulric/mad-oct-2018/comments{/number}\",\"issue_comment_url\":\"https://api.github.com/repos/nancyulric/mad-oct-2018/issues/comments{/number}\",\"contents_url\":\"https://api.github.com/repos/nancyulric/mad-oct-2018/contents/{+path}\",\"compare_url\":\"https://api.github.com/repos/nancyulric/mad-oct-2018/compare/{base}...{head}\",\"merges_url\":\"https://api.github.com/repos/nancyulric/mad-oct-2018/merges\",\"archive_url\":\"https://api.github.com/repos/nancyulric/mad-oct-2018/{archive_format}{/ref}\",\"downloads_url\":\"https://api.github.com/repos/nancyulric/mad-oct-2018/downloads\",\"issues_url\":\"https://api.github.com/repos/nancyulric/mad-oct-2018/issues{/number}\",\"pulls_url\":\"https://api.github.com/repos/nancyulric/mad-oct-2018/pulls{/number}\",\"milestones_url\":\"https://api.github.com/repos/nancyulric/mad-oct-2018/milestones{/number}\",\"notifications_url\":\"https://api.github.com/repos/nancyulric/mad-oct-2018/notifications{?since,all,participating}\",\"labels_url\":\"https://api.github.com/repos/nancyulric/mad-oct-2018/labels{/name}\",\"releases_url\":\"https://api.github.com/repos/nancyulric/mad-oct-2018/releases{/id}\",\"deployments_url\":\"https://api.github.com/repos/nancyulric/mad-oct-2018/deployments\",\"created_at\":\"2019-07-22T17:41:08Z\",\"updated_at\":\"2019-07-22T17:41:13Z\",\"pushed_at\":\"2019-03-07T15:49:17Z\",\"git_url\":\"git://github.com/nancyulric/mad-oct-2018.git\",\"ssh_url\":\"git@github.com:nancyulric/mad-oct-2018.git\",\"clone_url\":\"https://github.com/nancyulric/mad-oct-2018.git\",\"svn_url\":\"https://github.com/nancyulric/mad-oct-2018\",\"homepage\":\"\",\"size\":117003,\"stargazers_count\":0,\"watchers_count\":0,\"language\":\"Jupyter Notebook\",\"has_issues\":false,\"has_projects\":true,\"has_downloads\":true,\"has_wiki\":true,\"has_pages\":false,\"forks_count\":0,\"mirror_url\":null,\"archived\":false,\"disabled\":false,\"open_issues_count\":0,\"license\":{\"key\":\"unlicense\",\"name\":\"The Unlicense\",\"spdx_id\":\"Unlicense\",\"url\":\"https://api.github.com/licenses/unlicense\",\"node_id\":\"MDc6TGljZW5zZTE1\"},\"forks\":0,\"open_issues\":0,\"watchers\":0,\"default_branch\":\"master\"},{\"id\":167001044,\"node_id\":\"MDEwOlJlcG9zaXRvcnkxNjcwMDEwNDQ=\",\"name\":\"datamad0119\",\"full_name\":\"lmartinezruizit/datamad0119\",\"private\":false,\"owner\":{\"login\":\"lmartinezruizit\",\"id\":25184023,\"node_id\":\"MDQ6VXNlcjI1MTg0MDIz\",\"avatar_url\":\"https://avatars2.githubusercontent.com/u/25184023?v=4\",\"gravatar_id\":\"\",\"url\":\"https://api.github.com/users/lmartinezruizit\",\"html_url\":\"https://github.com/lmartinezruizit\",\"followers_url\":\"https://api.github.com/users/lmartinezruizit/followers\",\"following_url\":\"https://api.github.com/users/lmartinezruizit/following{/other_user}\",\"gists_url\":\"https://api.github.com/users/lmartinezruizit/gists{/gist_id}\",\"starred_url\":\"https://api.github.com/users/lmartinezruizit/starred{/owner}{/repo}\",\"subscriptions_url\":\"https://api.github.com/users/lmartinezruizit/subscriptions\",\"organizations_url\":\"https://api.github.com/users/lmartinezruizit/orgs\",\"repos_url\":\"https://api.github.com/users/lmartinezruizit/repos\",\"events_url\":\"https://api.github.com/users/lmartinezruizit/events{/privacy}\",\"received_events_url\":\"https://api.github.com/users/lmartinezruizit/received_events\",\"type\":\"User\",\"site_admin\":false},\"html_url\":\"https://github.com/lmartinezruizit/datamad0119\",\"description\":\"Student labs for Ironhack data analytics bootcamp\",\"fork\":true,\"url\":\"https://api.github.com/repos/lmartinezruizit/datamad0119\",\"forks_url\":\"https://api.github.com/repos/lmartinezruizit/datamad0119/forks\",\"keys_url\":\"https://api.github.com/repos/lmartinezruizit/datamad0119/keys{/key_id}\",\"collaborators_url\":\"https://api.github.com/repos/lmartinezruizit/datamad0119/collaborators{/collaborator}\",\"teams_url\":\"https://api.github.com/repos/lmartinezruizit/datamad0119/teams\",\"hooks_url\":\"https://api.github.com/repos/lmartinezruizit/datamad0119/hooks\",\"issue_events_url\":\"https://api.github.com/repos/lmartinezruizit/datamad0119/issues/events{/number}\",\"events_url\":\"https://api.github.com/repos/lmartinezruizit/datamad0119/events\",\"assignees_url\":\"https://api.github.com/repos/lmartinezruizit/datamad0119/assignees{/user}\",\"branches_url\":\"https://api.github.com/repos/lmartinezruizit/datamad0119/branches{/branch}\",\"tags_url\":\"https://api.github.com/repos/lmartinezruizit/datamad0119/tags\",\"blobs_url\":\"https://api.github.com/repos/lmartinezruizit/datamad0119/git/blobs{/sha}\",\"git_tags_url\":\"https://api.github.com/repos/lmartinezruizit/datamad0119/git/tags{/sha}\",\"git_refs_url\":\"https://api.github.com/repos/lmartinezruizit/datamad0119/git/refs{/sha}\",\"trees_url\":\"https://api.github.com/repos/lmartinezruizit/datamad0119/git/trees{/sha}\",\"statuses_url\":\"https://api.github.com/repos/lmartinezruizit/datamad0119/statuses/{sha}\",\"languages_url\":\"https://api.github.com/repos/lmartinezruizit/datamad0119/languages\",\"stargazers_url\":\"https://api.github.com/repos/lmartinezruizit/datamad0119/stargazers\",\"contributors_url\":\"https://api.github.com/repos/lmartinezruizit/datamad0119/contributors\",\"subscribers_url\":\"https://api.github.com/repos/lmartinezruizit/datamad0119/subscribers\",\"subscription_url\":\"https://api.github.com/repos/lmartinezruizit/datamad0119/subscription\",\"commits_url\":\"https://api.github.com/repos/lmartinezruizit/datamad0119/commits{/sha}\",\"git_commits_url\":\"https://api.github.com/repos/lmartinezruizit/datamad0119/git/commits{/sha}\",\"comments_url\":\"https://api.github.com/repos/lmartinezruizit/datamad0119/comments{/number}\",\"issue_comment_url\":\"https://api.github.com/repos/lmartinezruizit/datamad0119/issues/comments{/number}\",\"contents_url\":\"https://api.github.com/repos/lmartinezruizit/datamad0119/contents/{+path}\",\"compare_url\":\"https://api.github.com/repos/lmartinezruizit/datamad0119/compare/{base}...{head}\",\"merges_url\":\"https://api.github.com/repos/lmartinezruizit/datamad0119/merges\",\"archive_url\":\"https://api.github.com/repos/lmartinezruizit/datamad0119/{archive_format}{/ref}\",\"downloads_url\":\"https://api.github.com/repos/lmartinezruizit/datamad0119/downloads\",\"issues_url\":\"https://api.github.com/repos/lmartinezruizit/datamad0119/issues{/number}\",\"pulls_url\":\"https://api.github.com/repos/lmartinezruizit/datamad0119/pulls{/number}\",\"milestones_url\":\"https://api.github.com/repos/lmartinezruizit/datamad0119/milestones{/number}\",\"notifications_url\":\"https://api.github.com/repos/lmartinezruizit/datamad0119/notifications{?since,all,participating}\",\"labels_url\":\"https://api.github.com/repos/lmartinezruizit/datamad0119/labels{/name}\",\"releases_url\":\"https://api.github.com/repos/lmartinezruizit/datamad0119/releases{/id}\",\"deployments_url\":\"https://api.github.com/repos/lmartinezruizit/datamad0119/deployments\",\"created_at\":\"2019-01-22T13:42:30Z\",\"updated_at\":\"2019-01-22T13:42:33Z\",\"pushed_at\":\"2019-01-22T08:34:08Z\",\"git_url\":\"git://github.com/lmartinezruizit/datamad0119.git\",\"ssh_url\":\"git@github.com:lmartinezruizit/datamad0119.git\",\"clone_url\":\"https://github.com/lmartinezruizit/datamad0119.git\",\"svn_url\":\"https://github.com/lmartinezruizit/datamad0119\",\"homepage\":\"\",\"size\":116993,\"stargazers_count\":0,\"watchers_count\":0,\"language\":\"Jupyter Notebook\",\"has_issues\":false,\"has_projects\":true,\"has_downloads\":true,\"has_wiki\":true,\"has_pages\":false,\"forks_count\":0,\"mirror_url\":null,\"archived\":false,\"disabled\":false,\"open_issues_count\":0,\"license\":{\"key\":\"unlicense\",\"name\":\"The Unlicense\",\"spdx_id\":\"Unlicense\",\"url\":\"https://api.github.com/licenses/unlicense\",\"node_id\":\"MDc6TGljZW5zZTE1\"},\"forks\":0,\"open_issues\":0,\"watchers\":0,\"default_branch\":\"master\"},{\"id\":162498469,\"node_id\":\"MDEwOlJlcG9zaXRvcnkxNjI0OTg0Njk=\",\"name\":\"madrid-oct-2018\",\"full_name\":\"eye8/madrid-oct-2018\",\"private\":false,\"owner\":{\"login\":\"eye8\",\"id\":1659798,\"node_id\":\"MDQ6VXNlcjE2NTk3OTg=\",\"avatar_url\":\"https://avatars3.githubusercontent.com/u/1659798?v=4\",\"gravatar_id\":\"\",\"url\":\"https://api.github.com/users/eye8\",\"html_url\":\"https://github.com/eye8\",\"followers_url\":\"https://api.github.com/users/eye8/followers\",\"following_url\":\"https://api.github.com/users/eye8/following{/other_user}\",\"gists_url\":\"https://api.github.com/users/eye8/gists{/gist_id}\",\"starred_url\":\"https://api.github.com/users/eye8/starred{/owner}{/repo}\",\"subscriptions_url\":\"https://api.github.com/users/eye8/subscriptions\",\"organizations_url\":\"https://api.github.com/users/eye8/orgs\",\"repos_url\":\"https://api.github.com/users/eye8/repos\",\"events_url\":\"https://api.github.com/users/eye8/events{/privacy}\",\"received_events_url\":\"https://api.github.com/users/eye8/received_events\",\"type\":\"User\",\"site_admin\":false},\"html_url\":\"https://github.com/eye8/madrid-oct-2018\",\"description\":\"Student labs for Ironhack\\'s very first Data Analytics bootcamp!\",\"fork\":true,\"url\":\"https://api.github.com/repos/eye8/madrid-oct-2018\",\"forks_url\":\"https://api.github.com/repos/eye8/madrid-oct-2018/forks\",\"keys_url\":\"https://api.github.com/repos/eye8/madrid-oct-2018/keys{/key_id}\",\"collaborators_url\":\"https://api.github.com/repos/eye8/madrid-oct-2018/collaborators{/collaborator}\",\"teams_url\":\"https://api.github.com/repos/eye8/madrid-oct-2018/teams\",\"hooks_url\":\"https://api.github.com/repos/eye8/madrid-oct-2018/hooks\",\"issue_events_url\":\"https://api.github.com/repos/eye8/madrid-oct-2018/issues/events{/number}\",\"events_url\":\"https://api.github.com/repos/eye8/madrid-oct-2018/events\",\"assignees_url\":\"https://api.github.com/repos/eye8/madrid-oct-2018/assignees{/user}\",\"branches_url\":\"https://api.github.com/repos/eye8/madrid-oct-2018/branches{/branch}\",\"tags_url\":\"https://api.github.com/repos/eye8/madrid-oct-2018/tags\",\"blobs_url\":\"https://api.github.com/repos/eye8/madrid-oct-2018/git/blobs{/sha}\",\"git_tags_url\":\"https://api.github.com/repos/eye8/madrid-oct-2018/git/tags{/sha}\",\"git_refs_url\":\"https://api.github.com/repos/eye8/madrid-oct-2018/git/refs{/sha}\",\"trees_url\":\"https://api.github.com/repos/eye8/madrid-oct-2018/git/trees{/sha}\",\"statuses_url\":\"https://api.github.com/repos/eye8/madrid-oct-2018/statuses/{sha}\",\"languages_url\":\"https://api.github.com/repos/eye8/madrid-oct-2018/languages\",\"stargazers_url\":\"https://api.github.com/repos/eye8/madrid-oct-2018/stargazers\",\"contributors_url\":\"https://api.github.com/repos/eye8/madrid-oct-2018/contributors\",\"subscribers_url\":\"https://api.github.com/repos/eye8/madrid-oct-2018/subscribers\",\"subscription_url\":\"https://api.github.com/repos/eye8/madrid-oct-2018/subscription\",\"commits_url\":\"https://api.github.com/repos/eye8/madrid-oct-2018/commits{/sha}\",\"git_commits_url\":\"https://api.github.com/repos/eye8/madrid-oct-2018/git/commits{/sha}\",\"comments_url\":\"https://api.github.com/repos/eye8/madrid-oct-2018/comments{/number}\",\"issue_comment_url\":\"https://api.github.com/repos/eye8/madrid-oct-2018/issues/comments{/number}\",\"contents_url\":\"https://api.github.com/repos/eye8/madrid-oct-2018/contents/{+path}\",\"compare_url\":\"https://api.github.com/repos/eye8/madrid-oct-2018/compare/{base}...{head}\",\"merges_url\":\"https://api.github.com/repos/eye8/madrid-oct-2018/merges\",\"archive_url\":\"https://api.github.com/repos/eye8/madrid-oct-2018/{archive_format}{/ref}\",\"downloads_url\":\"https://api.github.com/repos/eye8/madrid-oct-2018/downloads\",\"issues_url\":\"https://api.github.com/repos/eye8/madrid-oct-2018/issues{/number}\",\"pulls_url\":\"https://api.github.com/repos/eye8/madrid-oct-2018/pulls{/number}\",\"milestones_url\":\"https://api.github.com/repos/eye8/madrid-oct-2018/milestones{/number}\",\"notifications_url\":\"https://api.github.com/repos/eye8/madrid-oct-2018/notifications{?since,all,participating}\",\"labels_url\":\"https://api.github.com/repos/eye8/madrid-oct-2018/labels{/name}\",\"releases_url\":\"https://api.github.com/repos/eye8/madrid-oct-2018/releases{/id}\",\"deployments_url\":\"https://api.github.com/repos/eye8/madrid-oct-2018/deployments\",\"created_at\":\"2018-12-19T22:40:28Z\",\"updated_at\":\"2018-12-19T22:40:32Z\",\"pushed_at\":\"2018-12-19T22:45:49Z\",\"git_url\":\"git://github.com/eye8/madrid-oct-2018.git\",\"ssh_url\":\"git@github.com:eye8/madrid-oct-2018.git\",\"clone_url\":\"https://github.com/eye8/madrid-oct-2018.git\",\"svn_url\":\"https://github.com/eye8/madrid-oct-2018\",\"homepage\":\"\",\"size\":140237,\"stargazers_count\":0,\"watchers_count\":0,\"language\":\"Jupyter Notebook\",\"has_issues\":false,\"has_projects\":true,\"has_downloads\":true,\"has_wiki\":true,\"has_pages\":false,\"forks_count\":0,\"mirror_url\":null,\"archived\":false,\"disabled\":false,\"open_issues_count\":0,\"license\":{\"key\":\"unlicense\",\"name\":\"The Unlicense\",\"spdx_id\":\"Unlicense\",\"url\":\"https://api.github.com/licenses/unlicense\",\"node_id\":\"MDc6TGljZW5zZTE1\"},\"forks\":0,\"open_issues\":0,\"watchers\":0,\"default_branch\":\"master\"},{\"id\":154625001,\"node_id\":\"MDEwOlJlcG9zaXRvcnkxNTQ2MjUwMDE=\",\"name\":\"madrid-oct-2018\",\"full_name\":\"ArieHassan/madrid-oct-2018\",\"private\":false,\"owner\":{\"login\":\"ArieHassan\",\"id\":43290133,\"node_id\":\"MDQ6VXNlcjQzMjkwMTMz\",\"avatar_url\":\"https://avatars2.githubusercontent.com/u/43290133?v=4\",\"gravatar_id\":\"\",\"url\":\"https://api.github.com/users/ArieHassan\",\"html_url\":\"https://github.com/ArieHassan\",\"followers_url\":\"https://api.github.com/users/ArieHassan/followers\",\"following_url\":\"https://api.github.com/users/ArieHassan/following{/other_user}\",\"gists_url\":\"https://api.github.com/users/ArieHassan/gists{/gist_id}\",\"starred_url\":\"https://api.github.com/users/ArieHassan/starred{/owner}{/repo}\",\"subscriptions_url\":\"https://api.github.com/users/ArieHassan/subscriptions\",\"organizations_url\":\"https://api.github.com/users/ArieHassan/orgs\",\"repos_url\":\"https://api.github.com/users/ArieHassan/repos\",\"events_url\":\"https://api.github.com/users/ArieHassan/events{/privacy}\",\"received_events_url\":\"https://api.github.com/users/ArieHassan/received_events\",\"type\":\"User\",\"site_admin\":false},\"html_url\":\"https://github.com/ArieHassan/madrid-oct-2018\",\"description\":\"Student labs for Ironhack\\'s very first Data Analytics bootcamp!\",\"fork\":true,\"url\":\"https://api.github.com/repos/ArieHassan/madrid-oct-2018\",\"forks_url\":\"https://api.github.com/repos/ArieHassan/madrid-oct-2018/forks\",\"keys_url\":\"https://api.github.com/repos/ArieHassan/madrid-oct-2018/keys{/key_id}\",\"collaborators_url\":\"https://api.github.com/repos/ArieHassan/madrid-oct-2018/collaborators{/collaborator}\",\"teams_url\":\"https://api.github.com/repos/ArieHassan/madrid-oct-2018/teams\",\"hooks_url\":\"https://api.github.com/repos/ArieHassan/madrid-oct-2018/hooks\",\"issue_events_url\":\"https://api.github.com/repos/ArieHassan/madrid-oct-2018/issues/events{/number}\",\"events_url\":\"https://api.github.com/repos/ArieHassan/madrid-oct-2018/events\",\"assignees_url\":\"https://api.github.com/repos/ArieHassan/madrid-oct-2018/assignees{/user}\",\"branches_url\":\"https://api.github.com/repos/ArieHassan/madrid-oct-2018/branches{/branch}\",\"tags_url\":\"https://api.github.com/repos/ArieHassan/madrid-oct-2018/tags\",\"blobs_url\":\"https://api.github.com/repos/ArieHassan/madrid-oct-2018/git/blobs{/sha}\",\"git_tags_url\":\"https://api.github.com/repos/ArieHassan/madrid-oct-2018/git/tags{/sha}\",\"git_refs_url\":\"https://api.github.com/repos/ArieHassan/madrid-oct-2018/git/refs{/sha}\",\"trees_url\":\"https://api.github.com/repos/ArieHassan/madrid-oct-2018/git/trees{/sha}\",\"statuses_url\":\"https://api.github.com/repos/ArieHassan/madrid-oct-2018/statuses/{sha}\",\"languages_url\":\"https://api.github.com/repos/ArieHassan/madrid-oct-2018/languages\",\"stargazers_url\":\"https://api.github.com/repos/ArieHassan/madrid-oct-2018/stargazers\",\"contributors_url\":\"https://api.github.com/repos/ArieHassan/madrid-oct-2018/contributors\",\"subscribers_url\":\"https://api.github.com/repos/ArieHassan/madrid-oct-2018/subscribers\",\"subscription_url\":\"https://api.github.com/repos/ArieHassan/madrid-oct-2018/subscription\",\"commits_url\":\"https://api.github.com/repos/ArieHassan/madrid-oct-2018/commits{/sha}\",\"git_commits_url\":\"https://api.github.com/repos/ArieHassan/madrid-oct-2018/git/commits{/sha}\",\"comments_url\":\"https://api.github.com/repos/ArieHassan/madrid-oct-2018/comments{/number}\",\"issue_comment_url\":\"https://api.github.com/repos/ArieHassan/madrid-oct-2018/issues/comments{/number}\",\"contents_url\":\"https://api.github.com/repos/ArieHassan/madrid-oct-2018/contents/{+path}\",\"compare_url\":\"https://api.github.com/repos/ArieHassan/madrid-oct-2018/compare/{base}...{head}\",\"merges_url\":\"https://api.github.com/repos/ArieHassan/madrid-oct-2018/merges\",\"archive_url\":\"https://api.github.com/repos/ArieHassan/madrid-oct-2018/{archive_format}{/ref}\",\"downloads_url\":\"https://api.github.com/repos/ArieHassan/madrid-oct-2018/downloads\",\"issues_url\":\"https://api.github.com/repos/ArieHassan/madrid-oct-2018/issues{/number}\",\"pulls_url\":\"https://api.github.com/repos/ArieHassan/madrid-oct-2018/pulls{/number}\",\"milestones_url\":\"https://api.github.com/repos/ArieHassan/madrid-oct-2018/milestones{/number}\",\"notifications_url\":\"https://api.github.com/repos/ArieHassan/madrid-oct-2018/notifications{?since,all,participating}\",\"labels_url\":\"https://api.github.com/repos/ArieHassan/madrid-oct-2018/labels{/name}\",\"releases_url\":\"https://api.github.com/repos/ArieHassan/madrid-oct-2018/releases{/id}\",\"deployments_url\":\"https://api.github.com/repos/ArieHassan/madrid-oct-2018/deployments\",\"created_at\":\"2018-10-25T07:02:32Z\",\"updated_at\":\"2018-10-31T11:39:38Z\",\"pushed_at\":\"2018-12-10T16:51:00Z\",\"git_url\":\"git://github.com/ArieHassan/madrid-oct-2018.git\",\"ssh_url\":\"git@github.com:ArieHassan/madrid-oct-2018.git\",\"clone_url\":\"https://github.com/ArieHassan/madrid-oct-2018.git\",\"svn_url\":\"https://github.com/ArieHassan/madrid-oct-2018\",\"homepage\":\"\",\"size\":69773,\"stargazers_count\":0,\"watchers_count\":0,\"language\":\"HTML\",\"has_issues\":false,\"has_projects\":true,\"has_downloads\":true,\"has_wiki\":true,\"has_pages\":false,\"forks_count\":0,\"mirror_url\":null,\"archived\":false,\"disabled\":false,\"open_issues_count\":0,\"license\":{\"key\":\"unlicense\",\"name\":\"The Unlicense\",\"spdx_id\":\"Unlicense\",\"url\":\"https://api.github.com/licenses/unlicense\",\"node_id\":\"MDc6TGljZW5zZTE1\"},\"forks\":0,\"open_issues\":0,\"watchers\":0,\"default_branch\":\"master\"},{\"id\":154291113,\"node_id\":\"MDEwOlJlcG9zaXRvcnkxNTQyOTExMTM=\",\"name\":\"madrid-oct-2018\",\"full_name\":\"cmvalma/madrid-oct-2018\",\"private\":false,\"owner\":{\"login\":\"cmvalma\",\"id\":44215634,\"node_id\":\"MDQ6VXNlcjQ0MjE1NjM0\",\"avatar_url\":\"https://avatars3.githubusercontent.com/u/44215634?v=4\",\"gravatar_id\":\"\",\"url\":\"https://api.github.com/users/cmvalma\",\"html_url\":\"https://github.com/cmvalma\",\"followers_url\":\"https://api.github.com/users/cmvalma/followers\",\"following_url\":\"https://api.github.com/users/cmvalma/following{/other_user}\",\"gists_url\":\"https://api.github.com/users/cmvalma/gists{/gist_id}\",\"starred_url\":\"https://api.github.com/users/cmvalma/starred{/owner}{/repo}\",\"subscriptions_url\":\"https://api.github.com/users/cmvalma/subscriptions\",\"organizations_url\":\"https://api.github.com/users/cmvalma/orgs\",\"repos_url\":\"https://api.github.com/users/cmvalma/repos\",\"events_url\":\"https://api.github.com/users/cmvalma/events{/privacy}\",\"received_events_url\":\"https://api.github.com/users/cmvalma/received_events\",\"type\":\"User\",\"site_admin\":false},\"html_url\":\"https://github.com/cmvalma/madrid-oct-2018\",\"description\":null,\"fork\":true,\"url\":\"https://api.github.com/repos/cmvalma/madrid-oct-2018\",\"forks_url\":\"https://api.github.com/repos/cmvalma/madrid-oct-2018/forks\",\"keys_url\":\"https://api.github.com/repos/cmvalma/madrid-oct-2018/keys{/key_id}\",\"collaborators_url\":\"https://api.github.com/repos/cmvalma/madrid-oct-2018/collaborators{/collaborator}\",\"teams_url\":\"https://api.github.com/repos/cmvalma/madrid-oct-2018/teams\",\"hooks_url\":\"https://api.github.com/repos/cmvalma/madrid-oct-2018/hooks\",\"issue_events_url\":\"https://api.github.com/repos/cmvalma/madrid-oct-2018/issues/events{/number}\",\"events_url\":\"https://api.github.com/repos/cmvalma/madrid-oct-2018/events\",\"assignees_url\":\"https://api.github.com/repos/cmvalma/madrid-oct-2018/assignees{/user}\",\"branches_url\":\"https://api.github.com/repos/cmvalma/madrid-oct-2018/branches{/branch}\",\"tags_url\":\"https://api.github.com/repos/cmvalma/madrid-oct-2018/tags\",\"blobs_url\":\"https://api.github.com/repos/cmvalma/madrid-oct-2018/git/blobs{/sha}\",\"git_tags_url\":\"https://api.github.com/repos/cmvalma/madrid-oct-2018/git/tags{/sha}\",\"git_refs_url\":\"https://api.github.com/repos/cmvalma/madrid-oct-2018/git/refs{/sha}\",\"trees_url\":\"https://api.github.com/repos/cmvalma/madrid-oct-2018/git/trees{/sha}\",\"statuses_url\":\"https://api.github.com/repos/cmvalma/madrid-oct-2018/statuses/{sha}\",\"languages_url\":\"https://api.github.com/repos/cmvalma/madrid-oct-2018/languages\",\"stargazers_url\":\"https://api.github.com/repos/cmvalma/madrid-oct-2018/stargazers\",\"contributors_url\":\"https://api.github.com/repos/cmvalma/madrid-oct-2018/contributors\",\"subscribers_url\":\"https://api.github.com/repos/cmvalma/madrid-oct-2018/subscribers\",\"subscription_url\":\"https://api.github.com/repos/cmvalma/madrid-oct-2018/subscription\",\"commits_url\":\"https://api.github.com/repos/cmvalma/madrid-oct-2018/commits{/sha}\",\"git_commits_url\":\"https://api.github.com/repos/cmvalma/madrid-oct-2018/git/commits{/sha}\",\"comments_url\":\"https://api.github.com/repos/cmvalma/madrid-oct-2018/comments{/number}\",\"issue_comment_url\":\"https://api.github.com/repos/cmvalma/madrid-oct-2018/issues/comments{/number}\",\"contents_url\":\"https://api.github.com/repos/cmvalma/madrid-oct-2018/contents/{+path}\",\"compare_url\":\"https://api.github.com/repos/cmvalma/madrid-oct-2018/compare/{base}...{head}\",\"merges_url\":\"https://api.github.com/repos/cmvalma/madrid-oct-2018/merges\",\"archive_url\":\"https://api.github.com/repos/cmvalma/madrid-oct-2018/{archive_format}{/ref}\",\"downloads_url\":\"https://api.github.com/repos/cmvalma/madrid-oct-2018/downloads\",\"issues_url\":\"https://api.github.com/repos/cmvalma/madrid-oct-2018/issues{/number}\",\"pulls_url\":\"https://api.github.com/repos/cmvalma/madrid-oct-2018/pulls{/number}\",\"milestones_url\":\"https://api.github.com/repos/cmvalma/madrid-oct-2018/milestones{/number}\",\"notifications_url\":\"https://api.github.com/repos/cmvalma/madrid-oct-2018/notifications{?since,all,participating}\",\"labels_url\":\"https://api.github.com/repos/cmvalma/madrid-oct-2018/labels{/name}\",\"releases_url\":\"https://api.github.com/repos/cmvalma/madrid-oct-2018/releases{/id}\",\"deployments_url\":\"https://api.github.com/repos/cmvalma/madrid-oct-2018/deployments\",\"created_at\":\"2018-10-23T08:27:10Z\",\"updated_at\":\"2019-05-07T20:07:26Z\",\"pushed_at\":\"2019-05-07T20:07:20Z\",\"git_url\":\"git://github.com/cmvalma/madrid-oct-2018.git\",\"ssh_url\":\"git@github.com:cmvalma/madrid-oct-2018.git\",\"clone_url\":\"https://github.com/cmvalma/madrid-oct-2018.git\",\"svn_url\":\"https://github.com/cmvalma/madrid-oct-2018\",\"homepage\":null,\"size\":222202,\"stargazers_count\":0,\"watchers_count\":0,\"language\":\"Jupyter Notebook\",\"has_issues\":false,\"has_projects\":true,\"has_downloads\":true,\"has_wiki\":true,\"has_pages\":false,\"forks_count\":0,\"mirror_url\":null,\"archived\":false,\"disabled\":false,\"open_issues_count\":0,\"license\":{\"key\":\"unlicense\",\"name\":\"The Unlicense\",\"spdx_id\":\"Unlicense\",\"url\":\"https://api.github.com/licenses/unlicense\",\"node_id\":\"MDc6TGljZW5zZTE1\"},\"forks\":0,\"open_issues\":0,\"watchers\":0,\"default_branch\":\"master\"},{\"id\":154191482,\"node_id\":\"MDEwOlJlcG9zaXRvcnkxNTQxOTE0ODI=\",\"name\":\"madrid-oct-2018\",\"full_name\":\"criraca/madrid-oct-2018\",\"private\":false,\"owner\":{\"login\":\"criraca\",\"id\":43931837,\"node_id\":\"MDQ6VXNlcjQzOTMxODM3\",\"avatar_url\":\"https://avatars2.githubusercontent.com/u/43931837?v=4\",\"gravatar_id\":\"\",\"url\":\"https://api.github.com/users/criraca\",\"html_url\":\"https://github.com/criraca\",\"followers_url\":\"https://api.github.com/users/criraca/followers\",\"following_url\":\"https://api.github.com/users/criraca/following{/other_user}\",\"gists_url\":\"https://api.github.com/users/criraca/gists{/gist_id}\",\"starred_url\":\"https://api.github.com/users/criraca/starred{/owner}{/repo}\",\"subscriptions_url\":\"https://api.github.com/users/criraca/subscriptions\",\"organizations_url\":\"https://api.github.com/users/criraca/orgs\",\"repos_url\":\"https://api.github.com/users/criraca/repos\",\"events_url\":\"https://api.github.com/users/criraca/events{/privacy}\",\"received_events_url\":\"https://api.github.com/users/criraca/received_events\",\"type\":\"User\",\"site_admin\":false},\"html_url\":\"https://github.com/criraca/madrid-oct-2018\",\"description\":null,\"fork\":true,\"url\":\"https://api.github.com/repos/criraca/madrid-oct-2018\",\"forks_url\":\"https://api.github.com/repos/criraca/madrid-oct-2018/forks\",\"keys_url\":\"https://api.github.com/repos/criraca/madrid-oct-2018/keys{/key_id}\",\"collaborators_url\":\"https://api.github.com/repos/criraca/madrid-oct-2018/collaborators{/collaborator}\",\"teams_url\":\"https://api.github.com/repos/criraca/madrid-oct-2018/teams\",\"hooks_url\":\"https://api.github.com/repos/criraca/madrid-oct-2018/hooks\",\"issue_events_url\":\"https://api.github.com/repos/criraca/madrid-oct-2018/issues/events{/number}\",\"events_url\":\"https://api.github.com/repos/criraca/madrid-oct-2018/events\",\"assignees_url\":\"https://api.github.com/repos/criraca/madrid-oct-2018/assignees{/user}\",\"branches_url\":\"https://api.github.com/repos/criraca/madrid-oct-2018/branches{/branch}\",\"tags_url\":\"https://api.github.com/repos/criraca/madrid-oct-2018/tags\",\"blobs_url\":\"https://api.github.com/repos/criraca/madrid-oct-2018/git/blobs{/sha}\",\"git_tags_url\":\"https://api.github.com/repos/criraca/madrid-oct-2018/git/tags{/sha}\",\"git_refs_url\":\"https://api.github.com/repos/criraca/madrid-oct-2018/git/refs{/sha}\",\"trees_url\":\"https://api.github.com/repos/criraca/madrid-oct-2018/git/trees{/sha}\",\"statuses_url\":\"https://api.github.com/repos/criraca/madrid-oct-2018/statuses/{sha}\",\"languages_url\":\"https://api.github.com/repos/criraca/madrid-oct-2018/languages\",\"stargazers_url\":\"https://api.github.com/repos/criraca/madrid-oct-2018/stargazers\",\"contributors_url\":\"https://api.github.com/repos/criraca/madrid-oct-2018/contributors\",\"subscribers_url\":\"https://api.github.com/repos/criraca/madrid-oct-2018/subscribers\",\"subscription_url\":\"https://api.github.com/repos/criraca/madrid-oct-2018/subscription\",\"commits_url\":\"https://api.github.com/repos/criraca/madrid-oct-2018/commits{/sha}\",\"git_commits_url\":\"https://api.github.com/repos/criraca/madrid-oct-2018/git/commits{/sha}\",\"comments_url\":\"https://api.github.com/repos/criraca/madrid-oct-2018/comments{/number}\",\"issue_comment_url\":\"https://api.github.com/repos/criraca/madrid-oct-2018/issues/comments{/number}\",\"contents_url\":\"https://api.github.com/repos/criraca/madrid-oct-2018/contents/{+path}\",\"compare_url\":\"https://api.github.com/repos/criraca/madrid-oct-2018/compare/{base}...{head}\",\"merges_url\":\"https://api.github.com/repos/criraca/madrid-oct-2018/merges\",\"archive_url\":\"https://api.github.com/repos/criraca/madrid-oct-2018/{archive_format}{/ref}\",\"downloads_url\":\"https://api.github.com/repos/criraca/madrid-oct-2018/downloads\",\"issues_url\":\"https://api.github.com/repos/criraca/madrid-oct-2018/issues{/number}\",\"pulls_url\":\"https://api.github.com/repos/criraca/madrid-oct-2018/pulls{/number}\",\"milestones_url\":\"https://api.github.com/repos/criraca/madrid-oct-2018/milestones{/number}\",\"notifications_url\":\"https://api.github.com/repos/criraca/madrid-oct-2018/notifications{?since,all,participating}\",\"labels_url\":\"https://api.github.com/repos/criraca/madrid-oct-2018/labels{/name}\",\"releases_url\":\"https://api.github.com/repos/criraca/madrid-oct-2018/releases{/id}\",\"deployments_url\":\"https://api.github.com/repos/criraca/madrid-oct-2018/deployments\",\"created_at\":\"2018-10-22T18:04:20Z\",\"updated_at\":\"2018-12-05T14:18:02Z\",\"pushed_at\":\"2018-12-08T20:38:41Z\",\"git_url\":\"git://github.com/criraca/madrid-oct-2018.git\",\"ssh_url\":\"git@github.com:criraca/madrid-oct-2018.git\",\"clone_url\":\"https://github.com/criraca/madrid-oct-2018.git\",\"svn_url\":\"https://github.com/criraca/madrid-oct-2018\",\"homepage\":null,\"size\":59188,\"stargazers_count\":0,\"watchers_count\":0,\"language\":\"Jupyter Notebook\",\"has_issues\":false,\"has_projects\":true,\"has_downloads\":true,\"has_wiki\":true,\"has_pages\":false,\"forks_count\":0,\"mirror_url\":null,\"archived\":false,\"disabled\":false,\"open_issues_count\":0,\"license\":{\"key\":\"unlicense\",\"name\":\"The Unlicense\",\"spdx_id\":\"Unlicense\",\"url\":\"https://api.github.com/licenses/unlicense\",\"node_id\":\"MDc6TGljZW5zZTE1\"},\"forks\":0,\"open_issues\":0,\"watchers\":0,\"default_branch\":\"master\"},{\"id\":154105473,\"node_id\":\"MDEwOlJlcG9zaXRvcnkxNTQxMDU0NzM=\",\"name\":\"madrid-oct-2018\",\"full_name\":\"AlbertoCastellanos/madrid-oct-2018\",\"private\":false,\"owner\":{\"login\":\"AlbertoCastellanos\",\"id\":43521577,\"node_id\":\"MDQ6VXNlcjQzNTIxNTc3\",\"avatar_url\":\"https://avatars1.githubusercontent.com/u/43521577?v=4\",\"gravatar_id\":\"\",\"url\":\"https://api.github.com/users/AlbertoCastellanos\",\"html_url\":\"https://github.com/AlbertoCastellanos\",\"followers_url\":\"https://api.github.com/users/AlbertoCastellanos/followers\",\"following_url\":\"https://api.github.com/users/AlbertoCastellanos/following{/other_user}\",\"gists_url\":\"https://api.github.com/users/AlbertoCastellanos/gists{/gist_id}\",\"starred_url\":\"https://api.github.com/users/AlbertoCastellanos/starred{/owner}{/repo}\",\"subscriptions_url\":\"https://api.github.com/users/AlbertoCastellanos/subscriptions\",\"organizations_url\":\"https://api.github.com/users/AlbertoCastellanos/orgs\",\"repos_url\":\"https://api.github.com/users/AlbertoCastellanos/repos\",\"events_url\":\"https://api.github.com/users/AlbertoCastellanos/events{/privacy}\",\"received_events_url\":\"https://api.github.com/users/AlbertoCastellanos/received_events\",\"type\":\"User\",\"site_admin\":false},\"html_url\":\"https://github.com/AlbertoCastellanos/madrid-oct-2018\",\"description\":null,\"fork\":true,\"url\":\"https://api.github.com/repos/AlbertoCastellanos/madrid-oct-2018\",\"forks_url\":\"https://api.github.com/repos/AlbertoCastellanos/madrid-oct-2018/forks\",\"keys_url\":\"https://api.github.com/repos/AlbertoCastellanos/madrid-oct-2018/keys{/key_id}\",\"collaborators_url\":\"https://api.github.com/repos/AlbertoCastellanos/madrid-oct-2018/collaborators{/collaborator}\",\"teams_url\":\"https://api.github.com/repos/AlbertoCastellanos/madrid-oct-2018/teams\",\"hooks_url\":\"https://api.github.com/repos/AlbertoCastellanos/madrid-oct-2018/hooks\",\"issue_events_url\":\"https://api.github.com/repos/AlbertoCastellanos/madrid-oct-2018/issues/events{/number}\",\"events_url\":\"https://api.github.com/repos/AlbertoCastellanos/madrid-oct-2018/events\",\"assignees_url\":\"https://api.github.com/repos/AlbertoCastellanos/madrid-oct-2018/assignees{/user}\",\"branches_url\":\"https://api.github.com/repos/AlbertoCastellanos/madrid-oct-2018/branches{/branch}\",\"tags_url\":\"https://api.github.com/repos/AlbertoCastellanos/madrid-oct-2018/tags\",\"blobs_url\":\"https://api.github.com/repos/AlbertoCastellanos/madrid-oct-2018/git/blobs{/sha}\",\"git_tags_url\":\"https://api.github.com/repos/AlbertoCastellanos/madrid-oct-2018/git/tags{/sha}\",\"git_refs_url\":\"https://api.github.com/repos/AlbertoCastellanos/madrid-oct-2018/git/refs{/sha}\",\"trees_url\":\"https://api.github.com/repos/AlbertoCastellanos/madrid-oct-2018/git/trees{/sha}\",\"statuses_url\":\"https://api.github.com/repos/AlbertoCastellanos/madrid-oct-2018/statuses/{sha}\",\"languages_url\":\"https://api.github.com/repos/AlbertoCastellanos/madrid-oct-2018/languages\",\"stargazers_url\":\"https://api.github.com/repos/AlbertoCastellanos/madrid-oct-2018/stargazers\",\"contributors_url\":\"https://api.github.com/repos/AlbertoCastellanos/madrid-oct-2018/contributors\",\"subscribers_url\":\"https://api.github.com/repos/AlbertoCastellanos/madrid-oct-2018/subscribers\",\"subscription_url\":\"https://api.github.com/repos/AlbertoCastellanos/madrid-oct-2018/subscription\",\"commits_url\":\"https://api.github.com/repos/AlbertoCastellanos/madrid-oct-2018/commits{/sha}\",\"git_commits_url\":\"https://api.github.com/repos/AlbertoCastellanos/madrid-oct-2018/git/commits{/sha}\",\"comments_url\":\"https://api.github.com/repos/AlbertoCastellanos/madrid-oct-2018/comments{/number}\",\"issue_comment_url\":\"https://api.github.com/repos/AlbertoCastellanos/madrid-oct-2018/issues/comments{/number}\",\"contents_url\":\"https://api.github.com/repos/AlbertoCastellanos/madrid-oct-2018/contents/{+path}\",\"compare_url\":\"https://api.github.com/repos/AlbertoCastellanos/madrid-oct-2018/compare/{base}...{head}\",\"merges_url\":\"https://api.github.com/repos/AlbertoCastellanos/madrid-oct-2018/merges\",\"archive_url\":\"https://api.github.com/repos/AlbertoCastellanos/madrid-oct-2018/{archive_format}{/ref}\",\"downloads_url\":\"https://api.github.com/repos/AlbertoCastellanos/madrid-oct-2018/downloads\",\"issues_url\":\"https://api.github.com/repos/AlbertoCastellanos/madrid-oct-2018/issues{/number}\",\"pulls_url\":\"https://api.github.com/repos/AlbertoCastellanos/madrid-oct-2018/pulls{/number}\",\"milestones_url\":\"https://api.github.com/repos/AlbertoCastellanos/madrid-oct-2018/milestones{/number}\",\"notifications_url\":\"https://api.github.com/repos/AlbertoCastellanos/madrid-oct-2018/notifications{?since,all,participating}\",\"labels_url\":\"https://api.github.com/repos/AlbertoCastellanos/madrid-oct-2018/labels{/name}\",\"releases_url\":\"https://api.github.com/repos/AlbertoCastellanos/madrid-oct-2018/releases{/id}\",\"deployments_url\":\"https://api.github.com/repos/AlbertoCastellanos/madrid-oct-2018/deployments\",\"created_at\":\"2018-10-22T07:50:41Z\",\"updated_at\":\"2018-12-03T14:18:22Z\",\"pushed_at\":\"2018-12-09T18:51:54Z\",\"git_url\":\"git://github.com/AlbertoCastellanos/madrid-oct-2018.git\",\"ssh_url\":\"git@github.com:AlbertoCastellanos/madrid-oct-2018.git\",\"clone_url\":\"https://github.com/AlbertoCastellanos/madrid-oct-2018.git\",\"svn_url\":\"https://github.com/AlbertoCastellanos/madrid-oct-2018\",\"homepage\":null,\"size\":93337,\"stargazers_count\":0,\"watchers_count\":0,\"language\":\"Jupyter Notebook\",\"has_issues\":false,\"has_projects\":true,\"has_downloads\":true,\"has_wiki\":true,\"has_pages\":false,\"forks_count\":0,\"mirror_url\":null,\"archived\":false,\"disabled\":false,\"open_issues_count\":0,\"license\":null,\"forks\":0,\"open_issues\":0,\"watchers\":0,\"default_branch\":\"master\"},{\"id\":153788059,\"node_id\":\"MDEwOlJlcG9zaXRvcnkxNTM3ODgwNTk=\",\"name\":\"madrid-oct-2018\",\"full_name\":\"elenajpp/madrid-oct-2018\",\"private\":false,\"owner\":{\"login\":\"elenajpp\",\"id\":44167409,\"node_id\":\"MDQ6VXNlcjQ0MTY3NDA5\",\"avatar_url\":\"https://avatars2.githubusercontent.com/u/44167409?v=4\",\"gravatar_id\":\"\",\"url\":\"https://api.github.com/users/elenajpp\",\"html_url\":\"https://github.com/elenajpp\",\"followers_url\":\"https://api.github.com/users/elenajpp/followers\",\"following_url\":\"https://api.github.com/users/elenajpp/following{/other_user}\",\"gists_url\":\"https://api.github.com/users/elenajpp/gists{/gist_id}\",\"starred_url\":\"https://api.github.com/users/elenajpp/starred{/owner}{/repo}\",\"subscriptions_url\":\"https://api.github.com/users/elenajpp/subscriptions\",\"organizations_url\":\"https://api.github.com/users/elenajpp/orgs\",\"repos_url\":\"https://api.github.com/users/elenajpp/repos\",\"events_url\":\"https://api.github.com/users/elenajpp/events{/privacy}\",\"received_events_url\":\"https://api.github.com/users/elenajpp/received_events\",\"type\":\"User\",\"site_admin\":false},\"html_url\":\"https://github.com/elenajpp/madrid-oct-2018\",\"description\":null,\"fork\":true,\"url\":\"https://api.github.com/repos/elenajpp/madrid-oct-2018\",\"forks_url\":\"https://api.github.com/repos/elenajpp/madrid-oct-2018/forks\",\"keys_url\":\"https://api.github.com/repos/elenajpp/madrid-oct-2018/keys{/key_id}\",\"collaborators_url\":\"https://api.github.com/repos/elenajpp/madrid-oct-2018/collaborators{/collaborator}\",\"teams_url\":\"https://api.github.com/repos/elenajpp/madrid-oct-2018/teams\",\"hooks_url\":\"https://api.github.com/repos/elenajpp/madrid-oct-2018/hooks\",\"issue_events_url\":\"https://api.github.com/repos/elenajpp/madrid-oct-2018/issues/events{/number}\",\"events_url\":\"https://api.github.com/repos/elenajpp/madrid-oct-2018/events\",\"assignees_url\":\"https://api.github.com/repos/elenajpp/madrid-oct-2018/assignees{/user}\",\"branches_url\":\"https://api.github.com/repos/elenajpp/madrid-oct-2018/branches{/branch}\",\"tags_url\":\"https://api.github.com/repos/elenajpp/madrid-oct-2018/tags\",\"blobs_url\":\"https://api.github.com/repos/elenajpp/madrid-oct-2018/git/blobs{/sha}\",\"git_tags_url\":\"https://api.github.com/repos/elenajpp/madrid-oct-2018/git/tags{/sha}\",\"git_refs_url\":\"https://api.github.com/repos/elenajpp/madrid-oct-2018/git/refs{/sha}\",\"trees_url\":\"https://api.github.com/repos/elenajpp/madrid-oct-2018/git/trees{/sha}\",\"statuses_url\":\"https://api.github.com/repos/elenajpp/madrid-oct-2018/statuses/{sha}\",\"languages_url\":\"https://api.github.com/repos/elenajpp/madrid-oct-2018/languages\",\"stargazers_url\":\"https://api.github.com/repos/elenajpp/madrid-oct-2018/stargazers\",\"contributors_url\":\"https://api.github.com/repos/elenajpp/madrid-oct-2018/contributors\",\"subscribers_url\":\"https://api.github.com/repos/elenajpp/madrid-oct-2018/subscribers\",\"subscription_url\":\"https://api.github.com/repos/elenajpp/madrid-oct-2018/subscription\",\"commits_url\":\"https://api.github.com/repos/elenajpp/madrid-oct-2018/commits{/sha}\",\"git_commits_url\":\"https://api.github.com/repos/elenajpp/madrid-oct-2018/git/commits{/sha}\",\"comments_url\":\"https://api.github.com/repos/elenajpp/madrid-oct-2018/comments{/number}\",\"issue_comment_url\":\"https://api.github.com/repos/elenajpp/madrid-oct-2018/issues/comments{/number}\",\"contents_url\":\"https://api.github.com/repos/elenajpp/madrid-oct-2018/contents/{+path}\",\"compare_url\":\"https://api.github.com/repos/elenajpp/madrid-oct-2018/compare/{base}...{head}\",\"merges_url\":\"https://api.github.com/repos/elenajpp/madrid-oct-2018/merges\",\"archive_url\":\"https://api.github.com/repos/elenajpp/madrid-oct-2018/{archive_format}{/ref}\",\"downloads_url\":\"https://api.github.com/repos/elenajpp/madrid-oct-2018/downloads\",\"issues_url\":\"https://api.github.com/repos/elenajpp/madrid-oct-2018/issues{/number}\",\"pulls_url\":\"https://api.github.com/repos/elenajpp/madrid-oct-2018/pulls{/number}\",\"milestones_url\":\"https://api.github.com/repos/elenajpp/madrid-oct-2018/milestones{/number}\",\"notifications_url\":\"https://api.github.com/repos/elenajpp/madrid-oct-2018/notifications{?since,all,participating}\",\"labels_url\":\"https://api.github.com/repos/elenajpp/madrid-oct-2018/labels{/name}\",\"releases_url\":\"https://api.github.com/repos/elenajpp/madrid-oct-2018/releases{/id}\",\"deployments_url\":\"https://api.github.com/repos/elenajpp/madrid-oct-2018/deployments\",\"created_at\":\"2018-10-19T13:35:55Z\",\"updated_at\":\"2018-12-05T15:59:58Z\",\"pushed_at\":\"2018-12-10T15:52:37Z\",\"git_url\":\"git://github.com/elenajpp/madrid-oct-2018.git\",\"ssh_url\":\"git@github.com:elenajpp/madrid-oct-2018.git\",\"clone_url\":\"https://github.com/elenajpp/madrid-oct-2018.git\",\"svn_url\":\"https://github.com/elenajpp/madrid-oct-2018\",\"homepage\":null,\"size\":172434,\"stargazers_count\":0,\"watchers_count\":0,\"language\":\"Jupyter Notebook\",\"has_issues\":false,\"has_projects\":true,\"has_downloads\":true,\"has_wiki\":true,\"has_pages\":false,\"forks_count\":0,\"mirror_url\":null,\"archived\":false,\"disabled\":false,\"open_issues_count\":0,\"license\":{\"key\":\"unlicense\",\"name\":\"The Unlicense\",\"spdx_id\":\"Unlicense\",\"url\":\"https://api.github.com/licenses/unlicense\",\"node_id\":\"MDc6TGljZW5zZTE1\"},\"forks\":0,\"open_issues\":0,\"watchers\":0,\"default_branch\":\"master\"},{\"id\":153787890,\"node_id\":\"MDEwOlJlcG9zaXRvcnkxNTM3ODc4OTA=\",\"name\":\"madrid-oct-2018\",\"full_name\":\"pablobarrio/madrid-oct-2018\",\"private\":false,\"owner\":{\"login\":\"pablobarrio\",\"id\":44111839,\"node_id\":\"MDQ6VXNlcjQ0MTExODM5\",\"avatar_url\":\"https://avatars2.githubusercontent.com/u/44111839?v=4\",\"gravatar_id\":\"\",\"url\":\"https://api.github.com/users/pablobarrio\",\"html_url\":\"https://github.com/pablobarrio\",\"followers_url\":\"https://api.github.com/users/pablobarrio/followers\",\"following_url\":\"https://api.github.com/users/pablobarrio/following{/other_user}\",\"gists_url\":\"https://api.github.com/users/pablobarrio/gists{/gist_id}\",\"starred_url\":\"https://api.github.com/users/pablobarrio/starred{/owner}{/repo}\",\"subscriptions_url\":\"https://api.github.com/users/pablobarrio/subscriptions\",\"organizations_url\":\"https://api.github.com/users/pablobarrio/orgs\",\"repos_url\":\"https://api.github.com/users/pablobarrio/repos\",\"events_url\":\"https://api.github.com/users/pablobarrio/events{/privacy}\",\"received_events_url\":\"https://api.github.com/users/pablobarrio/received_events\",\"type\":\"User\",\"site_admin\":false},\"html_url\":\"https://github.com/pablobarrio/madrid-oct-2018\",\"description\":null,\"fork\":true,\"url\":\"https://api.github.com/repos/pablobarrio/madrid-oct-2018\",\"forks_url\":\"https://api.github.com/repos/pablobarrio/madrid-oct-2018/forks\",\"keys_url\":\"https://api.github.com/repos/pablobarrio/madrid-oct-2018/keys{/key_id}\",\"collaborators_url\":\"https://api.github.com/repos/pablobarrio/madrid-oct-2018/collaborators{/collaborator}\",\"teams_url\":\"https://api.github.com/repos/pablobarrio/madrid-oct-2018/teams\",\"hooks_url\":\"https://api.github.com/repos/pablobarrio/madrid-oct-2018/hooks\",\"issue_events_url\":\"https://api.github.com/repos/pablobarrio/madrid-oct-2018/issues/events{/number}\",\"events_url\":\"https://api.github.com/repos/pablobarrio/madrid-oct-2018/events\",\"assignees_url\":\"https://api.github.com/repos/pablobarrio/madrid-oct-2018/assignees{/user}\",\"branches_url\":\"https://api.github.com/repos/pablobarrio/madrid-oct-2018/branches{/branch}\",\"tags_url\":\"https://api.github.com/repos/pablobarrio/madrid-oct-2018/tags\",\"blobs_url\":\"https://api.github.com/repos/pablobarrio/madrid-oct-2018/git/blobs{/sha}\",\"git_tags_url\":\"https://api.github.com/repos/pablobarrio/madrid-oct-2018/git/tags{/sha}\",\"git_refs_url\":\"https://api.github.com/repos/pablobarrio/madrid-oct-2018/git/refs{/sha}\",\"trees_url\":\"https://api.github.com/repos/pablobarrio/madrid-oct-2018/git/trees{/sha}\",\"statuses_url\":\"https://api.github.com/repos/pablobarrio/madrid-oct-2018/statuses/{sha}\",\"languages_url\":\"https://api.github.com/repos/pablobarrio/madrid-oct-2018/languages\",\"stargazers_url\":\"https://api.github.com/repos/pablobarrio/madrid-oct-2018/stargazers\",\"contributors_url\":\"https://api.github.com/repos/pablobarrio/madrid-oct-2018/contributors\",\"subscribers_url\":\"https://api.github.com/repos/pablobarrio/madrid-oct-2018/subscribers\",\"subscription_url\":\"https://api.github.com/repos/pablobarrio/madrid-oct-2018/subscription\",\"commits_url\":\"https://api.github.com/repos/pablobarrio/madrid-oct-2018/commits{/sha}\",\"git_commits_url\":\"https://api.github.com/repos/pablobarrio/madrid-oct-2018/git/commits{/sha}\",\"comments_url\":\"https://api.github.com/repos/pablobarrio/madrid-oct-2018/comments{/number}\",\"issue_comment_url\":\"https://api.github.com/repos/pablobarrio/madrid-oct-2018/issues/comments{/number}\",\"contents_url\":\"https://api.github.com/repos/pablobarrio/madrid-oct-2018/contents/{+path}\",\"compare_url\":\"https://api.github.com/repos/pablobarrio/madrid-oct-2018/compare/{base}...{head}\",\"merges_url\":\"https://api.github.com/repos/pablobarrio/madrid-oct-2018/merges\",\"archive_url\":\"https://api.github.com/repos/pablobarrio/madrid-oct-2018/{archive_format}{/ref}\",\"downloads_url\":\"https://api.github.com/repos/pablobarrio/madrid-oct-2018/downloads\",\"issues_url\":\"https://api.github.com/repos/pablobarrio/madrid-oct-2018/issues{/number}\",\"pulls_url\":\"https://api.github.com/repos/pablobarrio/madrid-oct-2018/pulls{/number}\",\"milestones_url\":\"https://api.github.com/repos/pablobarrio/madrid-oct-2018/milestones{/number}\",\"notifications_url\":\"https://api.github.com/repos/pablobarrio/madrid-oct-2018/notifications{?since,all,participating}\",\"labels_url\":\"https://api.github.com/repos/pablobarrio/madrid-oct-2018/labels{/name}\",\"releases_url\":\"https://api.github.com/repos/pablobarrio/madrid-oct-2018/releases{/id}\",\"deployments_url\":\"https://api.github.com/repos/pablobarrio/madrid-oct-2018/deployments\",\"created_at\":\"2018-10-19T13:34:59Z\",\"updated_at\":\"2018-10-23T15:37:48Z\",\"pushed_at\":\"2018-11-26T08:05:58Z\",\"git_url\":\"git://github.com/pablobarrio/madrid-oct-2018.git\",\"ssh_url\":\"git@github.com:pablobarrio/madrid-oct-2018.git\",\"clone_url\":\"https://github.com/pablobarrio/madrid-oct-2018.git\",\"svn_url\":\"https://github.com/pablobarrio/madrid-oct-2018\",\"homepage\":null,\"size\":78142,\"stargazers_count\":0,\"watchers_count\":0,\"language\":\"Jupyter Notebook\",\"has_issues\":false,\"has_projects\":true,\"has_downloads\":true,\"has_wiki\":true,\"has_pages\":false,\"forks_count\":0,\"mirror_url\":null,\"archived\":false,\"disabled\":false,\"open_issues_count\":0,\"license\":{\"key\":\"unlicense\",\"name\":\"The Unlicense\",\"spdx_id\":\"Unlicense\",\"url\":\"https://api.github.com/licenses/unlicense\",\"node_id\":\"MDc6TGljZW5zZTE1\"},\"forks\":0,\"open_issues\":0,\"watchers\":0,\"default_branch\":\"master\"},{\"id\":153787814,\"node_id\":\"MDEwOlJlcG9zaXRvcnkxNTM3ODc4MTQ=\",\"name\":\"madrid-oct-2018\",\"full_name\":\"miriammg/madrid-oct-2018\",\"private\":false,\"owner\":{\"login\":\"miriammg\",\"id\":43962086,\"node_id\":\"MDQ6VXNlcjQzOTYyMDg2\",\"avatar_url\":\"https://avatars2.githubusercontent.com/u/43962086?v=4\",\"gravatar_id\":\"\",\"url\":\"https://api.github.com/users/miriammg\",\"html_url\":\"https://github.com/miriammg\",\"followers_url\":\"https://api.github.com/users/miriammg/followers\",\"following_url\":\"https://api.github.com/users/miriammg/following{/other_user}\",\"gists_url\":\"https://api.github.com/users/miriammg/gists{/gist_id}\",\"starred_url\":\"https://api.github.com/users/miriammg/starred{/owner}{/repo}\",\"subscriptions_url\":\"https://api.github.com/users/miriammg/subscriptions\",\"organizations_url\":\"https://api.github.com/users/miriammg/orgs\",\"repos_url\":\"https://api.github.com/users/miriammg/repos\",\"events_url\":\"https://api.github.com/users/miriammg/events{/privacy}\",\"received_events_url\":\"https://api.github.com/users/miriammg/received_events\",\"type\":\"User\",\"site_admin\":false},\"html_url\":\"https://github.com/miriammg/madrid-oct-2018\",\"description\":null,\"fork\":true,\"url\":\"https://api.github.com/repos/miriammg/madrid-oct-2018\",\"forks_url\":\"https://api.github.com/repos/miriammg/madrid-oct-2018/forks\",\"keys_url\":\"https://api.github.com/repos/miriammg/madrid-oct-2018/keys{/key_id}\",\"collaborators_url\":\"https://api.github.com/repos/miriammg/madrid-oct-2018/collaborators{/collaborator}\",\"teams_url\":\"https://api.github.com/repos/miriammg/madrid-oct-2018/teams\",\"hooks_url\":\"https://api.github.com/repos/miriammg/madrid-oct-2018/hooks\",\"issue_events_url\":\"https://api.github.com/repos/miriammg/madrid-oct-2018/issues/events{/number}\",\"events_url\":\"https://api.github.com/repos/miriammg/madrid-oct-2018/events\",\"assignees_url\":\"https://api.github.com/repos/miriammg/madrid-oct-2018/assignees{/user}\",\"branches_url\":\"https://api.github.com/repos/miriammg/madrid-oct-2018/branches{/branch}\",\"tags_url\":\"https://api.github.com/repos/miriammg/madrid-oct-2018/tags\",\"blobs_url\":\"https://api.github.com/repos/miriammg/madrid-oct-2018/git/blobs{/sha}\",\"git_tags_url\":\"https://api.github.com/repos/miriammg/madrid-oct-2018/git/tags{/sha}\",\"git_refs_url\":\"https://api.github.com/repos/miriammg/madrid-oct-2018/git/refs{/sha}\",\"trees_url\":\"https://api.github.com/repos/miriammg/madrid-oct-2018/git/trees{/sha}\",\"statuses_url\":\"https://api.github.com/repos/miriammg/madrid-oct-2018/statuses/{sha}\",\"languages_url\":\"https://api.github.com/repos/miriammg/madrid-oct-2018/languages\",\"stargazers_url\":\"https://api.github.com/repos/miriammg/madrid-oct-2018/stargazers\",\"contributors_url\":\"https://api.github.com/repos/miriammg/madrid-oct-2018/contributors\",\"subscribers_url\":\"https://api.github.com/repos/miriammg/madrid-oct-2018/subscribers\",\"subscription_url\":\"https://api.github.com/repos/miriammg/madrid-oct-2018/subscription\",\"commits_url\":\"https://api.github.com/repos/miriammg/madrid-oct-2018/commits{/sha}\",\"git_commits_url\":\"https://api.github.com/repos/miriammg/madrid-oct-2018/git/commits{/sha}\",\"comments_url\":\"https://api.github.com/repos/miriammg/madrid-oct-2018/comments{/number}\",\"issue_comment_url\":\"https://api.github.com/repos/miriammg/madrid-oct-2018/issues/comments{/number}\",\"contents_url\":\"https://api.github.com/repos/miriammg/madrid-oct-2018/contents/{+path}\",\"compare_url\":\"https://api.github.com/repos/miriammg/madrid-oct-2018/compare/{base}...{head}\",\"merges_url\":\"https://api.github.com/repos/miriammg/madrid-oct-2018/merges\",\"archive_url\":\"https://api.github.com/repos/miriammg/madrid-oct-2018/{archive_format}{/ref}\",\"downloads_url\":\"https://api.github.com/repos/miriammg/madrid-oct-2018/downloads\",\"issues_url\":\"https://api.github.com/repos/miriammg/madrid-oct-2018/issues{/number}\",\"pulls_url\":\"https://api.github.com/repos/miriammg/madrid-oct-2018/pulls{/number}\",\"milestones_url\":\"https://api.github.com/repos/miriammg/madrid-oct-2018/milestones{/number}\",\"notifications_url\":\"https://api.github.com/repos/miriammg/madrid-oct-2018/notifications{?since,all,participating}\",\"labels_url\":\"https://api.github.com/repos/miriammg/madrid-oct-2018/labels{/name}\",\"releases_url\":\"https://api.github.com/repos/miriammg/madrid-oct-2018/releases{/id}\",\"deployments_url\":\"https://api.github.com/repos/miriammg/madrid-oct-2018/deployments\",\"created_at\":\"2018-10-19T13:34:25Z\",\"updated_at\":\"2018-12-07T09:57:15Z\",\"pushed_at\":\"2018-12-09T10:29:50Z\",\"git_url\":\"git://github.com/miriammg/madrid-oct-2018.git\",\"ssh_url\":\"git@github.com:miriammg/madrid-oct-2018.git\",\"clone_url\":\"https://github.com/miriammg/madrid-oct-2018.git\",\"svn_url\":\"https://github.com/miriammg/madrid-oct-2018\",\"homepage\":null,\"size\":77320,\"stargazers_count\":0,\"watchers_count\":0,\"language\":\"Jupyter Notebook\",\"has_issues\":false,\"has_projects\":true,\"has_downloads\":true,\"has_wiki\":true,\"has_pages\":false,\"forks_count\":0,\"mirror_url\":null,\"archived\":false,\"disabled\":false,\"open_issues_count\":0,\"license\":{\"key\":\"unlicense\",\"name\":\"The Unlicense\",\"spdx_id\":\"Unlicense\",\"url\":\"https://api.github.com/licenses/unlicense\",\"node_id\":\"MDc6TGljZW5zZTE1\"},\"forks\":0,\"open_issues\":0,\"watchers\":0,\"default_branch\":\"master\"},{\"id\":153787806,\"node_id\":\"MDEwOlJlcG9zaXRvcnkxNTM3ODc4MDY=\",\"name\":\"madrid-oct-2018\",\"full_name\":\"albertogcmr/madrid-oct-2018\",\"private\":false,\"owner\":{\"login\":\"albertogcmr\",\"id\":35075785,\"node_id\":\"MDQ6VXNlcjM1MDc1Nzg1\",\"avatar_url\":\"https://avatars0.githubusercontent.com/u/35075785?v=4\",\"gravatar_id\":\"\",\"url\":\"https://api.github.com/users/albertogcmr\",\"html_url\":\"https://github.com/albertogcmr\",\"followers_url\":\"https://api.github.com/users/albertogcmr/followers\",\"following_url\":\"https://api.github.com/users/albertogcmr/following{/other_user}\",\"gists_url\":\"https://api.github.com/users/albertogcmr/gists{/gist_id}\",\"starred_url\":\"https://api.github.com/users/albertogcmr/starred{/owner}{/repo}\",\"subscriptions_url\":\"https://api.github.com/users/albertogcmr/subscriptions\",\"organizations_url\":\"https://api.github.com/users/albertogcmr/orgs\",\"repos_url\":\"https://api.github.com/users/albertogcmr/repos\",\"events_url\":\"https://api.github.com/users/albertogcmr/events{/privacy}\",\"received_events_url\":\"https://api.github.com/users/albertogcmr/received_events\",\"type\":\"User\",\"site_admin\":false},\"html_url\":\"https://github.com/albertogcmr/madrid-oct-2018\",\"description\":null,\"fork\":true,\"url\":\"https://api.github.com/repos/albertogcmr/madrid-oct-2018\",\"forks_url\":\"https://api.github.com/repos/albertogcmr/madrid-oct-2018/forks\",\"keys_url\":\"https://api.github.com/repos/albertogcmr/madrid-oct-2018/keys{/key_id}\",\"collaborators_url\":\"https://api.github.com/repos/albertogcmr/madrid-oct-2018/collaborators{/collaborator}\",\"teams_url\":\"https://api.github.com/repos/albertogcmr/madrid-oct-2018/teams\",\"hooks_url\":\"https://api.github.com/repos/albertogcmr/madrid-oct-2018/hooks\",\"issue_events_url\":\"https://api.github.com/repos/albertogcmr/madrid-oct-2018/issues/events{/number}\",\"events_url\":\"https://api.github.com/repos/albertogcmr/madrid-oct-2018/events\",\"assignees_url\":\"https://api.github.com/repos/albertogcmr/madrid-oct-2018/assignees{/user}\",\"branches_url\":\"https://api.github.com/repos/albertogcmr/madrid-oct-2018/branches{/branch}\",\"tags_url\":\"https://api.github.com/repos/albertogcmr/madrid-oct-2018/tags\",\"blobs_url\":\"https://api.github.com/repos/albertogcmr/madrid-oct-2018/git/blobs{/sha}\",\"git_tags_url\":\"https://api.github.com/repos/albertogcmr/madrid-oct-2018/git/tags{/sha}\",\"git_refs_url\":\"https://api.github.com/repos/albertogcmr/madrid-oct-2018/git/refs{/sha}\",\"trees_url\":\"https://api.github.com/repos/albertogcmr/madrid-oct-2018/git/trees{/sha}\",\"statuses_url\":\"https://api.github.com/repos/albertogcmr/madrid-oct-2018/statuses/{sha}\",\"languages_url\":\"https://api.github.com/repos/albertogcmr/madrid-oct-2018/languages\",\"stargazers_url\":\"https://api.github.com/repos/albertogcmr/madrid-oct-2018/stargazers\",\"contributors_url\":\"https://api.github.com/repos/albertogcmr/madrid-oct-2018/contributors\",\"subscribers_url\":\"https://api.github.com/repos/albertogcmr/madrid-oct-2018/subscribers\",\"subscription_url\":\"https://api.github.com/repos/albertogcmr/madrid-oct-2018/subscription\",\"commits_url\":\"https://api.github.com/repos/albertogcmr/madrid-oct-2018/commits{/sha}\",\"git_commits_url\":\"https://api.github.com/repos/albertogcmr/madrid-oct-2018/git/commits{/sha}\",\"comments_url\":\"https://api.github.com/repos/albertogcmr/madrid-oct-2018/comments{/number}\",\"issue_comment_url\":\"https://api.github.com/repos/albertogcmr/madrid-oct-2018/issues/comments{/number}\",\"contents_url\":\"https://api.github.com/repos/albertogcmr/madrid-oct-2018/contents/{+path}\",\"compare_url\":\"https://api.github.com/repos/albertogcmr/madrid-oct-2018/compare/{base}...{head}\",\"merges_url\":\"https://api.github.com/repos/albertogcmr/madrid-oct-2018/merges\",\"archive_url\":\"https://api.github.com/repos/albertogcmr/madrid-oct-2018/{archive_format}{/ref}\",\"downloads_url\":\"https://api.github.com/repos/albertogcmr/madrid-oct-2018/downloads\",\"issues_url\":\"https://api.github.com/repos/albertogcmr/madrid-oct-2018/issues{/number}\",\"pulls_url\":\"https://api.github.com/repos/albertogcmr/madrid-oct-2018/pulls{/number}\",\"milestones_url\":\"https://api.github.com/repos/albertogcmr/madrid-oct-2018/milestones{/number}\",\"notifications_url\":\"https://api.github.com/repos/albertogcmr/madrid-oct-2018/notifications{?since,all,participating}\",\"labels_url\":\"https://api.github.com/repos/albertogcmr/madrid-oct-2018/labels{/name}\",\"releases_url\":\"https://api.github.com/repos/albertogcmr/madrid-oct-2018/releases{/id}\",\"deployments_url\":\"https://api.github.com/repos/albertogcmr/madrid-oct-2018/deployments\",\"created_at\":\"2018-10-19T13:34:21Z\",\"updated_at\":\"2019-01-18T09:34:32Z\",\"pushed_at\":\"2019-08-20T14:07:28Z\",\"git_url\":\"git://github.com/albertogcmr/madrid-oct-2018.git\",\"ssh_url\":\"git@github.com:albertogcmr/madrid-oct-2018.git\",\"clone_url\":\"https://github.com/albertogcmr/madrid-oct-2018.git\",\"svn_url\":\"https://github.com/albertogcmr/madrid-oct-2018\",\"homepage\":null,\"size\":171492,\"stargazers_count\":0,\"watchers_count\":0,\"language\":\"Jupyter Notebook\",\"has_issues\":false,\"has_projects\":true,\"has_downloads\":true,\"has_wiki\":true,\"has_pages\":false,\"forks_count\":0,\"mirror_url\":null,\"archived\":false,\"disabled\":false,\"open_issues_count\":0,\"license\":{\"key\":\"unlicense\",\"name\":\"The Unlicense\",\"spdx_id\":\"Unlicense\",\"url\":\"https://api.github.com/licenses/unlicense\",\"node_id\":\"MDc6TGljZW5zZTE1\"},\"forks\":0,\"open_issues\":0,\"watchers\":0,\"default_branch\":\"master\"},{\"id\":153787788,\"node_id\":\"MDEwOlJlcG9zaXRvcnkxNTM3ODc3ODg=\",\"name\":\"madrid-oct-2018\",\"full_name\":\"marisfont/madrid-oct-2018\",\"private\":false,\"owner\":{\"login\":\"marisfont\",\"id\":43796849,\"node_id\":\"MDQ6VXNlcjQzNzk2ODQ5\",\"avatar_url\":\"https://avatars3.githubusercontent.com/u/43796849?v=4\",\"gravatar_id\":\"\",\"url\":\"https://api.github.com/users/marisfont\",\"html_url\":\"https://github.com/marisfont\",\"followers_url\":\"https://api.github.com/users/marisfont/followers\",\"following_url\":\"https://api.github.com/users/marisfont/following{/other_user}\",\"gists_url\":\"https://api.github.com/users/marisfont/gists{/gist_id}\",\"starred_url\":\"https://api.github.com/users/marisfont/starred{/owner}{/repo}\",\"subscriptions_url\":\"https://api.github.com/users/marisfont/subscriptions\",\"organizations_url\":\"https://api.github.com/users/marisfont/orgs\",\"repos_url\":\"https://api.github.com/users/marisfont/repos\",\"events_url\":\"https://api.github.com/users/marisfont/events{/privacy}\",\"received_events_url\":\"https://api.github.com/users/marisfont/received_events\",\"type\":\"User\",\"site_admin\":false},\"html_url\":\"https://github.com/marisfont/madrid-oct-2018\",\"description\":null,\"fork\":true,\"url\":\"https://api.github.com/repos/marisfont/madrid-oct-2018\",\"forks_url\":\"https://api.github.com/repos/marisfont/madrid-oct-2018/forks\",\"keys_url\":\"https://api.github.com/repos/marisfont/madrid-oct-2018/keys{/key_id}\",\"collaborators_url\":\"https://api.github.com/repos/marisfont/madrid-oct-2018/collaborators{/collaborator}\",\"teams_url\":\"https://api.github.com/repos/marisfont/madrid-oct-2018/teams\",\"hooks_url\":\"https://api.github.com/repos/marisfont/madrid-oct-2018/hooks\",\"issue_events_url\":\"https://api.github.com/repos/marisfont/madrid-oct-2018/issues/events{/number}\",\"events_url\":\"https://api.github.com/repos/marisfont/madrid-oct-2018/events\",\"assignees_url\":\"https://api.github.com/repos/marisfont/madrid-oct-2018/assignees{/user}\",\"branches_url\":\"https://api.github.com/repos/marisfont/madrid-oct-2018/branches{/branch}\",\"tags_url\":\"https://api.github.com/repos/marisfont/madrid-oct-2018/tags\",\"blobs_url\":\"https://api.github.com/repos/marisfont/madrid-oct-2018/git/blobs{/sha}\",\"git_tags_url\":\"https://api.github.com/repos/marisfont/madrid-oct-2018/git/tags{/sha}\",\"git_refs_url\":\"https://api.github.com/repos/marisfont/madrid-oct-2018/git/refs{/sha}\",\"trees_url\":\"https://api.github.com/repos/marisfont/madrid-oct-2018/git/trees{/sha}\",\"statuses_url\":\"https://api.github.com/repos/marisfont/madrid-oct-2018/statuses/{sha}\",\"languages_url\":\"https://api.github.com/repos/marisfont/madrid-oct-2018/languages\",\"stargazers_url\":\"https://api.github.com/repos/marisfont/madrid-oct-2018/stargazers\",\"contributors_url\":\"https://api.github.com/repos/marisfont/madrid-oct-2018/contributors\",\"subscribers_url\":\"https://api.github.com/repos/marisfont/madrid-oct-2018/subscribers\",\"subscription_url\":\"https://api.github.com/repos/marisfont/madrid-oct-2018/subscription\",\"commits_url\":\"https://api.github.com/repos/marisfont/madrid-oct-2018/commits{/sha}\",\"git_commits_url\":\"https://api.github.com/repos/marisfont/madrid-oct-2018/git/commits{/sha}\",\"comments_url\":\"https://api.github.com/repos/marisfont/madrid-oct-2018/comments{/number}\",\"issue_comment_url\":\"https://api.github.com/repos/marisfont/madrid-oct-2018/issues/comments{/number}\",\"contents_url\":\"https://api.github.com/repos/marisfont/madrid-oct-2018/contents/{+path}\",\"compare_url\":\"https://api.github.com/repos/marisfont/madrid-oct-2018/compare/{base}...{head}\",\"merges_url\":\"https://api.github.com/repos/marisfont/madrid-oct-2018/merges\",\"archive_url\":\"https://api.github.com/repos/marisfont/madrid-oct-2018/{archive_format}{/ref}\",\"downloads_url\":\"https://api.github.com/repos/marisfont/madrid-oct-2018/downloads\",\"issues_url\":\"https://api.github.com/repos/marisfont/madrid-oct-2018/issues{/number}\",\"pulls_url\":\"https://api.github.com/repos/marisfont/madrid-oct-2018/pulls{/number}\",\"milestones_url\":\"https://api.github.com/repos/marisfont/madrid-oct-2018/milestones{/number}\",\"notifications_url\":\"https://api.github.com/repos/marisfont/madrid-oct-2018/notifications{?since,all,participating}\",\"labels_url\":\"https://api.github.com/repos/marisfont/madrid-oct-2018/labels{/name}\",\"releases_url\":\"https://api.github.com/repos/marisfont/madrid-oct-2018/releases{/id}\",\"deployments_url\":\"https://api.github.com/repos/marisfont/madrid-oct-2018/deployments\",\"created_at\":\"2018-10-19T13:34:11Z\",\"updated_at\":\"2018-12-04T17:31:47Z\",\"pushed_at\":\"2018-12-05T16:03:33Z\",\"git_url\":\"git://github.com/marisfont/madrid-oct-2018.git\",\"ssh_url\":\"git@github.com:marisfont/madrid-oct-2018.git\",\"clone_url\":\"https://github.com/marisfont/madrid-oct-2018.git\",\"svn_url\":\"https://github.com/marisfont/madrid-oct-2018\",\"homepage\":null,\"size\":93980,\"stargazers_count\":0,\"watchers_count\":0,\"language\":\"Jupyter Notebook\",\"has_issues\":false,\"has_projects\":true,\"has_downloads\":true,\"has_wiki\":true,\"has_pages\":false,\"forks_count\":0,\"mirror_url\":null,\"archived\":false,\"disabled\":false,\"open_issues_count\":0,\"license\":{\"key\":\"unlicense\",\"name\":\"The Unlicense\",\"spdx_id\":\"Unlicense\",\"url\":\"https://api.github.com/licenses/unlicense\",\"node_id\":\"MDc6TGljZW5zZTE1\"},\"forks\":0,\"open_issues\":0,\"watchers\":0,\"default_branch\":\"master\"}]'"
      ]
     },
     "execution_count": 10,
     "metadata": {},
     "output_type": "execute_result"
    }
   ],
   "source": [
    "# your code here\n",
    "# GET /repos/:owner/:repo/forks\n",
    "\n",
    "forks = requests.get('https://api.github.com/repos/ironhack-datalabs/madrid-oct-2018/forks')\n",
    "forks"
   ]
  },
  {
   "cell_type": "code",
   "execution_count": 9,
   "metadata": {},
   "outputs": [
    {
     "data": {
      "text/plain": [
       "<Response [403]>"
      ]
     },
     "execution_count": 9,
     "metadata": {},
     "output_type": "execute_result"
    }
   ],
   "source": [
    "requests.get('https://api.github.com/repos/ironhack-datalabs/rate_limit')"
   ]
  },
  {
   "cell_type": "markdown",
   "metadata": {
    "colab_type": "text",
    "id": "ZMyRu0p6hPRI"
   },
   "source": [
    "#### 2. Loop the JSON response to find out the language attribute of each fork. Use an array to store the language attributes of each fork.\n",
    "Hint: Each language should appear only once in your array.\n",
    "Print the language array. It should be something like: [\"Python\", \"Jupyter Notebook\", \"HTML\"]"
   ]
  },
  {
   "cell_type": "code",
   "execution_count": 3,
   "metadata": {},
   "outputs": [
    {
     "data": {
      "text/plain": [
       "Index(['message', 'documentation_url'], dtype='object')"
      ]
     },
     "execution_count": 3,
     "metadata": {},
     "output_type": "execute_result"
    }
   ],
   "source": [
    "pd.json_normalize(forks.json()).columns"
   ]
  },
  {
   "cell_type": "code",
   "execution_count": 4,
   "metadata": {},
   "outputs": [
    {
     "data": {
      "text/plain": [
       "0                 None\n",
       "1     Jupyter Notebook\n",
       "2     Jupyter Notebook\n",
       "3     Jupyter Notebook\n",
       "4     Jupyter Notebook\n",
       "5     Jupyter Notebook\n",
       "6                 HTML\n",
       "7     Jupyter Notebook\n",
       "8     Jupyter Notebook\n",
       "9     Jupyter Notebook\n",
       "10    Jupyter Notebook\n",
       "11    Jupyter Notebook\n",
       "12    Jupyter Notebook\n",
       "13    Jupyter Notebook\n",
       "14    Jupyter Notebook\n",
       "Name: language, dtype: object"
      ]
     },
     "execution_count": 4,
     "metadata": {},
     "output_type": "execute_result"
    }
   ],
   "source": [
    "pd.json_normalize(forks.json()).loc[:,'language']"
   ]
  },
  {
   "cell_type": "code",
   "execution_count": 5,
   "metadata": {},
   "outputs": [
    {
     "data": {
      "text/plain": [
       "array([None, 'Jupyter Notebook', 'HTML'], dtype=object)"
      ]
     },
     "execution_count": 5,
     "metadata": {},
     "output_type": "execute_result"
    }
   ],
   "source": [
    "# your code here\n",
    "language_attributes = np.array(list(set([item for item in pd.json_normalize(forks.json()).loc[:,'language']])))\n",
    "language_attributes"
   ]
  },
  {
   "cell_type": "markdown",
   "metadata": {
    "colab_type": "text",
    "id": "uWWh1AbLhPRU"
   },
   "source": [
    "## Challenge 2: Count Commits\n",
    "Count how many commits were made in the month of january of 2019.\n",
    "\n",
    "Hints: \n",
    "- https://developer.github.com/v3/repos/commits/#list-commits-on-a-repository\n",
    "\n",
    "- GET /repos/:owner/:repo/commits\n",
    "\n",
    "#### 1. Obtain all the commits made in January 2019 via API, which is a JSON array that contains multiple commit objects."
   ]
  },
  {
   "cell_type": "code",
   "execution_count": 6,
   "metadata": {
    "colab": {},
    "colab_type": "code",
    "id": "fvBVJbQvhPRW"
   },
   "outputs": [
    {
     "data": {
      "text/plain": [
       "<Response [200]>"
      ]
     },
     "execution_count": 6,
     "metadata": {},
     "output_type": "execute_result"
    }
   ],
   "source": [
    "# your code here\n",
    "commits = requests.get('https://api.github.com/repos/ironhack-datalabs/madrid-oct-2018/commits')\n",
    "commits"
   ]
  },
  {
   "cell_type": "code",
   "execution_count": 7,
   "metadata": {},
   "outputs": [
    {
     "data": {
      "text/plain": [
       "(30, 57)"
      ]
     },
     "execution_count": 7,
     "metadata": {},
     "output_type": "execute_result"
    }
   ],
   "source": [
    "commit_df = pd.json_normalize(commits.json())\n",
    "commit_df.shape"
   ]
  },
  {
   "cell_type": "code",
   "execution_count": 8,
   "metadata": {},
   "outputs": [
    {
     "data": {
      "text/html": [
       "<div>\n",
       "<style scoped>\n",
       "    .dataframe tbody tr th:only-of-type {\n",
       "        vertical-align: middle;\n",
       "    }\n",
       "\n",
       "    .dataframe tbody tr th {\n",
       "        vertical-align: top;\n",
       "    }\n",
       "\n",
       "    .dataframe thead th {\n",
       "        text-align: right;\n",
       "    }\n",
       "</style>\n",
       "<table border=\"1\" class=\"dataframe\">\n",
       "  <thead>\n",
       "    <tr style=\"text-align: right;\">\n",
       "      <th></th>\n",
       "      <th>sha</th>\n",
       "      <th>node_id</th>\n",
       "      <th>url</th>\n",
       "      <th>html_url</th>\n",
       "      <th>comments_url</th>\n",
       "      <th>parents</th>\n",
       "      <th>commit.author.name</th>\n",
       "      <th>commit.author.email</th>\n",
       "      <th>commit.author.date</th>\n",
       "      <th>commit.committer.name</th>\n",
       "      <th>...</th>\n",
       "      <th>committer.following_url</th>\n",
       "      <th>committer.gists_url</th>\n",
       "      <th>committer.starred_url</th>\n",
       "      <th>committer.subscriptions_url</th>\n",
       "      <th>committer.organizations_url</th>\n",
       "      <th>committer.repos_url</th>\n",
       "      <th>committer.events_url</th>\n",
       "      <th>committer.received_events_url</th>\n",
       "      <th>committer.type</th>\n",
       "      <th>committer.site_admin</th>\n",
       "    </tr>\n",
       "  </thead>\n",
       "  <tbody>\n",
       "    <tr>\n",
       "      <th>0</th>\n",
       "      <td>1638e5506e6947b77bfe78761d345476ae80d017</td>\n",
       "      <td>MDY6Q29tbWl0MTUzNzIwODA0OjE2MzhlNTUwNmU2OTQ3Yj...</td>\n",
       "      <td>https://api.github.com/repos/ironhack-datalabs...</td>\n",
       "      <td>https://github.com/ironhack-datalabs/mad-oct-2...</td>\n",
       "      <td>https://api.github.com/repos/ironhack-datalabs...</td>\n",
       "      <td>[{'sha': 'f332b5e6fcea965dc80f62220d7ee1457b04...</td>\n",
       "      <td>Marc Pomar</td>\n",
       "      <td>marc@faable.com</td>\n",
       "      <td>2019-08-19T11:11:36Z</td>\n",
       "      <td>Marc Pomar</td>\n",
       "      <td>...</td>\n",
       "      <td>https://api.github.com/users/boyander/followin...</td>\n",
       "      <td>https://api.github.com/users/boyander/gists{/g...</td>\n",
       "      <td>https://api.github.com/users/boyander/starred{...</td>\n",
       "      <td>https://api.github.com/users/boyander/subscrip...</td>\n",
       "      <td>https://api.github.com/users/boyander/orgs</td>\n",
       "      <td>https://api.github.com/users/boyander/repos</td>\n",
       "      <td>https://api.github.com/users/boyander/events{/...</td>\n",
       "      <td>https://api.github.com/users/boyander/received...</td>\n",
       "      <td>User</td>\n",
       "      <td>False</td>\n",
       "    </tr>\n",
       "    <tr>\n",
       "      <th>1</th>\n",
       "      <td>f332b5e6fcea965dc80f62220d7ee1457b04b90d</td>\n",
       "      <td>MDY6Q29tbWl0MTUzNzIwODA0OmYzMzJiNWU2ZmNlYTk2NW...</td>\n",
       "      <td>https://api.github.com/repos/ironhack-datalabs...</td>\n",
       "      <td>https://github.com/ironhack-datalabs/mad-oct-2...</td>\n",
       "      <td>https://api.github.com/repos/ironhack-datalabs...</td>\n",
       "      <td>[{'sha': '4c048c3efc18cf9d50e34c76919c8049ee7f...</td>\n",
       "      <td>ta-data-bcn</td>\n",
       "      <td>47005065+ta-data-bcn@users.noreply.github.com</td>\n",
       "      <td>2019-03-07T15:49:16Z</td>\n",
       "      <td>GitHub</td>\n",
       "      <td>...</td>\n",
       "      <td>https://api.github.com/users/web-flow/followin...</td>\n",
       "      <td>https://api.github.com/users/web-flow/gists{/g...</td>\n",
       "      <td>https://api.github.com/users/web-flow/starred{...</td>\n",
       "      <td>https://api.github.com/users/web-flow/subscrip...</td>\n",
       "      <td>https://api.github.com/users/web-flow/orgs</td>\n",
       "      <td>https://api.github.com/users/web-flow/repos</td>\n",
       "      <td>https://api.github.com/users/web-flow/events{/...</td>\n",
       "      <td>https://api.github.com/users/web-flow/received...</td>\n",
       "      <td>User</td>\n",
       "      <td>False</td>\n",
       "    </tr>\n",
       "    <tr>\n",
       "      <th>2</th>\n",
       "      <td>4c048c3efc18cf9d50e34c76919c8049ee7f2dbd</td>\n",
       "      <td>MDY6Q29tbWl0MTUzNzIwODA0OjRjMDQ4YzNlZmMxOGNmOW...</td>\n",
       "      <td>https://api.github.com/repos/ironhack-datalabs...</td>\n",
       "      <td>https://github.com/ironhack-datalabs/mad-oct-2...</td>\n",
       "      <td>https://api.github.com/repos/ironhack-datalabs...</td>\n",
       "      <td>[{'sha': '41e09d4fbf64bacb2fdfe7d90cdd0cd71bd2...</td>\n",
       "      <td>ta-data-bcn</td>\n",
       "      <td>47005065+ta-data-bcn@users.noreply.github.com</td>\n",
       "      <td>2019-03-07T15:38:52Z</td>\n",
       "      <td>GitHub</td>\n",
       "      <td>...</td>\n",
       "      <td>https://api.github.com/users/web-flow/followin...</td>\n",
       "      <td>https://api.github.com/users/web-flow/gists{/g...</td>\n",
       "      <td>https://api.github.com/users/web-flow/starred{...</td>\n",
       "      <td>https://api.github.com/users/web-flow/subscrip...</td>\n",
       "      <td>https://api.github.com/users/web-flow/orgs</td>\n",
       "      <td>https://api.github.com/users/web-flow/repos</td>\n",
       "      <td>https://api.github.com/users/web-flow/events{/...</td>\n",
       "      <td>https://api.github.com/users/web-flow/received...</td>\n",
       "      <td>User</td>\n",
       "      <td>False</td>\n",
       "    </tr>\n",
       "    <tr>\n",
       "      <th>3</th>\n",
       "      <td>41e09d4fbf64bacb2fdfe7d90cdd0cd71bd24310</td>\n",
       "      <td>MDY6Q29tbWl0MTUzNzIwODA0OjQxZTA5ZDRmYmY2NGJhY2...</td>\n",
       "      <td>https://api.github.com/repos/ironhack-datalabs...</td>\n",
       "      <td>https://github.com/ironhack-datalabs/mad-oct-2...</td>\n",
       "      <td>https://api.github.com/repos/ironhack-datalabs...</td>\n",
       "      <td>[{'sha': '750eb91e4535c14ec4bf03f60cb5756a1c93...</td>\n",
       "      <td>Tony Ojeda</td>\n",
       "      <td>tojeda@districtdatalabs.com</td>\n",
       "      <td>2019-01-18T18:28:33Z</td>\n",
       "      <td>Tony Ojeda</td>\n",
       "      <td>...</td>\n",
       "      <td>https://api.github.com/users/ojedatony1616/fol...</td>\n",
       "      <td>https://api.github.com/users/ojedatony1616/gis...</td>\n",
       "      <td>https://api.github.com/users/ojedatony1616/sta...</td>\n",
       "      <td>https://api.github.com/users/ojedatony1616/sub...</td>\n",
       "      <td>https://api.github.com/users/ojedatony1616/orgs</td>\n",
       "      <td>https://api.github.com/users/ojedatony1616/repos</td>\n",
       "      <td>https://api.github.com/users/ojedatony1616/eve...</td>\n",
       "      <td>https://api.github.com/users/ojedatony1616/rec...</td>\n",
       "      <td>User</td>\n",
       "      <td>False</td>\n",
       "    </tr>\n",
       "    <tr>\n",
       "      <th>4</th>\n",
       "      <td>750eb91e4535c14ec4bf03f60cb5756a1c93f68f</td>\n",
       "      <td>MDY6Q29tbWl0MTUzNzIwODA0Ojc1MGViOTFlNDUzNWMxNG...</td>\n",
       "      <td>https://api.github.com/repos/ironhack-datalabs...</td>\n",
       "      <td>https://github.com/ironhack-datalabs/mad-oct-2...</td>\n",
       "      <td>https://api.github.com/repos/ironhack-datalabs...</td>\n",
       "      <td>[{'sha': '4a8cc3cb64821cb58182a3a94be38f17d27a...</td>\n",
       "      <td>Michal Monselise</td>\n",
       "      <td>michal.monselise@gmail.com</td>\n",
       "      <td>2019-01-17T21:59:35Z</td>\n",
       "      <td>Michal Monselise</td>\n",
       "      <td>...</td>\n",
       "      <td>https://api.github.com/users/michalmonselise/f...</td>\n",
       "      <td>https://api.github.com/users/michalmonselise/g...</td>\n",
       "      <td>https://api.github.com/users/michalmonselise/s...</td>\n",
       "      <td>https://api.github.com/users/michalmonselise/s...</td>\n",
       "      <td>https://api.github.com/users/michalmonselise/orgs</td>\n",
       "      <td>https://api.github.com/users/michalmonselise/r...</td>\n",
       "      <td>https://api.github.com/users/michalmonselise/e...</td>\n",
       "      <td>https://api.github.com/users/michalmonselise/r...</td>\n",
       "      <td>User</td>\n",
       "      <td>False</td>\n",
       "    </tr>\n",
       "  </tbody>\n",
       "</table>\n",
       "<p>5 rows × 57 columns</p>\n",
       "</div>"
      ],
      "text/plain": [
       "                                        sha  \\\n",
       "0  1638e5506e6947b77bfe78761d345476ae80d017   \n",
       "1  f332b5e6fcea965dc80f62220d7ee1457b04b90d   \n",
       "2  4c048c3efc18cf9d50e34c76919c8049ee7f2dbd   \n",
       "3  41e09d4fbf64bacb2fdfe7d90cdd0cd71bd24310   \n",
       "4  750eb91e4535c14ec4bf03f60cb5756a1c93f68f   \n",
       "\n",
       "                                             node_id  \\\n",
       "0  MDY6Q29tbWl0MTUzNzIwODA0OjE2MzhlNTUwNmU2OTQ3Yj...   \n",
       "1  MDY6Q29tbWl0MTUzNzIwODA0OmYzMzJiNWU2ZmNlYTk2NW...   \n",
       "2  MDY6Q29tbWl0MTUzNzIwODA0OjRjMDQ4YzNlZmMxOGNmOW...   \n",
       "3  MDY6Q29tbWl0MTUzNzIwODA0OjQxZTA5ZDRmYmY2NGJhY2...   \n",
       "4  MDY6Q29tbWl0MTUzNzIwODA0Ojc1MGViOTFlNDUzNWMxNG...   \n",
       "\n",
       "                                                 url  \\\n",
       "0  https://api.github.com/repos/ironhack-datalabs...   \n",
       "1  https://api.github.com/repos/ironhack-datalabs...   \n",
       "2  https://api.github.com/repos/ironhack-datalabs...   \n",
       "3  https://api.github.com/repos/ironhack-datalabs...   \n",
       "4  https://api.github.com/repos/ironhack-datalabs...   \n",
       "\n",
       "                                            html_url  \\\n",
       "0  https://github.com/ironhack-datalabs/mad-oct-2...   \n",
       "1  https://github.com/ironhack-datalabs/mad-oct-2...   \n",
       "2  https://github.com/ironhack-datalabs/mad-oct-2...   \n",
       "3  https://github.com/ironhack-datalabs/mad-oct-2...   \n",
       "4  https://github.com/ironhack-datalabs/mad-oct-2...   \n",
       "\n",
       "                                        comments_url  \\\n",
       "0  https://api.github.com/repos/ironhack-datalabs...   \n",
       "1  https://api.github.com/repos/ironhack-datalabs...   \n",
       "2  https://api.github.com/repos/ironhack-datalabs...   \n",
       "3  https://api.github.com/repos/ironhack-datalabs...   \n",
       "4  https://api.github.com/repos/ironhack-datalabs...   \n",
       "\n",
       "                                             parents commit.author.name  \\\n",
       "0  [{'sha': 'f332b5e6fcea965dc80f62220d7ee1457b04...         Marc Pomar   \n",
       "1  [{'sha': '4c048c3efc18cf9d50e34c76919c8049ee7f...        ta-data-bcn   \n",
       "2  [{'sha': '41e09d4fbf64bacb2fdfe7d90cdd0cd71bd2...        ta-data-bcn   \n",
       "3  [{'sha': '750eb91e4535c14ec4bf03f60cb5756a1c93...         Tony Ojeda   \n",
       "4  [{'sha': '4a8cc3cb64821cb58182a3a94be38f17d27a...   Michal Monselise   \n",
       "\n",
       "                             commit.author.email    commit.author.date  \\\n",
       "0                                marc@faable.com  2019-08-19T11:11:36Z   \n",
       "1  47005065+ta-data-bcn@users.noreply.github.com  2019-03-07T15:49:16Z   \n",
       "2  47005065+ta-data-bcn@users.noreply.github.com  2019-03-07T15:38:52Z   \n",
       "3                    tojeda@districtdatalabs.com  2019-01-18T18:28:33Z   \n",
       "4                     michal.monselise@gmail.com  2019-01-17T21:59:35Z   \n",
       "\n",
       "  commit.committer.name  ...  \\\n",
       "0            Marc Pomar  ...   \n",
       "1                GitHub  ...   \n",
       "2                GitHub  ...   \n",
       "3            Tony Ojeda  ...   \n",
       "4      Michal Monselise  ...   \n",
       "\n",
       "                             committer.following_url  \\\n",
       "0  https://api.github.com/users/boyander/followin...   \n",
       "1  https://api.github.com/users/web-flow/followin...   \n",
       "2  https://api.github.com/users/web-flow/followin...   \n",
       "3  https://api.github.com/users/ojedatony1616/fol...   \n",
       "4  https://api.github.com/users/michalmonselise/f...   \n",
       "\n",
       "                                 committer.gists_url  \\\n",
       "0  https://api.github.com/users/boyander/gists{/g...   \n",
       "1  https://api.github.com/users/web-flow/gists{/g...   \n",
       "2  https://api.github.com/users/web-flow/gists{/g...   \n",
       "3  https://api.github.com/users/ojedatony1616/gis...   \n",
       "4  https://api.github.com/users/michalmonselise/g...   \n",
       "\n",
       "                               committer.starred_url  \\\n",
       "0  https://api.github.com/users/boyander/starred{...   \n",
       "1  https://api.github.com/users/web-flow/starred{...   \n",
       "2  https://api.github.com/users/web-flow/starred{...   \n",
       "3  https://api.github.com/users/ojedatony1616/sta...   \n",
       "4  https://api.github.com/users/michalmonselise/s...   \n",
       "\n",
       "                         committer.subscriptions_url  \\\n",
       "0  https://api.github.com/users/boyander/subscrip...   \n",
       "1  https://api.github.com/users/web-flow/subscrip...   \n",
       "2  https://api.github.com/users/web-flow/subscrip...   \n",
       "3  https://api.github.com/users/ojedatony1616/sub...   \n",
       "4  https://api.github.com/users/michalmonselise/s...   \n",
       "\n",
       "                         committer.organizations_url  \\\n",
       "0         https://api.github.com/users/boyander/orgs   \n",
       "1         https://api.github.com/users/web-flow/orgs   \n",
       "2         https://api.github.com/users/web-flow/orgs   \n",
       "3    https://api.github.com/users/ojedatony1616/orgs   \n",
       "4  https://api.github.com/users/michalmonselise/orgs   \n",
       "\n",
       "                                 committer.repos_url  \\\n",
       "0        https://api.github.com/users/boyander/repos   \n",
       "1        https://api.github.com/users/web-flow/repos   \n",
       "2        https://api.github.com/users/web-flow/repos   \n",
       "3   https://api.github.com/users/ojedatony1616/repos   \n",
       "4  https://api.github.com/users/michalmonselise/r...   \n",
       "\n",
       "                                committer.events_url  \\\n",
       "0  https://api.github.com/users/boyander/events{/...   \n",
       "1  https://api.github.com/users/web-flow/events{/...   \n",
       "2  https://api.github.com/users/web-flow/events{/...   \n",
       "3  https://api.github.com/users/ojedatony1616/eve...   \n",
       "4  https://api.github.com/users/michalmonselise/e...   \n",
       "\n",
       "                       committer.received_events_url committer.type  \\\n",
       "0  https://api.github.com/users/boyander/received...           User   \n",
       "1  https://api.github.com/users/web-flow/received...           User   \n",
       "2  https://api.github.com/users/web-flow/received...           User   \n",
       "3  https://api.github.com/users/ojedatony1616/rec...           User   \n",
       "4  https://api.github.com/users/michalmonselise/r...           User   \n",
       "\n",
       "  committer.site_admin  \n",
       "0                False  \n",
       "1                False  \n",
       "2                False  \n",
       "3                False  \n",
       "4                False  \n",
       "\n",
       "[5 rows x 57 columns]"
      ]
     },
     "execution_count": 8,
     "metadata": {},
     "output_type": "execute_result"
    }
   ],
   "source": [
    "commit_df.head()"
   ]
  },
  {
   "cell_type": "code",
   "execution_count": 9,
   "metadata": {
    "scrolled": true
   },
   "outputs": [
    {
     "data": {
      "text/plain": [
       "Index(['sha', 'node_id', 'url', 'html_url', 'comments_url', 'parents',\n",
       "       'commit.author.name', 'commit.author.email', 'commit.author.date',\n",
       "       'commit.committer.name', 'commit.committer.email',\n",
       "       'commit.committer.date', 'commit.message', 'commit.tree.sha',\n",
       "       'commit.tree.url', 'commit.url', 'commit.comment_count',\n",
       "       'commit.verification.verified', 'commit.verification.reason',\n",
       "       'commit.verification.signature', 'commit.verification.payload',\n",
       "       'author.login', 'author.id', 'author.node_id', 'author.avatar_url',\n",
       "       'author.gravatar_id', 'author.url', 'author.html_url',\n",
       "       'author.followers_url', 'author.following_url', 'author.gists_url',\n",
       "       'author.starred_url', 'author.subscriptions_url',\n",
       "       'author.organizations_url', 'author.repos_url', 'author.events_url',\n",
       "       'author.received_events_url', 'author.type', 'author.site_admin',\n",
       "       'committer.login', 'committer.id', 'committer.node_id',\n",
       "       'committer.avatar_url', 'committer.gravatar_id', 'committer.url',\n",
       "       'committer.html_url', 'committer.followers_url',\n",
       "       'committer.following_url', 'committer.gists_url',\n",
       "       'committer.starred_url', 'committer.subscriptions_url',\n",
       "       'committer.organizations_url', 'committer.repos_url',\n",
       "       'committer.events_url', 'committer.received_events_url',\n",
       "       'committer.type', 'committer.site_admin'],\n",
       "      dtype='object')"
      ]
     },
     "execution_count": 9,
     "metadata": {},
     "output_type": "execute_result"
    }
   ],
   "source": [
    "commit_df.columns"
   ]
  },
  {
   "cell_type": "code",
   "execution_count": 22,
   "metadata": {
    "scrolled": true
   },
   "outputs": [
    {
     "data": {
      "text/plain": [
       "0     2019-08-19T11:11:36Z\n",
       "1     2019-03-07T15:49:16Z\n",
       "2     2019-03-07T15:38:52Z\n",
       "3     2019-01-18T18:28:33Z\n",
       "4     2019-01-17T21:59:35Z\n",
       "5     2019-01-17T06:33:16Z\n",
       "6     2019-01-17T06:28:16Z\n",
       "7     2019-01-17T06:24:01Z\n",
       "8     2019-01-16T23:20:01Z\n",
       "9     2019-01-16T22:24:40Z\n",
       "10    2019-01-16T22:24:35Z\n",
       "11    2019-01-14T22:40:53Z\n",
       "12    2019-01-11T20:01:48Z\n",
       "13    2019-01-10T21:15:16Z\n",
       "14    2019-01-10T21:11:31Z\n",
       "15    2019-01-08T20:22:14Z\n",
       "16    2019-01-08T20:22:09Z\n",
       "17    2019-01-07T20:24:29Z\n",
       "18    2019-01-07T20:20:17Z\n",
       "19    2019-01-07T17:49:55Z\n",
       "20    2019-01-07T17:47:26Z\n",
       "21    2019-01-07T16:32:06Z\n",
       "22    2019-01-07T16:17:21Z\n",
       "23    2019-01-07T15:15:49Z\n",
       "24    2019-01-07T05:11:44Z\n",
       "25    2019-01-06T20:04:06Z\n",
       "26    2019-01-05T17:05:30Z\n",
       "27    2019-01-05T17:05:18Z\n",
       "28    2019-01-05T02:21:03Z\n",
       "29    2019-01-05T02:20:54Z\n",
       "Name: commit.committer.date, dtype: object"
      ]
     },
     "execution_count": 22,
     "metadata": {},
     "output_type": "execute_result"
    }
   ],
   "source": [
    "commit_df.loc[:,'commit.committer.date']"
   ]
  },
  {
   "cell_type": "code",
   "execution_count": 11,
   "metadata": {
    "scrolled": true
   },
   "outputs": [
    {
     "data": {
      "text/plain": [
       "0     True\n",
       "1     True\n",
       "2     True\n",
       "3     True\n",
       "4     True\n",
       "5     True\n",
       "6     True\n",
       "7     True\n",
       "8     True\n",
       "9     True\n",
       "10    True\n",
       "11    True\n",
       "12    True\n",
       "13    True\n",
       "14    True\n",
       "15    True\n",
       "16    True\n",
       "17    True\n",
       "18    True\n",
       "19    True\n",
       "20    True\n",
       "21    True\n",
       "22    True\n",
       "23    True\n",
       "24    True\n",
       "25    True\n",
       "26    True\n",
       "27    True\n",
       "28    True\n",
       "29    True\n",
       "dtype: bool"
      ]
     },
     "execution_count": 11,
     "metadata": {},
     "output_type": "execute_result"
    }
   ],
   "source": [
    "# Verifying if 2 existing date columns are the same:\n",
    "\n",
    "commit_df.loc[:,'commit.author.date'] == commit_df.loc[:,'commit.committer.date']"
   ]
  },
  {
   "cell_type": "code",
   "execution_count": 32,
   "metadata": {},
   "outputs": [],
   "source": [
    "# mask to filter only the january 2019 commits\n",
    "mask = [('2019-01' in row) for row in commit_df.loc[:,'commit.author.date']]"
   ]
  },
  {
   "cell_type": "code",
   "execution_count": 34,
   "metadata": {},
   "outputs": [
    {
     "data": {
      "text/html": [
       "<div>\n",
       "<style scoped>\n",
       "    .dataframe tbody tr th:only-of-type {\n",
       "        vertical-align: middle;\n",
       "    }\n",
       "\n",
       "    .dataframe tbody tr th {\n",
       "        vertical-align: top;\n",
       "    }\n",
       "\n",
       "    .dataframe thead th {\n",
       "        text-align: right;\n",
       "    }\n",
       "</style>\n",
       "<table border=\"1\" class=\"dataframe\">\n",
       "  <thead>\n",
       "    <tr style=\"text-align: right;\">\n",
       "      <th></th>\n",
       "      <th>sha</th>\n",
       "      <th>node_id</th>\n",
       "      <th>url</th>\n",
       "      <th>html_url</th>\n",
       "      <th>comments_url</th>\n",
       "      <th>parents</th>\n",
       "      <th>commit.author.name</th>\n",
       "      <th>commit.author.email</th>\n",
       "      <th>commit.author.date</th>\n",
       "      <th>commit.committer.name</th>\n",
       "      <th>...</th>\n",
       "      <th>committer.following_url</th>\n",
       "      <th>committer.gists_url</th>\n",
       "      <th>committer.starred_url</th>\n",
       "      <th>committer.subscriptions_url</th>\n",
       "      <th>committer.organizations_url</th>\n",
       "      <th>committer.repos_url</th>\n",
       "      <th>committer.events_url</th>\n",
       "      <th>committer.received_events_url</th>\n",
       "      <th>committer.type</th>\n",
       "      <th>committer.site_admin</th>\n",
       "    </tr>\n",
       "  </thead>\n",
       "  <tbody>\n",
       "    <tr>\n",
       "      <th>3</th>\n",
       "      <td>41e09d4fbf64bacb2fdfe7d90cdd0cd71bd24310</td>\n",
       "      <td>MDY6Q29tbWl0MTUzNzIwODA0OjQxZTA5ZDRmYmY2NGJhY2...</td>\n",
       "      <td>https://api.github.com/repos/ironhack-datalabs...</td>\n",
       "      <td>https://github.com/ironhack-datalabs/mad-oct-2...</td>\n",
       "      <td>https://api.github.com/repos/ironhack-datalabs...</td>\n",
       "      <td>[{'sha': '750eb91e4535c14ec4bf03f60cb5756a1c93...</td>\n",
       "      <td>Tony Ojeda</td>\n",
       "      <td>tojeda@districtdatalabs.com</td>\n",
       "      <td>2019-01-18T18:28:33Z</td>\n",
       "      <td>Tony Ojeda</td>\n",
       "      <td>...</td>\n",
       "      <td>https://api.github.com/users/ojedatony1616/fol...</td>\n",
       "      <td>https://api.github.com/users/ojedatony1616/gis...</td>\n",
       "      <td>https://api.github.com/users/ojedatony1616/sta...</td>\n",
       "      <td>https://api.github.com/users/ojedatony1616/sub...</td>\n",
       "      <td>https://api.github.com/users/ojedatony1616/orgs</td>\n",
       "      <td>https://api.github.com/users/ojedatony1616/repos</td>\n",
       "      <td>https://api.github.com/users/ojedatony1616/eve...</td>\n",
       "      <td>https://api.github.com/users/ojedatony1616/rec...</td>\n",
       "      <td>User</td>\n",
       "      <td>False</td>\n",
       "    </tr>\n",
       "    <tr>\n",
       "      <th>4</th>\n",
       "      <td>750eb91e4535c14ec4bf03f60cb5756a1c93f68f</td>\n",
       "      <td>MDY6Q29tbWl0MTUzNzIwODA0Ojc1MGViOTFlNDUzNWMxNG...</td>\n",
       "      <td>https://api.github.com/repos/ironhack-datalabs...</td>\n",
       "      <td>https://github.com/ironhack-datalabs/mad-oct-2...</td>\n",
       "      <td>https://api.github.com/repos/ironhack-datalabs...</td>\n",
       "      <td>[{'sha': '4a8cc3cb64821cb58182a3a94be38f17d27a...</td>\n",
       "      <td>Michal Monselise</td>\n",
       "      <td>michal.monselise@gmail.com</td>\n",
       "      <td>2019-01-17T21:59:35Z</td>\n",
       "      <td>Michal Monselise</td>\n",
       "      <td>...</td>\n",
       "      <td>https://api.github.com/users/michalmonselise/f...</td>\n",
       "      <td>https://api.github.com/users/michalmonselise/g...</td>\n",
       "      <td>https://api.github.com/users/michalmonselise/s...</td>\n",
       "      <td>https://api.github.com/users/michalmonselise/s...</td>\n",
       "      <td>https://api.github.com/users/michalmonselise/orgs</td>\n",
       "      <td>https://api.github.com/users/michalmonselise/r...</td>\n",
       "      <td>https://api.github.com/users/michalmonselise/e...</td>\n",
       "      <td>https://api.github.com/users/michalmonselise/r...</td>\n",
       "      <td>User</td>\n",
       "      <td>False</td>\n",
       "    </tr>\n",
       "    <tr>\n",
       "      <th>5</th>\n",
       "      <td>4a8cc3cb64821cb58182a3a94be38f17d27a8e8f</td>\n",
       "      <td>MDY6Q29tbWl0MTUzNzIwODA0OjRhOGNjM2NiNjQ4MjFjYj...</td>\n",
       "      <td>https://api.github.com/repos/ironhack-datalabs...</td>\n",
       "      <td>https://github.com/ironhack-datalabs/mad-oct-2...</td>\n",
       "      <td>https://api.github.com/repos/ironhack-datalabs...</td>\n",
       "      <td>[{'sha': '1501bac01f8183d223a47ca7f23649a5d98d...</td>\n",
       "      <td>Michal Monselise</td>\n",
       "      <td>michal.monselise@gmail.com</td>\n",
       "      <td>2019-01-17T06:33:16Z</td>\n",
       "      <td>Michal Monselise</td>\n",
       "      <td>...</td>\n",
       "      <td>https://api.github.com/users/michalmonselise/f...</td>\n",
       "      <td>https://api.github.com/users/michalmonselise/g...</td>\n",
       "      <td>https://api.github.com/users/michalmonselise/s...</td>\n",
       "      <td>https://api.github.com/users/michalmonselise/s...</td>\n",
       "      <td>https://api.github.com/users/michalmonselise/orgs</td>\n",
       "      <td>https://api.github.com/users/michalmonselise/r...</td>\n",
       "      <td>https://api.github.com/users/michalmonselise/e...</td>\n",
       "      <td>https://api.github.com/users/michalmonselise/r...</td>\n",
       "      <td>User</td>\n",
       "      <td>False</td>\n",
       "    </tr>\n",
       "    <tr>\n",
       "      <th>6</th>\n",
       "      <td>1501bac01f8183d223a47ca7f23649a5d98d7e00</td>\n",
       "      <td>MDY6Q29tbWl0MTUzNzIwODA0OjE1MDFiYWMwMWY4MTgzZD...</td>\n",
       "      <td>https://api.github.com/repos/ironhack-datalabs...</td>\n",
       "      <td>https://github.com/ironhack-datalabs/mad-oct-2...</td>\n",
       "      <td>https://api.github.com/repos/ironhack-datalabs...</td>\n",
       "      <td>[{'sha': '6c2a1247d4e13a37261081279f250ffa82ed...</td>\n",
       "      <td>Michal Monselise</td>\n",
       "      <td>michal.monselise@gmail.com</td>\n",
       "      <td>2019-01-17T06:28:16Z</td>\n",
       "      <td>Michal Monselise</td>\n",
       "      <td>...</td>\n",
       "      <td>https://api.github.com/users/michalmonselise/f...</td>\n",
       "      <td>https://api.github.com/users/michalmonselise/g...</td>\n",
       "      <td>https://api.github.com/users/michalmonselise/s...</td>\n",
       "      <td>https://api.github.com/users/michalmonselise/s...</td>\n",
       "      <td>https://api.github.com/users/michalmonselise/orgs</td>\n",
       "      <td>https://api.github.com/users/michalmonselise/r...</td>\n",
       "      <td>https://api.github.com/users/michalmonselise/e...</td>\n",
       "      <td>https://api.github.com/users/michalmonselise/r...</td>\n",
       "      <td>User</td>\n",
       "      <td>False</td>\n",
       "    </tr>\n",
       "    <tr>\n",
       "      <th>7</th>\n",
       "      <td>6c2a1247d4e13a37261081279f250ffa82ed5c96</td>\n",
       "      <td>MDY6Q29tbWl0MTUzNzIwODA0OjZjMmExMjQ3ZDRlMTNhMz...</td>\n",
       "      <td>https://api.github.com/repos/ironhack-datalabs...</td>\n",
       "      <td>https://github.com/ironhack-datalabs/mad-oct-2...</td>\n",
       "      <td>https://api.github.com/repos/ironhack-datalabs...</td>\n",
       "      <td>[{'sha': 'cc02db3df76c8a16ecee3f7a937366ff427a...</td>\n",
       "      <td>Michal Monselise</td>\n",
       "      <td>michal.monselise@gmail.com</td>\n",
       "      <td>2019-01-17T06:24:01Z</td>\n",
       "      <td>Michal Monselise</td>\n",
       "      <td>...</td>\n",
       "      <td>https://api.github.com/users/michalmonselise/f...</td>\n",
       "      <td>https://api.github.com/users/michalmonselise/g...</td>\n",
       "      <td>https://api.github.com/users/michalmonselise/s...</td>\n",
       "      <td>https://api.github.com/users/michalmonselise/s...</td>\n",
       "      <td>https://api.github.com/users/michalmonselise/orgs</td>\n",
       "      <td>https://api.github.com/users/michalmonselise/r...</td>\n",
       "      <td>https://api.github.com/users/michalmonselise/e...</td>\n",
       "      <td>https://api.github.com/users/michalmonselise/r...</td>\n",
       "      <td>User</td>\n",
       "      <td>False</td>\n",
       "    </tr>\n",
       "  </tbody>\n",
       "</table>\n",
       "<p>5 rows × 57 columns</p>\n",
       "</div>"
      ],
      "text/plain": [
       "                                        sha  \\\n",
       "3  41e09d4fbf64bacb2fdfe7d90cdd0cd71bd24310   \n",
       "4  750eb91e4535c14ec4bf03f60cb5756a1c93f68f   \n",
       "5  4a8cc3cb64821cb58182a3a94be38f17d27a8e8f   \n",
       "6  1501bac01f8183d223a47ca7f23649a5d98d7e00   \n",
       "7  6c2a1247d4e13a37261081279f250ffa82ed5c96   \n",
       "\n",
       "                                             node_id  \\\n",
       "3  MDY6Q29tbWl0MTUzNzIwODA0OjQxZTA5ZDRmYmY2NGJhY2...   \n",
       "4  MDY6Q29tbWl0MTUzNzIwODA0Ojc1MGViOTFlNDUzNWMxNG...   \n",
       "5  MDY6Q29tbWl0MTUzNzIwODA0OjRhOGNjM2NiNjQ4MjFjYj...   \n",
       "6  MDY6Q29tbWl0MTUzNzIwODA0OjE1MDFiYWMwMWY4MTgzZD...   \n",
       "7  MDY6Q29tbWl0MTUzNzIwODA0OjZjMmExMjQ3ZDRlMTNhMz...   \n",
       "\n",
       "                                                 url  \\\n",
       "3  https://api.github.com/repos/ironhack-datalabs...   \n",
       "4  https://api.github.com/repos/ironhack-datalabs...   \n",
       "5  https://api.github.com/repos/ironhack-datalabs...   \n",
       "6  https://api.github.com/repos/ironhack-datalabs...   \n",
       "7  https://api.github.com/repos/ironhack-datalabs...   \n",
       "\n",
       "                                            html_url  \\\n",
       "3  https://github.com/ironhack-datalabs/mad-oct-2...   \n",
       "4  https://github.com/ironhack-datalabs/mad-oct-2...   \n",
       "5  https://github.com/ironhack-datalabs/mad-oct-2...   \n",
       "6  https://github.com/ironhack-datalabs/mad-oct-2...   \n",
       "7  https://github.com/ironhack-datalabs/mad-oct-2...   \n",
       "\n",
       "                                        comments_url  \\\n",
       "3  https://api.github.com/repos/ironhack-datalabs...   \n",
       "4  https://api.github.com/repos/ironhack-datalabs...   \n",
       "5  https://api.github.com/repos/ironhack-datalabs...   \n",
       "6  https://api.github.com/repos/ironhack-datalabs...   \n",
       "7  https://api.github.com/repos/ironhack-datalabs...   \n",
       "\n",
       "                                             parents commit.author.name  \\\n",
       "3  [{'sha': '750eb91e4535c14ec4bf03f60cb5756a1c93...         Tony Ojeda   \n",
       "4  [{'sha': '4a8cc3cb64821cb58182a3a94be38f17d27a...   Michal Monselise   \n",
       "5  [{'sha': '1501bac01f8183d223a47ca7f23649a5d98d...   Michal Monselise   \n",
       "6  [{'sha': '6c2a1247d4e13a37261081279f250ffa82ed...   Michal Monselise   \n",
       "7  [{'sha': 'cc02db3df76c8a16ecee3f7a937366ff427a...   Michal Monselise   \n",
       "\n",
       "           commit.author.email    commit.author.date commit.committer.name  \\\n",
       "3  tojeda@districtdatalabs.com  2019-01-18T18:28:33Z            Tony Ojeda   \n",
       "4   michal.monselise@gmail.com  2019-01-17T21:59:35Z      Michal Monselise   \n",
       "5   michal.monselise@gmail.com  2019-01-17T06:33:16Z      Michal Monselise   \n",
       "6   michal.monselise@gmail.com  2019-01-17T06:28:16Z      Michal Monselise   \n",
       "7   michal.monselise@gmail.com  2019-01-17T06:24:01Z      Michal Monselise   \n",
       "\n",
       "   ...                            committer.following_url  \\\n",
       "3  ...  https://api.github.com/users/ojedatony1616/fol...   \n",
       "4  ...  https://api.github.com/users/michalmonselise/f...   \n",
       "5  ...  https://api.github.com/users/michalmonselise/f...   \n",
       "6  ...  https://api.github.com/users/michalmonselise/f...   \n",
       "7  ...  https://api.github.com/users/michalmonselise/f...   \n",
       "\n",
       "                                 committer.gists_url  \\\n",
       "3  https://api.github.com/users/ojedatony1616/gis...   \n",
       "4  https://api.github.com/users/michalmonselise/g...   \n",
       "5  https://api.github.com/users/michalmonselise/g...   \n",
       "6  https://api.github.com/users/michalmonselise/g...   \n",
       "7  https://api.github.com/users/michalmonselise/g...   \n",
       "\n",
       "                               committer.starred_url  \\\n",
       "3  https://api.github.com/users/ojedatony1616/sta...   \n",
       "4  https://api.github.com/users/michalmonselise/s...   \n",
       "5  https://api.github.com/users/michalmonselise/s...   \n",
       "6  https://api.github.com/users/michalmonselise/s...   \n",
       "7  https://api.github.com/users/michalmonselise/s...   \n",
       "\n",
       "                         committer.subscriptions_url  \\\n",
       "3  https://api.github.com/users/ojedatony1616/sub...   \n",
       "4  https://api.github.com/users/michalmonselise/s...   \n",
       "5  https://api.github.com/users/michalmonselise/s...   \n",
       "6  https://api.github.com/users/michalmonselise/s...   \n",
       "7  https://api.github.com/users/michalmonselise/s...   \n",
       "\n",
       "                         committer.organizations_url  \\\n",
       "3    https://api.github.com/users/ojedatony1616/orgs   \n",
       "4  https://api.github.com/users/michalmonselise/orgs   \n",
       "5  https://api.github.com/users/michalmonselise/orgs   \n",
       "6  https://api.github.com/users/michalmonselise/orgs   \n",
       "7  https://api.github.com/users/michalmonselise/orgs   \n",
       "\n",
       "                                 committer.repos_url  \\\n",
       "3   https://api.github.com/users/ojedatony1616/repos   \n",
       "4  https://api.github.com/users/michalmonselise/r...   \n",
       "5  https://api.github.com/users/michalmonselise/r...   \n",
       "6  https://api.github.com/users/michalmonselise/r...   \n",
       "7  https://api.github.com/users/michalmonselise/r...   \n",
       "\n",
       "                                committer.events_url  \\\n",
       "3  https://api.github.com/users/ojedatony1616/eve...   \n",
       "4  https://api.github.com/users/michalmonselise/e...   \n",
       "5  https://api.github.com/users/michalmonselise/e...   \n",
       "6  https://api.github.com/users/michalmonselise/e...   \n",
       "7  https://api.github.com/users/michalmonselise/e...   \n",
       "\n",
       "                       committer.received_events_url committer.type  \\\n",
       "3  https://api.github.com/users/ojedatony1616/rec...           User   \n",
       "4  https://api.github.com/users/michalmonselise/r...           User   \n",
       "5  https://api.github.com/users/michalmonselise/r...           User   \n",
       "6  https://api.github.com/users/michalmonselise/r...           User   \n",
       "7  https://api.github.com/users/michalmonselise/r...           User   \n",
       "\n",
       "  committer.site_admin  \n",
       "3                False  \n",
       "4                False  \n",
       "5                False  \n",
       "6                False  \n",
       "7                False  \n",
       "\n",
       "[5 rows x 57 columns]"
      ]
     },
     "execution_count": 34,
     "metadata": {},
     "output_type": "execute_result"
    }
   ],
   "source": [
    "# commits made in january 2019:\n",
    "\n",
    "commit_df.loc[mask,:].head()"
   ]
  },
  {
   "cell_type": "markdown",
   "metadata": {
    "colab_type": "text",
    "id": "cp1aYfRShPRb"
   },
   "source": [
    "#### 2. Count how many commit objects are contained in the array."
   ]
  },
  {
   "cell_type": "code",
   "execution_count": 37,
   "metadata": {},
   "outputs": [],
   "source": [
    "# defining function to use inside lambda function and calculate how many commits were made in january: \n",
    "\n",
    "def jan_commits (x):\n",
    "    '''\n",
    "    This function counts commits that were made in january.\n",
    "    If input date is january, returns 1\n",
    "    Else, returns 0\n",
    "    \n",
    "    '''\n",
    "    pattern = \"(\\d{4}.\\d1).\\d{2}.+\"\n",
    "    \n",
    "    if len(re.findall(pattern, x)) > 0:\n",
    "        return len(re.findall(pattern, x)) \n",
    "    else:\n",
    "        return 0"
   ]
  },
  {
   "cell_type": "code",
   "execution_count": 40,
   "metadata": {},
   "outputs": [
    {
     "data": {
      "text/plain": [
       "27"
      ]
     },
     "execution_count": 40,
     "metadata": {},
     "output_type": "execute_result"
    }
   ],
   "source": [
    "# The number of commits made in january/2019 are 27: \n",
    "\n",
    "commit_df.loc[:,'commit.committer.date'].apply(lambda x: jan_commits(x)).sum()"
   ]
  },
  {
   "cell_type": "markdown",
   "metadata": {
    "colab_type": "text",
    "id": "cr6YdvCvhPTZ"
   },
   "source": [
    "## Challenge 3: Hidden Cold Joke\n",
    "\n",
    "Using Python, call Github API to find out the cold joke contained in the 24 secret files in the following repo:\n",
    "\n",
    "https://github.com/ironhack-datalabs/scavenger\n",
    "\n",
    "The filenames of the secret files contain .scavengerhunt and they are scattered in different directories of this repo. The secret files are named from .0001.scavengerhunt to .0024.scavengerhunt. They are scattered randomly throughout this repo. You need to search for these files by calling the Github API, not searching the local files on your computer.\n",
    "\n",
    "#### 1. Find the secret files."
   ]
  },
  {
   "cell_type": "code",
   "execution_count": 56,
   "metadata": {},
   "outputs": [],
   "source": [
    "username = 'serachung'\n",
    "token = '40dea0ff87d942ae6311cdc4c4d6f481d48595bb'\n",
    "url = 'https://api.github.com/repos/ironhack-datalabs/scavenger/contents'"
   ]
  },
  {
   "cell_type": "code",
   "execution_count": 57,
   "metadata": {},
   "outputs": [
    {
     "data": {
      "text/plain": [
       "<Response [200]>"
      ]
     },
     "execution_count": 57,
     "metadata": {},
     "output_type": "execute_result"
    }
   ],
   "source": [
    "# your code here\n",
    "# GET /repos/:owner/:repo/contents/:path\n",
    "\n",
    "cold_jokes = requests.get(url, auth=(username,token)) #unlimited requests\n",
    "cold_jokes"
   ]
  },
  {
   "cell_type": "code",
   "execution_count": 58,
   "metadata": {
    "scrolled": true
   },
   "outputs": [
    {
     "data": {
      "text/html": [
       "<div>\n",
       "<style scoped>\n",
       "    .dataframe tbody tr th:only-of-type {\n",
       "        vertical-align: middle;\n",
       "    }\n",
       "\n",
       "    .dataframe tbody tr th {\n",
       "        vertical-align: top;\n",
       "    }\n",
       "\n",
       "    .dataframe thead th {\n",
       "        text-align: right;\n",
       "    }\n",
       "</style>\n",
       "<table border=\"1\" class=\"dataframe\">\n",
       "  <thead>\n",
       "    <tr style=\"text-align: right;\">\n",
       "      <th></th>\n",
       "      <th>name</th>\n",
       "      <th>path</th>\n",
       "      <th>sha</th>\n",
       "      <th>size</th>\n",
       "      <th>url</th>\n",
       "      <th>html_url</th>\n",
       "      <th>git_url</th>\n",
       "      <th>download_url</th>\n",
       "      <th>type</th>\n",
       "      <th>_links.self</th>\n",
       "      <th>_links.git</th>\n",
       "      <th>_links.html</th>\n",
       "    </tr>\n",
       "  </thead>\n",
       "  <tbody>\n",
       "    <tr>\n",
       "      <th>0</th>\n",
       "      <td>.gitignore</td>\n",
       "      <td>.gitignore</td>\n",
       "      <td>e43b0f988953ae3a84b00331d0ccf5f7d51cb3cf</td>\n",
       "      <td>10</td>\n",
       "      <td>https://api.github.com/repos/ironhack-datalabs...</td>\n",
       "      <td>https://github.com/ironhack-datalabs/scavenger...</td>\n",
       "      <td>https://api.github.com/repos/ironhack-datalabs...</td>\n",
       "      <td>https://raw.githubusercontent.com/ironhack-dat...</td>\n",
       "      <td>file</td>\n",
       "      <td>https://api.github.com/repos/ironhack-datalabs...</td>\n",
       "      <td>https://api.github.com/repos/ironhack-datalabs...</td>\n",
       "      <td>https://github.com/ironhack-datalabs/scavenger...</td>\n",
       "    </tr>\n",
       "    <tr>\n",
       "      <th>1</th>\n",
       "      <td>15024</td>\n",
       "      <td>15024</td>\n",
       "      <td>2945e51c87ad5da893c954afcf092f06343bbb7d</td>\n",
       "      <td>0</td>\n",
       "      <td>https://api.github.com/repos/ironhack-datalabs...</td>\n",
       "      <td>https://github.com/ironhack-datalabs/scavenger...</td>\n",
       "      <td>https://api.github.com/repos/ironhack-datalabs...</td>\n",
       "      <td>None</td>\n",
       "      <td>dir</td>\n",
       "      <td>https://api.github.com/repos/ironhack-datalabs...</td>\n",
       "      <td>https://api.github.com/repos/ironhack-datalabs...</td>\n",
       "      <td>https://github.com/ironhack-datalabs/scavenger...</td>\n",
       "    </tr>\n",
       "    <tr>\n",
       "      <th>2</th>\n",
       "      <td>15534</td>\n",
       "      <td>15534</td>\n",
       "      <td>5af6f2a7287e4191f39e55693fc1e9c8918d1d3a</td>\n",
       "      <td>0</td>\n",
       "      <td>https://api.github.com/repos/ironhack-datalabs...</td>\n",
       "      <td>https://github.com/ironhack-datalabs/scavenger...</td>\n",
       "      <td>https://api.github.com/repos/ironhack-datalabs...</td>\n",
       "      <td>None</td>\n",
       "      <td>dir</td>\n",
       "      <td>https://api.github.com/repos/ironhack-datalabs...</td>\n",
       "      <td>https://api.github.com/repos/ironhack-datalabs...</td>\n",
       "      <td>https://github.com/ironhack-datalabs/scavenger...</td>\n",
       "    </tr>\n",
       "    <tr>\n",
       "      <th>3</th>\n",
       "      <td>17020</td>\n",
       "      <td>17020</td>\n",
       "      <td>9c49f920aa4d9433fa99a5824128f0e6b90ec5f2</td>\n",
       "      <td>0</td>\n",
       "      <td>https://api.github.com/repos/ironhack-datalabs...</td>\n",
       "      <td>https://github.com/ironhack-datalabs/scavenger...</td>\n",
       "      <td>https://api.github.com/repos/ironhack-datalabs...</td>\n",
       "      <td>None</td>\n",
       "      <td>dir</td>\n",
       "      <td>https://api.github.com/repos/ironhack-datalabs...</td>\n",
       "      <td>https://api.github.com/repos/ironhack-datalabs...</td>\n",
       "      <td>https://github.com/ironhack-datalabs/scavenger...</td>\n",
       "    </tr>\n",
       "    <tr>\n",
       "      <th>4</th>\n",
       "      <td>30351</td>\n",
       "      <td>30351</td>\n",
       "      <td>c488d7f64088c852e22067d48fdc64ee3670f3ba</td>\n",
       "      <td>0</td>\n",
       "      <td>https://api.github.com/repos/ironhack-datalabs...</td>\n",
       "      <td>https://github.com/ironhack-datalabs/scavenger...</td>\n",
       "      <td>https://api.github.com/repos/ironhack-datalabs...</td>\n",
       "      <td>None</td>\n",
       "      <td>dir</td>\n",
       "      <td>https://api.github.com/repos/ironhack-datalabs...</td>\n",
       "      <td>https://api.github.com/repos/ironhack-datalabs...</td>\n",
       "      <td>https://github.com/ironhack-datalabs/scavenger...</td>\n",
       "    </tr>\n",
       "  </tbody>\n",
       "</table>\n",
       "</div>"
      ],
      "text/plain": [
       "         name        path                                       sha  size  \\\n",
       "0  .gitignore  .gitignore  e43b0f988953ae3a84b00331d0ccf5f7d51cb3cf    10   \n",
       "1       15024       15024  2945e51c87ad5da893c954afcf092f06343bbb7d     0   \n",
       "2       15534       15534  5af6f2a7287e4191f39e55693fc1e9c8918d1d3a     0   \n",
       "3       17020       17020  9c49f920aa4d9433fa99a5824128f0e6b90ec5f2     0   \n",
       "4       30351       30351  c488d7f64088c852e22067d48fdc64ee3670f3ba     0   \n",
       "\n",
       "                                                 url  \\\n",
       "0  https://api.github.com/repos/ironhack-datalabs...   \n",
       "1  https://api.github.com/repos/ironhack-datalabs...   \n",
       "2  https://api.github.com/repos/ironhack-datalabs...   \n",
       "3  https://api.github.com/repos/ironhack-datalabs...   \n",
       "4  https://api.github.com/repos/ironhack-datalabs...   \n",
       "\n",
       "                                            html_url  \\\n",
       "0  https://github.com/ironhack-datalabs/scavenger...   \n",
       "1  https://github.com/ironhack-datalabs/scavenger...   \n",
       "2  https://github.com/ironhack-datalabs/scavenger...   \n",
       "3  https://github.com/ironhack-datalabs/scavenger...   \n",
       "4  https://github.com/ironhack-datalabs/scavenger...   \n",
       "\n",
       "                                             git_url  \\\n",
       "0  https://api.github.com/repos/ironhack-datalabs...   \n",
       "1  https://api.github.com/repos/ironhack-datalabs...   \n",
       "2  https://api.github.com/repos/ironhack-datalabs...   \n",
       "3  https://api.github.com/repos/ironhack-datalabs...   \n",
       "4  https://api.github.com/repos/ironhack-datalabs...   \n",
       "\n",
       "                                        download_url  type  \\\n",
       "0  https://raw.githubusercontent.com/ironhack-dat...  file   \n",
       "1                                               None   dir   \n",
       "2                                               None   dir   \n",
       "3                                               None   dir   \n",
       "4                                               None   dir   \n",
       "\n",
       "                                         _links.self  \\\n",
       "0  https://api.github.com/repos/ironhack-datalabs...   \n",
       "1  https://api.github.com/repos/ironhack-datalabs...   \n",
       "2  https://api.github.com/repos/ironhack-datalabs...   \n",
       "3  https://api.github.com/repos/ironhack-datalabs...   \n",
       "4  https://api.github.com/repos/ironhack-datalabs...   \n",
       "\n",
       "                                          _links.git  \\\n",
       "0  https://api.github.com/repos/ironhack-datalabs...   \n",
       "1  https://api.github.com/repos/ironhack-datalabs...   \n",
       "2  https://api.github.com/repos/ironhack-datalabs...   \n",
       "3  https://api.github.com/repos/ironhack-datalabs...   \n",
       "4  https://api.github.com/repos/ironhack-datalabs...   \n",
       "\n",
       "                                         _links.html  \n",
       "0  https://github.com/ironhack-datalabs/scavenger...  \n",
       "1  https://github.com/ironhack-datalabs/scavenger...  \n",
       "2  https://github.com/ironhack-datalabs/scavenger...  \n",
       "3  https://github.com/ironhack-datalabs/scavenger...  \n",
       "4  https://github.com/ironhack-datalabs/scavenger...  "
      ]
     },
     "execution_count": 58,
     "metadata": {},
     "output_type": "execute_result"
    }
   ],
   "source": [
    "# read the .json file as a DataFrame\n",
    "\n",
    "jokes_df = pd.json_normalize(cold_jokes.json())\n",
    "jokes_df.head()"
   ]
  },
  {
   "cell_type": "code",
   "execution_count": 62,
   "metadata": {},
   "outputs": [
    {
     "data": {
      "text/plain": [
       "(26, 12)"
      ]
     },
     "execution_count": 62,
     "metadata": {},
     "output_type": "execute_result"
    }
   ],
   "source": [
    "jokes_df.shape"
   ]
  },
  {
   "cell_type": "code",
   "execution_count": 112,
   "metadata": {},
   "outputs": [
    {
     "name": "stdout",
     "output_type": "stream",
     "text": [
      "47222\n",
      "dir\n",
      "https://api.github.com/repos/ironhack-datalabs/scavenger/contents/47222?ref=master\n"
     ]
    }
   ],
   "source": [
    "x=8\n",
    "print(jokes_df.loc[x,'path'])\n",
    "print(jokes_df.loc[x,'type'])\n",
    "print(jokes_df.loc[x,'url'])"
   ]
  },
  {
   "cell_type": "code",
   "execution_count": 142,
   "metadata": {},
   "outputs": [
    {
     "data": {
      "text/html": [
       "<div>\n",
       "<style scoped>\n",
       "    .dataframe tbody tr th:only-of-type {\n",
       "        vertical-align: middle;\n",
       "    }\n",
       "\n",
       "    .dataframe tbody tr th {\n",
       "        vertical-align: top;\n",
       "    }\n",
       "\n",
       "    .dataframe thead th {\n",
       "        text-align: right;\n",
       "    }\n",
       "</style>\n",
       "<table border=\"1\" class=\"dataframe\">\n",
       "  <thead>\n",
       "    <tr style=\"text-align: right;\">\n",
       "      <th></th>\n",
       "      <th>path</th>\n",
       "      <th>type</th>\n",
       "      <th>url</th>\n",
       "    </tr>\n",
       "  </thead>\n",
       "  <tbody>\n",
       "    <tr>\n",
       "      <th>1</th>\n",
       "      <td>15024</td>\n",
       "      <td>dir</td>\n",
       "      <td>https://api.github.com/repos/ironhack-datalabs...</td>\n",
       "    </tr>\n",
       "    <tr>\n",
       "      <th>2</th>\n",
       "      <td>15534</td>\n",
       "      <td>dir</td>\n",
       "      <td>https://api.github.com/repos/ironhack-datalabs...</td>\n",
       "    </tr>\n",
       "    <tr>\n",
       "      <th>3</th>\n",
       "      <td>17020</td>\n",
       "      <td>dir</td>\n",
       "      <td>https://api.github.com/repos/ironhack-datalabs...</td>\n",
       "    </tr>\n",
       "    <tr>\n",
       "      <th>4</th>\n",
       "      <td>30351</td>\n",
       "      <td>dir</td>\n",
       "      <td>https://api.github.com/repos/ironhack-datalabs...</td>\n",
       "    </tr>\n",
       "    <tr>\n",
       "      <th>5</th>\n",
       "      <td>40303</td>\n",
       "      <td>dir</td>\n",
       "      <td>https://api.github.com/repos/ironhack-datalabs...</td>\n",
       "    </tr>\n",
       "  </tbody>\n",
       "</table>\n",
       "</div>"
      ],
      "text/plain": [
       "    path type                                                url\n",
       "1  15024  dir  https://api.github.com/repos/ironhack-datalabs...\n",
       "2  15534  dir  https://api.github.com/repos/ironhack-datalabs...\n",
       "3  17020  dir  https://api.github.com/repos/ironhack-datalabs...\n",
       "4  30351  dir  https://api.github.com/repos/ironhack-datalabs...\n",
       "5  40303  dir  https://api.github.com/repos/ironhack-datalabs..."
      ]
     },
     "execution_count": 142,
     "metadata": {},
     "output_type": "execute_result"
    }
   ],
   "source": [
    "# 1. filter only directories:\n",
    "mask = jokes_df.loc[:,'type'] == 'dir'\n",
    "jokes_df.loc[mask,['path','type','url']].head()"
   ]
  },
  {
   "cell_type": "code",
   "execution_count": 151,
   "metadata": {},
   "outputs": [
    {
     "data": {
      "text/html": [
       "<div>\n",
       "<style scoped>\n",
       "    .dataframe tbody tr th:only-of-type {\n",
       "        vertical-align: middle;\n",
       "    }\n",
       "\n",
       "    .dataframe tbody tr th {\n",
       "        vertical-align: top;\n",
       "    }\n",
       "\n",
       "    .dataframe thead th {\n",
       "        text-align: right;\n",
       "    }\n",
       "</style>\n",
       "<table border=\"1\" class=\"dataframe\">\n",
       "  <thead>\n",
       "    <tr style=\"text-align: right;\">\n",
       "      <th></th>\n",
       "      <th>name</th>\n",
       "      <th>path</th>\n",
       "      <th>sha</th>\n",
       "      <th>size</th>\n",
       "      <th>url</th>\n",
       "      <th>html_url</th>\n",
       "      <th>git_url</th>\n",
       "      <th>download_url</th>\n",
       "      <th>type</th>\n",
       "      <th>_links.self</th>\n",
       "      <th>_links.git</th>\n",
       "      <th>_links.html</th>\n",
       "    </tr>\n",
       "  </thead>\n",
       "  <tbody>\n",
       "    <tr>\n",
       "      <th>1</th>\n",
       "      <td>15024</td>\n",
       "      <td>15024</td>\n",
       "      <td>2945e51c87ad5da893c954afcf092f06343bbb7d</td>\n",
       "      <td>0</td>\n",
       "      <td>https://api.github.com/repos/ironhack-datalabs...</td>\n",
       "      <td>https://github.com/ironhack-datalabs/scavenger...</td>\n",
       "      <td>https://api.github.com/repos/ironhack-datalabs...</td>\n",
       "      <td>None</td>\n",
       "      <td>dir</td>\n",
       "      <td>https://api.github.com/repos/ironhack-datalabs...</td>\n",
       "      <td>https://api.github.com/repos/ironhack-datalabs...</td>\n",
       "      <td>https://github.com/ironhack-datalabs/scavenger...</td>\n",
       "    </tr>\n",
       "    <tr>\n",
       "      <th>2</th>\n",
       "      <td>15534</td>\n",
       "      <td>15534</td>\n",
       "      <td>5af6f2a7287e4191f39e55693fc1e9c8918d1d3a</td>\n",
       "      <td>0</td>\n",
       "      <td>https://api.github.com/repos/ironhack-datalabs...</td>\n",
       "      <td>https://github.com/ironhack-datalabs/scavenger...</td>\n",
       "      <td>https://api.github.com/repos/ironhack-datalabs...</td>\n",
       "      <td>None</td>\n",
       "      <td>dir</td>\n",
       "      <td>https://api.github.com/repos/ironhack-datalabs...</td>\n",
       "      <td>https://api.github.com/repos/ironhack-datalabs...</td>\n",
       "      <td>https://github.com/ironhack-datalabs/scavenger...</td>\n",
       "    </tr>\n",
       "  </tbody>\n",
       "</table>\n",
       "</div>"
      ],
      "text/plain": [
       "    name   path                                       sha  size  \\\n",
       "1  15024  15024  2945e51c87ad5da893c954afcf092f06343bbb7d     0   \n",
       "2  15534  15534  5af6f2a7287e4191f39e55693fc1e9c8918d1d3a     0   \n",
       "\n",
       "                                                 url  \\\n",
       "1  https://api.github.com/repos/ironhack-datalabs...   \n",
       "2  https://api.github.com/repos/ironhack-datalabs...   \n",
       "\n",
       "                                            html_url  \\\n",
       "1  https://github.com/ironhack-datalabs/scavenger...   \n",
       "2  https://github.com/ironhack-datalabs/scavenger...   \n",
       "\n",
       "                                             git_url download_url type  \\\n",
       "1  https://api.github.com/repos/ironhack-datalabs...         None  dir   \n",
       "2  https://api.github.com/repos/ironhack-datalabs...         None  dir   \n",
       "\n",
       "                                         _links.self  \\\n",
       "1  https://api.github.com/repos/ironhack-datalabs...   \n",
       "2  https://api.github.com/repos/ironhack-datalabs...   \n",
       "\n",
       "                                          _links.git  \\\n",
       "1  https://api.github.com/repos/ironhack-datalabs...   \n",
       "2  https://api.github.com/repos/ironhack-datalabs...   \n",
       "\n",
       "                                         _links.html  \n",
       "1  https://github.com/ironhack-datalabs/scavenger...  \n",
       "2  https://github.com/ironhack-datalabs/scavenger...  "
      ]
     },
     "execution_count": 151,
     "metadata": {},
     "output_type": "execute_result"
    }
   ],
   "source": [
    "jokes_df_wip = jokes_df.copy().loc[mask,:]\n",
    "jokes_df_wip.head(2)"
   ]
  },
  {
   "cell_type": "code",
   "execution_count": 202,
   "metadata": {},
   "outputs": [],
   "source": [
    "# create a new request for all the files in the scavenger directory to find the secret files\n",
    "def joke_path (x: str)-> list: \n",
    "    '''\n",
    "    Receives a directory url ==> \n",
    "        1. Requests access to it\n",
    "        2. Finds the joke file \n",
    "    -> Returns a list with the joke files' urls\n",
    "\n",
    "    '''\n",
    "    # 1. Requesting for each directory inside the 'scavenger' folder :\n",
    "    dir_req = pd.json_normalize(requests.get(x,auth=(username,token)).json()) \n",
    "    \n",
    "    # 2. Finding the path to access the hidden joke file: \n",
    "    mask = dir_req.loc[:,'name'].apply(lambda y: y.endswith('.scavengerhunt'))\n",
    "    joke_path = dir_req.loc[mask,'name']\n",
    "    \n",
    "    if len(joke_path) == 0:\n",
    "        new_url = 'no jokes in this dir'\n",
    "        \n",
    "    elif len(joke_path) == 1:\n",
    "        new_url = [x.split('?')[0] + f'/{joke_path[0]}']\n",
    "\n",
    "    elif len(joke_path) > 1:\n",
    "        paths = [joke_path[i] for i in range(len(joke_path))]\n",
    "        new_url = [x.split('?')[0] + f'/{url}' for url in paths]\n",
    "    else:\n",
    "        print ('review your `joke_path(x)` function')\n",
    "\n",
    "    return new_url"
   ]
  },
  {
   "cell_type": "code",
   "execution_count": 203,
   "metadata": {},
   "outputs": [
    {
     "data": {
      "text/plain": [
       "['https://api.github.com/repos/ironhack-datalabs/scavenger/contents/15024/.0006.scavengerhunt']"
      ]
     },
     "execution_count": 203,
     "metadata": {},
     "output_type": "execute_result"
    }
   ],
   "source": [
    "y = jokes_df_wip.loc[1,'url']\n",
    "joke_path(y)"
   ]
  },
  {
   "cell_type": "code",
   "execution_count": 204,
   "metadata": {
    "scrolled": true
   },
   "outputs": [
    {
     "data": {
      "text/plain": [
       "Index(['name', 'path', 'sha', 'size', 'url', 'html_url', 'git_url',\n",
       "       'download_url', 'type', '_links.self', '_links.git', '_links.html',\n",
       "       'jokes_url'],\n",
       "      dtype='object')"
      ]
     },
     "execution_count": 204,
     "metadata": {},
     "output_type": "execute_result"
    }
   ],
   "source": [
    "# Creating a new column in the DataFrame to input all the found joke urls\n",
    "\n",
    "jokes_df_wip['jokes_url']=\"\"\n",
    "jokes_df_wip.columns"
   ]
  },
  {
   "cell_type": "code",
   "execution_count": 205,
   "metadata": {},
   "outputs": [],
   "source": [
    "# assigning joke urls to the created columns in the DataFrame: \n",
    "\n",
    "jokes_df_wip.loc[:, 'jokes_url'] = jokes_df_wip.loc[:,'url'].apply(lambda x: joke_path(x))"
   ]
  },
  {
   "cell_type": "code",
   "execution_count": 206,
   "metadata": {},
   "outputs": [
    {
     "data": {
      "text/html": [
       "<div>\n",
       "<style scoped>\n",
       "    .dataframe tbody tr th:only-of-type {\n",
       "        vertical-align: middle;\n",
       "    }\n",
       "\n",
       "    .dataframe tbody tr th {\n",
       "        vertical-align: top;\n",
       "    }\n",
       "\n",
       "    .dataframe thead th {\n",
       "        text-align: right;\n",
       "    }\n",
       "</style>\n",
       "<table border=\"1\" class=\"dataframe\">\n",
       "  <thead>\n",
       "    <tr style=\"text-align: right;\">\n",
       "      <th></th>\n",
       "      <th>name</th>\n",
       "      <th>path</th>\n",
       "      <th>sha</th>\n",
       "      <th>size</th>\n",
       "      <th>url</th>\n",
       "      <th>html_url</th>\n",
       "      <th>git_url</th>\n",
       "      <th>download_url</th>\n",
       "      <th>type</th>\n",
       "      <th>_links.self</th>\n",
       "      <th>_links.git</th>\n",
       "      <th>_links.html</th>\n",
       "      <th>jokes_url</th>\n",
       "    </tr>\n",
       "  </thead>\n",
       "  <tbody>\n",
       "    <tr>\n",
       "      <th>1</th>\n",
       "      <td>15024</td>\n",
       "      <td>15024</td>\n",
       "      <td>2945e51c87ad5da893c954afcf092f06343bbb7d</td>\n",
       "      <td>0</td>\n",
       "      <td>https://api.github.com/repos/ironhack-datalabs...</td>\n",
       "      <td>https://github.com/ironhack-datalabs/scavenger...</td>\n",
       "      <td>https://api.github.com/repos/ironhack-datalabs...</td>\n",
       "      <td>None</td>\n",
       "      <td>dir</td>\n",
       "      <td>https://api.github.com/repos/ironhack-datalabs...</td>\n",
       "      <td>https://api.github.com/repos/ironhack-datalabs...</td>\n",
       "      <td>https://github.com/ironhack-datalabs/scavenger...</td>\n",
       "      <td>[https://api.github.com/repos/ironhack-datalab...</td>\n",
       "    </tr>\n",
       "    <tr>\n",
       "      <th>2</th>\n",
       "      <td>15534</td>\n",
       "      <td>15534</td>\n",
       "      <td>5af6f2a7287e4191f39e55693fc1e9c8918d1d3a</td>\n",
       "      <td>0</td>\n",
       "      <td>https://api.github.com/repos/ironhack-datalabs...</td>\n",
       "      <td>https://github.com/ironhack-datalabs/scavenger...</td>\n",
       "      <td>https://api.github.com/repos/ironhack-datalabs...</td>\n",
       "      <td>None</td>\n",
       "      <td>dir</td>\n",
       "      <td>https://api.github.com/repos/ironhack-datalabs...</td>\n",
       "      <td>https://api.github.com/repos/ironhack-datalabs...</td>\n",
       "      <td>https://github.com/ironhack-datalabs/scavenger...</td>\n",
       "      <td>[https://api.github.com/repos/ironhack-datalab...</td>\n",
       "    </tr>\n",
       "  </tbody>\n",
       "</table>\n",
       "</div>"
      ],
      "text/plain": [
       "    name   path                                       sha  size  \\\n",
       "1  15024  15024  2945e51c87ad5da893c954afcf092f06343bbb7d     0   \n",
       "2  15534  15534  5af6f2a7287e4191f39e55693fc1e9c8918d1d3a     0   \n",
       "\n",
       "                                                 url  \\\n",
       "1  https://api.github.com/repos/ironhack-datalabs...   \n",
       "2  https://api.github.com/repos/ironhack-datalabs...   \n",
       "\n",
       "                                            html_url  \\\n",
       "1  https://github.com/ironhack-datalabs/scavenger...   \n",
       "2  https://github.com/ironhack-datalabs/scavenger...   \n",
       "\n",
       "                                             git_url download_url type  \\\n",
       "1  https://api.github.com/repos/ironhack-datalabs...         None  dir   \n",
       "2  https://api.github.com/repos/ironhack-datalabs...         None  dir   \n",
       "\n",
       "                                         _links.self  \\\n",
       "1  https://api.github.com/repos/ironhack-datalabs...   \n",
       "2  https://api.github.com/repos/ironhack-datalabs...   \n",
       "\n",
       "                                          _links.git  \\\n",
       "1  https://api.github.com/repos/ironhack-datalabs...   \n",
       "2  https://api.github.com/repos/ironhack-datalabs...   \n",
       "\n",
       "                                         _links.html  \\\n",
       "1  https://github.com/ironhack-datalabs/scavenger...   \n",
       "2  https://github.com/ironhack-datalabs/scavenger...   \n",
       "\n",
       "                                           jokes_url  \n",
       "1  [https://api.github.com/repos/ironhack-datalab...  \n",
       "2  [https://api.github.com/repos/ironhack-datalab...  "
      ]
     },
     "execution_count": 206,
     "metadata": {},
     "output_type": "execute_result"
    }
   ],
   "source": [
    "jokes_df_wip.head(2)"
   ]
  },
  {
   "cell_type": "code",
   "execution_count": 207,
   "metadata": {},
   "outputs": [
    {
     "name": "stdout",
     "output_type": "stream",
     "text": [
      "['https://api.github.com/repos/ironhack-datalabs/scavenger/contents/47222/.0016.scavengerhunt', 'https://api.github.com/repos/ironhack-datalabs/scavenger/contents/47222/.0024.scavengerhunt']\n"
     ]
    }
   ],
   "source": [
    "print(jokes_df_wip.loc[8, 'jokes_url'])"
   ]
  },
  {
   "cell_type": "code",
   "execution_count": 210,
   "metadata": {
    "scrolled": true
   },
   "outputs": [
    {
     "data": {
      "text/plain": [
       "['https://api.github.com/repos/ironhack-datalabs/scavenger/contents/15024/.0006.scavengerhunt',\n",
       " 'https://api.github.com/repos/ironhack-datalabs/scavenger/contents/15534/.0008.scavengerhunt',\n",
       " 'https://api.github.com/repos/ironhack-datalabs/scavenger/contents/15534/.0012.scavengerhunt',\n",
       " 'https://api.github.com/repos/ironhack-datalabs/scavenger/contents/17020/.0007.scavengerhunt',\n",
       " 'https://api.github.com/repos/ironhack-datalabs/scavenger/contents/30351/.0021.scavengerhunt',\n",
       " 'https://api.github.com/repos/ironhack-datalabs/scavenger/contents/40303/.0022.scavengerhunt',\n",
       " 'https://api.github.com/repos/ironhack-datalabs/scavenger/contents/44639/.0005.scavengerhunt',\n",
       " 'https://api.github.com/repos/ironhack-datalabs/scavenger/contents/45525/.0018.scavengerhunt',\n",
       " 'https://api.github.com/repos/ironhack-datalabs/scavenger/contents/47222/.0016.scavengerhunt',\n",
       " 'https://api.github.com/repos/ironhack-datalabs/scavenger/contents/47222/.0024.scavengerhunt',\n",
       " 'https://api.github.com/repos/ironhack-datalabs/scavenger/contents/47830/.0010.scavengerhunt',\n",
       " 'https://api.github.com/repos/ironhack-datalabs/scavenger/contents/49418/.0014.scavengerhunt',\n",
       " 'https://api.github.com/repos/ironhack-datalabs/scavenger/contents/50896/.0011.scavengerhunt',\n",
       " 'https://api.github.com/repos/ironhack-datalabs/scavenger/contents/55417/.0023.scavengerhunt',\n",
       " 'https://api.github.com/repos/ironhack-datalabs/scavenger/contents/55685/.0020.scavengerhunt',\n",
       " 'https://api.github.com/repos/ironhack-datalabs/scavenger/contents/60224/.0003.scavengerhunt',\n",
       " 'https://api.github.com/repos/ironhack-datalabs/scavenger/contents/68848/.0004.scavengerhunt',\n",
       " 'https://api.github.com/repos/ironhack-datalabs/scavenger/contents/70751/.0019.scavengerhunt',\n",
       " 'https://api.github.com/repos/ironhack-datalabs/scavenger/contents/70985/.0017.scavengerhunt',\n",
       " 'https://api.github.com/repos/ironhack-datalabs/scavenger/contents/88596/.0002.scavengerhunt',\n",
       " 'https://api.github.com/repos/ironhack-datalabs/scavenger/contents/89338/.0013.scavengerhunt',\n",
       " 'https://api.github.com/repos/ironhack-datalabs/scavenger/contents/91701/.0015.scavengerhunt',\n",
       " 'https://api.github.com/repos/ironhack-datalabs/scavenger/contents/97881/.0009.scavengerhunt',\n",
       " 'https://api.github.com/repos/ironhack-datalabs/scavenger/contents/98750/.0001.scavengerhunt']"
      ]
     },
     "execution_count": 210,
     "metadata": {},
     "output_type": "execute_result"
    }
   ],
   "source": [
    "# the list of the secret files is:\n",
    "\n",
    "list_secret_files = [url for url_list in jokes_df_wip.loc[:, 'jokes_url'] for url in url_list if type(url_list)==list ]\n",
    "\n",
    "list_secret_files "
   ]
  },
  {
   "cell_type": "markdown",
   "metadata": {
    "colab_type": "text",
    "id": "Jm7O1IHFhPTi"
   },
   "source": [
    "#### 2.  Sort the filenames ascendingly."
   ]
  },
  {
   "cell_type": "code",
   "execution_count": 293,
   "metadata": {},
   "outputs": [
    {
     "data": {
      "text/html": [
       "<div>\n",
       "<style scoped>\n",
       "    .dataframe tbody tr th:only-of-type {\n",
       "        vertical-align: middle;\n",
       "    }\n",
       "\n",
       "    .dataframe tbody tr th {\n",
       "        vertical-align: top;\n",
       "    }\n",
       "\n",
       "    .dataframe thead th {\n",
       "        text-align: right;\n",
       "    }\n",
       "</style>\n",
       "<table border=\"1\" class=\"dataframe\">\n",
       "  <thead>\n",
       "    <tr style=\"text-align: right;\">\n",
       "      <th></th>\n",
       "      <th>url</th>\n",
       "      <th>file_name</th>\n",
       "    </tr>\n",
       "  </thead>\n",
       "  <tbody>\n",
       "    <tr>\n",
       "      <th>0</th>\n",
       "      <td>https://api.github.com/repos/ironhack-datalabs...</td>\n",
       "      <td>.0006.scavengerhunt</td>\n",
       "    </tr>\n",
       "    <tr>\n",
       "      <th>1</th>\n",
       "      <td>https://api.github.com/repos/ironhack-datalabs...</td>\n",
       "      <td>.0008.scavengerhunt</td>\n",
       "    </tr>\n",
       "    <tr>\n",
       "      <th>2</th>\n",
       "      <td>https://api.github.com/repos/ironhack-datalabs...</td>\n",
       "      <td>.0012.scavengerhunt</td>\n",
       "    </tr>\n",
       "    <tr>\n",
       "      <th>3</th>\n",
       "      <td>https://api.github.com/repos/ironhack-datalabs...</td>\n",
       "      <td>.0007.scavengerhunt</td>\n",
       "    </tr>\n",
       "    <tr>\n",
       "      <th>4</th>\n",
       "      <td>https://api.github.com/repos/ironhack-datalabs...</td>\n",
       "      <td>.0021.scavengerhunt</td>\n",
       "    </tr>\n",
       "    <tr>\n",
       "      <th>5</th>\n",
       "      <td>https://api.github.com/repos/ironhack-datalabs...</td>\n",
       "      <td>.0022.scavengerhunt</td>\n",
       "    </tr>\n",
       "    <tr>\n",
       "      <th>6</th>\n",
       "      <td>https://api.github.com/repos/ironhack-datalabs...</td>\n",
       "      <td>.0005.scavengerhunt</td>\n",
       "    </tr>\n",
       "    <tr>\n",
       "      <th>7</th>\n",
       "      <td>https://api.github.com/repos/ironhack-datalabs...</td>\n",
       "      <td>.0018.scavengerhunt</td>\n",
       "    </tr>\n",
       "    <tr>\n",
       "      <th>8</th>\n",
       "      <td>https://api.github.com/repos/ironhack-datalabs...</td>\n",
       "      <td>.0016.scavengerhunt</td>\n",
       "    </tr>\n",
       "    <tr>\n",
       "      <th>9</th>\n",
       "      <td>https://api.github.com/repos/ironhack-datalabs...</td>\n",
       "      <td>.0024.scavengerhunt</td>\n",
       "    </tr>\n",
       "    <tr>\n",
       "      <th>10</th>\n",
       "      <td>https://api.github.com/repos/ironhack-datalabs...</td>\n",
       "      <td>.0010.scavengerhunt</td>\n",
       "    </tr>\n",
       "    <tr>\n",
       "      <th>11</th>\n",
       "      <td>https://api.github.com/repos/ironhack-datalabs...</td>\n",
       "      <td>.0014.scavengerhunt</td>\n",
       "    </tr>\n",
       "    <tr>\n",
       "      <th>12</th>\n",
       "      <td>https://api.github.com/repos/ironhack-datalabs...</td>\n",
       "      <td>.0011.scavengerhunt</td>\n",
       "    </tr>\n",
       "    <tr>\n",
       "      <th>13</th>\n",
       "      <td>https://api.github.com/repos/ironhack-datalabs...</td>\n",
       "      <td>.0023.scavengerhunt</td>\n",
       "    </tr>\n",
       "    <tr>\n",
       "      <th>14</th>\n",
       "      <td>https://api.github.com/repos/ironhack-datalabs...</td>\n",
       "      <td>.0020.scavengerhunt</td>\n",
       "    </tr>\n",
       "    <tr>\n",
       "      <th>15</th>\n",
       "      <td>https://api.github.com/repos/ironhack-datalabs...</td>\n",
       "      <td>.0003.scavengerhunt</td>\n",
       "    </tr>\n",
       "    <tr>\n",
       "      <th>16</th>\n",
       "      <td>https://api.github.com/repos/ironhack-datalabs...</td>\n",
       "      <td>.0004.scavengerhunt</td>\n",
       "    </tr>\n",
       "    <tr>\n",
       "      <th>17</th>\n",
       "      <td>https://api.github.com/repos/ironhack-datalabs...</td>\n",
       "      <td>.0019.scavengerhunt</td>\n",
       "    </tr>\n",
       "    <tr>\n",
       "      <th>18</th>\n",
       "      <td>https://api.github.com/repos/ironhack-datalabs...</td>\n",
       "      <td>.0017.scavengerhunt</td>\n",
       "    </tr>\n",
       "    <tr>\n",
       "      <th>19</th>\n",
       "      <td>https://api.github.com/repos/ironhack-datalabs...</td>\n",
       "      <td>.0002.scavengerhunt</td>\n",
       "    </tr>\n",
       "    <tr>\n",
       "      <th>20</th>\n",
       "      <td>https://api.github.com/repos/ironhack-datalabs...</td>\n",
       "      <td>.0013.scavengerhunt</td>\n",
       "    </tr>\n",
       "    <tr>\n",
       "      <th>21</th>\n",
       "      <td>https://api.github.com/repos/ironhack-datalabs...</td>\n",
       "      <td>.0015.scavengerhunt</td>\n",
       "    </tr>\n",
       "    <tr>\n",
       "      <th>22</th>\n",
       "      <td>https://api.github.com/repos/ironhack-datalabs...</td>\n",
       "      <td>.0009.scavengerhunt</td>\n",
       "    </tr>\n",
       "    <tr>\n",
       "      <th>23</th>\n",
       "      <td>https://api.github.com/repos/ironhack-datalabs...</td>\n",
       "      <td>.0001.scavengerhunt</td>\n",
       "    </tr>\n",
       "  </tbody>\n",
       "</table>\n",
       "</div>"
      ],
      "text/plain": [
       "                                                  url            file_name\n",
       "0   https://api.github.com/repos/ironhack-datalabs...  .0006.scavengerhunt\n",
       "1   https://api.github.com/repos/ironhack-datalabs...  .0008.scavengerhunt\n",
       "2   https://api.github.com/repos/ironhack-datalabs...  .0012.scavengerhunt\n",
       "3   https://api.github.com/repos/ironhack-datalabs...  .0007.scavengerhunt\n",
       "4   https://api.github.com/repos/ironhack-datalabs...  .0021.scavengerhunt\n",
       "5   https://api.github.com/repos/ironhack-datalabs...  .0022.scavengerhunt\n",
       "6   https://api.github.com/repos/ironhack-datalabs...  .0005.scavengerhunt\n",
       "7   https://api.github.com/repos/ironhack-datalabs...  .0018.scavengerhunt\n",
       "8   https://api.github.com/repos/ironhack-datalabs...  .0016.scavengerhunt\n",
       "9   https://api.github.com/repos/ironhack-datalabs...  .0024.scavengerhunt\n",
       "10  https://api.github.com/repos/ironhack-datalabs...  .0010.scavengerhunt\n",
       "11  https://api.github.com/repos/ironhack-datalabs...  .0014.scavengerhunt\n",
       "12  https://api.github.com/repos/ironhack-datalabs...  .0011.scavengerhunt\n",
       "13  https://api.github.com/repos/ironhack-datalabs...  .0023.scavengerhunt\n",
       "14  https://api.github.com/repos/ironhack-datalabs...  .0020.scavengerhunt\n",
       "15  https://api.github.com/repos/ironhack-datalabs...  .0003.scavengerhunt\n",
       "16  https://api.github.com/repos/ironhack-datalabs...  .0004.scavengerhunt\n",
       "17  https://api.github.com/repos/ironhack-datalabs...  .0019.scavengerhunt\n",
       "18  https://api.github.com/repos/ironhack-datalabs...  .0017.scavengerhunt\n",
       "19  https://api.github.com/repos/ironhack-datalabs...  .0002.scavengerhunt\n",
       "20  https://api.github.com/repos/ironhack-datalabs...  .0013.scavengerhunt\n",
       "21  https://api.github.com/repos/ironhack-datalabs...  .0015.scavengerhunt\n",
       "22  https://api.github.com/repos/ironhack-datalabs...  .0009.scavengerhunt\n",
       "23  https://api.github.com/repos/ironhack-datalabs...  .0001.scavengerhunt"
      ]
     },
     "execution_count": 293,
     "metadata": {},
     "output_type": "execute_result"
    }
   ],
   "source": [
    "# creating a new DataFrame with the path to joke and with the joke file name:\n",
    "files_df = pd.DataFrame(list_secret_files, columns = ['url'])\n",
    "files_df ['file_name']  = [file.split('/')[-1] for file in list_secret_files]\n",
    "files_df"
   ]
  },
  {
   "cell_type": "code",
   "execution_count": 294,
   "metadata": {},
   "outputs": [
    {
     "data": {
      "text/html": [
       "<div>\n",
       "<style scoped>\n",
       "    .dataframe tbody tr th:only-of-type {\n",
       "        vertical-align: middle;\n",
       "    }\n",
       "\n",
       "    .dataframe tbody tr th {\n",
       "        vertical-align: top;\n",
       "    }\n",
       "\n",
       "    .dataframe thead th {\n",
       "        text-align: right;\n",
       "    }\n",
       "</style>\n",
       "<table border=\"1\" class=\"dataframe\">\n",
       "  <thead>\n",
       "    <tr style=\"text-align: right;\">\n",
       "      <th></th>\n",
       "      <th>url</th>\n",
       "      <th>file_name</th>\n",
       "    </tr>\n",
       "  </thead>\n",
       "  <tbody>\n",
       "    <tr>\n",
       "      <th>23</th>\n",
       "      <td>https://api.github.com/repos/ironhack-datalabs...</td>\n",
       "      <td>.0001.scavengerhunt</td>\n",
       "    </tr>\n",
       "    <tr>\n",
       "      <th>19</th>\n",
       "      <td>https://api.github.com/repos/ironhack-datalabs...</td>\n",
       "      <td>.0002.scavengerhunt</td>\n",
       "    </tr>\n",
       "    <tr>\n",
       "      <th>15</th>\n",
       "      <td>https://api.github.com/repos/ironhack-datalabs...</td>\n",
       "      <td>.0003.scavengerhunt</td>\n",
       "    </tr>\n",
       "    <tr>\n",
       "      <th>16</th>\n",
       "      <td>https://api.github.com/repos/ironhack-datalabs...</td>\n",
       "      <td>.0004.scavengerhunt</td>\n",
       "    </tr>\n",
       "    <tr>\n",
       "      <th>6</th>\n",
       "      <td>https://api.github.com/repos/ironhack-datalabs...</td>\n",
       "      <td>.0005.scavengerhunt</td>\n",
       "    </tr>\n",
       "    <tr>\n",
       "      <th>0</th>\n",
       "      <td>https://api.github.com/repos/ironhack-datalabs...</td>\n",
       "      <td>.0006.scavengerhunt</td>\n",
       "    </tr>\n",
       "    <tr>\n",
       "      <th>3</th>\n",
       "      <td>https://api.github.com/repos/ironhack-datalabs...</td>\n",
       "      <td>.0007.scavengerhunt</td>\n",
       "    </tr>\n",
       "    <tr>\n",
       "      <th>1</th>\n",
       "      <td>https://api.github.com/repos/ironhack-datalabs...</td>\n",
       "      <td>.0008.scavengerhunt</td>\n",
       "    </tr>\n",
       "    <tr>\n",
       "      <th>22</th>\n",
       "      <td>https://api.github.com/repos/ironhack-datalabs...</td>\n",
       "      <td>.0009.scavengerhunt</td>\n",
       "    </tr>\n",
       "    <tr>\n",
       "      <th>10</th>\n",
       "      <td>https://api.github.com/repos/ironhack-datalabs...</td>\n",
       "      <td>.0010.scavengerhunt</td>\n",
       "    </tr>\n",
       "    <tr>\n",
       "      <th>12</th>\n",
       "      <td>https://api.github.com/repos/ironhack-datalabs...</td>\n",
       "      <td>.0011.scavengerhunt</td>\n",
       "    </tr>\n",
       "    <tr>\n",
       "      <th>2</th>\n",
       "      <td>https://api.github.com/repos/ironhack-datalabs...</td>\n",
       "      <td>.0012.scavengerhunt</td>\n",
       "    </tr>\n",
       "    <tr>\n",
       "      <th>20</th>\n",
       "      <td>https://api.github.com/repos/ironhack-datalabs...</td>\n",
       "      <td>.0013.scavengerhunt</td>\n",
       "    </tr>\n",
       "    <tr>\n",
       "      <th>11</th>\n",
       "      <td>https://api.github.com/repos/ironhack-datalabs...</td>\n",
       "      <td>.0014.scavengerhunt</td>\n",
       "    </tr>\n",
       "    <tr>\n",
       "      <th>21</th>\n",
       "      <td>https://api.github.com/repos/ironhack-datalabs...</td>\n",
       "      <td>.0015.scavengerhunt</td>\n",
       "    </tr>\n",
       "    <tr>\n",
       "      <th>8</th>\n",
       "      <td>https://api.github.com/repos/ironhack-datalabs...</td>\n",
       "      <td>.0016.scavengerhunt</td>\n",
       "    </tr>\n",
       "    <tr>\n",
       "      <th>18</th>\n",
       "      <td>https://api.github.com/repos/ironhack-datalabs...</td>\n",
       "      <td>.0017.scavengerhunt</td>\n",
       "    </tr>\n",
       "    <tr>\n",
       "      <th>7</th>\n",
       "      <td>https://api.github.com/repos/ironhack-datalabs...</td>\n",
       "      <td>.0018.scavengerhunt</td>\n",
       "    </tr>\n",
       "    <tr>\n",
       "      <th>17</th>\n",
       "      <td>https://api.github.com/repos/ironhack-datalabs...</td>\n",
       "      <td>.0019.scavengerhunt</td>\n",
       "    </tr>\n",
       "    <tr>\n",
       "      <th>14</th>\n",
       "      <td>https://api.github.com/repos/ironhack-datalabs...</td>\n",
       "      <td>.0020.scavengerhunt</td>\n",
       "    </tr>\n",
       "    <tr>\n",
       "      <th>4</th>\n",
       "      <td>https://api.github.com/repos/ironhack-datalabs...</td>\n",
       "      <td>.0021.scavengerhunt</td>\n",
       "    </tr>\n",
       "    <tr>\n",
       "      <th>5</th>\n",
       "      <td>https://api.github.com/repos/ironhack-datalabs...</td>\n",
       "      <td>.0022.scavengerhunt</td>\n",
       "    </tr>\n",
       "    <tr>\n",
       "      <th>13</th>\n",
       "      <td>https://api.github.com/repos/ironhack-datalabs...</td>\n",
       "      <td>.0023.scavengerhunt</td>\n",
       "    </tr>\n",
       "    <tr>\n",
       "      <th>9</th>\n",
       "      <td>https://api.github.com/repos/ironhack-datalabs...</td>\n",
       "      <td>.0024.scavengerhunt</td>\n",
       "    </tr>\n",
       "  </tbody>\n",
       "</table>\n",
       "</div>"
      ],
      "text/plain": [
       "                                                  url            file_name\n",
       "23  https://api.github.com/repos/ironhack-datalabs...  .0001.scavengerhunt\n",
       "19  https://api.github.com/repos/ironhack-datalabs...  .0002.scavengerhunt\n",
       "15  https://api.github.com/repos/ironhack-datalabs...  .0003.scavengerhunt\n",
       "16  https://api.github.com/repos/ironhack-datalabs...  .0004.scavengerhunt\n",
       "6   https://api.github.com/repos/ironhack-datalabs...  .0005.scavengerhunt\n",
       "0   https://api.github.com/repos/ironhack-datalabs...  .0006.scavengerhunt\n",
       "3   https://api.github.com/repos/ironhack-datalabs...  .0007.scavengerhunt\n",
       "1   https://api.github.com/repos/ironhack-datalabs...  .0008.scavengerhunt\n",
       "22  https://api.github.com/repos/ironhack-datalabs...  .0009.scavengerhunt\n",
       "10  https://api.github.com/repos/ironhack-datalabs...  .0010.scavengerhunt\n",
       "12  https://api.github.com/repos/ironhack-datalabs...  .0011.scavengerhunt\n",
       "2   https://api.github.com/repos/ironhack-datalabs...  .0012.scavengerhunt\n",
       "20  https://api.github.com/repos/ironhack-datalabs...  .0013.scavengerhunt\n",
       "11  https://api.github.com/repos/ironhack-datalabs...  .0014.scavengerhunt\n",
       "21  https://api.github.com/repos/ironhack-datalabs...  .0015.scavengerhunt\n",
       "8   https://api.github.com/repos/ironhack-datalabs...  .0016.scavengerhunt\n",
       "18  https://api.github.com/repos/ironhack-datalabs...  .0017.scavengerhunt\n",
       "7   https://api.github.com/repos/ironhack-datalabs...  .0018.scavengerhunt\n",
       "17  https://api.github.com/repos/ironhack-datalabs...  .0019.scavengerhunt\n",
       "14  https://api.github.com/repos/ironhack-datalabs...  .0020.scavengerhunt\n",
       "4   https://api.github.com/repos/ironhack-datalabs...  .0021.scavengerhunt\n",
       "5   https://api.github.com/repos/ironhack-datalabs...  .0022.scavengerhunt\n",
       "13  https://api.github.com/repos/ironhack-datalabs...  .0023.scavengerhunt\n",
       "9   https://api.github.com/repos/ironhack-datalabs...  .0024.scavengerhunt"
      ]
     },
     "execution_count": 294,
     "metadata": {},
     "output_type": "execute_result"
    }
   ],
   "source": [
    "# sorting the file names and its urls ascendingly\n",
    "\n",
    "files_df = files_df.sort_values(by='file_name')\n",
    "files_df"
   ]
  },
  {
   "cell_type": "markdown",
   "metadata": {
    "colab_type": "text",
    "id": "GqwqQnvShPTt"
   },
   "source": [
    "#### 3. Read the content of each secret files into an array of strings.\n",
    "Since the response is encoded, you will need to send the following information in the header of your request:\n",
    "````python\n",
    "headers = {'Accept': 'application/vnd.github.v3.raw'}\n",
    "````"
   ]
  },
  {
   "cell_type": "code",
   "execution_count": 340,
   "metadata": {},
   "outputs": [],
   "source": [
    "list_req = []\n",
    "for url in files_df.loc[:,'url']:\n",
    "    file_request = requests.get(url, auth=(username,token), headers =  {'Accept': 'application/vnd.github.v3.raw'})\n",
    "    list_req.append (file_request.text.split(\"\\n\")[0])"
   ]
  },
  {
   "cell_type": "code",
   "execution_count": 341,
   "metadata": {},
   "outputs": [
    {
     "data": {
      "text/plain": [
       "['In',\n",
       " 'data',\n",
       " 'science,',\n",
       " '80',\n",
       " 'percent',\n",
       " 'of',\n",
       " 'time',\n",
       " 'spent',\n",
       " 'is',\n",
       " 'preparing',\n",
       " 'data,',\n",
       " '20',\n",
       " 'percent',\n",
       " 'of',\n",
       " 'time',\n",
       " 'is',\n",
       " 'spent',\n",
       " 'complaining',\n",
       " 'about',\n",
       " 'the',\n",
       " 'need',\n",
       " 'to',\n",
       " 'prepare',\n",
       " 'data.']"
      ]
     },
     "execution_count": 341,
     "metadata": {},
     "output_type": "execute_result"
    }
   ],
   "source": [
    "list_req"
   ]
  },
  {
   "cell_type": "markdown",
   "metadata": {
    "colab_type": "text",
    "id": "A-h4Qz7ahPT7"
   },
   "source": [
    "#### 4. Concatenate the strings in the array separating each two with a whitespace."
   ]
  },
  {
   "cell_type": "code",
   "execution_count": 343,
   "metadata": {
    "colab": {},
    "colab_type": "code",
    "id": "nYWRSxrZhPT9"
   },
   "outputs": [],
   "source": [
    "# your code here\n",
    "joke = ' '.join(list_req)"
   ]
  },
  {
   "cell_type": "markdown",
   "metadata": {
    "colab_type": "text",
    "id": "M1mXl3TEhPUA"
   },
   "source": [
    "#### 5. Print out the joke."
   ]
  },
  {
   "cell_type": "code",
   "execution_count": 345,
   "metadata": {
    "colab": {},
    "colab_type": "code",
    "id": "_JoQ4h2_hPUF"
   },
   "outputs": [
    {
     "name": "stdout",
     "output_type": "stream",
     "text": [
      "In data science, 80 percent of time spent is preparing data, 20 percent of time is spent complaining about the need to prepare data.\n"
     ]
    }
   ],
   "source": [
    "# your code here\n",
    "\n",
    "print(joke)"
   ]
  }
 ],
 "metadata": {
  "colab": {
   "name": "main.ipynb",
   "provenance": []
  },
  "kernelspec": {
   "display_name": "Python 3",
   "language": "python",
   "name": "python3"
  },
  "language_info": {
   "codemirror_mode": {
    "name": "ipython",
    "version": 3
   },
   "file_extension": ".py",
   "mimetype": "text/x-python",
   "name": "python",
   "nbconvert_exporter": "python",
   "pygments_lexer": "ipython3",
   "version": "3.7.3"
  },
  "toc": {
   "base_numbering": 1,
   "nav_menu": {},
   "number_sections": true,
   "sideBar": true,
   "skip_h1_title": false,
   "title_cell": "Table of Contents",
   "title_sidebar": "Contents",
   "toc_cell": false,
   "toc_position": {},
   "toc_section_display": true,
   "toc_window_display": false
  },
  "varInspector": {
   "cols": {
    "lenName": 16,
    "lenType": 16,
    "lenVar": 40
   },
   "kernels_config": {
    "python": {
     "delete_cmd_postfix": "",
     "delete_cmd_prefix": "del ",
     "library": "var_list.py",
     "varRefreshCmd": "print(var_dic_list())"
    },
    "r": {
     "delete_cmd_postfix": ") ",
     "delete_cmd_prefix": "rm(",
     "library": "var_list.r",
     "varRefreshCmd": "cat(var_dic_list()) "
    }
   },
   "types_to_exclude": [
    "module",
    "function",
    "builtin_function_or_method",
    "instance",
    "_Feature"
   ],
   "window_display": false
  }
 },
 "nbformat": 4,
 "nbformat_minor": 1
}
